{
 "cells": [
  {
   "cell_type": "markdown",
   "id": "100e279d",
   "metadata": {},
   "source": [
    "# Sleeping beauty problem\n",
    "\n",
    "Sleeping beauty is put to sleep on Sunday. Then we flip a coin.\n",
    "\n",
    "If it's heads, we wake her up on Monday and then put her back to sleep.\n",
    "\n",
    "If it's tails, we wake her up on Monday, put her back to sleep, then wake her again on Tuesday and put her back to sleep.\n",
    "\n",
    "When she's awakened, she is not told whether it's Monday or Tuesday.\n",
    "\n",
    "Each time she's put to sleep, her memory for that day is erased.\n",
    "\n",
    "When she is awakened, she needs to guess whether the coin flip was heads or tails. So the question is, when Sleeping Beauty is awakened, what is the probability, from her perspective, that the coin flip was heads or tails?"
   ]
  },
  {
   "cell_type": "markdown",
   "id": "4d66c0a3",
   "metadata": {},
   "source": [
    "## My approach\n",
    "\n",
    "There are three possible states in which Sleeping Beauty is awakened:\n",
    "\n",
    "* HM - Coin flip was heads and it's Monday\n",
    "* TM - Coin flip was tails and it's Monday\n",
    "* TT - Coin flip was tails and it's Tuesday\n",
    "\n",
    "Since her memory is erased each time she goes to sleep, she doesn't know which state she's in when she wakes up.\n",
    "\n",
    "We want to find the probability that Sleeping Beauty is in each of the three states given that we don't know anything about what happened in the past.\n",
    "\n",
    "Let's draw a decision diagram of these states:\n",
    "\n",
    "```\n",
    "start -----(0.5)--> HM\n",
    "        \\\n",
    "         --(0.5)--> TM --(1)--> TT\n",
    "```\n",
    "\n",
    "At the start, we can say that `Pr(HM) = 0.5` and `PR(TM) = 0.5`. We can also say that `Pr(TT | HM) = 0` and `Pr(TT | TM) = 1`, thus `Pr(TT) = 0.5`.\n",
    "\n",
    "So before the coin is flipped all three states have the same probability of being reached, 0.5.\n",
    "\n",
    "I think this means that when Sleeping Beauty is awakened, there is an equal chance, from her perspective, that she is in each of the three states.\n",
    "\n",
    "In two of these three states, TM and TT, the coin was tails. In one of the three states, HM, the coin was heads. So I would say that from her perspective, there is a 2/3 chance that the coin was tails, and 1/3 chance that the coin was heads.\n",
    "\n",
    "Therefore, Sleeping Beauty has the best chance of being correct if she says that the coin was tails when she is awakened."
   ]
  },
  {
   "cell_type": "code",
   "execution_count": null,
   "id": "e0380d1f",
   "metadata": {},
   "outputs": [],
   "source": []
  }
 ],
 "metadata": {
  "kernelspec": {
   "display_name": "Python 3 (ipykernel)",
   "language": "python",
   "name": "python3"
  },
  "language_info": {
   "codemirror_mode": {
    "name": "ipython",
    "version": 3
   },
   "file_extension": ".py",
   "mimetype": "text/x-python",
   "name": "python",
   "nbconvert_exporter": "python",
   "pygments_lexer": "ipython3",
   "version": "3.10.8"
  }
 },
 "nbformat": 4,
 "nbformat_minor": 5
}
