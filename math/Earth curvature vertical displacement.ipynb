{
 "cells": [
  {
   "cell_type": "markdown",
   "id": "2b08881e",
   "metadata": {},
   "source": [
    "If I'm on Earth looking at an object 250 miles away from me, what is it's vertical displacement from a tangential line drawn from my feet? I'll assume the Earth's radius is 3958.8 miles.\n",
    "\n",
    "Here's a drawing of the situation:"
   ]
  },
  {
   "cell_type": "markdown",
   "id": "ab303b6c",
   "metadata": {},
   "source": [
    "<!-- Link to Google document for editing this image:\n",
    "https://docs.google.com/document/d/1Zp39avDzsLNt1X8P4oORCw8r98zyti8TYPU3s4GFMZA/edit?usp=sharing\n",
    "-->\n",
    "<img src=\"earth-curvature-displacement.png\" alt=\"Drawing\" style=\"width: 500px;\"/>"
   ]
  },
  {
   "cell_type": "markdown",
   "id": "08928ecb",
   "metadata": {},
   "source": [
    "I'm the smiley face trying to look at the cube from where I'm standing. The cube is a distance $S$ away from me measured along the arc of the Earth's surface. $L$ is the displacement of the cube away from the line that is tangential to the Earth's surface at the point where I'm standing. $R$ is the radius of the Earth.\n",
    "\n",
    "Given just $R$ and $S$, can we calculate $L$? ($\\theta$ does not need to be given, as we'll show.)"
   ]
  },
  {
   "cell_type": "markdown",
   "id": "a749c33e",
   "metadata": {},
   "source": [
    "Flat earthers often use an approximate equation for $L$, which has the value of $R$ baked into it: The cube drops 8 inches per mile squared.\n",
    "\n",
    "Or written differently:\n",
    "\n",
    "$$ L = 8S^2 $$\n",
    "\n",
    "Where $S$ is in units of miles and L is in units of inches. Of course this is an equation for a parabola, so it's going to only be accurate for a certain range of values of $S$. But let's use it anyway."
   ]
  },
  {
   "cell_type": "code",
   "execution_count": 1,
   "id": "6381f7a1",
   "metadata": {},
   "outputs": [
    {
     "data": {
      "text/plain": [
       "500000"
      ]
     },
     "execution_count": 1,
     "metadata": {},
     "output_type": "execute_result"
    }
   ],
   "source": [
    "def L_parabolic(S):\n",
    "    return 8 * S**2\n",
    "\n",
    "L_parabolic(250)"
   ]
  },
  {
   "cell_type": "markdown",
   "id": "b9e3aa3f",
   "metadata": {},
   "source": [
    "So this estimates a displacement of 500,000 inches, which is about 7.89 miles."
   ]
  },
  {
   "cell_type": "markdown",
   "id": "937ce38a",
   "metadata": {},
   "source": [
    "Ok now let's make an equation that should be more accurate, by assuming that the cross-section of the earth is a circle.\n",
    "\n",
    "First, we'll need to calculate $\\theta$. We can use the arc-length formula:\n",
    "\n",
    "$$S = R\\theta$$\n",
    "$$\\theta = \\frac{S}{R}$$"
   ]
  },
  {
   "cell_type": "markdown",
   "id": "8ca4e994",
   "metadata": {},
   "source": [
    "Now let's think about what $L$ is for a few keys points.\n",
    "\n",
    "At $\\theta=0$, it's clear that the cube is exactly where I am, so $L=0$.\n",
    "\n",
    "At $\\theta=\\frac{\\pi}{2}=90^\\circ$, the cube will be a quarter of the way around the Earth, so its displacement from the tangent line will be equal to the radius of earth, so $L=R$.\n",
    "\n",
    "At $\\theta=\\pi=180^\\circ$, the cube is exactly on the other side of the Earth from me, and there are two radii of the Earth between us, so $L=2R$.\n",
    "\n",
    "At $\\theta=\\frac{3\\pi}{2}=270^\\circ$, the cube will be three quarters of the way around the Earth, which is one quarter of the way around the Earth in the opposite direction. So $L=R$ for the same reason given for the $\\theta=\\frac{\\pi}{2}$ case.\n",
    "\n",
    "Does this look familiar from trig class? The term $R\\cos{\\theta}$ describes the vertical position of the cube from the center of Earth. I am standing at a vertical position of $R$ from the center of Earth. So we just need to subtract the position of the cube from my position to find the vertical displacement of the cube from me.\n",
    "\n",
    "$$ L = R - R\\cos{\\theta} $$"
   ]
  },
  {
   "cell_type": "markdown",
   "id": "a4a89a15",
   "metadata": {},
   "source": [
    "We can substitute out $\\theta$ and simplify a little bit:\n",
    "\n",
    "$$ L = R - R\\cos{\\frac{S}{R}} $$\n",
    "$$ L = R (1 - \\cos{\\frac{S}{R}}) $$"
   ]
  },
  {
   "cell_type": "markdown",
   "id": "a1777476",
   "metadata": {},
   "source": [
    "And finally, notice that this equation will give $L$ in the same units that we use for $R$. Remember that we want $R$ to be in miles and $L$ to be in inches, so we'll have to multiply by a constant to do that conversion:\n",
    "\n",
    "\n",
    "$$ L = kR (1 - \\cos{\\frac{S}{R}}) $$\n",
    "\n",
    "Where $k = 63360$ inches per mile."
   ]
  },
  {
   "cell_type": "code",
   "execution_count": 2,
   "id": "cc64496c",
   "metadata": {},
   "outputs": [
    {
     "data": {
      "text/plain": [
       "499985.36700086563"
      ]
     },
     "execution_count": 2,
     "metadata": {},
     "output_type": "execute_result"
    }
   ],
   "source": [
    "import numpy as np\n",
    "\n",
    "def L_circular_same_units(S, R):\n",
    "    return R * (1 - np.cos(S / R))\n",
    "\n",
    "def L_circular(S, R):\n",
    "    k = 63360  # inches per mile\n",
    "    return k * L_circular_same_units(S, R)\n",
    "\n",
    "L_circular(250, 3958.8)"
   ]
  },
  {
   "cell_type": "markdown",
   "id": "2d08be92",
   "metadata": {},
   "source": [
    "Here we get essentially the same result as we did with the parabolic approximation, just a bit less than 500,000 inches.\n",
    "\n",
    "Let's just double check the four values of $\\theta$ that we pointed out earlier."
   ]
  },
  {
   "cell_type": "code",
   "execution_count": 10,
   "id": "cc7c7216",
   "metadata": {},
   "outputs": [],
   "source": [
    "def arc_length(R, theta):\n",
    "    return R * theta\n",
    "\n",
    "R = 3958.8\n",
    "\n",
    "assert np.allclose(L_circular_same_units(arc_length(R, 0), R), 0)\n",
    "assert np.allclose(L_circular_same_units(arc_length(R, np.pi/2), R), R)\n",
    "assert np.allclose(L_circular_same_units(arc_length(R, np.pi), R), 2*R)\n",
    "assert np.allclose(L_circular_same_units(arc_length(R, 3*np.pi/2), R), R)"
   ]
  },
  {
   "cell_type": "code",
   "execution_count": null,
   "id": "a9bc2120",
   "metadata": {},
   "outputs": [],
   "source": []
  }
 ],
 "metadata": {
  "kernelspec": {
   "display_name": "Python 3 (ipykernel)",
   "language": "python",
   "name": "python3"
  },
  "language_info": {
   "codemirror_mode": {
    "name": "ipython",
    "version": 3
   },
   "file_extension": ".py",
   "mimetype": "text/x-python",
   "name": "python",
   "nbconvert_exporter": "python",
   "pygments_lexer": "ipython3",
   "version": "3.11.3"
  }
 },
 "nbformat": 4,
 "nbformat_minor": 5
}
