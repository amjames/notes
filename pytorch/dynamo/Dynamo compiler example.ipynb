{
 "cells": [
  {
   "cell_type": "code",
   "execution_count": 1,
   "id": "cdab234c",
   "metadata": {},
   "outputs": [],
   "source": [
    "from typing import List\n",
    "import torch\n",
    "from torch import _dynamo as torchdynamo"
   ]
  },
  {
   "cell_type": "code",
   "execution_count": 2,
   "id": "5942cb65",
   "metadata": {},
   "outputs": [],
   "source": [
    "def my_compiler(gm: torch.fx.GraphModule, example_inputs: List[torch.Tensor]):\n",
    "    print('my_compiler() called with FX graph:')\n",
    "    gm.graph.print_tabular()\n",
    "    return gm.forward  # returns a python callable"
   ]
  },
  {
   "cell_type": "code",
   "execution_count": 3,
   "id": "c8eb42c5",
   "metadata": {},
   "outputs": [],
   "source": [
    "@torchdynamo.optimize(my_compiler)\n",
    "def toy_example(a, b):\n",
    "    x = a / (torch.abs(a) + 1)\n",
    "    if b.sum() < 0:\n",
    "        b = b * -1\n",
    "    return x * b"
   ]
  },
  {
   "cell_type": "code",
   "execution_count": 4,
   "id": "cb33422c",
   "metadata": {},
   "outputs": [
    {
     "name": "stdout",
     "output_type": "stream",
     "text": [
      "my_compiler() called with FX graph:\n",
      "opcode         name     target                                                  args              kwargs\n",
      "-------------  -------  ------------------------------------------------------  ----------------  --------\n",
      "placeholder    l_a_     L_a_                                                    ()                {}\n",
      "placeholder    l_b_     L_b_                                                    ()                {}\n",
      "call_function  abs_1    <built-in method abs of type object at 0x7fbcc3d20dc0>  (l_a_,)           {}\n",
      "call_function  add      <built-in function add>                                 (abs_1, 1)        {}\n",
      "call_function  truediv  <built-in function truediv>                             (l_a_, add)       {}\n",
      "call_method    sum_1    sum                                                     (l_b_,)           {}\n",
      "call_function  lt       <built-in function lt>                                  (sum_1, 0)        {}\n",
      "output         output   output                                                  ((truediv, lt),)  {}\n",
      "my_compiler() called with FX graph:\n",
      "opcode         name    target                   args          kwargs\n",
      "-------------  ------  -----------------------  ------------  --------\n",
      "placeholder    l_b_    L_b_                     ()            {}\n",
      "placeholder    l_x_    L_x_                     ()            {}\n",
      "call_function  mul     <built-in function mul>  (l_x_, l_b_)  {}\n",
      "output         output  output                   ((mul,),)     {}\n",
      "my_compiler() called with FX graph:\n",
      "opcode         name    target                   args         kwargs\n",
      "-------------  ------  -----------------------  -----------  --------\n",
      "placeholder    l_b_    L_b_                     ()           {}\n",
      "placeholder    l_x_    L_x_                     ()           {}\n",
      "call_function  mul     <built-in function mul>  (l_b_, -1)   {}\n",
      "call_function  mul_1   <built-in function mul>  (l_x_, mul)  {}\n",
      "output         output  output                   ((mul_1,),)  {}\n"
     ]
    }
   ],
   "source": [
    "for _ in range(100):\n",
    "    toy_example(torch.randn(10), torch.randn(10))"
   ]
  },
  {
   "cell_type": "code",
   "execution_count": null,
   "id": "e40fc23c",
   "metadata": {},
   "outputs": [],
   "source": []
  }
 ],
 "metadata": {
  "kernelspec": {
   "display_name": "Python 3 (ipykernel)",
   "language": "python",
   "name": "python3"
  },
  "language_info": {
   "codemirror_mode": {
    "name": "ipython",
    "version": 3
   },
   "file_extension": ".py",
   "mimetype": "text/x-python",
   "name": "python",
   "nbconvert_exporter": "python",
   "pygments_lexer": "ipython3",
   "version": "3.11.3"
  }
 },
 "nbformat": 4,
 "nbformat_minor": 5
}
