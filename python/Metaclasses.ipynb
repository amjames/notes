{
 "cells": [
  {
   "cell_type": "markdown",
   "id": "22d6dd56",
   "metadata": {},
   "source": [
    "# Metaclass basics\n",
    "\n",
    "Metaclasses allow you to customize the class creation process.\n",
    "\n",
    "By default, the metaclass for a class is `type`. We can determine what the metaclass of a class is by calling the `type()` function (which, confusingly, is different from the `type` metaclass, even though it has the same name) on the class.\n",
    "\n",
    "Below, we create a class `MyClass` and we can see that its metaclass is `type`."
   ]
  },
  {
   "cell_type": "code",
   "execution_count": 1,
   "id": "64d5a2f1",
   "metadata": {},
   "outputs": [
    {
     "data": {
      "text/plain": [
       "type"
      ]
     },
     "execution_count": 1,
     "metadata": {},
     "output_type": "execute_result"
    }
   ],
   "source": [
    "class MyClass():\n",
    "    pass\n",
    "\n",
    "type(MyClass)"
   ]
  },
  {
   "cell_type": "markdown",
   "id": "134b3686",
   "metadata": {},
   "source": [
    "We can explicitly set the metaclass of a class with the `metaclass` keyword in the class definition. Below, we set `metaclass=type`. The behavior is the same as the above example since `type` was the default metaclass anyway."
   ]
  },
  {
   "cell_type": "code",
   "execution_count": 2,
   "id": "20998c6f",
   "metadata": {},
   "outputs": [
    {
     "data": {
      "text/plain": [
       "type"
      ]
     },
     "execution_count": 2,
     "metadata": {},
     "output_type": "execute_result"
    }
   ],
   "source": [
    "class MyClass(metaclass=type):\n",
    "    pass\n",
    "\n",
    "type(MyClass)"
   ]
  },
  {
   "cell_type": "markdown",
   "id": "be6ddfab",
   "metadata": {},
   "source": [
    "Typically, if we want to create our own metaclass, it will derive from the `type` metaclass, like so:"
   ]
  },
  {
   "cell_type": "code",
   "execution_count": 3,
   "id": "361ada8b",
   "metadata": {},
   "outputs": [
    {
     "data": {
      "text/plain": [
       "__main__.MyMetaClass"
      ]
     },
     "execution_count": 3,
     "metadata": {},
     "output_type": "execute_result"
    }
   ],
   "source": [
    "class MyMetaClass(type):\n",
    "    pass\n",
    "\n",
    "class MyClass(metaclass=MyMetaClass):\n",
    "    pass\n",
    "\n",
    "type(MyClass)"
   ]
  },
  {
   "cell_type": "markdown",
   "id": "85701aa0",
   "metadata": {},
   "source": [
    "When we instantiate a class, the `__call__` method of the class's metaclass is gets called, and it is in charge of calling the class's `__new__` and `__init__` methods to create the new object and initialize it.\n",
    "\n",
    "In the following, we override `MyMetaClass.__call__` to just print a message and do nothing else. So when we try to instantiate `MyClass`, we never get into `MyClass.__new__` or `MyClass.__init__` methods, and we don't end up creating an instance--`MyClass()` just returns `None`.\n",
    "\n",
    "Notice that `MyMetaClass.__call__` gets called with `cls=MyClass`. Also, the `args` and `kwargs` are whatever we gave to the `MyClass()` call, which is nothing in this case."
   ]
  },
  {
   "cell_type": "code",
   "execution_count": 4,
   "id": "2742b1b1",
   "metadata": {},
   "outputs": [
    {
     "name": "stdout",
     "output_type": "stream",
     "text": [
      "in MyMetaClass.__call__\n",
      "  cls: <class '__main__.MyClass'>\n",
      "  args: ()\n",
      "  kwargs: {}\n",
      "None\n"
     ]
    }
   ],
   "source": [
    "class MyMetaClass(type):\n",
    "    def __call__(cls, *args, **kwargs):\n",
    "        print('in MyMetaClass.__call__')\n",
    "        print(f'  cls: {cls}')\n",
    "        print(f'  args: {args}')\n",
    "        print(f'  kwargs: {kwargs}')\n",
    "\n",
    "class MyClass(metaclass=MyMetaClass):\n",
    "    def __new__(cls, *args, **kwargs):\n",
    "        print('in MyClass.__new__')\n",
    "        return super().__new__(cls, *args, **kwargs)\n",
    "\n",
    "    def __init__(self, *args, **kwargs):\n",
    "        print('in MyClass.__init__')\n",
    "\n",
    "a = MyClass()\n",
    "print(a)"
   ]
  },
  {
   "cell_type": "markdown",
   "id": "fd02e027",
   "metadata": {},
   "source": [
    "We can fix our issue by making `MyMetaClass.__call__` call into the default metaclass's `__call__` method with `super().__call__(...)` and return its result.\n",
    "\n",
    "Now we can see that `MyClass.__new__` and `MyClass.__init__` are getting called, and `MyClass()` returns an instance of `MyClass`."
   ]
  },
  {
   "cell_type": "code",
   "execution_count": 5,
   "id": "b019cd12",
   "metadata": {},
   "outputs": [
    {
     "name": "stdout",
     "output_type": "stream",
     "text": [
      "in MyMetaClass.__call__\n",
      "in MyClass.__new__\n",
      "in MyClass.__init__\n",
      "<__main__.MyClass object at 0x7fadcc0fa470>\n"
     ]
    }
   ],
   "source": [
    "class MyMetaClass(type):\n",
    "    def __call__(cls, *args, **kwargs):\n",
    "        print('in MyMetaClass.__call__')\n",
    "        return super().__call__(*args, **kwargs)\n",
    "\n",
    "class MyClass(metaclass=MyMetaClass):\n",
    "    def __new__(cls, *args, **kwargs):\n",
    "        print('in MyClass.__new__')\n",
    "        return super().__new__(cls, *args, **kwargs)\n",
    "\n",
    "    def __init__(self, *args, **kwargs):\n",
    "        print('in MyClass.__init__')\n",
    "\n",
    "a = MyClass()\n",
    "print(a)"
   ]
  },
  {
   "cell_type": "markdown",
   "id": "0f573904",
   "metadata": {},
   "source": [
    "In `MyMetaClass.__call__`, we could also completely avoid the default metaclass's `__call__` method and instead we can explicitly create the new object by calling the `obj = cls.__new__` method and call `obj.__init__` to initialize it."
   ]
  },
  {
   "cell_type": "code",
   "execution_count": 6,
   "id": "e8e8669e",
   "metadata": {},
   "outputs": [
    {
     "name": "stdout",
     "output_type": "stream",
     "text": [
      "in MyMetaClass.__call__\n",
      "in MyClass.__new__\n",
      "in MyClass.__init__\n",
      "<__main__.MyClass object at 0x7fadcc0fabf0>\n"
     ]
    }
   ],
   "source": [
    "class MyMetaClass(type):\n",
    "    def __call__(cls, *args, **kwargs):\n",
    "        print('in MyMetaClass.__call__')\n",
    "        \n",
    "        # This is basically what `super().__call__(...)` would do\n",
    "        obj = cls.__new__(cls, *args, **kwargs)\n",
    "        obj.__init__(*args, **kwargs)\n",
    "        return obj\n",
    "\n",
    "class MyClass(metaclass=MyMetaClass):\n",
    "    def __new__(cls, *args, **kwargs):\n",
    "        print('in MyClass.__new__')\n",
    "        return super().__new__(cls, *args, **kwargs)\n",
    "\n",
    "    def __init__(self, *args, **kwargs):\n",
    "        print('in MyClass.__init__')\n",
    "\n",
    "a = MyClass()\n",
    "print(a)"
   ]
  },
  {
   "cell_type": "markdown",
   "id": "783ce667",
   "metadata": {},
   "source": [
    "## Example: Singleton pattern\n",
    "\n",
    "An example of when you might want to use a custom metaclass is the singleton pattern. Below is a fairly typical implementation of a singleton class without using a custom metaclass.\n"
   ]
  },
  {
   "cell_type": "code",
   "execution_count": 7,
   "id": "15c8074a",
   "metadata": {},
   "outputs": [
    {
     "name": "stdout",
     "output_type": "stream",
     "text": [
      "in MyClassSingleton.__new__\n",
      "in MyClassSingleton.__init__\n",
      "in MyClassSingleton.__new__\n",
      "in MyClassSingleton.__init__\n",
      "<__main__.MyClassSingleton object at 0x7fadcc0fb490>\n"
     ]
    }
   ],
   "source": [
    "class MyClassSingleton():\n",
    "    _instance = None\n",
    "    \n",
    "    def __new__(cls, *args, **kwargs):\n",
    "        print('in MyClassSingleton.__new__')\n",
    "        if cls._instance is None:\n",
    "            cls._instance = super().__new__(cls, *args, **kwargs)\n",
    "\n",
    "        return cls._instance\n",
    "    \n",
    "    def __init__(self, *args, **kwargs):\n",
    "        print('in MyClassSingleton.__init__')\n",
    "        \n",
    "a = MyClassSingleton()\n",
    "b = MyClassSingleton()\n",
    "assert a is b\n",
    "print(a)"
   ]
  },
  {
   "cell_type": "markdown",
   "id": "ad69027f",
   "metadata": {},
   "source": [
    "\n",
    "`MyClassSingleton()` successfully returns the same instance each time it is called. However, there are a few issues with this.\n",
    "\n",
    "The most obvious issue is that `__init__` gets called each time. It's possible that you might want that behavior, but you'd probably have to add some logic to `__init__` that detects whether it was called before so that you avoid resetting any properties on the object that you don't want to change.\n",
    "\n",
    "Another problem is that the singleton pattern is tightly coupled with the class. So if we wanted to apply the pattern to another class, we'd have to copy some boilerplate code. Furthermore, we don't have any concept of a regular non-singleton `MyClass`.\n",
    "\n",
    "It would be nice if we could just implement `MyClass` normally, and then just tack on something that says, \"hey by the way, this is a singleton\". To do this, we can make a metaclass that implements the singleton pattern."
   ]
  },
  {
   "cell_type": "code",
   "execution_count": 8,
   "id": "1da4151f",
   "metadata": {},
   "outputs": [
    {
     "name": "stdout",
     "output_type": "stream",
     "text": [
      "in Singleton.__call__\n",
      "in MyClass.__new__\n",
      "in MyClass.__init__\n",
      "in Singleton.__call__\n",
      "<__main__.MyClassSingleton object at 0x7fadcc0face0>\n",
      "in MyClass.__new__\n",
      "in MyClass.__init__\n",
      "<__main__.MyClass object at 0x7fadcf23bd90>\n"
     ]
    }
   ],
   "source": [
    "class Singleton(type):\n",
    "    _instance = None\n",
    "    \n",
    "    def __call__(cls, *args, **kwargs):\n",
    "        print('in Singleton.__call__')\n",
    "        if cls._instance is None:\n",
    "            cls._instance = super().__call__(*args, **kwargs)\n",
    "        return cls._instance\n",
    "\n",
    "class MyClass():\n",
    "    def __new__(cls, *args, **kwargs):\n",
    "        print('in MyClass.__new__')\n",
    "        return super().__new__(cls, *args, **kwargs)\n",
    "    \n",
    "    def __init__(self, *args, **kwargs):\n",
    "        print('in MyClass.__init__')\n",
    "\n",
    "class MyClassSingleton(MyClass, metaclass=Singleton):\n",
    "    pass\n",
    "        \n",
    "a = MyClassSingleton()\n",
    "b = MyClassSingleton()\n",
    "assert a is b\n",
    "print(a)\n",
    "\n",
    "c = MyClass()\n",
    "assert c is not a\n",
    "print(c)"
   ]
  },
  {
   "cell_type": "markdown",
   "id": "0bebb8f1",
   "metadata": {},
   "source": [
    "Now we avoid calling `MyClass.__new__` and `MyClass.__init__` multiple times if `MyClassSingleton()` is called more than once, and we can create separate non-singleton `MyClass` objects.\n",
    "\n",
    "We can also apply this `Singleton` metaclass to other classes, shown below."
   ]
  },
  {
   "cell_type": "code",
   "execution_count": 9,
   "id": "afd693b0",
   "metadata": {},
   "outputs": [
    {
     "name": "stdout",
     "output_type": "stream",
     "text": [
      "in Singleton.__call__\n",
      "in MyClass.__new__\n",
      "in MyClass.__init__\n",
      "in Singleton.__call__\n",
      "<__main__.MyOtherClassSingleton object at 0x7fadcf23bc10>\n"
     ]
    }
   ],
   "source": [
    "class MyOtherClassSingleton(metaclass=Singleton):\n",
    "    def __new__(cls, *args, **kwargs):\n",
    "        print('in MyClass.__new__')\n",
    "        return super().__new__(cls, *args, **kwargs)\n",
    "    \n",
    "    def __init__(self, *args, **kwargs):\n",
    "        print('in MyClass.__init__')\n",
    "\n",
    "d = MyOtherClassSingleton()\n",
    "e = MyOtherClassSingleton()\n",
    "\n",
    "assert d is e\n",
    "assert d is not a\n",
    "print(d)"
   ]
  },
  {
   "cell_type": "markdown",
   "id": "0eab9632",
   "metadata": {},
   "source": [
    "Notice that in this case, we're not creating a non-singleton version of `MyOtherClassSingleton`, but it would be easy to do so, just like we did with `MyClass` and `MyClassSingleton` before.\n",
    "\n",
    "So implementing the singleton pattern as a metaclass gives us some nice flexibility."
   ]
  },
  {
   "cell_type": "code",
   "execution_count": null,
   "id": "f035ec29",
   "metadata": {},
   "outputs": [],
   "source": []
  }
 ],
 "metadata": {
  "kernelspec": {
   "display_name": "Python 3 (ipykernel)",
   "language": "python",
   "name": "python3"
  },
  "language_info": {
   "codemirror_mode": {
    "name": "ipython",
    "version": 3
   },
   "file_extension": ".py",
   "mimetype": "text/x-python",
   "name": "python",
   "nbconvert_exporter": "python",
   "pygments_lexer": "ipython3",
   "version": "3.10.8"
  }
 },
 "nbformat": 4,
 "nbformat_minor": 5
}
