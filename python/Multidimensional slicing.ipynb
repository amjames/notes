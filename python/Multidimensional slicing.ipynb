{
 "cells": [
  {
   "cell_type": "code",
   "execution_count": 1,
   "id": "11668f8d",
   "metadata": {},
   "outputs": [],
   "source": [
    "class MyClass:\n",
    "    def __getitem__(self, index):\n",
    "        print(index)"
   ]
  },
  {
   "cell_type": "code",
   "execution_count": 2,
   "id": "97d7064a",
   "metadata": {},
   "outputs": [
    {
     "name": "stdout",
     "output_type": "stream",
     "text": [
      "slice(None, None, None)\n"
     ]
    }
   ],
   "source": [
    "MyClass()[:]"
   ]
  },
  {
   "cell_type": "code",
   "execution_count": 3,
   "id": "692f4cc2",
   "metadata": {},
   "outputs": [
    {
     "name": "stdout",
     "output_type": "stream",
     "text": [
      "Ellipsis\n"
     ]
    }
   ],
   "source": [
    "MyClass()[...]"
   ]
  },
  {
   "cell_type": "code",
   "execution_count": 4,
   "id": "91aa5ef9",
   "metadata": {},
   "outputs": [
    {
     "name": "stdout",
     "output_type": "stream",
     "text": [
      "(Ellipsis, slice(None, None, None))\n"
     ]
    }
   ],
   "source": [
    "MyClass()[..., :]"
   ]
  },
  {
   "cell_type": "code",
   "execution_count": 8,
   "id": "3e18b96c",
   "metadata": {},
   "outputs": [
    {
     "name": "stdout",
     "output_type": "stream",
     "text": [
      "[Ellipsis, slice(None, None, None)]\n"
     ]
    }
   ],
   "source": [
    "my_slice = [Ellipsis, slice(None, None, None)]\n",
    "MyClass()[my_slice]"
   ]
  },
  {
   "cell_type": "code",
   "execution_count": 9,
   "id": "1a48c7ac",
   "metadata": {},
   "outputs": [
    {
     "name": "stdout",
     "output_type": "stream",
     "text": [
      "(Ellipsis, slice(None, -3, None), slice(None, None, None))\n"
     ]
    }
   ],
   "source": [
    "MyClass()[..., :-3, :]"
   ]
  },
  {
   "cell_type": "code",
   "execution_count": 10,
   "id": "c4aa2b6c",
   "metadata": {},
   "outputs": [
    {
     "data": {
      "text/plain": [
       "slice(None, -3, None)"
      ]
     },
     "execution_count": 10,
     "metadata": {},
     "output_type": "execute_result"
    }
   ],
   "source": [
    "slice(None, -3)"
   ]
  },
  {
   "cell_type": "code",
   "execution_count": 12,
   "id": "4d739ec9",
   "metadata": {},
   "outputs": [
    {
     "data": {
      "text/plain": [
       "slice(None, None, None)"
      ]
     },
     "execution_count": 12,
     "metadata": {},
     "output_type": "execute_result"
    }
   ],
   "source": [
    "slice(None)"
   ]
  },
  {
   "cell_type": "code",
   "execution_count": 18,
   "id": "428026ed",
   "metadata": {},
   "outputs": [
    {
     "name": "stdout",
     "output_type": "stream",
     "text": [
      "(Ellipsis, slice(3, None, None), slice(None, None, None))\n"
     ]
    }
   ],
   "source": [
    "MyClass()[..., 3:, :]"
   ]
  },
  {
   "cell_type": "code",
   "execution_count": 19,
   "id": "c251436f",
   "metadata": {},
   "outputs": [
    {
     "data": {
      "text/plain": [
       "slice(3, None, None)"
      ]
     },
     "execution_count": 19,
     "metadata": {},
     "output_type": "execute_result"
    }
   ],
   "source": [
    "slice(3, None)"
   ]
  },
  {
   "cell_type": "code",
   "execution_count": 16,
   "id": "3c121d11",
   "metadata": {},
   "outputs": [
    {
     "data": {
      "text/plain": [
       "slice(None, -3, None)"
      ]
     },
     "execution_count": 16,
     "metadata": {},
     "output_type": "execute_result"
    }
   ],
   "source": [
    "slice(-3)"
   ]
  },
  {
   "cell_type": "code",
   "execution_count": 17,
   "id": "e5549c08",
   "metadata": {},
   "outputs": [
    {
     "name": "stdout",
     "output_type": "stream",
     "text": [
      "(Ellipsis, slice(None, -4, None))\n"
     ]
    }
   ],
   "source": [
    "MyClass()[..., :-4]"
   ]
  },
  {
   "cell_type": "code",
   "execution_count": null,
   "id": "0384d716",
   "metadata": {},
   "outputs": [],
   "source": []
  }
 ],
 "metadata": {
  "kernelspec": {
   "display_name": "Python 3 (ipykernel)",
   "language": "python",
   "name": "python3"
  },
  "language_info": {
   "codemirror_mode": {
    "name": "ipython",
    "version": 3
   },
   "file_extension": ".py",
   "mimetype": "text/x-python",
   "name": "python",
   "nbconvert_exporter": "python",
   "pygments_lexer": "ipython3",
   "version": "3.11.3"
  }
 },
 "nbformat": 4,
 "nbformat_minor": 5
}
