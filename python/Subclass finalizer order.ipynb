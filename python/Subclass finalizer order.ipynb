{
 "cells": [
  {
   "cell_type": "code",
   "execution_count": 43,
   "id": "b93e7839",
   "metadata": {},
   "outputs": [
    {
     "name": "stdout",
     "output_type": "stream",
     "text": [
      "called Parent.__del__\n"
     ]
    },
    {
     "data": {
      "text/plain": [
       "'child resource'"
      ]
     },
     "execution_count": 43,
     "metadata": {},
     "output_type": "execute_result"
    }
   ],
   "source": [
    "import gc\n",
    "\n",
    "saved = []\n",
    "\n",
    "class Parent:\n",
    "    def __del__(self):\n",
    "        print('called Parent.__del__')\n",
    "        saved.append(self)\n",
    "        \n",
    "class Child(Parent):\n",
    "    def __init__(self):\n",
    "        self.resource = 'child resource'\n",
    "\n",
    "a = Child()\n",
    "del a\n",
    "saved[0]\n",
    "a = saved[0]\n",
    "a.resource"
   ]
  },
  {
   "cell_type": "code",
   "execution_count": null,
   "id": "e09a38c2",
   "metadata": {},
   "outputs": [],
   "source": []
  }
 ],
 "metadata": {
  "kernelspec": {
   "display_name": "Python 3 (ipykernel)",
   "language": "python",
   "name": "python3"
  },
  "language_info": {
   "codemirror_mode": {
    "name": "ipython",
    "version": 3
   },
   "file_extension": ".py",
   "mimetype": "text/x-python",
   "name": "python",
   "nbconvert_exporter": "python",
   "pygments_lexer": "ipython3",
   "version": "3.10.8"
  }
 },
 "nbformat": 4,
 "nbformat_minor": 5
}
