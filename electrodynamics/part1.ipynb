{
 "cells": [
  {
   "cell_type": "markdown",
   "metadata": {},
   "source": [
    "### Vector\n",
    "\n",
    "A vector is often written as a bolded letter. It is made up of N components. In this case, we have 3 components:\n",
    "\n",
    "$$ \\bm{A} = (A_x, A_y, A_z) $$\n",
    "$$ \\bm{A} = A_x \\bm{\\hat x} + A_y \\bm{\\hat y} + A_z \\bm{\\hat z}$$\n",
    "\n",
    "Where $\\bm{\\hat x}$, $\\bm{\\hat y}$, $\\bm{\\hat z}$ are the basis vectors along the x-, y-, and z-axes."
   ]
  },
  {
   "cell_type": "markdown",
   "metadata": {},
   "source": [
    "### Vector magnitude\n",
    "\n",
    "A vector's magnitude is often written as a non-bolded letter, or as bars around a bolded letter.\n",
    "\n",
    "$$ A = |\\bm A| = \\sqrt{A_x^2 + A_y^2 + A_z^2} $$"
   ]
  },
  {
   "cell_type": "markdown",
   "metadata": {},
   "source": [
    "### Dot product\n",
    "\n",
    "$$ \\bm A \\cdot \\bm B = A_x B_x + A_y B_y + A_z B_z $$\n",
    "$$ \\bm A \\cdot \\bm B = A B cos \\theta $$"
   ]
  },
  {
   "cell_type": "markdown",
   "metadata": {},
   "source": [
    "### Cross product\n",
    "\n",
    "$$ \\bm A \\times \\bm B =\n",
    "\n",
    "\\begin{vmatrix}\n",
    "\\bm{\\hat x} & \\bm{\\hat y} & \\bm{\\hat z} \\\\\n",
    "A_x & A_y & A_z \\\\\n",
    "B_x & B_y & B_z \\\\\n",
    "\\end{vmatrix}\n",
    "$$\n",
    "\n",
    "$$ \\bm A \\times \\bm B =\n",
    "(A_y B_z - A_z B_y) \\bm{\\hat x} + (A_z B_x - A_x B_z) \\bm{\\hat y} + (A_x B_y - A_y B_x) \\bm{\\hat z}\n",
    "$$\n",
    "\n",
    "$$ \\bm A \\times \\bm B = ABsin\\theta \\hat{\\bm n} $$"
   ]
  },
  {
   "cell_type": "markdown",
   "metadata": {},
   "source": [
    "## Problem 1.1\n",
    "\n",
    "### Question\n",
    "Show that the dot product and cross product have the distributive property using the trigonometric definitions of the operations.\n",
    "\n",
    "### Answer for dot product\n",
    "For the dot product, the distributive property is:"
   ]
  },
  {
   "cell_type": "markdown",
   "metadata": {},
   "source": [
    "$$ \\bm A \\cdot (\\bm B + \\bm C) = \\bm A \\bm B \\cdot \\bm A \\bm C $$"
   ]
  },
  {
   "cell_type": "markdown",
   "metadata": {},
   "source": [
    "We have to substitute in the trig equation for the dot product."
   ]
  },
  {
   "cell_type": "markdown",
   "metadata": {},
   "source": [
    "$$ A|(\\bm B+\\bm C)|\\cos \\theta = AB\\cos\\phi + AC\\cos\\gamma $$"
   ]
  },
  {
   "cell_type": "markdown",
   "metadata": {},
   "source": [
    "We can choose a basis vector $\\hat{\\bm a}$ as the a-axis, such that $\\bm A = A\\hat{\\bm a}$. That way, $\\theta$, $\\phi$, and $\\gamma$ are angles with respect to the unit vector $\\hat{\\bm a}$. We can change the expression for a dot product to be:"
   ]
  },
  {
   "cell_type": "markdown",
   "metadata": {},
   "source": [
    "$$ \\bm A \\cdot \\bm B = (A\\bm{\\hat a}) \\cdot \\bm{B} $$\n",
    "$$ \\bm A \\cdot \\bm B = A(\\bm{\\hat a} \\cdot \\bm{B}) $$\n",
    "$$ \\bm A \\cdot \\bm B = AB_a $$"
   ]
  },
  {
   "cell_type": "markdown",
   "metadata": {},
   "source": [
    "We've defined that $B_a = \\hat{\\bm a} \\cdot \\bm B$, and we can do the same thing to define $C_a=\\hat{\\bm a} \\cdot \\bm{C}$ and $(\\bm B + \\bm C)_a=\\hat{\\bm a} \\cdot (\\bm B + \\bm C)$."
   ]
  },
  {
   "cell_type": "markdown",
   "metadata": {},
   "source": [
    "\n",
    "Then, we can replace the $cos$ terms using the rule:"
   ]
  },
  {
   "cell_type": "markdown",
   "metadata": {},
   "source": [
    "$$ \\cos(\\text{angle}) = \\frac{\\text{adjacent}}{\\text{hypotenuse}} $$\n",
    "$$ \\cos(\\text{angle with respect to } \\bm{\\hat a}) = \\frac{\\text{component of vector parallel to }\\bm{\\hat a}}{\\text{magnitude of vector}} $$\n",
    "$$\\cos\\theta= \\frac{(\\bm B + \\bm C)_a}{|(\\bm B + \\bm C)|} $$\n",
    "$$\\cos\\phi = \\frac{B_a}{B} $$\n",
    "$$\\cos\\gamma = \\frac{C_a}{C} $$\n",
    "$$ A|(\\bm B + \\bm C)|\\frac{(\\bm B + \\bm C)_a}{|(\\bm B + \\bm C)|} = AB\\frac{B_a}{B} + AC\\frac{C_a}{C} $$\n",
    "$$ A(\\bm B + \\bm C)_a = AB_a + AC_a $$\n",
    "$$ (\\bm B + \\bm C)_a = B_a + C_a $$"
   ]
  },
  {
   "cell_type": "markdown",
   "metadata": {},
   "source": [
    "Now we can see that since we're using $\\bm{\\hat a}$ as a basis vector, then clearly the component of $(\\bm B + \\bm C)$ that is parallel to the a-axis must equal the sum of the components of $\\bm B$ and $\\bm C$ that are also parallel to the a-axis, proving the final equation above."
   ]
  },
  {
   "cell_type": "markdown",
   "metadata": {},
   "source": [
    "### Answer for cross product\n",
    "\n",
    "\n",
    "TBA"
   ]
  },
  {
   "cell_type": "markdown",
   "metadata": {},
   "source": [
    "### Problem 1.4\n",
    "\n",
    "Use the cross product to find the components of the unit vector perpendicular to a plane that intersects with the three points:\n",
    "\n",
    "$$ \\bm A=(1, 0, 0) $$\n",
    "$$ \\bm B=(0, 2, 0) $$\n",
    "$$ \\bm C=(0, 0, 3) $$"
   ]
  },
  {
   "cell_type": "markdown",
   "metadata": {},
   "source": []
  }
 ],
 "metadata": {
  "language_info": {
   "name": "python"
  }
 },
 "nbformat": 4,
 "nbformat_minor": 2
}
