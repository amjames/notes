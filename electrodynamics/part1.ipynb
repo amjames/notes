{
 "cells": [
  {
   "cell_type": "markdown",
   "metadata": {},
   "source": [
    "## Section 1.1: Vector Analysis"
   ]
  },
  {
   "cell_type": "markdown",
   "metadata": {},
   "source": [
    "### Vector\n",
    "\n",
    "A vector is often written as a bolded letter. It is made up of N components. In this case, we have 3 components:\n",
    "\n",
    "$$ \\bm{A} = (A_x, A_y, A_z) $$\n",
    "$$ \\bm{A} = A_x \\bm{\\hat x} + A_y \\bm{\\hat y} + A_z \\bm{\\hat z}$$\n",
    "\n",
    "Where $\\bm{\\hat x}$, $\\bm{\\hat y}$, $\\bm{\\hat z}$ are the basis vectors along the x-, y-, and z-axes."
   ]
  },
  {
   "cell_type": "markdown",
   "metadata": {},
   "source": [
    "### Vector magnitude\n",
    "\n",
    "A vector's magnitude is often written as a non-bolded letter, or as bars around a bolded letter.\n",
    "\n",
    "$$ A = |\\bm A| = \\sqrt{A_x^2 + A_y^2 + A_z^2} $$"
   ]
  },
  {
   "cell_type": "markdown",
   "metadata": {},
   "source": [
    "### Dot product\n",
    "\n",
    "$$ \\bm A \\cdot \\bm B = A_x B_x + A_y B_y + A_z B_z $$\n",
    "$$ \\bm A \\cdot \\bm B = A B cos \\theta $$"
   ]
  },
  {
   "cell_type": "markdown",
   "metadata": {},
   "source": [
    "### Cross product\n",
    "\n",
    "$$ \\bm A \\times \\bm B =\n",
    "\n",
    "\\begin{vmatrix}\n",
    "\\bm{\\hat x} & \\bm{\\hat y} & \\bm{\\hat z} \\\\\n",
    "A_x & A_y & A_z \\\\\n",
    "B_x & B_y & B_z \\\\\n",
    "\\end{vmatrix}\n",
    "$$\n",
    "\n",
    "$$ \\bm A \\times \\bm B =\n",
    "(A_y B_z - A_z B_y) \\bm{\\hat x} + (A_z B_x - A_x B_z) \\bm{\\hat y} + (A_x B_y - A_y B_x) \\bm{\\hat z}\n",
    "$$\n",
    "\n",
    "$$ \\bm A \\times \\bm B = ABsin\\theta \\hat{\\bm n} $$"
   ]
  },
  {
   "cell_type": "markdown",
   "metadata": {},
   "source": [
    "## Problem 1.1\n",
    "\n",
    "### Question\n",
    "Show that the dot product and cross product have the distributive property using the trigonometric definitions of the operations.\n",
    "\n",
    "### Answer for dot product\n",
    "For the dot product, the distributive property is:"
   ]
  },
  {
   "cell_type": "markdown",
   "metadata": {},
   "source": [
    "$$ \\bm A \\cdot (\\bm B + \\bm C) = \\bm A \\bm B \\cdot \\bm A \\bm C $$"
   ]
  },
  {
   "cell_type": "markdown",
   "metadata": {},
   "source": [
    "We have to substitute in the trig equation for the dot product."
   ]
  },
  {
   "cell_type": "markdown",
   "metadata": {},
   "source": [
    "$$ A|(\\bm B+\\bm C)|\\cos \\theta = AB\\cos\\phi + AC\\cos\\gamma $$"
   ]
  },
  {
   "cell_type": "markdown",
   "metadata": {},
   "source": [
    "We can choose a basis vector $\\hat{\\bm a}$ as the a-axis, such that $\\bm A = A\\hat{\\bm a}$. That way, $\\theta$, $\\phi$, and $\\gamma$ are angles with respect to the unit vector $\\hat{\\bm a}$. We can change the expression for a dot product to be:"
   ]
  },
  {
   "cell_type": "markdown",
   "metadata": {},
   "source": [
    "$$ \\bm A \\cdot \\bm B = (A\\bm{\\hat a}) \\cdot \\bm{B} $$\n",
    "$$ \\bm A \\cdot \\bm B = A(\\bm{\\hat a} \\cdot \\bm{B}) $$\n",
    "$$ \\bm A \\cdot \\bm B = AB_a $$"
   ]
  },
  {
   "cell_type": "markdown",
   "metadata": {},
   "source": [
    "We've defined that $B_a = \\hat{\\bm a} \\cdot \\bm B$, and we can do the same thing to define $C_a=\\hat{\\bm a} \\cdot \\bm{C}$ and $(\\bm B + \\bm C)_a=\\hat{\\bm a} \\cdot (\\bm B + \\bm C)$."
   ]
  },
  {
   "cell_type": "markdown",
   "metadata": {},
   "source": [
    "\n",
    "Then, we can replace the $cos$ terms using the rule:"
   ]
  },
  {
   "cell_type": "markdown",
   "metadata": {},
   "source": [
    "$$ \\cos(\\text{angle}) = \\frac{\\text{adjacent}}{\\text{hypotenuse}} $$\n",
    "$$ \\cos(\\text{angle with respect to } \\bm{\\hat a}) = \\frac{\\text{component of vector parallel to }\\bm{\\hat a}}{\\text{magnitude of vector}} $$\n",
    "$$\\cos\\theta= \\frac{(\\bm B + \\bm C)_a}{|(\\bm B + \\bm C)|} $$\n",
    "$$\\cos\\phi = \\frac{B_a}{B} $$\n",
    "$$\\cos\\gamma = \\frac{C_a}{C} $$\n",
    "$$ A|(\\bm B + \\bm C)|\\frac{(\\bm B + \\bm C)_a}{|(\\bm B + \\bm C)|} = AB\\frac{B_a}{B} + AC\\frac{C_a}{C} $$\n",
    "$$ A(\\bm B + \\bm C)_a = AB_a + AC_a $$\n",
    "$$ (\\bm B + \\bm C)_a = B_a + C_a $$"
   ]
  },
  {
   "cell_type": "markdown",
   "metadata": {},
   "source": [
    "Now we can see that since we're using $\\bm{\\hat a}$ as a basis vector, then clearly the component of $(\\bm B + \\bm C)$ that is parallel to the a-axis must equal the sum of the components of $\\bm B$ and $\\bm C$ that are also parallel to the a-axis, proving the final equation above."
   ]
  },
  {
   "cell_type": "markdown",
   "metadata": {},
   "source": [
    "### Answer for cross product\n",
    "\n",
    "For the cross product, the distributive rule is:"
   ]
  },
  {
   "cell_type": "markdown",
   "metadata": {},
   "source": [
    "$$ \\bm A \\times (\\bm B + \\bm C) = \\bm A \\times \\bm B + \\bm A \\times \\bm C $$"
   ]
  },
  {
   "cell_type": "markdown",
   "metadata": {},
   "source": [
    "Substitute the trig definition of cross product."
   ]
  },
  {
   "cell_type": "markdown",
   "metadata": {},
   "source": [
    "$$ A|\\bm B + \\bm C|\\sin\\theta \\bm{\\hat m} = AB\\sin\\phi \\bm{\\hat n} + AC\\sin\\gamma \\bm{\\hat o}$$\n",
    "$$ |\\bm B + \\bm C|\\sin\\theta \\bm{\\hat m} = B\\sin\\phi \\bm{\\hat n} + C\\sin\\gamma \\bm{\\hat o}$$"
   ]
  },
  {
   "cell_type": "markdown",
   "metadata": {},
   "source": [
    "Like we did previous, we'll use $B_a = \\bm{\\hat a} \\cdot \\bm B$ to mean the component of $\\bm B$ which is parallel to the a-axis--the unit vector that has the same direction as $\\bm A = A \\bm{\\hat a}$. Now we can replace the trig terms like so:"
   ]
  },
  {
   "cell_type": "markdown",
   "metadata": {},
   "source": [
    "$$ \\sin(\\text{angle}) = \\frac{\\text{opposite}}{\\text{hypotenuse}} $$\n",
    "$$ \\sin(\\text{angle with respect to }\\bm{\\hat a}) = \\frac{\\text{combined magnitude of vector's components that are perpendicular to } \\bm{\\hat a}}{\\text{magnitude of vector}} $$\n",
    "\n",
    "$$ \\sin(\\phi) = \\frac{|\\bm B - B_a \\bm{\\hat a}|}{B} = \\frac{|\\bm{B}_{\\perp}|}{B} $$\n",
    "$$ \\sin(\\gamma) = \\frac{|\\bm C - C_a \\bm{\\hat a}|}{C} = \\frac{|\\bm{C}_{\\perp}|}{C}$$\n",
    "\n",
    "$$ \\sin(\\theta)\n",
    "= \\frac{|\\bm B + \\bm C - (\\bm B + \\bm C)_a \\bm{\\hat a}|}{|\\bm B + \\bm C|}\n",
    "= \\frac{|\\bm B - B_a \\bm{\\hat a} + \\bm C - C_a \\bm{\\hat a}|}{|\\bm B + \\bm C|}\n",
    "= \\frac{|\\bm B_{\\perp} + \\bm C_{\\perp}|}{|\\bm B + \\bm C|}\n",
    "$$\n",
    "\n",
    "$$ |\\bm B + \\bm C|\\frac{|\\bm B_{\\perp} + \\bm C_{\\perp}|}{|\\bm B + \\bm C|} \\bm{\\hat m} =\n",
    "B\\frac{|B_{\\perp}|}{B} \\bm{\\hat n}\n",
    "+ C\\frac{|C_{\\perp}|}{C} \\bm{\\hat o}$$\n",
    "\n",
    "$$ |\\bm B_{\\perp} + \\bm C_{\\perp}| \\bm{\\hat m} =\n",
    "|B_{\\perp}| \\bm{\\hat n}\n",
    "+ |C_{\\perp}| \\bm{\\hat o}$$"
   ]
  },
  {
   "cell_type": "markdown",
   "metadata": {},
   "source": [
    "I'm not really sure what to do with that."
   ]
  },
  {
   "cell_type": "markdown",
   "metadata": {},
   "source": [
    "### Problem 1.2\n",
    "\n",
    "Is the cross product associative?"
   ]
  },
  {
   "cell_type": "markdown",
   "metadata": {},
   "source": [
    "$$ (A \\times B) \\times C \\stackrel{?}{=} A \\times (B \\times C) $$"
   ]
  },
  {
   "cell_type": "markdown",
   "metadata": {},
   "source": [
    "No, the cross product is not associative. To give a counter-example:"
   ]
  },
  {
   "cell_type": "markdown",
   "metadata": {},
   "source": [
    "$$A = \\hat x, B=\\hat y, C=\\hat y $$\n",
    "$$ (\\hat x \\times \\hat y) \\times \\hat y \\stackrel{?}{=} \\hat x \\times (\\hat y \\times \\hat y) $$\n",
    "$$ \\hat z \\times \\hat y \\stackrel{?}{=} \\hat x \\times 0 $$\n",
    "$$ -\\hat x \\stackrel{?}{=} 0 $$\n",
    "$$ -\\hat x \\neq 0 $$\n",
    "$$ \\therefore (A \\times B) \\times C \\neq A \\times (B \\times C) $$"
   ]
  },
  {
   "cell_type": "markdown",
   "metadata": {
    "vscode": {
     "languageId": "plaintext"
    }
   },
   "source": [
    "### Problem 1.3\n",
    "\n",
    "Find the angle between the body diagonals of a unit cube.\n",
    "\n",
    "The vectors along the body diagonals can be defined by:"
   ]
  },
  {
   "cell_type": "markdown",
   "metadata": {},
   "source": [
    "$$ \\bm{A} = 1 \\hat{x} + 1 \\hat{y} + 1 \\hat{z}$$\n",
    "$$ \\bm{B} = (0\\hat{x} + 1\\hat{y} + 1\\hat{z}) - (1\\hat{x} + 0\\hat{y} + 0\\hat{z}) = -1\\hat{x} + 1\\hat{y} + 1\\hat{z} $$\n",
    "\n",
    "$$ A = \\sqrt{1^2 + 1^2 + 1^2} = \\sqrt 3$$\n",
    "$$ B = \\sqrt{(-1)^2 + 1^2 + 1^2} = \\sqrt 3 $$"
   ]
  },
  {
   "cell_type": "markdown",
   "metadata": {},
   "source": [
    "Now we can use the trigonometric and component forms of the dot product to find the angle between these two vectors."
   ]
  },
  {
   "cell_type": "markdown",
   "metadata": {},
   "source": [
    "$$ \\bm A \\cdot \\bm B = AB\\cos\\theta $$\n",
    "$$ \\theta = \\arccos \\frac{\\bm A \\cdot \\bm B}{AB} $$\n",
    "$$ \\theta = \\arccos \\frac{(1 \\hat x + 1 \\hat y + 1 \\hat z) \\cdot (-1 \\hat x + 1 \\hat y + 1 \\hat z)}{\\sqrt{3}\\sqrt{3}} $$\n",
    "$$ \\theta = \\arccos \\frac{-1 +1 +1}{3} = \\arccos (\\frac{1}{3}) \\approx 70 \\degree $$"
   ]
  },
  {
   "cell_type": "markdown",
   "metadata": {},
   "source": []
  },
  {
   "cell_type": "markdown",
   "metadata": {},
   "source": [
    "### Problem 1.4\n",
    "\n",
    "Use the cross product to find the components of the unit vector perpendicular to a plane that intersects with the three points:\n",
    "\n",
    "$$ \\bm A=1 \\hat x $$\n",
    "$$ \\bm B= 2 \\hat y $$\n",
    "$$ \\bm C= 3 \\hat z $$"
   ]
  },
  {
   "cell_type": "markdown",
   "metadata": {},
   "source": [
    "To do this, we can find the two vectors along the edges of the triangle which intersect with one of the corners, find the cross product of those two vectors, and then divide by the magnitude of the cross product to get the unit vector. We'll use the corner at $A$. The two edges are:"
   ]
  },
  {
   "cell_type": "markdown",
   "metadata": {},
   "source": [
    "$$ \\bm B - \\bm A =- \\hat x + 2\\hat y $$\n",
    "$$ \\bm C - \\bm A = - \\hat x + 3 \\hat z $$"
   ]
  },
  {
   "cell_type": "markdown",
   "metadata": {},
   "source": [
    "Let's take the cross product."
   ]
  },
  {
   "cell_type": "markdown",
   "metadata": {},
   "source": [
    "$$ \\bm N = (\\bm B - \\bm A) \\times (\\bm C - \\bm A) = (-\\hat x + 2\\hat y) \\times (-\\hat x + 3 \\hat z) $$"
   ]
  },
  {
   "cell_type": "markdown",
   "metadata": {},
   "source": [
    "$$ \\bm N =\n",
    "\\begin{vmatrix}\n",
    "\\hat x & \\hat y & \\hat z \\\\\n",
    "-1 & 2 & 0 \\\\\n",
    "-1 & 0 & 3 \\\\\n",
    "\\end{vmatrix}\n",
    "\n",
    "= (2 \\cdot 3) \\hat x - (-1 \\cdot 3) \\hat y - (-1 \\cdot 2) \\hat z\n",
    "= 6 \\hat x + 3 \\hat y + 2 \\hat z\n",
    "\n",
    "$$\n",
    "\n",
    "$$ N = \\sqrt{6^2 + 3^2 + 2^2} = \\sqrt{36 + 9 + 4} = \\sqrt{49} = 7 $$\n",
    "$$ \\hat n = \\frac{\\bm N}{N} = \\frac{1}{7} (6 \\hat x + 3 \\hat y + 2 \\hat z) $$"
   ]
  },
  {
   "cell_type": "markdown",
   "metadata": {},
   "source": [
    "### Problem 1.5\n",
    "\n",
    "Prove the BAC-CAB rule for triple cross products by writing out each side in component form. The rule is:"
   ]
  },
  {
   "cell_type": "markdown",
   "metadata": {},
   "source": [
    "$$ \\bm A \\times (\\bm B \\times \\bm C) = \\bm B(\\bm A \\cdot \\bm C) - \\bm C(\\bm A \\cdot \\bm B) $$"
   ]
  },
  {
   "cell_type": "markdown",
   "metadata": {},
   "source": [
    "Let's first write the left side in component form:"
   ]
  },
  {
   "cell_type": "markdown",
   "metadata": {},
   "source": [
    "$$ \\bm A \\times (\\bm B \\times \\bm C) = \\bm A \\times\n",
    "\n",
    "\\begin{vmatrix}\n",
    "\\hat x & \\hat y & \\hat z \\\\\n",
    "B_x & B_y & B_z \\\\\n",
    "C_x & C_y & C_z \\\\\n",
    "\\end{vmatrix}\n",
    "\n",
    "= A \\times ((B_yC_z - B_zC_y)\\hat x + (B_zC_x - B_xC_z)\\hat y + (B_xC_y - B_yC_x)\\hat z)\n",
    "$$"
   ]
  },
  {
   "cell_type": "markdown",
   "metadata": {},
   "source": [
    "$$ = \\begin{vmatrix}\n",
    "\n",
    "\\hat x & \\hat y & \\hat z \\\\\n",
    "A_x & A_y & A_z \\\\\n",
    "B_yC_z - B_zC_y & B_zC_x - B_xC_z & B_xC_y-B_yC_x \\\\\n",
    "\n",
    "\\end{vmatrix} $$"
   ]
  },
  {
   "cell_type": "markdown",
   "metadata": {},
   "source": [
    "$$\n",
    "= (A_yB_xC_y - A_yB_yC_x - A_zB_zC_x + A_zB_xC_z)\\hat x \\\\\n",
    "+ (A_zB_yC_z - A_zB_zC_y - A_xB_xC_y + A_xB_yC_x)\\hat y \\\\\n",
    "+ (A_xB_zC_x - A_xB_xC_z - A_yB_yC_z + A_yB_zC_y)\\hat z\n",
    "$$"
   ]
  },
  {
   "cell_type": "markdown",
   "metadata": {},
   "source": [
    "Now for the right side:"
   ]
  },
  {
   "cell_type": "markdown",
   "metadata": {},
   "source": [
    "$$\n",
    "\\bm B(\\bm A \\cdot \\bm C) - \\bm C(\\bm A \\cdot \\bm B) = \\bm B (A_x C_x + A_y C_y + A_z C_z) - \\bm C (A_x B_x + A_y B_y + A_z B_z)\n",
    "$$"
   ]
  },
  {
   "cell_type": "markdown",
   "metadata": {},
   "source": [
    "$$\n",
    "= (A_xB_xC_x + A_yB_xC_y + A_zB_xC_z - A_xB_xC_x - A_yB_yC_x - A_zB_zC_x) \\hat x \\\\\n",
    "+ (A_xB_yC_x + A_yB_yC_y + A_zB_yC_z - A_xB_xC_y - A_yB_yC_y - A_zB_zC_y) \\hat y \\\\\n",
    "+ (A_xB_zC_x + A_yB_zC_y + A_zB_zC_z - A_xB_xC_z - A_yB_yC_z - A_zB_zC_z) \\hat z\n",
    "$$"
   ]
  },
  {
   "cell_type": "markdown",
   "metadata": {},
   "source": [
    "$$\n",
    "= (A_yB_xC_y + A_zB_xC_z - A_yB_yC_x - A_zB_zC_x) \\hat x \\\\\n",
    "+ (A_xB_yC_x + A_zB_yC_z - A_xB_xC_y - A_zB_zC_y) \\hat y \\\\\n",
    "+ (A_xB_zC_x + A_yB_zC_y - A_xB_xC_z - A_yB_yC_z) \\hat z\n",
    "$$"
   ]
  },
  {
   "cell_type": "markdown",
   "metadata": {},
   "source": [
    "$$\n",
    "= (A_yB_xC_y - A_yB_yC_x - A_zB_zC_x + A_zB_xC_z) \\hat x \\\\\n",
    "+ (A_zB_yC_z - A_zB_zC_y - A_xB_xC_y + A_xB_yC_x) \\hat y \\\\\n",
    "+ (A_xB_zC_x - A_xB_xC_z - A_yB_yC_z + A_yB_zC_y) \\hat z\n",
    "$$"
   ]
  },
  {
   "cell_type": "markdown",
   "metadata": {},
   "source": [
    "And now it's simple to check that in this form the right and left sides of the BAC-CAB rule are the same."
   ]
  },
  {
   "cell_type": "markdown",
   "metadata": {},
   "source": [
    "### Problem 1.6.1\n",
    "\n",
    "Prove that\n",
    "\n",
    "$$(\\bm A \\times (\\bm B \\times \\bm C)) + (\\bm B \\times (\\bm C \\times \\bm A)) + (\\bm C \\times (\\bm A \\times \\bm B)) = 0$$"
   ]
  },
  {
   "cell_type": "markdown",
   "metadata": {},
   "source": [
    "I'll apply the BAC-CAB rule to the three terms on the left side."
   ]
  },
  {
   "cell_type": "markdown",
   "metadata": {},
   "source": [
    "$$ \\bm A \\times (\\bm B \\times \\bm C) = \\bm B(\\bm A \\cdot \\bm C) - \\bm C(\\bm A \\cdot \\bm B) $$\n",
    "$$ \\bm B \\times (\\bm C \\times \\bm A) = \\bm C(\\bm B \\cdot \\bm A) - \\bm A(\\bm B \\cdot \\bm C) $$\n",
    "$$ \\bm C \\times (\\bm A \\times \\bm B) = \\bm A(\\bm C \\cdot \\bm B) - \\bm B(\\bm C \\cdot \\bm A) $$"
   ]
  },
  {
   "cell_type": "markdown",
   "metadata": {},
   "source": [
    "Now add them all together."
   ]
  },
  {
   "cell_type": "markdown",
   "metadata": {},
   "source": [
    "\n",
    "$$\n",
    "(\\bm A \\times (\\bm B \\times \\bm C))\n",
    "+ (\\bm B \\times (\\bm C \\times \\bm A))\n",
    "+ (\\bm C \\times (\\bm A \\times \\bm B))\n",
    "$$\n",
    "$$\n",
    "= \\bm B(\\bm A \\cdot \\bm C) - \\bm C(\\bm A \\cdot \\bm B)\n",
    "+\\bm C(\\bm B \\cdot \\bm A) - \\bm A(\\bm B \\cdot \\bm C)\n",
    "+\\bm A(\\bm C \\cdot \\bm B) - \\bm B(\\bm C \\cdot \\bm A)\n",
    "$$\n",
    "$$\n",
    "=\n",
    "\\bm B(\\bm A \\cdot \\bm C)\n",
    "- \\bm B(\\bm C \\cdot \\bm A)\n",
    "+ \\bm C(\\bm B \\cdot \\bm A)\n",
    "- \\bm C(\\bm A \\cdot \\bm B)\n",
    "+ \\bm A(\\bm C \\cdot \\bm B)\n",
    "- \\bm A(\\bm B \\cdot \\bm C)\n",
    "$$\n",
    "$$\n",
    "=\n",
    "\\bm B(\\bm A \\cdot \\bm C - \\bm C \\cdot \\bm A)\n",
    "+ \\bm C(\\bm B \\cdot \\bm A - \\bm A \\cdot \\bm B)\n",
    "+ \\bm A(\\bm C \\cdot \\bm B - \\bm B \\cdot \\bm C)\n",
    "$$\n",
    "$$\n",
    "=\n",
    "\\bm B(\\bm A \\cdot \\bm C - \\bm A \\cdot \\bm C)\n",
    "+ \\bm C(\\bm B \\cdot \\bm A - \\bm B \\cdot \\bm A)\n",
    "+ \\bm A(\\bm C \\cdot \\bm B - \\bm C \\cdot \\bm B)\n",
    "$$\n",
    "$$\n",
    "= 0\n",
    "$$"
   ]
  },
  {
   "cell_type": "markdown",
   "metadata": {},
   "source": [
    "### Problem 1.6.2\n",
    "\n",
    "Also, under what conditions does $\\bm A \\times (\\bm B \\times \\bm C) = (\\bm A \\times \\bm B) \\times \\bm C$?\n",
    "\n",
    "We'll use BAC-CAB for this, as well as the fact that $\\bm A \\times \\bm B = - \\bm B \\times \\bm A$."
   ]
  },
  {
   "cell_type": "markdown",
   "metadata": {},
   "source": [
    "$$\n",
    "\\bm A \\times (\\bm B \\times \\bm C)\n",
    "\n",
    "= \\bm B(\\bm A \\cdot \\bm C)\n",
    "- \\bm C(\\bm A \\cdot \\bm B)\n",
    "$$\n",
    "$$\n",
    "(\\bm A \\times \\bm B) \\times \\bm C\n",
    "\n",
    "= -\\bm C \\times (\\bm A \\times \\bm B)\n",
    "\n",
    "= -\\bm A(\\bm C \\cdot \\bm B)\n",
    "+ \\bm B(\\bm C \\cdot \\bm A)\n",
    "$$"
   ]
  },
  {
   "cell_type": "markdown",
   "metadata": {},
   "source": [
    "Now we'll set them equal to each other."
   ]
  },
  {
   "cell_type": "markdown",
   "metadata": {},
   "source": [
    "$$\n",
    "\\bm B(\\bm A \\cdot \\bm C)\n",
    "- \\bm C(\\bm A \\cdot \\bm B)\n",
    "=\n",
    "-\\bm A(\\bm C \\cdot \\bm B)\n",
    "+ \\bm B(\\bm C \\cdot \\bm A)\n",
    "$$\n",
    "$$\n",
    "\\bm B(\\bm A \\cdot \\bm C)\n",
    "- \\bm C(\\bm A \\cdot \\bm B)\n",
    "=\n",
    "-\\bm A(\\bm B \\cdot \\bm C)\n",
    "+ \\bm B(\\bm A \\cdot \\bm C)\n",
    "$$\n",
    "$$\n",
    "\\bm C(\\bm A \\cdot \\bm B)\n",
    "=\n",
    "\\bm A(\\bm B \\cdot \\bm C)\n",
    "$$"
   ]
  },
  {
   "cell_type": "markdown",
   "metadata": {},
   "source": [
    "### Problem 1.7\n",
    "\n",
    "Find the separation vector $\\Delta \\bm r$ from the source point $\\bm r' = (2, 8, 7)$ to the field point $\\bm r = (4, 6, 8)$. Determine its magnitude and construct its unit vector."
   ]
  },
  {
   "cell_type": "markdown",
   "metadata": {},
   "source": [
    "$$ \\Delta \\bm r = \\bm r - \\bm r' = (4, 6, 8) - (2, 8, 7) = (2, -2, 1) $$"
   ]
  },
  {
   "cell_type": "markdown",
   "metadata": {},
   "source": [
    "$$ |\\Delta \\bm r| = \\sqrt{2^2 + (-2)^2 + 1^2} = \\sqrt{4 + 4 + 1} = \\sqrt{9} = 3 $$"
   ]
  },
  {
   "cell_type": "markdown",
   "metadata": {},
   "source": [
    "$$ \\hat{\\Delta \\bm r} = \\frac{\\Delta \\bm r}{|\\Delta \\bm r|} = \\frac{(2, -2, 1)}{3} = (\\frac{2}{3}, -\\frac{2}{3}, \\frac{1}{3}) $$"
   ]
  },
  {
   "cell_type": "markdown",
   "metadata": {},
   "source": [
    "### Problem 1.8.a\n",
    "\n",
    "Prove that the two-dimensional rotation matrix preserves dot products. That is, show that $\\bm A \\cdot \\bm B = \\bm A' \\cdot \\bm B'$ given the rotation transformation:"
   ]
  },
  {
   "cell_type": "markdown",
   "metadata": {},
   "source": [
    "$$ \\bm A' = R \\bm A $$\n",
    "$$ \\bm B' = R \\bm B $$\n",
    "\n",
    "$$\n",
    "R =\n",
    "\\begin{pmatrix}\n",
    "\\cos \\theta & \\sin \\theta \\\\\n",
    "-\\sin \\theta & \\cos \\theta \\\\\n",
    "\\end{pmatrix}\n",
    "$$\n"
   ]
  },
  {
   "cell_type": "markdown",
   "metadata": {},
   "source": [
    "All we have to do is find the components of $\\bm A'$ and $\\bm B'$ in terms of the components of $\\bm A$, $\\bm B$, and $\\theta$, and then calculate the dot products."
   ]
  },
  {
   "cell_type": "markdown",
   "metadata": {},
   "source": [
    "$$ \\bm A' = R \\bm A =\n",
    "\\begin{pmatrix}\n",
    "\\cos\\theta & \\sin\\theta \\\\\n",
    "-\\sin\\theta & \\cos\\theta\n",
    "\\end{pmatrix}\n",
    "\n",
    "\\begin{pmatrix}\n",
    "A_x \\\\\n",
    "A_y\n",
    "\\end{pmatrix}\n",
    "$$\n",
    "\n",
    "$$ \\bm A' = (A_x \\cos\\theta + A_y \\sin\\theta) \\hat x + (-A_x \\sin\\theta + A_y \\cos\\theta) \\hat y $$\n",
    "$$ \\bm B' = (B_x \\cos\\theta + B_y \\sin\\theta) \\hat x + (-B_x \\sin\\theta + B_y \\cos\\theta) \\hat y $$"
   ]
  },
  {
   "cell_type": "markdown",
   "metadata": {},
   "source": [
    "$$ \\bm A' \\cdot B' =\n",
    "(A_x \\cos\\theta + A_y \\sin\\theta)\n",
    "(B_x \\cos\\theta + B_y \\sin\\theta)\\\\\n",
    "+\n",
    "(-A_x \\sin\\theta + A_y \\cos\\theta)\n",
    "(-B_x \\sin\\theta + B_y \\cos\\theta)\n",
    "$$\n"
   ]
  },
  {
   "cell_type": "markdown",
   "metadata": {},
   "source": [
    "$$ \\bm A' \\cdot B' =\n",
    "(A_x \\cos\\theta + A_y \\sin\\theta)\n",
    "(B_x \\cos\\theta + B_y \\sin\\theta)\\\\\n",
    "+\n",
    "(-A_x \\sin\\theta + A_y \\cos\\theta)\n",
    "(-B_x \\sin\\theta + B_y \\cos\\theta)\n",
    "$$\n",
    "$$ \\bm A' \\cdot B' =\n",
    "A_xB_x (\\cos\\theta)^2\n",
    "+ A_xB_y\\cos\\theta\\sin\\theta\n",
    "+ A_yB_x\\cos\\theta\\sin\\theta\n",
    "+ A_yB_y(\\sin\\theta)^2 \\\\\n",
    "+ A_xB_x (\\sin\\theta)^2\n",
    "- A_xB_y\\cos\\theta\\sin\\theta\n",
    "- A_yB_x\\cos\\theta\\sin\\theta\n",
    "+ A_yB_y(\\cos\\theta)^2\n",
    "$$\n"
   ]
  },
  {
   "cell_type": "markdown",
   "metadata": {},
   "source": [
    "$$ \\bm A' \\cdot B' =\n",
    "A_xB_x (\\cos\\theta)^2\n",
    "+ A_yB_y(\\sin\\theta)^2 \\\\\n",
    "+ A_xB_x (\\sin\\theta)^2\n",
    "+ A_yB_y(\\cos\\theta)^2\n",
    "$$\n"
   ]
  },
  {
   "cell_type": "markdown",
   "metadata": {},
   "source": [
    "$$ \\bm A' \\cdot B' =\n",
    "A_xB_x ((\\cos\\theta)^2 + (\\sin\\theta)^2)\n",
    "+ A_yB_y((\\cos\\theta)^2 + (\\sin\\theta)^2)\n",
    "$$\n",
    "$$ \\bm A' \\cdot B' = A_xB_x + A_yB_y $$\n",
    "$$ \\bm A' \\cdot B' = \\bm A \\cdot \\bm B $$\n"
   ]
  },
  {
   "cell_type": "markdown",
   "metadata": {},
   "source": [
    "### Problem 1.8.b\n",
    "\n",
    "What constraints must the elements $R_{ij}$ of the three-dimensional rotation matrix satisfy, in order to preserve the length of $\\bm A$?\n",
    "\n",
    "The rotation matrix is:\n",
    "\n",
    "$$\n",
    "R = \n",
    "\\begin{pmatrix}\n",
    "R_{xx} & R_{xy} & R_{xz} \\\\\n",
    "R_{yx} & R_{yy} & R_{yz} \\\\\n",
    "R_{zx} & R_{zy} & R_{zz} \\\\\n",
    "\\end{pmatrix}\n",
    "$$"
   ]
  },
  {
   "cell_type": "markdown",
   "metadata": {},
   "source": [
    "In order for the rotation matrix to preserve the length of $\\bm A$, the following must be true:"
   ]
  },
  {
   "cell_type": "markdown",
   "metadata": {},
   "source": [
    "$$ \\bm A \\cdot \\bm A = \\bm A' \\cdot \\bm A' $$"
   ]
  },
  {
   "cell_type": "markdown",
   "metadata": {},
   "source": [
    "We could try expressing that in component form, but it would turn into a huge equation and it would be difficult to simplify it. There is a simpler approach to answering the question.\n",
    "\n",
    "In order for the rotation matrix to preserve lengths, when the basis vectors $\\hat x$, $\\hat y$, and $\\hat z$ are transformed, they must remain unit vectors and they must remain orthogonal to each other. So we have the following constraints:"
   ]
  },
  {
   "cell_type": "markdown",
   "metadata": {},
   "source": [
    "$$ |\\hat x'| = 1\n",
    "\\qquad |\\hat y'| = 1\n",
    "\\qquad |\\hat z'| = 1 $$\n",
    "\n",
    "$$ \\hat x' \\cdot \\hat y' = 0\n",
    "\\qquad \\hat y' \\cdot \\hat z' = 0\n",
    "\\qquad \\hat z' \\cdot \\hat x' = 0 $$"
   ]
  },
  {
   "cell_type": "markdown",
   "metadata": {},
   "source": [
    "The transformed basis vectors are:"
   ]
  },
  {
   "cell_type": "markdown",
   "metadata": {},
   "source": [
    "\n",
    "$$ \\hat x' = R \\hat x = R_{xx} \\hat x + R_{yx} \\hat y + R_{zx} \\hat z $$\n",
    "$$ \\hat y' = R \\hat y = R_{xy} \\hat x + R_{yy} \\hat y + R_{zy} \\hat z $$\n",
    "$$ \\hat z' = R \\hat z = R_{xz} \\hat x + R_{yz} \\hat y + R_{zz} \\hat z$$"
   ]
  },
  {
   "cell_type": "markdown",
   "metadata": {},
   "source": [
    "Then we can substitute those into the constraint equations from above to get the component form of each constraint."
   ]
  },
  {
   "cell_type": "markdown",
   "metadata": {},
   "source": [
    "$$ R_{xx}^2 + R_{yx}^2 + R_{zx}^2 = 1 $$\n",
    "$$ R_{xy}^2 + R_{yy}^2 + R_{zy}^2 = 1 $$\n",
    "$$ R_{xz}^2 + R_{yz}^2 + R_{zz}^2 = 1 $$\n",
    "\n",
    "$$ R_{xx}R_{xy} + R_{yx}R_{yy} + R_{zx}R_{zy} = 0 $$\n",
    "$$ R_{xy}R_{xz} + R_{yy}R_{yz} + R_{zy}R_{zz} = 0 $$\n",
    "$$ R_{xz}R_{xx} + R_{yz}R_{yx} + R_{zz}R_{zx} = 0 $$"
   ]
  },
  {
   "cell_type": "markdown",
   "metadata": {},
   "source": [
    "### Problem 1.9\n",
    "\n",
    "Find the rotation matrix that describes a rotation by $120 \\degree$ about an axis from the origin through the point $(1, 1, 1)$. The rotation is clockwise looking down the axis toward the origin.\n",
    "\n",
    "I notice that this particular rotation will transform the basis vectors such that they all swap\n",
    "\n",
    "Notice that $120 \\degree$ is one third of a full revolution, and the angles between each basis vector and the axis of rotation are all equal. The means that this rotation will transform the basis vectors such that they all swap clockwise. So that gives these transformed basis vectors:"
   ]
  },
  {
   "cell_type": "markdown",
   "metadata": {},
   "source": [
    "$$ \\hat x' = R \\hat x = \\hat z $$\n",
    "$$ \\hat y' = R \\hat y = \\hat x $$\n",
    "$$ \\hat z' = R \\hat z = \\hat y $$"
   ]
  },
  {
   "cell_type": "markdown",
   "metadata": {},
   "source": [
    "Remember the transformed basis vectors can also be written as:"
   ]
  },
  {
   "cell_type": "markdown",
   "metadata": {},
   "source": [
    "\n",
    "$$ \\hat x' = R \\hat x = R_{xx} \\hat x + R_{yx} \\hat y + R_{zx} \\hat z $$\n",
    "$$ \\hat y' = R \\hat y = R_{xy} \\hat x + R_{yy} \\hat y + R_{zy} \\hat z $$\n",
    "$$ \\hat z' = R \\hat z = R_{xz} \\hat x + R_{yz} \\hat y + R_{zz} \\hat z$$"
   ]
  },
  {
   "cell_type": "markdown",
   "metadata": {},
   "source": [
    "So to achieve the correct rotated basis vectors, we can assign values of $R_{ij}$ like this:"
   ]
  },
  {
   "cell_type": "markdown",
   "metadata": {},
   "source": [
    "\n",
    "$$ \\hat x' = 0 \\hat x + 0 \\hat y + 1 \\hat z $$\n",
    "$$ \\hat y' = 1 \\hat x + 0 \\hat y + 0 \\hat z $$\n",
    "$$ \\hat z' = 0 \\hat x + 1 \\hat y + 0 \\hat z $$"
   ]
  },
  {
   "cell_type": "markdown",
   "metadata": {},
   "source": [
    "$$\n",
    "R = \n",
    "\\begin{pmatrix}\n",
    "R_{xx} & R_{xy} & R_{xz} \\\\\n",
    "R_{yx} & R_{yy} & R_{yz} \\\\\n",
    "R_{zx} & R_{zy} & R_{zz}\n",
    "\\end{pmatrix}\n",
    "=\n",
    "\\begin{pmatrix}\n",
    "0 & 1 & 0 \\\\\n",
    "0 & 0 & 1 \\\\\n",
    "1 & 0 & 0\n",
    "\n",
    "\\end{pmatrix}\n",
    "$$"
   ]
  },
  {
   "cell_type": "markdown",
   "metadata": {},
   "source": [
    "### Problem 1.10.a\n",
    "\n",
    "How do the components of a vector transform under a translation of coordinates like the following?"
   ]
  },
  {
   "cell_type": "markdown",
   "metadata": {},
   "source": [
    "$$ x' = x $$\n",
    "$$ y' = y - a $$\n",
    "$$ z' = z $$"
   ]
  },
  {
   "cell_type": "markdown",
   "metadata": {},
   "source": [
    "Is this a trick question? The answer is like exactly what the question says will happen to the components. To transform $\\bm A$ to $\\bm A'$, you just subtract $a$ from the $y$-component and keep the other two components the same."
   ]
  },
  {
   "cell_type": "markdown",
   "metadata": {},
   "source": [
    "$$\n",
    "\\bm A' =\n",
    "\\begin{pmatrix}\n",
    "A_x' \\\\\n",
    "A_y' \\\\\n",
    "A_x'\n",
    "\\end{pmatrix}\n",
    "=\n",
    "\\begin{pmatrix}\n",
    "A_x \\\\\n",
    "A_y - a \\\\\n",
    "A_x\n",
    "\\end{pmatrix}\n",
    "=\n",
    "\\bm A - a\\hat y\n",
    "$$"
   ]
  },
  {
   "cell_type": "markdown",
   "metadata": {},
   "source": [
    "### Problem 1.10.b\n",
    "\n",
    "How do the components of a vector transform under an inversion of coordinates like the following?"
   ]
  },
  {
   "cell_type": "markdown",
   "metadata": {},
   "source": [
    "$$ x' = -x $$\n",
    "$$ y' = -y $$\n",
    "$$ z' = -z $$"
   ]
  },
  {
   "cell_type": "markdown",
   "metadata": {},
   "source": [
    "Another question with a seemingly obvious answer."
   ]
  },
  {
   "cell_type": "markdown",
   "metadata": {},
   "source": [
    "$$\n",
    "\\bm A'\n",
    "= \n",
    "\\begin{pmatrix}\n",
    "A'_x \\\\ A'_y \\\\ A'_z\n",
    "\\end{pmatrix}\n",
    "= \n",
    "\\begin{pmatrix}\n",
    "-A_x \\\\ -A_y \\\\ -A_z\n",
    "\\end{pmatrix}\n",
    "=\n",
    "-\\bm A\n",
    "$$"
   ]
  },
  {
   "cell_type": "markdown",
   "metadata": {},
   "source": [
    "This means that, while the actual underlying vector that $\\bm A$ represents stays the same, the numbers that we use to locate it (its components) have been inverted, since the coordinate system has been inverted."
   ]
  },
  {
   "cell_type": "markdown",
   "metadata": {},
   "source": [
    "### Problem 1.10.c\n",
    "\n",
    "How do the components of a cross product transform under inversion? (The cross product of two vectors is properly called a pseudovector because of this \"anomalous\" behavior.) Is the cross product of two pseudovectors a vector or a pseudovector? Name two pseudovector quantities in classical mechanics.\n"
   ]
  },
  {
   "cell_type": "markdown",
   "metadata": {},
   "source": [
    "The first part of this question is asking us to compare $\\bm A' \\times \\bm B'$ with $\\bm A \\times \\bm B$, where $\\bm A'=-\\bm A$ and $\\bm B' = -\\bm B$."
   ]
  },
  {
   "cell_type": "markdown",
   "metadata": {},
   "source": [
    "$$ \\bm A' \\times \\bm B' = (-\\bm A) \\times (-\\bm B) = (-1 \\cdot \\bm A) \\times (-1 \\cdot \\bm B) = (-1)(-1)\\bm A \\times \\bm B = \\bm A \\times \\bm B $$"
   ]
  },
  {
   "cell_type": "markdown",
   "metadata": {},
   "source": [
    "So under coordinate inversion, the components of the cross product do not change, even though the components of the vectors that we're taking the cross product of do change. This is why the cross product is a pseudovector, not a vector."
   ]
  },
  {
   "cell_type": "markdown",
   "metadata": {},
   "source": [
    "Next is the question of whether taking the cross product of two pseudovectors is a vector or a pseudovector. Below, $\\bm A$, $\\bm B$, $\\bm C$, and $\\bm D$ are all vectors."
   ]
  },
  {
   "cell_type": "markdown",
   "metadata": {},
   "source": [
    "$$ \\bm E = \\bm A \\times \\bm B = \\bm A' \\times \\bm B' $$\n",
    "$$ \\bm F = \\bm C \\times \\bm D = \\bm C' \\times \\bm D' $$"
   ]
  },
  {
   "cell_type": "markdown",
   "metadata": {},
   "source": [
    "$\\bm E$ and $\\bm F$ are both pseudovectors. Let's take the cross product of them."
   ]
  },
  {
   "cell_type": "markdown",
   "metadata": {},
   "source": [
    "$$ \\bm E \\times \\bm F = (\\bm A \\times \\bm B) \\times (\\bm C \\times \\bm D) = (\\bm A' \\times \\bm B') \\times (\\bm C' \\times \\bm D') $$"
   ]
  },
  {
   "cell_type": "markdown",
   "metadata": {},
   "source": [
    "This shows that under coordinate inversion, the components of $\\bm E \\times \\bm F$ do not change, even though the components of $\\bm A$, $\\bm B$, $\\bm C$, and $\\bm D$ do change. Therefore, the cross product of two pseudovectors is also a pseudovector.\n",
    "\n",
    "In classical mechanics, angular momentum and torque two examples of pseudovectors, since they are both defined by the cross product of two vectors."
   ]
  },
  {
   "cell_type": "markdown",
   "metadata": {},
   "source": [
    "### Problem 1.10.d\n",
    "\n",
    "How does the scalar triple product of three vectors transform under inversions? (Such an object is called a pseudoscalar.)\n",
    "\n",
    "The scalar triple product of three vectors is:"
   ]
  },
  {
   "cell_type": "markdown",
   "metadata": {},
   "source": [
    "$$ \\bm A \\cdot (\\bm B \\times \\bm C) = (-\\bm A') \\cdot ((-\\bm B') \\times (-\\bm C')) $$\n",
    "$$ \\bm A \\cdot (\\bm B \\times \\bm C) = -\\bm A' \\cdot (\\bm B' \\times \\bm C') $$"
   ]
  },
  {
   "cell_type": "markdown",
   "metadata": {},
   "source": [
    "So, under coordinate inversion, the scalar triple product of three vectors inverts. This must be why it's called a pseudoscalar, because a true scalar does not change value under coordinate transformations."
   ]
  },
  {
   "cell_type": "markdown",
   "metadata": {},
   "source": [
    "## Section 1.2: Differential Calculus\n",
    "\n",
    "### Gradient\n",
    "\n",
    "The temperature in a room can be described by $T(x, y, z)$, an equation of three variables, three different spatial coordinates. The derivative of this function should be able to tell us how fast the function varies if we move a little distance. But that will depend on which direction we move. A theorem of partial derivatives says:"
   ]
  },
  {
   "cell_type": "markdown",
   "metadata": {},
   "source": [
    "$$ dT = \\frac{\\partial T}{\\partial x} dx + \\frac{\\partial T}{\\partial y} dy + \\frac{\\partial T}{\\partial z} dz $$"
   ]
  },
  {
   "cell_type": "markdown",
   "metadata": {},
   "source": [
    "This means that if we move by a small amount $dx$ along the $x$-axis, $dy$ along $y$-axis, and $dz$ along $z$-axis, then the temperature will vary by a small amount $dT$.\n",
    "\n",
    "We can untangle the above equation into a dot product between two vectors like so:"
   ]
  },
  {
   "cell_type": "markdown",
   "metadata": {},
   "source": [
    "$$ dT = (\\frac{\\partial T}{\\partial x} \\hat x + \\frac{\\partial T}{\\partial y} \\hat y + \\frac{\\partial T}{\\partial z} \\hat z) \\cdot (dx \\hat x + dy \\hat y + dz \\hat z) $$\n",
    "$$ dT = (\\nabla T) \\cdot (d\\bm l) $$"
   ]
  },
  {
   "cell_type": "markdown",
   "metadata": {},
   "source": [
    "$\\nabla T$ is called the gradient of $T$, and it is essentially the derivative of $T$.\n",
    "\n",
    "Since the gradient is a vector, it has magnitude and direction. Let's rewrite the above dot product to show this:"
   ]
  },
  {
   "cell_type": "markdown",
   "metadata": {},
   "source": [
    "$$ dT = (\\nabla T) \\cdot (d \\bm l) = |\\nabla T||d\\bm l| \\cos \\theta $$"
   ]
  },
  {
   "cell_type": "markdown",
   "metadata": {},
   "source": [
    "Where $\\theta$ is the angle between the vectors $\\nabla T$ and $d \\bm l$. If we fix $|d\\bm l|$ constant and vary $\\theta$, we find that the maximum value of $dT$ happens at $\\theta = 0$. In other words, $dT$ is greatest if the displacement $d\\bm l$ has the same direction as $\\nabla T$. Therefore:\n",
    "\n",
    "* The gradient $\\nabla T$ points in the direction of maximum increase in the function T.\n",
    "* The magnitude $|\\nabla T|$ gives the slope along this maximal direction."
   ]
  },
  {
   "cell_type": "markdown",
   "metadata": {},
   "source": [
    "If $\\nabla T = 0$ at some point $(x, y, z)$, then it is called a \"sationary point\" of the function $T$."
   ]
  },
  {
   "cell_type": "markdown",
   "metadata": {},
   "source": [
    "For an example, find the gradient of $r = \\sqrt{x^2 + y^2 + z^2}$ (the magnitude of the position vector $\\bm r = x \\hat x + y \\hat y + z \\hat z$)."
   ]
  },
  {
   "cell_type": "markdown",
   "metadata": {},
   "source": [
    "$$\\nabla r = (\\frac{\\partial r}{\\partial x}\\hat x + \\frac{\\partial r}{\\partial y}\\hat y + \\frac{\\partial r}{\\partial z}\\hat z) $$\n",
    "\n",
    "$$\\nabla r = (\\frac{1}{2} \\frac{2x}{\\sqrt{x^2 + y^2 + z^2}}\\hat x + \\frac{1}{2} \\frac{2y}{\\sqrt{x^2 + y^2 + z^2}}\\hat y + \\frac{1}{2} \\frac{2z}{\\sqrt{x^2 + y^2 + z^2}}\\hat z)$$\n",
    "$$\\nabla r = \\frac{x \\hat x + y \\hat y + z \\hat z}{\\sqrt{x^2 + y^2 + z^2}} $$\n",
    "$$ \\nabla r = \\frac{\\bm r}{r} $$"
   ]
  },
  {
   "cell_type": "markdown",
   "metadata": {},
   "source": [
    "This says that the distance $r$ from the origin increases fastest in the direction pointing directly away from the origin, and that the rate of increase is $|\\nabla r| = \\dfrac{|\\bm r|}{r} = \\dfrac{r}{r} = 1$."
   ]
  },
  {
   "cell_type": "markdown",
   "metadata": {},
   "source": [
    "### Problem 1.11.a\n",
    "\n",
    "Find the gradient of $f(x, y, z) = x^2 + y^3 + z^4$."
   ]
  },
  {
   "cell_type": "markdown",
   "metadata": {},
   "source": [
    "$$ \\nabla f = 2x \\hat x + 3y^2 \\hat y + 4z^3 \\hat z $$"
   ]
  },
  {
   "cell_type": "markdown",
   "metadata": {},
   "source": [
    "### Problem 1.11.b\n",
    "\n",
    "Find the gradient of $f(x, y, z) = x^2 y^3 z^4$."
   ]
  },
  {
   "cell_type": "markdown",
   "metadata": {},
   "source": [
    "$$ \\nabla f = 2 x y^3 z^4 \\hat x + 3 x^2 y^2 z^4 \\hat y + 4 x^2 y^3 z^3 \\hat z $$"
   ]
  },
  {
   "cell_type": "markdown",
   "metadata": {},
   "source": [
    "### Problem 1.11.c\n",
    "\n",
    "Find the gradient of $f(x, y, z) = e^x \\sin(y) \\ln(z)$"
   ]
  },
  {
   "cell_type": "markdown",
   "metadata": {},
   "source": [
    "$$ \\nabla f = e^x \\sin(y)\\ln(z) \\hat x + e^x \\cos(y) \\ln(z) \\hat y + e^x \\sin(y) (\\frac{1}{z}) \\hat z$$"
   ]
  },
  {
   "cell_type": "markdown",
   "metadata": {},
   "source": [
    "### Problem 1.12\n",
    "\n",
    "The height of a hill is given by\n"
   ]
  },
  {
   "cell_type": "markdown",
   "metadata": {},
   "source": [
    "\n",
    "$$ h(x, y) = 10 (2xy - 3x^2 - 4 y^2 - 18 x + 28 y + 12) $$"
   ]
  },
  {
   "cell_type": "markdown",
   "metadata": {},
   "source": [
    "$h$ is the height in feet, $y$ is the distance in miles north, and $x$ is the distance in miles east."
   ]
  },
  {
   "cell_type": "markdown",
   "metadata": {},
   "source": [
    "(a) Where is the top of the hill?\n",
    "\n",
    "(b) How high is the hill?\n",
    "\n",
    "(c) How steep is the slope (feet/mile) at the point $(x=1, y=1)$? In what direction is the slope steepest at that point?"
   ]
  },
  {
   "cell_type": "markdown",
   "metadata": {},
   "source": [
    "The first thing we need to do is find the gradient of $h$."
   ]
  },
  {
   "cell_type": "markdown",
   "metadata": {},
   "source": [
    "$$ \\nabla h = 10 ((2y - 6x - 18)\\hat x + (2x - 8y + 28)\\hat y) $$"
   ]
  },
  {
   "cell_type": "markdown",
   "metadata": {},
   "source": [
    "The top of the hill is a stationary point, meaning that $\\nabla h = 0$ at that point."
   ]
  },
  {
   "cell_type": "markdown",
   "metadata": {},
   "source": [
    "$$ \\nabla h = 10 ((2y - 6x - 18)\\hat x + (2x - 8y + 28)\\hat y) = 0 $$\n",
    "$$ (2y - 6x - 18)\\hat x + (2x - 8y + 28)\\hat y = 0 $$\n",
    "$$ (y - 3x - 9)\\hat x + (x - 4y + 14)\\hat y = 0 $$"
   ]
  },
  {
   "cell_type": "markdown",
   "metadata": {},
   "source": [
    "So we have the two equations:"
   ]
  },
  {
   "cell_type": "markdown",
   "metadata": {},
   "source": [
    "$$ y - 3x - 9 = 0 $$\n",
    "$$ x - 4y + 14 = 0 $$"
   ]
  },
  {
   "cell_type": "markdown",
   "metadata": {},
   "source": [
    "We'll rearrage the first one to put $y$ on the left and then substitute it into the second equation."
   ]
  },
  {
   "cell_type": "markdown",
   "metadata": {},
   "source": [
    "$$ y = 3x + 9 $$\n",
    "$$ x - 4 (3x + 9) + 14 = 0 $$\n",
    "$$ x - 12 x - 36 + 14 = 0 $$\n",
    "$$ -11x - 22 = 0 $$\n",
    "$$ x = -2 $$\n",
    "$$ y = 3 $$"
   ]
  },
  {
   "cell_type": "markdown",
   "metadata": {},
   "source": [
    "So we've found the only stationary point $(x=-2, y=3)$. Is it really the maximum? To find out, we can check that if we start at this point and move by a small displacement $dx \\hat x$ or $dy \\hat y$, then the gradient should point towards the maximum."
   ]
  },
  {
   "cell_type": "markdown",
   "metadata": {},
   "source": [
    "$$ \\nabla h(x, y) = 10 ((2y - 6x - 18)\\hat x + (2x - 8y + 28)\\hat y) $$\n",
    "\n",
    "$$ \\nabla h(-2 + dx, 3 + dy) =\n",
    "10 ((2(3 + dy) - 6(-2 + dx) - 18)\\hat x + (2(-2 + dx) - 8(3 + dy) + 28)\\hat y) $$\n",
    "$$ =10 ((6 + 2dy + 12 - 6 dx - 18)\\hat x + (-4 + 2 dx - 24 - 8 dy + 28)\\hat y) $$\n",
    "$$ =10 ((2dy - 6 dx)\\hat x + (2 dx - 8 dy)\\hat y) $$"
   ]
  },
  {
   "cell_type": "markdown",
   "metadata": {},
   "source": [
    "If $dy = 0$, we have:"
   ]
  },
  {
   "cell_type": "markdown",
   "metadata": {},
   "source": [
    "$$ \\nabla h(-2 + dx, 3) =10 ((-6 dx)\\hat x + (2 dx)\\hat y) $$"
   ]
  },
  {
   "cell_type": "markdown",
   "metadata": {},
   "source": [
    "The dominant component of this gradient points in the opposite direction of the displacement $dx \\hat x$.\n",
    "\n",
    "And if $dx = 0$, we have:"
   ]
  },
  {
   "cell_type": "markdown",
   "metadata": {},
   "source": [
    "$$ \\nabla h(-2, 3 + dy) = 10 ((2dy)\\hat x + (- 8 dy)\\hat y) $$"
   ]
  },
  {
   "cell_type": "markdown",
   "metadata": {},
   "source": [
    "And the dominant component of this gradient points in the opposite direction of the displacement $dy \\hat y$.\n",
    "\n",
    "Therefore, since a small displacement away from the stationary point results in a gradient that points backward in the opposite direction from the displacement, then the stationary point $(x=-2, y=3)$ is indeed a maximum.\n",
    "\n",
    "The height of the hill at this point is:"
   ]
  },
  {
   "cell_type": "markdown",
   "metadata": {},
   "source": [
    "\n",
    "$$ h(x, y) = 10 (2xy - 3x^2 - 4 y^2 - 18 x + 28 y + 12) $$\n",
    "$$ h(-2, 3) = 10 (2(-2)(3) - 3(-2)^2 - 4 (3)^2 - 18 (-2) + 28 (3) + 12) $$\n",
    "$$ h(-2, 3) = 10 (-12 - 12 - 36 + 36 + 84 + 12) $$\n",
    "$$ h(-2, 3) = 10 (72) $$\n",
    "$$ h(-2, 3) = 720 $$"
   ]
  },
  {
   "cell_type": "markdown",
   "metadata": {},
   "source": [
    "The final part of this problem is to find the magnitude and direction of the gradient at $(x=1, y=1)$"
   ]
  },
  {
   "cell_type": "markdown",
   "metadata": {},
   "source": [
    "$$ \\nabla h(x, y) = 10 ((2y - 6x - 18)\\hat x + (2x - 8y + 28)\\hat y) $$\n",
    "$$ \\nabla h(1, 1) = 10 ((2 - 6 - 18)\\hat x + (2 - 8 + 28)\\hat y) $$\n",
    "$$ \\nabla h(1, 1) = 10 (-22\\hat x + (22)\\hat y) $$\n",
    "$$ \\nabla h(1, 1) = -220 \\hat x + 220 \\hat y $$\n",
    "$$ |\\nabla h(1, 1)| = \\sqrt{(-220)^2 + 220^2} \\approx 311 $$\n",
    "$$ \\frac{\\nabla h(1, 1)}{|\\nabla h(1, 1)|} = -\\frac{1}{\\sqrt{2}}\\hat x + \\frac{1}{\\sqrt{2}}\\hat y $$\n"
   ]
  },
  {
   "cell_type": "markdown",
   "metadata": {},
   "source": [
    "So the gradient is approximately 311 feet/mile to the north-west at the point $(x=1, y=1)$."
   ]
  }
 ],
 "metadata": {
  "kernelspec": {
   "display_name": "main",
   "language": "python",
   "name": "python3"
  },
  "language_info": {
   "codemirror_mode": {
    "name": "ipython",
    "version": 3
   },
   "file_extension": ".py",
   "mimetype": "text/x-python",
   "name": "python",
   "nbconvert_exporter": "python",
   "pygments_lexer": "ipython3",
   "version": "3.11.3"
  }
 },
 "nbformat": 4,
 "nbformat_minor": 2
}
