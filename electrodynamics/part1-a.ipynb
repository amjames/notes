{
 "cells": [
  {
   "cell_type": "markdown",
   "metadata": {},
   "source": [
    "## Section 1.1: Vector Analysis"
   ]
  },
  {
   "cell_type": "markdown",
   "metadata": {},
   "source": [
    "### Vector\n",
    "\n",
    "A vector is often written as a bolded letter. It is made up of N components. In this case, we have 3 components:\n",
    "\n",
    "$$ \\textbf{A} = (A_x, A_y, A_z) $$\n",
    "$$ \\textbf{A} = A_x \\hat x + A_y \\hat y + A_z \\hat z$$\n",
    "\n",
    "Where $\\hat x$, $\\hat y$, $\\hat z$ are the basis vectors along the x-, y-, and z-axes."
   ]
  },
  {
   "cell_type": "markdown",
   "metadata": {},
   "source": [
    "### Vector magnitude\n",
    "\n",
    "A vector's magnitude is often written as a non-bolded letter, or as bars around a bolded letter.\n",
    "\n",
    "$$ A = |\\textbf A| = \\sqrt{A_x^2 + A_y^2 + A_z^2} $$"
   ]
  },
  {
   "cell_type": "markdown",
   "metadata": {},
   "source": [
    "### Dot product\n",
    "\n",
    "$$ \\textbf A \\cdot \\textbf B = A_x B_x + A_y B_y + A_z B_z $$\n",
    "$$ \\textbf A \\cdot \\textbf B = A B cos \\theta $$"
   ]
  },
  {
   "cell_type": "markdown",
   "metadata": {},
   "source": [
    "### Cross product\n",
    "\n",
    "$$ \\textbf A \\times \\textbf B =\n",
    "\n",
    "\\begin{vmatrix}\n",
    "\\hat x & \\hat y & \\hat z \\\\\n",
    "A_x & A_y & A_z \\\\\n",
    "B_x & B_y & B_z \\\\\n",
    "\\end{vmatrix}\n",
    "$$\n",
    "\n",
    "$$ \\textbf A \\times \\textbf B =\n",
    "(A_y B_z - A_z B_y) \\hat x + (A_z B_x - A_x B_z) \\hat y + (A_x B_y - A_y B_x) \\hat z\n",
    "$$\n",
    "\n",
    "$$ \\textbf A \\times \\textbf B = ABsin\\theta \\hat{n} $$"
   ]
  },
  {
   "cell_type": "markdown",
   "metadata": {},
   "source": [
    "## Problem 1.1\n",
    "\n",
    "### Question\n",
    "Show that the dot product and cross product have the distributive property using the trigonometric definitions of the operations.\n",
    "\n",
    "### Answer for dot product\n",
    "For the dot product, the distributive property is:"
   ]
  },
  {
   "cell_type": "markdown",
   "metadata": {},
   "source": [
    "$$ \\textbf A \\cdot (\\textbf B + \\textbf C) = \\textbf A \\textbf B \\cdot \\textbf A \\textbf C $$"
   ]
  },
  {
   "cell_type": "markdown",
   "metadata": {},
   "source": [
    "We have to substitute in the trig equation for the dot product."
   ]
  },
  {
   "cell_type": "markdown",
   "metadata": {},
   "source": [
    "$$ A|(\\textbf B+\\textbf C)|\\cos \\theta = AB\\cos\\phi + AC\\cos\\gamma $$"
   ]
  },
  {
   "cell_type": "markdown",
   "metadata": {},
   "source": [
    "We can choose a basis vector $\\hat{\\textbf a}$ as the a-axis, such that $\\textbf A = A\\hat{\\textbf a}$. That way, $\\theta$, $\\phi$, and $\\gamma$ are angles with respect to the unit vector $\\hat{\\textbf a}$. We can change the expression for a dot product to be:"
   ]
  },
  {
   "cell_type": "markdown",
   "metadata": {},
   "source": [
    "$$ \\textbf A \\cdot \\textbf B = (A\\hat a) \\cdot \\textbf{B} $$\n",
    "$$ \\textbf A \\cdot \\textbf B = A(\\hat a \\cdot \\textbf{B}) $$\n",
    "$$ \\textbf A \\cdot \\textbf B = AB_a $$"
   ]
  },
  {
   "cell_type": "markdown",
   "metadata": {},
   "source": [
    "We've defined that $B_a = \\hat{\\textbf a} \\cdot \\textbf B$, and we can do the same thing to define $C_a=\\hat{\\textbf a} \\cdot \\textbf{C}$ and $(\\textbf B + \\textbf C)_a=\\hat{\\textbf a} \\cdot (\\textbf B + \\textbf C)$."
   ]
  },
  {
   "cell_type": "markdown",
   "metadata": {},
   "source": [
    "\n",
    "Then, we can replace the $cos$ terms using the rule:"
   ]
  },
  {
   "cell_type": "markdown",
   "metadata": {},
   "source": [
    "$$ \\cos(\\text{angle}) = \\frac{\\text{adjacent}}{\\text{hypotenuse}} $$\n",
    "$$ \\cos(\\text{angle with respect to } \\hat a) = \\frac{\\text{component of vector parallel to }\\hat a}{\\text{magnitude of vector}} $$\n",
    "$$\\cos\\theta= \\frac{(\\textbf B + \\textbf C)_a}{|(\\textbf B + \\textbf C)|} $$\n",
    "$$\\cos\\phi = \\frac{B_a}{B} $$\n",
    "$$\\cos\\gamma = \\frac{C_a}{C} $$\n",
    "$$ A|(\\textbf B + \\textbf C)|\\frac{(\\textbf B + \\textbf C)_a}{|(\\textbf B + \\textbf C)|} = AB\\frac{B_a}{B} + AC\\frac{C_a}{C} $$\n",
    "$$ A(\\textbf B + \\textbf C)_a = AB_a + AC_a $$\n",
    "$$ (\\textbf B + \\textbf C)_a = B_a + C_a $$"
   ]
  },
  {
   "cell_type": "markdown",
   "metadata": {},
   "source": [
    "Now we can see that since we're using $\\hat a$ as a basis vector, then clearly the component of $(\\textbf B + \\textbf C)$ that is parallel to the a-axis must equal the sum of the components of $\\textbf B$ and $\\textbf C$ that are also parallel to the a-axis, proving the final equation above."
   ]
  },
  {
   "cell_type": "markdown",
   "metadata": {},
   "source": [
    "### Answer for cross product\n",
    "\n",
    "For the cross product, the distributive rule is:"
   ]
  },
  {
   "cell_type": "markdown",
   "metadata": {},
   "source": [
    "$$ \\textbf A \\times (\\textbf B + \\textbf C) = \\textbf A \\times \\textbf B + \\textbf A \\times \\textbf C $$"
   ]
  },
  {
   "cell_type": "markdown",
   "metadata": {},
   "source": [
    "Substitute the trig definition of cross product."
   ]
  },
  {
   "cell_type": "markdown",
   "metadata": {},
   "source": [
    "$$ A|\\textbf B + \\textbf C|\\sin\\theta \\hat m = AB\\sin\\phi \\hat n + AC\\sin\\gamma \\hat o$$\n",
    "$$ |\\textbf B + \\textbf C|\\sin\\theta \\hat m = B\\sin\\phi \\hat n + C\\sin\\gamma \\hat o$$"
   ]
  },
  {
   "cell_type": "markdown",
   "metadata": {},
   "source": [
    "Like we did previous, we'll use $B_a = \\hat a \\cdot \\textbf B$ to mean the component of $\\textbf B$ which is parallel to the a-axis--the unit vector that has the same direction as $\\textbf A = A \\hat a$. Now we can replace the trig terms like so:"
   ]
  },
  {
   "cell_type": "markdown",
   "metadata": {},
   "source": [
    "$$ \\sin(\\text{angle}) = \\frac{\\text{opposite}}{\\text{hypotenuse}} $$\n",
    "$$ \\sin(\\text{angle with respect to }\\hat a) = \\frac{\\text{combined magnitude of vector's components that are perpendicular to } \\hat a}{\\text{magnitude of vector}} $$\n",
    "\n",
    "$$ \\sin(\\phi) = \\frac{|\\textbf B - B_a \\hat a|}{B} = \\frac{|\\textbf{B}_{\\perp}|}{B} $$\n",
    "$$ \\sin(\\gamma) = \\frac{|\\textbf C - C_a \\hat a|}{C} = \\frac{|\\textbf{C}_{\\perp}|}{C}$$\n",
    "\n",
    "$$ \\sin(\\theta)\n",
    "= \\frac{|\\textbf B + \\textbf C - (\\textbf B + \\textbf C)_a \\hat a|}{|\\textbf B + \\textbf C|}\n",
    "= \\frac{|\\textbf B - B_a \\hat a + \\textbf C - C_a \\hat a|}{|\\textbf B + \\textbf C|}\n",
    "= \\frac{|\\textbf B_{\\perp} + \\textbf C_{\\perp}|}{|\\textbf B + \\textbf C|}\n",
    "$$\n",
    "\n",
    "$$ |\\textbf B + \\textbf C|\\frac{|\\textbf B_{\\perp} + \\textbf C_{\\perp}|}{|\\textbf B + \\textbf C|} \\hat m =\n",
    "B\\frac{|B_{\\perp}|}{B} \\hat n\n",
    "+ C\\frac{|C_{\\perp}|}{C} \\hat o$$\n",
    "\n",
    "$$ |\\textbf B_{\\perp} + \\textbf C_{\\perp}| \\hat m =\n",
    "|B_{\\perp}| \\hat n\n",
    "+ |C_{\\perp}| \\hat o$$"
   ]
  },
  {
   "cell_type": "markdown",
   "metadata": {},
   "source": [
    "I'm not really sure what to do with that."
   ]
  },
  {
   "cell_type": "markdown",
   "metadata": {},
   "source": [
    "### Problem 1.2\n",
    "\n",
    "Is the cross product associative?"
   ]
  },
  {
   "cell_type": "markdown",
   "metadata": {},
   "source": [
    "$$ (A \\times B) \\times C \\stackrel{?}{=} A \\times (B \\times C) $$"
   ]
  },
  {
   "cell_type": "markdown",
   "metadata": {},
   "source": [
    "No, the cross product is not associative. To give a counter-example:"
   ]
  },
  {
   "cell_type": "markdown",
   "metadata": {},
   "source": [
    "$$A = \\hat x, B=\\hat y, C=\\hat y $$\n",
    "$$ (\\hat x \\times \\hat y) \\times \\hat y \\stackrel{?}{=} \\hat x \\times (\\hat y \\times \\hat y) $$\n",
    "$$ \\hat z \\times \\hat y \\stackrel{?}{=} \\hat x \\times 0 $$\n",
    "$$ -\\hat x \\stackrel{?}{=} 0 $$\n",
    "$$ -\\hat x \\neq 0 $$\n",
    "$$ \\therefore (A \\times B) \\times C \\neq A \\times (B \\times C) $$"
   ]
  },
  {
   "cell_type": "markdown",
   "metadata": {
    "vscode": {
     "languageId": "plaintext"
    }
   },
   "source": [
    "### Problem 1.3\n",
    "\n",
    "Find the angle between the body diagonals of a unit cube.\n",
    "\n",
    "The vectors along the body diagonals can be defined by:"
   ]
  },
  {
   "cell_type": "markdown",
   "metadata": {},
   "source": [
    "$$ \\textbf{A} = 1 \\hat{x} + 1 \\hat{y} + 1 \\hat{z}$$\n",
    "$$ \\textbf{B} = (0\\hat{x} + 1\\hat{y} + 1\\hat{z}) - (1\\hat{x} + 0\\hat{y} + 0\\hat{z}) = -1\\hat{x} + 1\\hat{y} + 1\\hat{z} $$\n",
    "\n",
    "$$ A = \\sqrt{1^2 + 1^2 + 1^2} = \\sqrt 3$$\n",
    "$$ B = \\sqrt{(-1)^2 + 1^2 + 1^2} = \\sqrt 3 $$"
   ]
  },
  {
   "cell_type": "markdown",
   "metadata": {},
   "source": [
    "Now we can use the trigonometric and component forms of the dot product to find the angle between these two vectors."
   ]
  },
  {
   "cell_type": "markdown",
   "metadata": {},
   "source": [
    "$$ \\textbf A \\cdot \\textbf B = AB\\cos\\theta $$\n",
    "$$ \\theta = \\arccos \\frac{\\textbf A \\cdot \\textbf B}{AB} $$\n",
    "$$ \\theta = \\arccos \\frac{(1 \\hat x + 1 \\hat y + 1 \\hat z) \\cdot (-1 \\hat x + 1 \\hat y + 1 \\hat z)}{\\sqrt{3}\\sqrt{3}} $$\n",
    "$$ \\theta = \\arccos \\frac{-1 +1 +1}{3} = \\arccos (\\frac{1}{3}) \\approx 70 \\degree $$"
   ]
  },
  {
   "cell_type": "markdown",
   "metadata": {},
   "source": []
  },
  {
   "cell_type": "markdown",
   "metadata": {},
   "source": [
    "### Problem 1.4\n",
    "\n",
    "Use the cross product to find the components of the unit vector perpendicular to a plane that intersects with the three points:\n",
    "\n",
    "$$ \\textbf A=1 \\hat x $$\n",
    "$$ \\textbf B= 2 \\hat y $$\n",
    "$$ \\textbf C= 3 \\hat z $$"
   ]
  },
  {
   "cell_type": "markdown",
   "metadata": {},
   "source": [
    "To do this, we can find the two vectors along the edges of the triangle which intersect with one of the corners, find the cross product of those two vectors, and then divide by the magnitude of the cross product to get the unit vector. We'll use the corner at $A$. The two edges are:"
   ]
  },
  {
   "cell_type": "markdown",
   "metadata": {},
   "source": [
    "$$ \\textbf B - \\textbf A =- \\hat x + 2\\hat y $$\n",
    "$$ \\textbf C - \\textbf A = - \\hat x + 3 \\hat z $$"
   ]
  },
  {
   "cell_type": "markdown",
   "metadata": {},
   "source": [
    "Let's take the cross product."
   ]
  },
  {
   "cell_type": "markdown",
   "metadata": {},
   "source": [
    "$$ \\textbf N = (\\textbf B - \\textbf A) \\times (\\textbf C - \\textbf A) = (-\\hat x + 2\\hat y) \\times (-\\hat x + 3 \\hat z) $$"
   ]
  },
  {
   "cell_type": "markdown",
   "metadata": {},
   "source": [
    "$$ \\textbf N =\n",
    "\\begin{vmatrix}\n",
    "\\hat x & \\hat y & \\hat z \\\\\n",
    "-1 & 2 & 0 \\\\\n",
    "-1 & 0 & 3 \\\\\n",
    "\\end{vmatrix}\n",
    "\n",
    "= (2 \\cdot 3) \\hat x - (-1 \\cdot 3) \\hat y - (-1 \\cdot 2) \\hat z\n",
    "= 6 \\hat x + 3 \\hat y + 2 \\hat z\n",
    "\n",
    "$$\n",
    "\n",
    "$$ N = \\sqrt{6^2 + 3^2 + 2^2} = \\sqrt{36 + 9 + 4} = \\sqrt{49} = 7 $$\n",
    "$$ \\hat n = \\frac{\\textbf N}{N} = \\frac{1}{7} (6 \\hat x + 3 \\hat y + 2 \\hat z) $$"
   ]
  },
  {
   "cell_type": "markdown",
   "metadata": {},
   "source": [
    "### Problem 1.5\n",
    "\n",
    "Prove the BAC-CAB rule for triple cross products by writing out each side in component form. The rule is:"
   ]
  },
  {
   "cell_type": "markdown",
   "metadata": {},
   "source": [
    "$$ \\textbf A \\times (\\textbf B \\times \\textbf C) = \\textbf B(\\textbf A \\cdot \\textbf C) - \\textbf C(\\textbf A \\cdot \\textbf B) $$"
   ]
  },
  {
   "cell_type": "markdown",
   "metadata": {},
   "source": [
    "Let's first write the left side in component form:"
   ]
  },
  {
   "cell_type": "markdown",
   "metadata": {},
   "source": [
    "$$ \\textbf A \\times (\\textbf B \\times \\textbf C) = \\textbf A \\times\n",
    "\n",
    "\\begin{vmatrix}\n",
    "\\hat x & \\hat y & \\hat z \\\\\n",
    "B_x & B_y & B_z \\\\\n",
    "C_x & C_y & C_z \\\\\n",
    "\\end{vmatrix}\n",
    "\n",
    "= A \\times ((B_yC_z - B_zC_y)\\hat x + (B_zC_x - B_xC_z)\\hat y + (B_xC_y - B_yC_x)\\hat z)\n",
    "$$"
   ]
  },
  {
   "cell_type": "markdown",
   "metadata": {},
   "source": [
    "$$ = \\begin{vmatrix}\n",
    "\n",
    "\\hat x & \\hat y & \\hat z \\\\\n",
    "A_x & A_y & A_z \\\\\n",
    "B_yC_z - B_zC_y & B_zC_x - B_xC_z & B_xC_y-B_yC_x \\\\\n",
    "\n",
    "\\end{vmatrix} $$"
   ]
  },
  {
   "cell_type": "markdown",
   "metadata": {},
   "source": [
    "$$\n",
    "= (A_yB_xC_y - A_yB_yC_x - A_zB_zC_x + A_zB_xC_z)\\hat x \\\\\n",
    "+ (A_zB_yC_z - A_zB_zC_y - A_xB_xC_y + A_xB_yC_x)\\hat y \\\\\n",
    "+ (A_xB_zC_x - A_xB_xC_z - A_yB_yC_z + A_yB_zC_y)\\hat z\n",
    "$$"
   ]
  },
  {
   "cell_type": "markdown",
   "metadata": {},
   "source": [
    "Now for the right side:"
   ]
  },
  {
   "cell_type": "markdown",
   "metadata": {},
   "source": [
    "$$\n",
    "\\textbf B(\\textbf A \\cdot \\textbf C) - \\textbf C(\\textbf A \\cdot \\textbf B) = \\textbf B (A_x C_x + A_y C_y + A_z C_z) - \\textbf C (A_x B_x + A_y B_y + A_z B_z)\n",
    "$$"
   ]
  },
  {
   "cell_type": "markdown",
   "metadata": {},
   "source": [
    "$$\n",
    "= (A_xB_xC_x + A_yB_xC_y + A_zB_xC_z - A_xB_xC_x - A_yB_yC_x - A_zB_zC_x) \\hat x \\\\\n",
    "+ (A_xB_yC_x + A_yB_yC_y + A_zB_yC_z - A_xB_xC_y - A_yB_yC_y - A_zB_zC_y) \\hat y \\\\\n",
    "+ (A_xB_zC_x + A_yB_zC_y + A_zB_zC_z - A_xB_xC_z - A_yB_yC_z - A_zB_zC_z) \\hat z\n",
    "$$"
   ]
  },
  {
   "cell_type": "markdown",
   "metadata": {},
   "source": [
    "$$\n",
    "= (A_yB_xC_y + A_zB_xC_z - A_yB_yC_x - A_zB_zC_x) \\hat x \\\\\n",
    "+ (A_xB_yC_x + A_zB_yC_z - A_xB_xC_y - A_zB_zC_y) \\hat y \\\\\n",
    "+ (A_xB_zC_x + A_yB_zC_y - A_xB_xC_z - A_yB_yC_z) \\hat z\n",
    "$$"
   ]
  },
  {
   "cell_type": "markdown",
   "metadata": {},
   "source": [
    "$$\n",
    "= (A_yB_xC_y - A_yB_yC_x - A_zB_zC_x + A_zB_xC_z) \\hat x \\\\\n",
    "+ (A_zB_yC_z - A_zB_zC_y - A_xB_xC_y + A_xB_yC_x) \\hat y \\\\\n",
    "+ (A_xB_zC_x - A_xB_xC_z - A_yB_yC_z + A_yB_zC_y) \\hat z\n",
    "$$"
   ]
  },
  {
   "cell_type": "markdown",
   "metadata": {},
   "source": [
    "And now it's simple to check that in this form the right and left sides of the BAC-CAB rule are the same."
   ]
  },
  {
   "cell_type": "markdown",
   "metadata": {},
   "source": [
    "### Problem 1.6.1\n",
    "\n",
    "Prove that\n",
    "\n",
    "$$(\\textbf A \\times (\\textbf B \\times \\textbf C)) + (\\textbf B \\times (\\textbf C \\times \\textbf A)) + (\\textbf C \\times (\\textbf A \\times \\textbf B)) = 0$$"
   ]
  },
  {
   "cell_type": "markdown",
   "metadata": {},
   "source": [
    "I'll apply the BAC-CAB rule to the three terms on the left side."
   ]
  },
  {
   "cell_type": "markdown",
   "metadata": {},
   "source": [
    "$$ \\textbf A \\times (\\textbf B \\times \\textbf C) = \\textbf B(\\textbf A \\cdot \\textbf C) - \\textbf C(\\textbf A \\cdot \\textbf B) $$\n",
    "$$ \\textbf B \\times (\\textbf C \\times \\textbf A) = \\textbf C(\\textbf B \\cdot \\textbf A) - \\textbf A(\\textbf B \\cdot \\textbf C) $$\n",
    "$$ \\textbf C \\times (\\textbf A \\times \\textbf B) = \\textbf A(\\textbf C \\cdot \\textbf B) - \\textbf B(\\textbf C \\cdot \\textbf A) $$"
   ]
  },
  {
   "cell_type": "markdown",
   "metadata": {},
   "source": [
    "Now add them all together."
   ]
  },
  {
   "cell_type": "markdown",
   "metadata": {},
   "source": [
    "\n",
    "$$\n",
    "(\\textbf A \\times (\\textbf B \\times \\textbf C))\n",
    "+ (\\textbf B \\times (\\textbf C \\times \\textbf A))\n",
    "+ (\\textbf C \\times (\\textbf A \\times \\textbf B))\n",
    "$$\n",
    "$$\n",
    "= \\textbf B(\\textbf A \\cdot \\textbf C) - \\textbf C(\\textbf A \\cdot \\textbf B)\n",
    "+\\textbf C(\\textbf B \\cdot \\textbf A) - \\textbf A(\\textbf B \\cdot \\textbf C)\n",
    "+\\textbf A(\\textbf C \\cdot \\textbf B) - \\textbf B(\\textbf C \\cdot \\textbf A)\n",
    "$$\n",
    "$$\n",
    "=\n",
    "\\textbf B(\\textbf A \\cdot \\textbf C)\n",
    "- \\textbf B(\\textbf C \\cdot \\textbf A)\n",
    "+ \\textbf C(\\textbf B \\cdot \\textbf A)\n",
    "- \\textbf C(\\textbf A \\cdot \\textbf B)\n",
    "+ \\textbf A(\\textbf C \\cdot \\textbf B)\n",
    "- \\textbf A(\\textbf B \\cdot \\textbf C)\n",
    "$$\n",
    "$$\n",
    "=\n",
    "\\textbf B(\\textbf A \\cdot \\textbf C - \\textbf C \\cdot \\textbf A)\n",
    "+ \\textbf C(\\textbf B \\cdot \\textbf A - \\textbf A \\cdot \\textbf B)\n",
    "+ \\textbf A(\\textbf C \\cdot \\textbf B - \\textbf B \\cdot \\textbf C)\n",
    "$$\n",
    "$$\n",
    "=\n",
    "\\textbf B(\\textbf A \\cdot \\textbf C - \\textbf A \\cdot \\textbf C)\n",
    "+ \\textbf C(\\textbf B \\cdot \\textbf A - \\textbf B \\cdot \\textbf A)\n",
    "+ \\textbf A(\\textbf C \\cdot \\textbf B - \\textbf C \\cdot \\textbf B)\n",
    "$$\n",
    "$$\n",
    "= 0\n",
    "$$"
   ]
  },
  {
   "cell_type": "markdown",
   "metadata": {},
   "source": [
    "### Problem 1.6.2\n",
    "\n",
    "Also, under what conditions does $\\textbf A \\times (\\textbf B \\times \\textbf C) = (\\textbf A \\times \\textbf B) \\times \\textbf C$?\n",
    "\n",
    "We'll use BAC-CAB for this, as well as the fact that $\\textbf A \\times \\textbf B = - \\textbf B \\times \\textbf A$."
   ]
  },
  {
   "cell_type": "markdown",
   "metadata": {},
   "source": [
    "$$\n",
    "\\textbf A \\times (\\textbf B \\times \\textbf C)\n",
    "\n",
    "= \\textbf B(\\textbf A \\cdot \\textbf C)\n",
    "- \\textbf C(\\textbf A \\cdot \\textbf B)\n",
    "$$\n",
    "$$\n",
    "(\\textbf A \\times \\textbf B) \\times \\textbf C\n",
    "\n",
    "= -\\textbf C \\times (\\textbf A \\times \\textbf B)\n",
    "\n",
    "= -\\textbf A(\\textbf C \\cdot \\textbf B)\n",
    "+ \\textbf B(\\textbf C \\cdot \\textbf A)\n",
    "$$"
   ]
  },
  {
   "cell_type": "markdown",
   "metadata": {},
   "source": [
    "Now we'll set them equal to each other."
   ]
  },
  {
   "cell_type": "markdown",
   "metadata": {},
   "source": [
    "$$\n",
    "\\textbf B(\\textbf A \\cdot \\textbf C)\n",
    "- \\textbf C(\\textbf A \\cdot \\textbf B)\n",
    "=\n",
    "-\\textbf A(\\textbf C \\cdot \\textbf B)\n",
    "+ \\textbf B(\\textbf C \\cdot \\textbf A)\n",
    "$$\n",
    "$$\n",
    "\\textbf B(\\textbf A \\cdot \\textbf C)\n",
    "- \\textbf C(\\textbf A \\cdot \\textbf B)\n",
    "=\n",
    "-\\textbf A(\\textbf B \\cdot \\textbf C)\n",
    "+ \\textbf B(\\textbf A \\cdot \\textbf C)\n",
    "$$\n",
    "$$\n",
    "\\textbf C(\\textbf A \\cdot \\textbf B)\n",
    "=\n",
    "\\textbf A(\\textbf B \\cdot \\textbf C)\n",
    "$$"
   ]
  },
  {
   "cell_type": "markdown",
   "metadata": {},
   "source": [
    "### Problem 1.7\n",
    "\n",
    "Find the separation vector $\\Delta \\textbf r$ from the source point $\\textbf r' = (2, 8, 7)$ to the field point $\\textbf r = (4, 6, 8)$. Determine its magnitude and construct its unit vector."
   ]
  },
  {
   "cell_type": "markdown",
   "metadata": {},
   "source": [
    "$$ \\Delta \\textbf r = \\textbf r - \\textbf r' = (4, 6, 8) - (2, 8, 7) = (2, -2, 1) $$"
   ]
  },
  {
   "cell_type": "markdown",
   "metadata": {},
   "source": [
    "$$ |\\Delta \\textbf r| = \\sqrt{2^2 + (-2)^2 + 1^2} = \\sqrt{4 + 4 + 1} = \\sqrt{9} = 3 $$"
   ]
  },
  {
   "cell_type": "markdown",
   "metadata": {},
   "source": [
    "$$ \\hat{\\Delta \\textbf r} = \\frac{\\Delta \\textbf r}{|\\Delta \\textbf r|} = \\frac{(2, -2, 1)}{3} = (\\frac{2}{3}, -\\frac{2}{3}, \\frac{1}{3}) $$"
   ]
  },
  {
   "cell_type": "markdown",
   "metadata": {},
   "source": [
    "### Problem 1.8.a\n",
    "\n",
    "Prove that the two-dimensional rotation matrix preserves dot products. That is, show that $\\textbf A \\cdot \\textbf B = \\textbf A' \\cdot \\textbf B'$ given the rotation transformation:"
   ]
  },
  {
   "cell_type": "markdown",
   "metadata": {},
   "source": [
    "$$ \\textbf A' = R \\textbf A $$\n",
    "$$ \\textbf B' = R \\textbf B $$\n",
    "\n",
    "$$\n",
    "R =\n",
    "\\begin{pmatrix}\n",
    "\\cos \\theta & \\sin \\theta \\\\\n",
    "-\\sin \\theta & \\cos \\theta \\\\\n",
    "\\end{pmatrix}\n",
    "$$\n"
   ]
  },
  {
   "cell_type": "markdown",
   "metadata": {},
   "source": [
    "All we have to do is find the components of $\\textbf A'$ and $\\textbf B'$ in terms of the components of $\\textbf A$, $\\textbf B$, and $\\theta$, and then calculate the dot products."
   ]
  },
  {
   "cell_type": "markdown",
   "metadata": {},
   "source": [
    "$$ \\textbf A' = R \\textbf A =\n",
    "\\begin{pmatrix}\n",
    "\\cos\\theta & \\sin\\theta \\\\\n",
    "-\\sin\\theta & \\cos\\theta\n",
    "\\end{pmatrix}\n",
    "\n",
    "\\begin{pmatrix}\n",
    "A_x \\\\\n",
    "A_y\n",
    "\\end{pmatrix}\n",
    "$$\n",
    "\n",
    "$$ \\textbf A' = (A_x \\cos\\theta + A_y \\sin\\theta) \\hat x + (-A_x \\sin\\theta + A_y \\cos\\theta) \\hat y $$\n",
    "$$ \\textbf B' = (B_x \\cos\\theta + B_y \\sin\\theta) \\hat x + (-B_x \\sin\\theta + B_y \\cos\\theta) \\hat y $$"
   ]
  },
  {
   "cell_type": "markdown",
   "metadata": {},
   "source": [
    "$$ \\textbf A' \\cdot B' =\n",
    "(A_x \\cos\\theta + A_y \\sin\\theta)\n",
    "(B_x \\cos\\theta + B_y \\sin\\theta)\\\\\n",
    "+\n",
    "(-A_x \\sin\\theta + A_y \\cos\\theta)\n",
    "(-B_x \\sin\\theta + B_y \\cos\\theta)\n",
    "$$\n"
   ]
  },
  {
   "cell_type": "markdown",
   "metadata": {},
   "source": [
    "$$ \\textbf A' \\cdot B' =\n",
    "(A_x \\cos\\theta + A_y \\sin\\theta)\n",
    "(B_x \\cos\\theta + B_y \\sin\\theta)\\\\\n",
    "+\n",
    "(-A_x \\sin\\theta + A_y \\cos\\theta)\n",
    "(-B_x \\sin\\theta + B_y \\cos\\theta)\n",
    "$$\n",
    "$$ \\textbf A' \\cdot B' =\n",
    "A_xB_x (\\cos\\theta)^2\n",
    "+ A_xB_y\\cos\\theta\\sin\\theta\n",
    "+ A_yB_x\\cos\\theta\\sin\\theta\n",
    "+ A_yB_y(\\sin\\theta)^2 \\\\\n",
    "+ A_xB_x (\\sin\\theta)^2\n",
    "- A_xB_y\\cos\\theta\\sin\\theta\n",
    "- A_yB_x\\cos\\theta\\sin\\theta\n",
    "+ A_yB_y(\\cos\\theta)^2\n",
    "$$\n"
   ]
  },
  {
   "cell_type": "markdown",
   "metadata": {},
   "source": [
    "$$ \\textbf A' \\cdot B' =\n",
    "A_xB_x (\\cos\\theta)^2\n",
    "+ A_yB_y(\\sin\\theta)^2 \\\\\n",
    "+ A_xB_x (\\sin\\theta)^2\n",
    "+ A_yB_y(\\cos\\theta)^2\n",
    "$$\n"
   ]
  },
  {
   "cell_type": "markdown",
   "metadata": {},
   "source": [
    "$$ \\textbf A' \\cdot B' =\n",
    "A_xB_x ((\\cos\\theta)^2 + (\\sin\\theta)^2)\n",
    "+ A_yB_y((\\cos\\theta)^2 + (\\sin\\theta)^2)\n",
    "$$\n",
    "$$ \\textbf A' \\cdot B' = A_xB_x + A_yB_y $$\n",
    "$$ \\textbf A' \\cdot B' = \\textbf A \\cdot \\textbf B $$\n"
   ]
  },
  {
   "cell_type": "markdown",
   "metadata": {},
   "source": [
    "### Problem 1.8.b\n",
    "\n",
    "What constraints must the elements $R_{ij}$ of the three-dimensional rotation matrix satisfy, in order to preserve the length of $\\textbf A$?\n",
    "\n",
    "The rotation matrix is:\n",
    "\n",
    "$$\n",
    "R = \n",
    "\\begin{pmatrix}\n",
    "R_{xx} & R_{xy} & R_{xz} \\\\\n",
    "R_{yx} & R_{yy} & R_{yz} \\\\\n",
    "R_{zx} & R_{zy} & R_{zz} \\\\\n",
    "\\end{pmatrix}\n",
    "$$"
   ]
  },
  {
   "cell_type": "markdown",
   "metadata": {},
   "source": [
    "In order for the rotation matrix to preserve the length of $\\textbf A$, the following must be true:"
   ]
  },
  {
   "cell_type": "markdown",
   "metadata": {},
   "source": [
    "$$ \\textbf A \\cdot \\textbf A = \\textbf A' \\cdot \\textbf A' $$"
   ]
  },
  {
   "cell_type": "markdown",
   "metadata": {},
   "source": [
    "We could try expressing that in component form, but it would turn into a huge equation and it would be difficult to simplify it. There is a simpler approach to answering the question.\n",
    "\n",
    "In order for the rotation matrix to preserve lengths, when the basis vectors $\\hat x$, $\\hat y$, and $\\hat z$ are transformed, they must remain unit vectors and they must remain orthogonal to each other. So we have the following constraints:"
   ]
  },
  {
   "cell_type": "markdown",
   "metadata": {},
   "source": [
    "$$ |\\hat x'| = 1\n",
    "\\qquad |\\hat y'| = 1\n",
    "\\qquad |\\hat z'| = 1 $$\n",
    "\n",
    "$$ \\hat x' \\cdot \\hat y' = 0\n",
    "\\qquad \\hat y' \\cdot \\hat z' = 0\n",
    "\\qquad \\hat z' \\cdot \\hat x' = 0 $$"
   ]
  },
  {
   "cell_type": "markdown",
   "metadata": {},
   "source": [
    "The transformed basis vectors are:"
   ]
  },
  {
   "cell_type": "markdown",
   "metadata": {},
   "source": [
    "\n",
    "$$ \\hat x' = R \\hat x = R_{xx} \\hat x + R_{yx} \\hat y + R_{zx} \\hat z $$\n",
    "$$ \\hat y' = R \\hat y = R_{xy} \\hat x + R_{yy} \\hat y + R_{zy} \\hat z $$\n",
    "$$ \\hat z' = R \\hat z = R_{xz} \\hat x + R_{yz} \\hat y + R_{zz} \\hat z$$"
   ]
  },
  {
   "cell_type": "markdown",
   "metadata": {},
   "source": [
    "Then we can substitute those into the constraint equations from above to get the component form of each constraint."
   ]
  },
  {
   "cell_type": "markdown",
   "metadata": {},
   "source": [
    "$$ R_{xx}^2 + R_{yx}^2 + R_{zx}^2 = 1 $$\n",
    "$$ R_{xy}^2 + R_{yy}^2 + R_{zy}^2 = 1 $$\n",
    "$$ R_{xz}^2 + R_{yz}^2 + R_{zz}^2 = 1 $$\n",
    "\n",
    "$$ R_{xx}R_{xy} + R_{yx}R_{yy} + R_{zx}R_{zy} = 0 $$\n",
    "$$ R_{xy}R_{xz} + R_{yy}R_{yz} + R_{zy}R_{zz} = 0 $$\n",
    "$$ R_{xz}R_{xx} + R_{yz}R_{yx} + R_{zz}R_{zx} = 0 $$"
   ]
  },
  {
   "cell_type": "markdown",
   "metadata": {},
   "source": [
    "### Problem 1.9\n",
    "\n",
    "Find the rotation matrix that describes a rotation by $120 \\degree$ about an axis from the origin through the point $(1, 1, 1)$. The rotation is clockwise looking down the axis toward the origin.\n",
    "\n",
    "I notice that this particular rotation will transform the basis vectors such that they all swap\n",
    "\n",
    "Notice that $120 \\degree$ is one third of a full revolution, and the angles between each basis vector and the axis of rotation are all equal. The means that this rotation will transform the basis vectors such that they all swap clockwise. So that gives these transformed basis vectors:"
   ]
  },
  {
   "cell_type": "markdown",
   "metadata": {},
   "source": [
    "$$ \\hat x' = R \\hat x = \\hat z $$\n",
    "$$ \\hat y' = R \\hat y = \\hat x $$\n",
    "$$ \\hat z' = R \\hat z = \\hat y $$"
   ]
  },
  {
   "cell_type": "markdown",
   "metadata": {},
   "source": [
    "Remember the transformed basis vectors can also be written as:"
   ]
  },
  {
   "cell_type": "markdown",
   "metadata": {},
   "source": [
    "\n",
    "$$ \\hat x' = R \\hat x = R_{xx} \\hat x + R_{yx} \\hat y + R_{zx} \\hat z $$\n",
    "$$ \\hat y' = R \\hat y = R_{xy} \\hat x + R_{yy} \\hat y + R_{zy} \\hat z $$\n",
    "$$ \\hat z' = R \\hat z = R_{xz} \\hat x + R_{yz} \\hat y + R_{zz} \\hat z$$"
   ]
  },
  {
   "cell_type": "markdown",
   "metadata": {},
   "source": [
    "So to achieve the correct rotated basis vectors, we can assign values of $R_{ij}$ like this:"
   ]
  },
  {
   "cell_type": "markdown",
   "metadata": {},
   "source": [
    "\n",
    "$$ \\hat x' = 0 \\hat x + 0 \\hat y + 1 \\hat z $$\n",
    "$$ \\hat y' = 1 \\hat x + 0 \\hat y + 0 \\hat z $$\n",
    "$$ \\hat z' = 0 \\hat x + 1 \\hat y + 0 \\hat z $$"
   ]
  },
  {
   "cell_type": "markdown",
   "metadata": {},
   "source": [
    "$$\n",
    "R = \n",
    "\\begin{pmatrix}\n",
    "R_{xx} & R_{xy} & R_{xz} \\\\\n",
    "R_{yx} & R_{yy} & R_{yz} \\\\\n",
    "R_{zx} & R_{zy} & R_{zz}\n",
    "\\end{pmatrix}\n",
    "=\n",
    "\\begin{pmatrix}\n",
    "0 & 1 & 0 \\\\\n",
    "0 & 0 & 1 \\\\\n",
    "1 & 0 & 0\n",
    "\n",
    "\\end{pmatrix}\n",
    "$$"
   ]
  },
  {
   "cell_type": "markdown",
   "metadata": {},
   "source": [
    "### Problem 1.10.a\n",
    "\n",
    "How do the components of a vector transform under a translation of coordinates like the following?"
   ]
  },
  {
   "cell_type": "markdown",
   "metadata": {},
   "source": [
    "$$ x' = x $$\n",
    "$$ y' = y - a $$\n",
    "$$ z' = z $$"
   ]
  },
  {
   "cell_type": "markdown",
   "metadata": {},
   "source": [
    "Is this a trick question? The answer is like exactly what the question says will happen to the components. To transform $\\textbf A$ to $\\textbf A'$, you just subtract $a$ from the $y$-component and keep the other two components the same."
   ]
  },
  {
   "cell_type": "markdown",
   "metadata": {},
   "source": [
    "$$\n",
    "\\textbf A' =\n",
    "\\begin{pmatrix}\n",
    "A_x' \\\\\n",
    "A_y' \\\\\n",
    "A_x'\n",
    "\\end{pmatrix}\n",
    "=\n",
    "\\begin{pmatrix}\n",
    "A_x \\\\\n",
    "A_y - a \\\\\n",
    "A_x\n",
    "\\end{pmatrix}\n",
    "=\n",
    "\\textbf A - a\\hat y\n",
    "$$"
   ]
  },
  {
   "cell_type": "markdown",
   "metadata": {},
   "source": [
    "### Problem 1.10.b\n",
    "\n",
    "How do the components of a vector transform under an inversion of coordinates like the following?"
   ]
  },
  {
   "cell_type": "markdown",
   "metadata": {},
   "source": [
    "$$ x' = -x $$\n",
    "$$ y' = -y $$\n",
    "$$ z' = -z $$"
   ]
  },
  {
   "cell_type": "markdown",
   "metadata": {},
   "source": [
    "Another question with a seemingly obvious answer."
   ]
  },
  {
   "cell_type": "markdown",
   "metadata": {},
   "source": [
    "$$\n",
    "\\textbf A'\n",
    "= \n",
    "\\begin{pmatrix}\n",
    "A'_x \\\\ A'_y \\\\ A'_z\n",
    "\\end{pmatrix}\n",
    "= \n",
    "\\begin{pmatrix}\n",
    "-A_x \\\\ -A_y \\\\ -A_z\n",
    "\\end{pmatrix}\n",
    "=\n",
    "-\\textbf A\n",
    "$$"
   ]
  },
  {
   "cell_type": "markdown",
   "metadata": {},
   "source": [
    "This means that, while the actual underlying vector that $\\textbf A$ represents stays the same, the numbers that we use to locate it (its components) have been inverted, since the coordinate system has been inverted."
   ]
  },
  {
   "cell_type": "markdown",
   "metadata": {},
   "source": [
    "### Problem 1.10.c\n",
    "\n",
    "How do the components of a cross product transform under inversion? (The cross product of two vectors is properly called a pseudovector because of this \"anomalous\" behavior.) Is the cross product of two pseudovectors a vector or a pseudovector? Name two pseudovector quantities in classical mechanics.\n"
   ]
  },
  {
   "cell_type": "markdown",
   "metadata": {},
   "source": [
    "The first part of this question is asking us to compare $\\textbf A' \\times \\textbf B'$ with $\\textbf A \\times \\textbf B$, where $\\textbf A'=-\\textbf A$ and $\\textbf B' = -\\textbf B$."
   ]
  },
  {
   "cell_type": "markdown",
   "metadata": {},
   "source": [
    "$$ \\textbf A' \\times \\textbf B' = (-\\textbf A) \\times (-\\textbf B) = (-1 \\cdot \\textbf A) \\times (-1 \\cdot \\textbf B) = (-1)(-1)\\textbf A \\times \\textbf B = \\textbf A \\times \\textbf B $$"
   ]
  },
  {
   "cell_type": "markdown",
   "metadata": {},
   "source": [
    "So under coordinate inversion, the components of the cross product do not change, even though the components of the vectors that we're taking the cross product of do change. This is why the cross product is a pseudovector, not a vector."
   ]
  },
  {
   "cell_type": "markdown",
   "metadata": {},
   "source": [
    "Next is the question of whether taking the cross product of two pseudovectors is a vector or a pseudovector. Below, $\\textbf A$, $\\textbf B$, $\\textbf C$, and $\\textbf D$ are all vectors."
   ]
  },
  {
   "cell_type": "markdown",
   "metadata": {},
   "source": [
    "$$ \\textbf E = \\textbf A \\times \\textbf B = \\textbf A' \\times \\textbf B' $$\n",
    "$$ \\textbf F = \\textbf C \\times \\textbf D = \\textbf C' \\times \\textbf D' $$"
   ]
  },
  {
   "cell_type": "markdown",
   "metadata": {},
   "source": [
    "$\\textbf E$ and $\\textbf F$ are both pseudovectors. Let's take the cross product of them."
   ]
  },
  {
   "cell_type": "markdown",
   "metadata": {},
   "source": [
    "$$ \\textbf E \\times \\textbf F = (\\textbf A \\times \\textbf B) \\times (\\textbf C \\times \\textbf D) = (\\textbf A' \\times \\textbf B') \\times (\\textbf C' \\times \\textbf D') $$"
   ]
  },
  {
   "cell_type": "markdown",
   "metadata": {},
   "source": [
    "This shows that under coordinate inversion, the components of $\\textbf E \\times \\textbf F$ do not change, even though the components of $\\textbf A$, $\\textbf B$, $\\textbf C$, and $\\textbf D$ do change. Therefore, the cross product of two pseudovectors is also a pseudovector.\n",
    "\n",
    "In classical mechanics, angular momentum and torque two examples of pseudovectors, since they are both defined by the cross product of two vectors."
   ]
  },
  {
   "cell_type": "markdown",
   "metadata": {},
   "source": [
    "### Problem 1.10.d\n",
    "\n",
    "How does the scalar triple product of three vectors transform under inversions? (Such an object is called a pseudoscalar.)\n",
    "\n",
    "The scalar triple product of three vectors is:"
   ]
  },
  {
   "cell_type": "markdown",
   "metadata": {},
   "source": [
    "$$ \\textbf A \\cdot (\\textbf B \\times \\textbf C) = (-\\textbf A') \\cdot ((-\\textbf B') \\times (-\\textbf C')) $$\n",
    "$$ \\textbf A \\cdot (\\textbf B \\times \\textbf C) = -\\textbf A' \\cdot (\\textbf B' \\times \\textbf C') $$"
   ]
  },
  {
   "cell_type": "markdown",
   "metadata": {},
   "source": [
    "So, under coordinate inversion, the scalar triple product of three vectors inverts. This must be why it's called a pseudoscalar, because a true scalar does not change value under coordinate transformations."
   ]
  },
  {
   "cell_type": "markdown",
   "metadata": {},
   "source": [
    "## Section 1.2: Differential Calculus\n",
    "\n",
    "### Gradient\n",
    "\n",
    "The temperature in a room can be described by $T(x, y, z)$, an equation of three variables, three different spatial coordinates. The derivative of this function should be able to tell us how fast the function varies if we move a little distance. But that will depend on which direction we move. A theorem of partial derivatives says:"
   ]
  },
  {
   "cell_type": "markdown",
   "metadata": {},
   "source": [
    "$$ dT = \\frac{\\partial T}{\\partial x} dx + \\frac{\\partial T}{\\partial y} dy + \\frac{\\partial T}{\\partial z} dz $$"
   ]
  },
  {
   "cell_type": "markdown",
   "metadata": {},
   "source": [
    "This means that if we move by a small amount $dx$ along the $x$-axis, $dy$ along $y$-axis, and $dz$ along $z$-axis, then the temperature will vary by a small amount $dT$.\n",
    "\n",
    "We can untangle the above equation into a dot product between two vectors like so:"
   ]
  },
  {
   "cell_type": "markdown",
   "metadata": {},
   "source": [
    "$$ dT = (\\frac{\\partial T}{\\partial x} \\hat x + \\frac{\\partial T}{\\partial y} \\hat y + \\frac{\\partial T}{\\partial z} \\hat z) \\cdot (dx \\hat x + dy \\hat y + dz \\hat z) $$\n",
    "$$ dT = (\\nabla T) \\cdot (d\\textbf l) $$"
   ]
  },
  {
   "cell_type": "markdown",
   "metadata": {},
   "source": [
    "$\\nabla T$ is called the gradient of $T$, and it is essentially the derivative of $T$.\n",
    "\n",
    "Since the gradient is a vector, it has magnitude and direction. Let's rewrite the above dot product to show this:"
   ]
  },
  {
   "cell_type": "markdown",
   "metadata": {},
   "source": [
    "$$ dT = (\\nabla T) \\cdot (d \\textbf l) = |\\nabla T||d\\textbf l| \\cos \\theta $$"
   ]
  },
  {
   "cell_type": "markdown",
   "metadata": {},
   "source": [
    "Where $\\theta$ is the angle between the vectors $\\nabla T$ and $d \\textbf l$. If we fix $|d\\textbf l|$ constant and vary $\\theta$, we find that the maximum value of $dT$ happens at $\\theta = 0$. In other words, $dT$ is greatest if the displacement $d\\textbf l$ has the same direction as $\\nabla T$. Therefore:\n",
    "\n",
    "* The gradient $\\nabla T$ points in the direction of maximum increase in the function T.\n",
    "* The magnitude $|\\nabla T|$ gives the slope along this maximal direction."
   ]
  },
  {
   "cell_type": "markdown",
   "metadata": {},
   "source": [
    "If $\\nabla T = 0$ at some point $(x, y, z)$, then it is called a \"sationary point\" of the function $T$."
   ]
  },
  {
   "cell_type": "markdown",
   "metadata": {},
   "source": [
    "For an example, find the gradient of $r = \\sqrt{x^2 + y^2 + z^2}$ (the magnitude of the position vector $\\textbf r = x \\hat x + y \\hat y + z \\hat z$)."
   ]
  },
  {
   "cell_type": "markdown",
   "metadata": {},
   "source": [
    "$$\\nabla r = (\\frac{\\partial r}{\\partial x}\\hat x + \\frac{\\partial r}{\\partial y}\\hat y + \\frac{\\partial r}{\\partial z}\\hat z) $$\n",
    "\n",
    "$$\\nabla r = (\\frac{1}{2} \\frac{2x}{\\sqrt{x^2 + y^2 + z^2}}\\hat x + \\frac{1}{2} \\frac{2y}{\\sqrt{x^2 + y^2 + z^2}}\\hat y + \\frac{1}{2} \\frac{2z}{\\sqrt{x^2 + y^2 + z^2}}\\hat z)$$\n",
    "$$\\nabla r = \\frac{x \\hat x + y \\hat y + z \\hat z}{\\sqrt{x^2 + y^2 + z^2}} $$\n",
    "$$ \\nabla r = \\frac{\\textbf r}{r} $$"
   ]
  },
  {
   "cell_type": "markdown",
   "metadata": {},
   "source": [
    "This says that the distance $r$ from the origin increases fastest in the direction pointing directly away from the origin, and that the rate of increase is $|\\nabla r| = \\dfrac{|\\textbf r|}{r} = \\dfrac{r}{r} = 1$."
   ]
  },
  {
   "cell_type": "markdown",
   "metadata": {},
   "source": [
    "### The del operator\n",
    "\n",
    "We can rearrange the gradient to look like a vector $\\nabla$ multiplying a scalar $T$:"
   ]
  },
  {
   "cell_type": "markdown",
   "metadata": {},
   "source": [
    "$$ \\nabla T = \\frac{\\partial T}{\\partial x}\\hat x + \\frac{\\partial T}{\\partial y}\\hat y + \\frac{\\partial T}{\\partial z}\\hat z $$\n",
    "$$ \\nabla T = (\\hat x \\frac{\\partial}{\\partial x} + \\hat y \\frac{\\partial}{\\partial y} + \\hat z \\frac{\\partial}{\\partial z}) T $$\n",
    "$$ \\nabla = \\hat x \\frac{\\partial}{\\partial x} + \\hat y \\frac{\\partial}{\\partial y} + \\hat z \\frac{\\partial}{\\partial z} $$"
   ]
  },
  {
   "cell_type": "markdown",
   "metadata": {},
   "source": [
    "$\\nabla$ is not really a vector, and it doesn't mean anything unless we provide a function for it to act upon. $\\nabla$ is a vector operator that differentiates whatever we apply it to.\n",
    "\n",
    "However, $\\nabla$ does mimic the behavior of a vector, and that will be notationally useful.\n",
    "\n",
    "An ordinary vector $\\textbf A$ can multiply in three ways:\n",
    "\n",
    "1. By a scalar $a$: $\\textbf A a$\n",
    "\n",
    "2. By a vector $\\textbf B$, via dot product: $\\textbf A \\cdot \\textbf B$\n",
    "\n",
    "2. By a vector $\\textbf B$, via cross product: $\\textbf A \\times \\textbf B$"
   ]
  },
  {
   "cell_type": "markdown",
   "metadata": {},
   "source": [
    "And likewise, there are three ways the operator $\\nabla$ can act:\n",
    "\n",
    "1. On a scalar function $T$: $\\nabla T$ (the gradient)\n",
    "\n",
    "2. On a vector function $\\textbf v$, via dot product: $\\nabla \\cdot \\textbf v$ (the divergence)\n",
    "\n",
    "3. On a vector function $\\textbf v$, via cross product: $\\nabla \\times \\textbf v$ (the curl)"
   ]
  },
  {
   "cell_type": "markdown",
   "metadata": {},
   "source": [
    "### Divergence\n",
    "\n",
    "Divergence is:"
   ]
  },
  {
   "cell_type": "markdown",
   "metadata": {},
   "source": [
    "$$ \\nabla \\cdot \\textbf v = (\\hat x \\frac{\\partial}{\\partial x} + \\hat y \\frac{\\partial}{\\partial y} + \\hat z \\frac{\\partial}{\\partial z}) \\cdot (v_x \\hat x + v_y \\hat y + v_z \\hat z) $$\n",
    "$$ = \\frac{\\partial v_x}{\\partial x} + \\frac{\\partial v_y}{\\partial y}  + \\frac{\\partial v_z}{\\partial z}$$"
   ]
  },
  {
   "cell_type": "markdown",
   "metadata": {},
   "source": [
    "Since it is a dot product, the divergence of a vector is a scalar.\n",
    "\n",
    "$\\nabla \\cdot \\textbf v$ is a measure of how much the vector $\\textbf v$ spreads out, or diverges, from a point. $\\textbf v$ is a function, in this case a vector field--there is a different vector associated with every point in space.\n",
    "\n",
    "If you drop sawdust into a pond and it spreads out, then you dropped it at a point of positive divergence. If it collects together, you dropped it at a point of negative divergence."
   ]
  },
  {
   "cell_type": "markdown",
   "metadata": {},
   "source": [
    "For an example, calculate the divergences of $\\textbf v_a = x \\hat x + y \\hat y + z \\hat z$, $\\textbf v_b = \\hat z$, and $\\textbf v_c=z \\hat z$."
   ]
  },
  {
   "cell_type": "markdown",
   "metadata": {},
   "source": [
    "$$ \\nabla \\cdot \\textbf v_a = \\frac{\\partial x}{\\partial x} + \\frac{\\partial y}{\\partial y} + \\frac{\\partial z}{\\partial z} = 1 + 1 + 1 = 3 $$\n",
    "\n",
    "$$ \\nabla \\cdot \\textbf v_b = \\frac{\\partial}{\\partial z}1 = 0 $$\n",
    "\n",
    "$$ \\nabla \\cdot \\textbf v_c = \\frac{\\partial z}{\\partial z} = 1 $$"
   ]
  },
  {
   "cell_type": "markdown",
   "metadata": {},
   "source": [
    "### Curl\n",
    "\n",
    "The curl of a vector function is:"
   ]
  },
  {
   "cell_type": "markdown",
   "metadata": {},
   "source": [
    "$$\n",
    "\\nabla \\times \\textbf v =\n",
    "\\begin{vmatrix}\n",
    "\\hat x & \\hat y & \\hat z \\\\\n",
    "\\partial/\\partial x & \\partial/\\partial y & \\partial/\\partial z \\\\\n",
    "v_x & v_y & v_z\n",
    "\\end{vmatrix}\n",
    "$$"
   ]
  },
  {
   "cell_type": "markdown",
   "metadata": {},
   "source": [
    "$$ = (\\frac{\\partial v_z}{\\partial y} - \\frac{\\partial v_y}{\\partial z}) \\hat x\n",
    "+ (\\frac{\\partial v_x}{\\partial z} - \\frac{\\partial v_z}{\\partial x}) \\hat y \n",
    "+ (\\frac{\\partial v_y}{\\partial x} - \\frac{\\partial v_x}{\\partial y}) \\hat z$$"
   ]
  },
  {
   "cell_type": "markdown",
   "metadata": {},
   "source": [
    "Since it is a cross product, the curl is a vector.\n",
    "\n",
    "The curl is a measure of how much the vector function $\\textbf v$ swirls around a given point. If you place a floating object in a pond and it starts to rotate, then it is at a point of nonzero curl."
   ]
  },
  {
   "cell_type": "markdown",
   "metadata": {},
   "source": [
    "As an example, calculate the curls of:"
   ]
  },
  {
   "cell_type": "markdown",
   "metadata": {},
   "source": [
    "$$ \\textbf v_a = -y \\hat x + x \\hat y $$\n",
    "$$ \\textbf v_b = x \\hat y $$"
   ]
  },
  {
   "cell_type": "markdown",
   "metadata": {},
   "source": [
    "$$\n",
    "\\nabla \\times \\textbf v_a =\n",
    "\\begin{vmatrix}\n",
    "\\hat x & \\hat y & \\hat z \\\\\n",
    "\\partial/\\partial x & \\partial/\\partial y & \\partial/\\partial z \\\\\n",
    "-y & x & 0\n",
    "\\end{vmatrix}\n",
    "= (0)\\hat x + (0)\\hat y + (1 + 1)\\hat z = 2 \\hat z\n",
    "$$"
   ]
  },
  {
   "cell_type": "markdown",
   "metadata": {},
   "source": [
    "$$\n",
    "\\nabla \\times \\textbf v_b =\n",
    "\\begin{vmatrix}\n",
    "\\hat x & \\hat y & \\hat z \\\\\n",
    "\\partial/\\partial x & \\partial/\\partial y & \\partial/\\partial z \\\\\n",
    "0 & x & 0\n",
    "\\end{vmatrix}\n",
    "= (0)\\hat x + (0)\\hat y + (1)\\hat z = \\hat z\n",
    "$$"
   ]
  },
  {
   "cell_type": "markdown",
   "metadata": {},
   "source": [
    "So these two functions have nonzero curl, and they have zero divergence as well. So the flow just swirls around in the $xy$-plane, without spreading out."
   ]
  },
  {
   "cell_type": "markdown",
   "metadata": {},
   "source": [
    "### Problem 1.11.a\n",
    "\n",
    "Find the gradient of $f(x, y, z) = x^2 + y^3 + z^4$."
   ]
  },
  {
   "cell_type": "markdown",
   "metadata": {},
   "source": [
    "$$ \\nabla f = 2x \\hat x + 3y^2 \\hat y + 4z^3 \\hat z $$"
   ]
  },
  {
   "cell_type": "markdown",
   "metadata": {},
   "source": [
    "### Problem 1.11.b\n",
    "\n",
    "Find the gradient of $f(x, y, z) = x^2 y^3 z^4$."
   ]
  },
  {
   "cell_type": "markdown",
   "metadata": {},
   "source": [
    "$$ \\nabla f = 2 x y^3 z^4 \\hat x + 3 x^2 y^2 z^4 \\hat y + 4 x^2 y^3 z^3 \\hat z $$"
   ]
  },
  {
   "cell_type": "markdown",
   "metadata": {},
   "source": [
    "### Problem 1.11.c\n",
    "\n",
    "Find the gradient of $f(x, y, z) = e^x \\sin(y) \\ln(z)$"
   ]
  },
  {
   "cell_type": "markdown",
   "metadata": {},
   "source": [
    "$$ \\nabla f = e^x \\sin(y)\\ln(z) \\hat x + e^x \\cos(y) \\ln(z) \\hat y + e^x \\sin(y) (\\frac{1}{z}) \\hat z$$"
   ]
  },
  {
   "cell_type": "markdown",
   "metadata": {},
   "source": [
    "### Problem 1.12\n",
    "\n",
    "The height of a hill is given by\n"
   ]
  },
  {
   "cell_type": "markdown",
   "metadata": {},
   "source": [
    "\n",
    "$$ h(x, y) = 10 (2xy - 3x^2 - 4 y^2 - 18 x + 28 y + 12) $$"
   ]
  },
  {
   "cell_type": "markdown",
   "metadata": {},
   "source": [
    "$h$ is the height in feet, $y$ is the distance in miles north, and $x$ is the distance in miles east."
   ]
  },
  {
   "cell_type": "markdown",
   "metadata": {},
   "source": [
    "(a) Where is the top of the hill?\n",
    "\n",
    "(b) How high is the hill?\n",
    "\n",
    "(c) How steep is the slope (feet/mile) at the point $(x=1, y=1)$? In what direction is the slope steepest at that point?"
   ]
  },
  {
   "cell_type": "markdown",
   "metadata": {},
   "source": [
    "The first thing we need to do is find the gradient of $h$."
   ]
  },
  {
   "cell_type": "markdown",
   "metadata": {},
   "source": [
    "$$ \\nabla h = 10 ((2y - 6x - 18)\\hat x + (2x - 8y + 28)\\hat y) $$"
   ]
  },
  {
   "cell_type": "markdown",
   "metadata": {},
   "source": [
    "The top of the hill is a stationary point, meaning that $\\nabla h = 0$ at that point."
   ]
  },
  {
   "cell_type": "markdown",
   "metadata": {},
   "source": [
    "$$ \\nabla h = 10 ((2y - 6x - 18)\\hat x + (2x - 8y + 28)\\hat y) = 0 $$\n",
    "$$ (2y - 6x - 18)\\hat x + (2x - 8y + 28)\\hat y = 0 $$\n",
    "$$ (y - 3x - 9)\\hat x + (x - 4y + 14)\\hat y = 0 $$"
   ]
  },
  {
   "cell_type": "markdown",
   "metadata": {},
   "source": [
    "So we have the two equations:"
   ]
  },
  {
   "cell_type": "markdown",
   "metadata": {},
   "source": [
    "$$ y - 3x - 9 = 0 $$\n",
    "$$ x - 4y + 14 = 0 $$"
   ]
  },
  {
   "cell_type": "markdown",
   "metadata": {},
   "source": [
    "We'll rearrage the first one to put $y$ on the left and then substitute it into the second equation."
   ]
  },
  {
   "cell_type": "markdown",
   "metadata": {},
   "source": [
    "$$ y = 3x + 9 $$\n",
    "$$ x - 4 (3x + 9) + 14 = 0 $$\n",
    "$$ x - 12 x - 36 + 14 = 0 $$\n",
    "$$ -11x - 22 = 0 $$\n",
    "$$ x = -2 $$\n",
    "$$ y = 3 $$"
   ]
  },
  {
   "cell_type": "markdown",
   "metadata": {},
   "source": [
    "So we've found the only stationary point $(x=-2, y=3)$. Is it really the maximum? To find out, we can check that if we start at this point and move by a small displacement $dx \\hat x$ or $dy \\hat y$, then the gradient should point towards the maximum."
   ]
  },
  {
   "cell_type": "markdown",
   "metadata": {},
   "source": [
    "$$ \\nabla h(x, y) = 10 ((2y - 6x - 18)\\hat x + (2x - 8y + 28)\\hat y) $$\n",
    "\n",
    "$$ \\nabla h(-2 + dx, 3 + dy) =\n",
    "10 ((2(3 + dy) - 6(-2 + dx) - 18)\\hat x + (2(-2 + dx) - 8(3 + dy) + 28)\\hat y) $$\n",
    "$$ =10 ((6 + 2dy + 12 - 6 dx - 18)\\hat x + (-4 + 2 dx - 24 - 8 dy + 28)\\hat y) $$\n",
    "$$ =10 ((2dy - 6 dx)\\hat x + (2 dx - 8 dy)\\hat y) $$"
   ]
  },
  {
   "cell_type": "markdown",
   "metadata": {},
   "source": [
    "If $dy = 0$, we have:"
   ]
  },
  {
   "cell_type": "markdown",
   "metadata": {},
   "source": [
    "$$ \\nabla h(-2 + dx, 3) =10 ((-6 dx)\\hat x + (2 dx)\\hat y) $$"
   ]
  },
  {
   "cell_type": "markdown",
   "metadata": {},
   "source": [
    "The dominant component of this gradient points in the opposite direction of the displacement $dx \\hat x$.\n",
    "\n",
    "And if $dx = 0$, we have:"
   ]
  },
  {
   "cell_type": "markdown",
   "metadata": {},
   "source": [
    "$$ \\nabla h(-2, 3 + dy) = 10 ((2dy)\\hat x + (- 8 dy)\\hat y) $$"
   ]
  },
  {
   "cell_type": "markdown",
   "metadata": {},
   "source": [
    "And the dominant component of this gradient points in the opposite direction of the displacement $dy \\hat y$.\n",
    "\n",
    "Therefore, since a small displacement away from the stationary point results in a gradient that points backward in the opposite direction from the displacement, then the stationary point $(x=-2, y=3)$ is indeed a maximum.\n",
    "\n",
    "The height of the hill at this point is:"
   ]
  },
  {
   "cell_type": "markdown",
   "metadata": {},
   "source": [
    "\n",
    "$$ h(x, y) = 10 (2xy - 3x^2 - 4 y^2 - 18 x + 28 y + 12) $$\n",
    "$$ h(-2, 3) = 10 (2(-2)(3) - 3(-2)^2 - 4 (3)^2 - 18 (-2) + 28 (3) + 12) $$\n",
    "$$ h(-2, 3) = 10 (-12 - 12 - 36 + 36 + 84 + 12) $$\n",
    "$$ h(-2, 3) = 10 (72) $$\n",
    "$$ h(-2, 3) = 720 $$"
   ]
  },
  {
   "cell_type": "markdown",
   "metadata": {},
   "source": [
    "The final part of this problem is to find the magnitude and direction of the gradient at $(x=1, y=1)$"
   ]
  },
  {
   "cell_type": "markdown",
   "metadata": {},
   "source": [
    "$$ \\nabla h(x, y) = 10 ((2y - 6x - 18)\\hat x + (2x - 8y + 28)\\hat y) $$\n",
    "$$ \\nabla h(1, 1) = 10 ((2 - 6 - 18)\\hat x + (2 - 8 + 28)\\hat y) $$\n",
    "$$ \\nabla h(1, 1) = 10 (-22\\hat x + (22)\\hat y) $$\n",
    "$$ \\nabla h(1, 1) = -220 \\hat x + 220 \\hat y $$\n",
    "$$ |\\nabla h(1, 1)| = \\sqrt{(-220)^2 + 220^2} \\approx 311 $$\n",
    "$$ \\frac{\\nabla h(1, 1)}{|\\nabla h(1, 1)|} = -\\frac{1}{\\sqrt{2}}\\hat x + \\frac{1}{\\sqrt{2}}\\hat y $$\n"
   ]
  },
  {
   "cell_type": "markdown",
   "metadata": {},
   "source": [
    "So the gradient is approximately 311 feet/mile to the north-west at the point $(x=1, y=1)$."
   ]
  },
  {
   "cell_type": "markdown",
   "metadata": {},
   "source": [
    "### Problem 1.13\n",
    "\n",
    "Let $\\textbf r$ be the separation vector from a fixed point $(x', y', z')$ to the point $(x, y, z)$, and let $r$ be its length. Show that\n",
    "\n",
    "(a) $\\nabla(r^2) = 2 \\textbf r$\n",
    "\n",
    "(b) $\\nabla(1/r) = -\\hat r / r^2$\n",
    "\n",
    "(c) What is the general formula for $\\nabla(r^n)$?"
   ]
  },
  {
   "cell_type": "markdown",
   "metadata": {},
   "source": [
    "First of all, let's write down expressions for $\\textbf r$ and $r$."
   ]
  },
  {
   "cell_type": "markdown",
   "metadata": {},
   "source": [
    "$$ \\textbf r = (x - x')\\hat x + (y - y')\\hat y + (z - z')\\hat z $$\n",
    "$$ r = \\sqrt{(x - x')^2 + (y - y')^2 + (z - z')^2} $$"
   ]
  },
  {
   "cell_type": "markdown",
   "metadata": {},
   "source": [
    "Let's do question (a)."
   ]
  },
  {
   "cell_type": "markdown",
   "metadata": {},
   "source": [
    "$$ r^2 = (x - x')^2 + (y - y')^2 + (z - z')^2 $$\n",
    "$$ \\nabla(r^2) = \\frac{\\partial (r^2)}{\\partial x} \\hat x + \\frac{\\partial (r^2)}{\\partial y} \\hat y + \\frac{\\partial (r^2)}{\\partial z} \\hat z $$\n",
    "\n",
    "$$ \\nabla(r^2) = 2(x - x')\\hat x + 2(y - y')\\hat y + 2(z - z')\\hat z $$\n",
    "$$ \\nabla(r^2) = 2\\textbf r $$"
   ]
  },
  {
   "cell_type": "markdown",
   "metadata": {},
   "source": [
    "Now question (b)."
   ]
  },
  {
   "cell_type": "markdown",
   "metadata": {},
   "source": [
    "\n",
    "$$ 1/r = ((x - x')^2 + (y - y')^2 + (z - z')^2)^{-1/2} $$\n",
    "$$ \\nabla(1/r) = \\frac{\\partial (1/r)}{\\partial x} \\hat x + \\frac{\\partial (1/r)}{\\partial y} \\hat y + \\frac{\\partial (1/r)}{\\partial z} \\hat z $$\n",
    "$$ \\nabla(1/r) = -\\frac{1}{2} (2(x - x')) ((x - x')^2 + (y - y')^2 + (z - z')^2)^{-3/2} \\hat x \\\\\n",
    "- \\frac{1}{2} (2(y - y')) ((x - x')^2 + (y - y')^2 + (z - z')^2)^{-3/2} \\hat y \\\\\n",
    "- \\frac{1}{2} (2(z - z')) ((x - x')^2 + (y - y')^2 + (z - z')^2)^{-3/2} \\hat z $$\n",
    "$$ \\nabla(1/r) = \\frac{-(x - x')\\hat x - (y - y')\\hat y - (z - z')\\hat z}{((x - x')^2 + (y - y')^2 + (z - z')^2)^{3/2}} $$\n",
    "$$ \\nabla(1/r) = -\\frac{\\textbf r}{r^3} = -\\frac{\\hat r}{r^2} $$"
   ]
  },
  {
   "cell_type": "markdown",
   "metadata": {},
   "source": [
    "Finally, question (c)."
   ]
  },
  {
   "cell_type": "markdown",
   "metadata": {},
   "source": [
    "$$ r^n = ((x - x')^2 + (y - y')^2 + (z - z')^2)^{n/2} $$\n",
    "$$ \\nabla(r^n) = \\frac{\\partial (r^n)}{\\partial x} \\hat x + \\frac{\\partial (r^n)}{\\partial y} \\hat y + \\frac{\\partial (r^n)}{\\partial z} \\hat z $$\n",
    "$$\n",
    "\\nabla(r^n) = \\frac{n}{2}(2(x - x'))((x - x')^2 + (y - y')^2 + (z - z')^2)^{n/2-1}\\hat x \\\\\n",
    "+ \\frac{n}{2}(2(y - y'))((x - x')^2 + (y - y')^2 + (z - z')^2)^{n/2-1}\\hat y \\\\\n",
    "+ \\frac{n}{2}(2(z - z'))((x - x')^2 + (y - y')^2 + (z - z')^2)^{n/2-1}\\hat z\n",
    "$$\n",
    "\n",
    "$$\n",
    "\\nabla(r^n) = n ((x - x')\\hat x + (y - y')\\hat y + (z - z')\\hat z)((x - x')^2 + (y - y')^2 + (z - z')^2)^{n/2-1}\n",
    "$$\n",
    "$$ \\nabla(r^n) = n \\textbf r (r^2)^{n/2-1} $$\n",
    "$$ \\nabla(r^n) = n \\textbf r r^{n-2} $$\n",
    "$$ \\nabla(r^n) = n r r^{n-2} \\hat r $$\n",
    "$$ \\nabla(r^n) = n r^{n-1} \\hat r $$"
   ]
  },
  {
   "cell_type": "markdown",
   "metadata": {},
   "source": [
    "We should double check that this formula gives the correct answer for (a) and (b). For (a), $n=2$:"
   ]
  },
  {
   "cell_type": "markdown",
   "metadata": {},
   "source": [
    "$$ \\nabla(r^2) = 2r^{2-1}\\hat r = 2\\textbf r $$"
   ]
  },
  {
   "cell_type": "markdown",
   "metadata": {},
   "source": [
    "And for (b), $n=-1$:"
   ]
  },
  {
   "cell_type": "markdown",
   "metadata": {},
   "source": [
    "$$ \\nabla(r^{-1}) = \\nabla(1/r) = (-1)r^{-1-1}\\hat r = -\\frac{\\hat r}{r^2} $$"
   ]
  },
  {
   "cell_type": "markdown",
   "metadata": {},
   "source": [
    "There we go, the general formula works."
   ]
  },
  {
   "cell_type": "markdown",
   "metadata": {},
   "source": [
    "### Problem 1.14\n",
    "\n",
    "Suppose that $f$ is a function of two variables $y$ and $z$ only. Show that the gradient $\\nabla f = \\dfrac{\\partial f}{\\partial y} \\hat y + \\dfrac{\\partial f}{\\partial z} \\hat z$ transforms as a vector under rotations, like:"
   ]
  },
  {
   "cell_type": "markdown",
   "metadata": {},
   "source": [
    "$$ \\begin{pmatrix}\n",
    "y' \\\\\n",
    "z'\n",
    "\\end{pmatrix}\n",
    "= \\begin{pmatrix}\n",
    "\\cos \\phi & \\sin \\phi \\\\\n",
    "-\\sin \\phi & \\cos \\phi\n",
    "\\end{pmatrix}\n",
    "\\begin{pmatrix}\n",
    "y \\\\\n",
    "z\n",
    "\\end{pmatrix}\n",
    "$$"
   ]
  },
  {
   "cell_type": "markdown",
   "metadata": {},
   "source": [
    "Hint: $\\dfrac{\\partial f}{\\partial y'}=\\dfrac{\\partial f}{\\partial y}\\dfrac{\\partial y}{\\partial y'} + \\dfrac{\\partial f}{\\partial z}\\dfrac{\\partial z}{\\partial y'}$, and the analogous formula for $\\dfrac{\\partial f}{\\partial z'}$. We know that $y'=y \\cos\\phi + z \\sin\\phi$ and $z'= -y \\sin\\phi + z \\cos\\phi$. Solve these equations for $y$ and $z$, as functions of $y'$ and $z'$, and compute the needed derivatives $\\dfrac{\\partial y}{\\partial y'}$, $\\dfrac{\\partial z}{\\partial y'}$, etc."
   ]
  },
  {
   "cell_type": "markdown",
   "metadata": {},
   "source": [
    "First, we can solve the rotation equations for $y$ and $z$ by recognizing that the inverse of the above rotation is:"
   ]
  },
  {
   "cell_type": "markdown",
   "metadata": {},
   "source": [
    "$$ \\begin{pmatrix}\n",
    "y \\\\\n",
    "z\n",
    "\\end{pmatrix}\n",
    "= \\begin{pmatrix}\n",
    "\\cos (-\\phi) & \\sin (-\\phi) \\\\\n",
    "-\\sin (-\\phi) & \\cos (-\\phi)\n",
    "\\end{pmatrix}\n",
    "\\begin{pmatrix}\n",
    "y' \\\\\n",
    "z'\n",
    "\\end{pmatrix}\n",
    "= \\begin{pmatrix}\n",
    "\\cos \\phi & -\\sin \\phi \\\\\n",
    "\\sin \\phi & \\cos \\phi\n",
    "\\end{pmatrix}\n",
    "\\begin{pmatrix}\n",
    "y' \\\\\n",
    "z'\n",
    "\\end{pmatrix}\n",
    "$$"
   ]
  },
  {
   "cell_type": "markdown",
   "metadata": {},
   "source": [
    "That gives us the equations:"
   ]
  },
  {
   "cell_type": "markdown",
   "metadata": {},
   "source": [
    "$$ y = y' \\cos\\phi - z' \\sin\\phi $$\n",
    "$$ z = y' \\sin\\phi + z' \\cos\\phi $$"
   ]
  },
  {
   "cell_type": "markdown",
   "metadata": {},
   "source": [
    "Now we can calculate the partial derivatives that we need."
   ]
  },
  {
   "cell_type": "markdown",
   "metadata": {},
   "source": [
    "$$ \\frac{\\partial y}{\\partial y'} = \\cos\\phi $$\n",
    "$$ \\frac{\\partial y}{\\partial z'} = -\\sin\\phi $$\n",
    "$$ \\frac{\\partial z}{\\partial y'} = \\sin\\phi $$\n",
    "$$ \\frac{\\partial z}{\\partial z'} = \\cos\\phi $$"
   ]
  },
  {
   "cell_type": "markdown",
   "metadata": {},
   "source": [
    "Next, we'll find the components of the transformed gradient $(\\nabla f)' = \\dfrac{\\partial f}{\\partial y'} \\hat y' + \\dfrac{\\partial f}{\\partial z'} \\hat z'$"
   ]
  },
  {
   "cell_type": "markdown",
   "metadata": {},
   "source": [
    "$$\n",
    "\\frac{\\partial f}{\\partial y'} = \\frac{\\partial f}{\\partial y}\\frac{\\partial y}{\\partial y'} + \\frac{\\partial f}{\\partial z}\\frac{\\partial z}{\\partial y'}\n",
    "\n",
    "= \\frac{\\partial f}{\\partial y}\\cos\\phi + \\frac{\\partial f}{\\partial z}\\sin\\phi $$\n",
    "\n",
    "$$\n",
    "\\frac{\\partial f}{\\partial z'} = \\frac{\\partial f}{\\partial y}\\frac{\\partial y}{\\partial z'} + \\frac{\\partial f}{\\partial z}\\frac{\\partial z}{\\partial z'}\n",
    "\n",
    "= -\\frac{\\partial f}{\\partial y}\\sin\\phi + \\frac{\\partial f}{\\partial z}\\cos\\phi\n",
    "\n",
    "$$"
   ]
  },
  {
   "cell_type": "markdown",
   "metadata": {},
   "source": [
    "And now, we can combine those two equations into this matrix-vector multiplication:"
   ]
  },
  {
   "cell_type": "markdown",
   "metadata": {},
   "source": [
    "$$\n",
    "\\begin{pmatrix}\n",
    "\\dfrac{\\partial f}{\\partial y'} \\\\\n",
    "\\dfrac{\\partial f}{\\partial z'}\n",
    "\\end{pmatrix}\n",
    "=\n",
    "\\begin{pmatrix}\n",
    "\\cos\\phi & \\sin\\phi \\\\\n",
    "-\\sin\\phi & \\cos\\phi\n",
    "\\end{pmatrix}\n",
    "\n",
    "\\begin{pmatrix}\n",
    "\\dfrac{\\partial f}{\\partial y} \\\\\n",
    "\\dfrac{\\partial f}{\\partial z}\n",
    "\\end{pmatrix}\n",
    "$$"
   ]
  },
  {
   "cell_type": "markdown",
   "metadata": {},
   "source": [
    "And that is the same rotation matrix that vectors transform by under rotations, so we've shown that the gradient $\\nabla f$ transforms the same way that any other vector transforms under rotations."
   ]
  },
  {
   "cell_type": "markdown",
   "metadata": {},
   "source": [
    "### Problem 1.15\n",
    "\n",
    "Calculate the divergence of the following:\n",
    "\n",
    "(a) $\\textbf v_a = x^2 \\hat x + 3 x z^2 \\hat y - 2 x z \\hat z$\n",
    "\n",
    "(b) $\\textbf v_b = x y \\hat x + 2 y z \\hat y + 3 z x \\hat z$\n",
    "\n",
    "(c) $\\textbf v_c = y^2 \\hat x + (2 x y + z^2) \\hat y + 2 y z \\hat z$"
   ]
  },
  {
   "cell_type": "markdown",
   "metadata": {},
   "source": [
    "$$ \\nabla \\cdot \\textbf v_a = \\frac{\\partial}{\\partial x}(x^2) + \\frac{\\partial}{\\partial y}(3xz^2) + \\frac{\\partial}{\\partial z}(-2xz) $$\n",
    "$$ = 2x + 0 -2x = 0 $$"
   ]
  },
  {
   "cell_type": "markdown",
   "metadata": {},
   "source": [
    "$$ \\nabla \\cdot \\textbf v_b = \\frac{\\partial}{\\partial x}(xy) + \\frac{\\partial}{\\partial y}(2yz) + \\frac{\\partial}{\\partial z}(3zx) $$\n",
    "$$ = y + 2z + 3x $$"
   ]
  },
  {
   "cell_type": "markdown",
   "metadata": {},
   "source": [
    "$$ \\nabla \\cdot \\textbf v_c = \\frac{\\partial}{\\partial x}(y^2) + \\frac{\\partial}{\\partial y}(2xy + z^2) + \\frac{\\partial}{\\partial z}(2yz) $$\n",
    "$$ = 0 + 2x + 2y = 2x + 2y $$"
   ]
  },
  {
   "cell_type": "markdown",
   "metadata": {},
   "source": [
    "### Problem 1.16\n",
    "\n",
    "Sketch the vector function\n",
    "\n",
    "$$ \\textbf v = \\frac{\\hat r}{r^2} $$\n",
    "\n",
    "and compute its divergence. Can you explain the answer?"
   ]
  },
  {
   "cell_type": "code",
   "execution_count": 1,
   "metadata": {},
   "outputs": [
    {
     "name": "stderr",
     "output_type": "stream",
     "text": [
      "/tmp/ipykernel_22292/3252618600.py:8: RuntimeWarning: invalid value encountered in divide\n",
      "  v_ = x_y_ / (r_[:, np.newaxis])**3\n"
     ]
    },
    {
     "data": {
      "image/png": "[encoded data removed]",
      "text/plain": [
       "<Figure size 640x480 with 1 Axes>"
      ]
     },
     "metadata": {},
     "output_type": "display_data"
    }
   ],
   "source": [
    "import matplotlib.pyplot as plt\n",
    "import numpy as np\n",
    "\n",
    "x_ = np.linspace(-2, 2, 9)[:, np.newaxis].repeat(9, -1).flatten()\n",
    "y_ = np.linspace(-2, 2, 9)[np.newaxis, :].repeat(9, 0).flatten()\n",
    "r_ = (x_**2 + y_**2)**0.5\n",
    "x_y_ = np.stack([x_, y_], axis=-1)\n",
    "v_ = x_y_ / (r_[:, np.newaxis])**3\n",
    "mag = 0.5\n",
    "\n",
    "for x, y, v in zip(x_, y_, v_):\n",
    "  plt.arrow(x, y, v[0] * mag, v[1] * mag, head_width=0.1*mag)\n",
    "\n",
    "plt.axis('equal')\n",
    "plt.xlabel('x')\n",
    "plt.ylabel('y')\n",
    "plt.show()"
   ]
  },
  {
   "cell_type": "markdown",
   "metadata": {},
   "source": [
    "To find the divergence, first we'll put the function into component form."
   ]
  },
  {
   "cell_type": "markdown",
   "metadata": {},
   "source": [
    "$$ \\textbf v = \\frac{\\hat r}{r^2} = \\frac{r \\hat r}{r^3} = \\frac{x \\hat x + y \\hat y + z \\hat z}{(x^2 + y^2 + z^2)^{3/2}} $$\n"
   ]
  },
  {
   "cell_type": "markdown",
   "metadata": {},
   "source": [
    "$$ \\nabla \\cdot \\textbf v = \\frac{\\partial}{\\partial x}\\frac{x}{(x^2 + y^2 + z^2)^{3/2}} + \\frac{\\partial}{\\partial y}\\frac{y}{(x^2 + y^2 + z^2)^{3/2}} + \\frac{\\partial}{\\partial z}\\frac{z}{(x^2 + y^2 + z^2)^{3/2}} $$"
   ]
  },
  {
   "cell_type": "markdown",
   "metadata": {},
   "source": [
    "We'll have to use the product rule to differentiate these terms."
   ]
  },
  {
   "cell_type": "markdown",
   "metadata": {},
   "source": [
    "$$ \\frac{\\partial}{\\partial x}\\frac{x}{(x^2 + y^2 + z^2)^{3/2}}  = \\frac{\\partial A B}{\\partial x} = A \\frac{\\partial B}{\\partial x} + B \\frac{\\partial A}{\\partial x} $$"
   ]
  },
  {
   "cell_type": "markdown",
   "metadata": {},
   "source": [
    "$$ A = x $$\n",
    "$$ \\frac{\\partial A}{\\partial x} = 1 $$\n",
    "\n",
    "$$ B = (x^2 + y^2 + z^2)^{-3/2} $$\n",
    "$$ \\frac{\\partial B}{\\partial x} = \\frac{\\partial}{\\partial x}(x^2 + y^2 + z^2)^{-3/2} $$\n",
    "$$ \\frac{\\partial B}{\\partial x} = -\\frac{3}{2}(2x)(x^2 + y^2 + z^2)^{-5/2} = -3x(x^2 + y^2 + z^2)^{-5/2} $$"
   ]
  },
  {
   "cell_type": "markdown",
   "metadata": {},
   "source": [
    "$$ \\frac{\\partial}{\\partial x}\\frac{x}{(x^2 + y^2 + z^2)^{3/2}} = -3x^2(x^2 + y^2 + z^2)^{-5/2} + (x^2 + y^2 + z^2)^{-3/2} $$"
   ]
  },
  {
   "cell_type": "markdown",
   "metadata": {},
   "source": [
    "We can substitute $r$ back in."
   ]
  },
  {
   "cell_type": "markdown",
   "metadata": {},
   "source": [
    "$$ \\frac{\\partial}{\\partial x}\\frac{x}{(x^2 + y^2 + z^2)^{3/2}} = -\\frac{3x^2}{r^5} + \\frac{1}{r^3} $$"
   ]
  },
  {
   "cell_type": "markdown",
   "metadata": {},
   "source": [
    "By symmetry, we also have:"
   ]
  },
  {
   "cell_type": "markdown",
   "metadata": {},
   "source": [
    "$$ \\frac{\\partial}{\\partial y}\\frac{y}{(x^2 + y^2 + z^2)^{3/2}} = -\\frac{3y^2}{r^5} + \\frac{1}{r^3} $$\n",
    "$$ \\frac{\\partial}{\\partial z}\\frac{z}{(x^2 + y^2 + z^2)^{3/2}} = -\\frac{3z^2}{r^5} + \\frac{1}{r^3} $$"
   ]
  },
  {
   "cell_type": "markdown",
   "metadata": {},
   "source": [
    "So the divergence is:"
   ]
  },
  {
   "cell_type": "markdown",
   "metadata": {},
   "source": [
    "$$ \\nabla \\cdot \\textbf v = -\\frac{3x^2}{r^5} + \\frac{1}{r^3} - \\frac{3y^2}{r^5} + \\frac{1}{r^3} -\\frac{3z^2}{r^5} + \\frac{1}{r^3} $$\n",
    "$$ \\nabla \\cdot \\textbf v = -\\frac{3(x^2 + y^2 + z^2)}{r^5} + \\frac{3}{r^3} $$"
   ]
  },
  {
   "cell_type": "markdown",
   "metadata": {},
   "source": [
    "Then we can substitute another $r$ term back in:"
   ]
  },
  {
   "cell_type": "markdown",
   "metadata": {},
   "source": [
    "$$ \\nabla \\cdot \\textbf v = -\\frac{3 r^2}{r^5} + \\frac{3}{r^3} = -\\frac{3}{r^3} + \\frac{3}{r^3} = 0 $$"
   ]
  },
  {
   "cell_type": "markdown",
   "metadata": {},
   "source": [
    "It is a bit surprising that the divergence is 0, since the arrows in the plot of $\\textbf v$ point outward from the origin. However, the lengths of the arrows also decrease further from the origin, which evidently balances out the outward flow. We can consider the two-dimensional case where $\\textbf v$ represents the flow of water on the surface of the pond. If we drop some sawdust onto the surface right at the origin, the sawdust will occupy a certain area--say, a circle. Over time, the edges of the sawdust will spread out, but the middle of the circle will also spread out. The sawdust will occupy a ring around the origin. The radius of the ring will continue to get larger, but the width of the ring will shrink, such that the total area that the sawdust occupies will remain constant."
   ]
  },
  {
   "cell_type": "markdown",
   "metadata": {},
   "source": [
    "### Problem 1.17\n",
    "\n",
    "In two dimensions, show that the divergence transforms as a scalar under rotations. Hint: Use the rotation equation"
   ]
  },
  {
   "cell_type": "markdown",
   "metadata": {},
   "source": [
    "$$\n",
    "\\begin{pmatrix}\n",
    "y' \\\\ z'\n",
    "\\end {pmatrix}\n",
    "=\n",
    "\\begin{pmatrix}\n",
    "\\cos\\phi & \\sin\\phi \\\\\n",
    "-\\sin\\phi & \\cos\\phi\n",
    "\\end{pmatrix}\n",
    "\\begin{pmatrix}\n",
    "y \\\\ z\n",
    "\\end{pmatrix}\n",
    "\n",
    "$$"
   ]
  },
  {
   "cell_type": "markdown",
   "metadata": {},
   "source": [
    "to determine $v'_y$ and $v'_z$, and the method of problem 1.14 to calculate the derivatives. The aim is to show that $\\frac{\\partial v_y}{\\partial y} + \\frac{\\partial v_z}{\\partial z} = \\frac{\\partial v'_y}{\\partial y'} + \\frac{\\partial v'_z}{\\partial z'}$, which is the same as $\\nabla \\cdot \\textbf v = \\nabla \\cdot \\textbf v'$."
   ]
  },
  {
   "cell_type": "markdown",
   "metadata": {},
   "source": [
    "In problem 1.14, we used:"
   ]
  },
  {
   "cell_type": "markdown",
   "metadata": {},
   "source": [
    "$$ \\frac{\\partial f}{\\partial y'} = \\frac{\\partial f}{\\partial y}\\frac{\\partial y}{\\partial y'} + \\frac{\\partial f}{\\partial z}\\frac{\\partial z}{\\partial y'}$$"
   ]
  },
  {
   "cell_type": "markdown",
   "metadata": {},
   "source": [
    "So we can take the equality that we want to show, and replace the right side like so:"
   ]
  },
  {
   "cell_type": "markdown",
   "metadata": {},
   "source": [
    "$$\n",
    "\\frac{\\partial v_y}{\\partial y} + \\frac{\\partial v_z}{\\partial z}\n",
    "=\n",
    "\\frac{\\partial v'_y}{\\partial y'} + \\frac{\\partial v'_z}{\\partial z'}\n",
    "$$"
   ]
  },
  {
   "cell_type": "markdown",
   "metadata": {},
   "source": [
    "$$\n",
    "\\frac{\\partial v_y}{\\partial y} + \\frac{\\partial v_z}{\\partial z}\n",
    "=\n",
    "(\\frac{\\partial v'_y}{\\partial y}\\frac{\\partial y}{\\partial y'}\n",
    "+ \\frac{\\partial v'_y}{\\partial z}\\frac{\\partial z}{\\partial y'})\n",
    "+ (\\frac{\\partial v'_z}{\\partial y}\\frac{\\partial y}{\\partial z'}\n",
    "+ \\frac{\\partial v'_z}{\\partial z}\\frac{\\partial z}{\\partial z'})\n",
    "$$"
   ]
  },
  {
   "cell_type": "markdown",
   "metadata": {},
   "source": [
    "We can reuse the following derivatives that we calculated in 1.14:"
   ]
  },
  {
   "cell_type": "markdown",
   "metadata": {},
   "source": [
    "$$ \\frac{\\partial y}{\\partial y'} = \\cos\\phi $$\n",
    "$$ \\frac{\\partial y}{\\partial z'} = -\\sin\\phi $$\n",
    "$$ \\frac{\\partial z}{\\partial y'} = \\sin\\phi $$\n",
    "$$ \\frac{\\partial z}{\\partial z'} = \\cos\\phi $$"
   ]
  },
  {
   "cell_type": "markdown",
   "metadata": {},
   "source": [
    "Now let's plug those in:"
   ]
  },
  {
   "cell_type": "markdown",
   "metadata": {},
   "source": [
    "$$\n",
    "\\frac{\\partial v_y}{\\partial y} + \\frac{\\partial v_z}{\\partial z}\n",
    "=\n",
    "\\frac{\\partial v'_y}{\\partial y}\\cos\\phi\n",
    "+ \\frac{\\partial v'_y}{\\partial z}\\sin\\phi\n",
    "+ - \\frac{\\partial v'_z}{\\partial y}\\sin\\phi\n",
    "+ \\frac{\\partial v'_z}{\\partial z}\\cos\\phi\n",
    "$$"
   ]
  },
  {
   "cell_type": "markdown",
   "metadata": {},
   "source": [
    "Now let's substitute in $v$ to the rotation equation:"
   ]
  },
  {
   "cell_type": "markdown",
   "metadata": {},
   "source": [
    "$$\n",
    "\\begin{pmatrix}\n",
    "v'_y \\\\ v'_z\n",
    "\\end {pmatrix}\n",
    "=\n",
    "\\begin{pmatrix}\n",
    "\\cos\\phi & \\sin\\phi \\\\\n",
    "-\\sin\\phi & \\cos\\phi\n",
    "\\end{pmatrix}\n",
    "\\begin{pmatrix}\n",
    "v_y \\\\ v_z\n",
    "\\end{pmatrix}\n",
    "\n",
    "$$"
   ]
  },
  {
   "cell_type": "markdown",
   "metadata": {},
   "source": [
    "The reverse rotation equation is:"
   ]
  },
  {
   "cell_type": "markdown",
   "metadata": {},
   "source": [
    "$$\n",
    "\\begin{pmatrix}\n",
    "v_y \\\\ v_z\n",
    "\\end {pmatrix}\n",
    "=\n",
    "\\begin{pmatrix}\n",
    "\\cos\\phi & -\\sin\\phi \\\\\n",
    "\\sin\\phi & \\cos\\phi\n",
    "\\end{pmatrix}\n",
    "\\begin{pmatrix}\n",
    "v'_y \\\\ v'_z\n",
    "\\end{pmatrix}\n",
    "$$"
   ]
  },
  {
   "cell_type": "markdown",
   "metadata": {},
   "source": [
    "After doing the matrix-vector multiplication, that becomes two equations:"
   ]
  },
  {
   "cell_type": "markdown",
   "metadata": {},
   "source": [
    "$$ v_y = v'_y \\cos\\phi - v'_z \\sin\\phi $$\n",
    "$$ v_z = v'_y \\sin\\phi + v'_z \\cos\\phi $$"
   ]
  },
  {
   "cell_type": "markdown",
   "metadata": {},
   "source": [
    "We can differentiate those to get:"
   ]
  },
  {
   "cell_type": "markdown",
   "metadata": {},
   "source": [
    "$$ \\frac{\\partial v_y}{\\partial y} = \\frac{\\partial v'_y}{\\partial y} \\cos\\phi - \\frac{\\partial v'_z}{\\partial y} \\sin\\phi $$\n",
    "$$ \\frac{\\partial v_z}{\\partial z} = \\frac{\\partial v'_y}{\\partial z} \\sin\\phi + \\frac{\\partial v'_z}{\\partial z} \\cos\\phi $$"
   ]
  },
  {
   "cell_type": "markdown",
   "metadata": {},
   "source": [
    "Now we'll take the earlier equation that we had (copied below) and substitute the derivatives on the left side like so:"
   ]
  },
  {
   "cell_type": "markdown",
   "metadata": {},
   "source": [
    "$$\n",
    "\\frac{\\partial v_y}{\\partial y} + \\frac{\\partial v_z}{\\partial z}\n",
    "=\n",
    "\\frac{\\partial v'_y}{\\partial y}\\cos\\phi\n",
    "+ \\frac{\\partial v'_y}{\\partial z}\\sin\\phi\n",
    "+ - \\frac{\\partial v'_z}{\\partial y}\\sin\\phi\n",
    "+ \\frac{\\partial v'_z}{\\partial z}\\cos\\phi\n",
    "$$"
   ]
  },
  {
   "cell_type": "markdown",
   "metadata": {},
   "source": [
    "$$\n",
    " \\frac{\\partial v'_y}{\\partial y} \\cos\\phi - \\frac{\\partial v'_z}{\\partial y} \\sin\\phi \n",
    "+ \\frac{\\partial v'_y}{\\partial z} \\sin\\phi + \\frac{\\partial v'_z}{\\partial z} \\cos\\phi\n",
    "=\n",
    "\\frac{\\partial v'_y}{\\partial y}\\cos\\phi\n",
    "+ \\frac{\\partial v'_y}{\\partial z}\\sin\\phi\n",
    "+ - \\frac{\\partial v'_z}{\\partial y}\\sin\\phi\n",
    "+ \\frac{\\partial v'_z}{\\partial z}\\cos\\phi\n",
    "$$"
   ]
  },
  {
   "cell_type": "markdown",
   "metadata": {},
   "source": [
    "And now it's simple to see that the left and right side of that equation are indeed the same. So we have shown that $\\nabla \\cdot \\textbf v = \\nabla \\cdot \\textbf v'$. So the divergence transforms as a scalar under rotations--that is, it does not change under rotations."
   ]
  },
  {
   "cell_type": "markdown",
   "metadata": {},
   "source": [
    "### Problem 1.18\n",
    "\n",
    "Calculate the curls of:"
   ]
  },
  {
   "cell_type": "markdown",
   "metadata": {},
   "source": [
    "(a) $\\textbf v_a = x^2 \\hat x + 3 x z^2 \\hat y - 2 x z \\hat z$\n",
    "\n",
    "(b) $\\textbf v_b = x y \\hat x + 2 y z \\hat y + 3 z x \\hat z$\n",
    "\n",
    "(c) $\\textbf v_c = y^2 \\hat x + (2 x y + z^2) \\hat y + 2 y z \\hat z$"
   ]
  },
  {
   "cell_type": "markdown",
   "metadata": {},
   "source": [
    "$$\n",
    "\\nabla \\times \\textbf v_a =\n",
    "\\begin{vmatrix}\n",
    "\\hat x & \\hat y & \\hat z \\\\\n",
    "\\partial/\\partial x & \\partial/\\partial y & \\partial/\\partial z \\\\\n",
    "x^2 & 3xz^2 & -2xz\n",
    "\\end{vmatrix}\n",
    "$$\n"
   ]
  },
  {
   "cell_type": "markdown",
   "metadata": {},
   "source": [
    "$$\n",
    "= (0 - 6xz)\\hat x + (0 + 2z)\\hat y + (3z^2 - 0)\\hat z\n",
    "= -6xz \\hat x + 2z \\hat y + 3z^2 \\hat z\n",
    "$$"
   ]
  },
  {
   "cell_type": "markdown",
   "metadata": {},
   "source": [
    "$$\n",
    "\\nabla \\times \\textbf v_b =\n",
    "\\begin{vmatrix}\n",
    "\\hat x & \\hat y & \\hat z \\\\\n",
    "\\partial/\\partial x & \\partial/\\partial y & \\partial/\\partial z \\\\\n",
    "xy & 2yz & 3zx\n",
    "\\end{vmatrix}\n",
    "$$"
   ]
  },
  {
   "cell_type": "markdown",
   "metadata": {},
   "source": [
    "$$\n",
    "= (0 - 2y)\\hat x + (0 - 3z)\\hat y + (0 - x)\\hat z\n",
    "= -2y\\hat x - 3z \\hat y - x \\hat z\n",
    "$$"
   ]
  },
  {
   "cell_type": "markdown",
   "metadata": {},
   "source": [
    "$$\n",
    "\\nabla \\times \\textbf v_c =\n",
    "\\begin{vmatrix}\n",
    "\\hat x & \\hat y & \\hat z \\\\\n",
    "\\partial/\\partial x & \\partial/\\partial y & \\partial/\\partial z \\\\\n",
    "y^2 & (2xy+z^2) & 2yz\n",
    "\\end{vmatrix}\n",
    "$$"
   ]
  },
  {
   "cell_type": "markdown",
   "metadata": {},
   "source": [
    "$$\n",
    "= (2z - 2z)\\hat x + (0 - 0)\\hat y + (2y - 2y)\\hat z = 0\n",
    "$$"
   ]
  },
  {
   "cell_type": "markdown",
   "metadata": {},
   "source": [
    "### Problem 1.19\n",
    "\n",
    "Draw a circle in the $xy$-plane. At a few representative points, draw the vector $\\textbf v$ tangent to the circle, pointing in the clockwise direction. By comparing adjacent vectors, determine the sign of $\\partial v_x/\\partial y$ and $\\partial v_y/\\partial x$. According to the equation for curl, what is the direction of $\\nabla \\times \\textbf v$? Explain how this example illustrates the geometrical interpretation of the curl. "
   ]
  },
  {
   "cell_type": "code",
   "execution_count": 2,
   "metadata": {},
   "outputs": [
    {
     "data": {
      "image/png": "[encoded data removed]",
      "text/plain": [
       "<Figure size 640x480 with 1 Axes>"
      ]
     },
     "metadata": {},
     "output_type": "display_data"
    }
   ],
   "source": [
    "import matplotlib.pyplot as plt\n",
    "import numpy as np\n",
    "\n",
    "circle_theta = np.linspace(0, 2 * np.pi)\n",
    "R = 1\n",
    "\n",
    "circle_x = R * np.cos(circle_theta)\n",
    "circle_y = R * np.sin(circle_theta)\n",
    "\n",
    "plt.plot(circle_x, circle_y)\n",
    "\n",
    "theta = np.linspace(0, 2 * np.pi, 17)\n",
    "\n",
    "x = R * np.cos(theta)\n",
    "y = R * np.sin(theta)\n",
    "\n",
    "v_mag = 0.5\n",
    "\n",
    "v = v_mag * np.stack([y, -x], axis=-1)\n",
    "\n",
    "for x_, y_, v_ in zip(x, y, v):\n",
    "  plt.arrow(x_, y_, v_[0], v_[1], head_width=0.04)\n",
    "\n",
    "plt.axis('square')\n",
    "plt.xlabel('x')\n",
    "plt.ylabel('y')\n",
    "plt.show()"
   ]
  },
  {
   "cell_type": "markdown",
   "metadata": {},
   "source": [
    "Now what is the sign of $\\partial v_x/\\partial y$? On the top half of the circle, when $y > 0$, $v_x$ is always positive. On the bottom half, when $y < 0$, $v_x$ is always negative. Along the circle, it seems that the greater $y$ is, $v_x$ increases, and the lesser $y$ is, $v_x$ decreases. Therefore, $\\partial v_x/\\partial y > 0$."
   ]
  },
  {
   "cell_type": "markdown",
   "metadata": {},
   "source": [
    "By a similar line of reasoning, we can see that as $x$ increases along the circle, $v_y$ decreases. As $x$ decreases, $v_y$ increases. Therefore, $\\partial v_y/\\partial x < 0$."
   ]
  },
  {
   "cell_type": "markdown",
   "metadata": {},
   "source": [
    "The equation for curl is:"
   ]
  },
  {
   "cell_type": "markdown",
   "metadata": {},
   "source": [
    "$$\n",
    "\\nabla \\times \\textbf v =\n",
    "\\begin{vmatrix}\n",
    "\\hat x & \\hat y & \\hat z \\\\\n",
    "\\partial/\\partial x & \\partial/\\partial y & \\partial/\\partial z \\\\\n",
    "v_x & v_y & v_z\n",
    "\\end{vmatrix}\n",
    "\n",
    "$$"
   ]
  },
  {
   "cell_type": "markdown",
   "metadata": {},
   "source": [
    "$$ = \\hat x (\\frac{\\partial v_z}{\\partial y} - \\frac{\\partial v_y}{\\partial z}) + \\hat y(\\frac{\\partial v_x}{\\partial z} - \\frac{\\partial v_z}{\\partial x}) + \\hat z(\\frac{\\partial v_y}{\\partial x} - \\frac{\\partial v_x}{\\partial y}) $$"
   ]
  },
  {
   "cell_type": "markdown",
   "metadata": {},
   "source": [
    "Since $\\textbf{v}$ is always tangent to a circle in the $xy$ plane, then $v_z = 0$. Therefore, $\\partial v_z/\\partial x = 0$ and $\\partial v_z/\\partial y = 0$.\n",
    "\n",
    "Also, presumably, $\\textbf{v}$ has no dependence on $z$, so $\\partial v_y/\\partial z = 0$ and $\\partial v_x/\\partial z = 0$.\n",
    "\n",
    "Substituting those values in, we get:"
   ]
  },
  {
   "cell_type": "markdown",
   "metadata": {},
   "source": [
    "$$ \\nabla \\times \\textbf{v} = \\hat z(\\frac{\\partial v_y}{\\partial x} - \\frac{\\partial v_x}{\\partial y}) $$"
   ]
  },
  {
   "cell_type": "markdown",
   "metadata": {},
   "source": [
    "Since $\\partial v_x/\\partial y > 0$ and $\\partial v_y/\\partial x < 0$, then $\\nabla \\times \\textbf{v}$ must point along the negative $z$-axis, $-\\hat z$. And if we use the right hand rule from the geometrical interpretation, we reach the same conclusion that if the field is pointing in the clockwise direction in the $xy$-plane, then the curl must be pointing in the $-\\hat z$ direction."
   ]
  },
  {
   "cell_type": "markdown",
   "metadata": {},
   "source": [
    "### Problem 1.20\n",
    "\n",
    "Construct a vector function that has zero divergence and zero curl everywhere, but make it something a little more interesting than a constant function."
   ]
  },
  {
   "cell_type": "markdown",
   "metadata": {},
   "source": [
    "Let's set the general equations for curl and divergence equal to 0:"
   ]
  },
  {
   "cell_type": "markdown",
   "metadata": {},
   "source": [
    "$$ \\nabla \\cdot \\textbf{v} = \\frac{\\partial v_x}{\\partial x} + \\frac{\\partial v_y}{\\partial y} + \\frac{\\partial v_z}{\\partial z} = 0 $$"
   ]
  },
  {
   "cell_type": "markdown",
   "metadata": {},
   "source": [
    "$$ \\nabla \\times \\textbf{v} = \\hat x (\\frac{\\partial v_z}{\\partial y} - \\frac{\\partial v_y}{\\partial z}) + \\hat y(\\frac{\\partial v_x}{\\partial z} - \\frac{\\partial v_z}{\\partial x}) + \\hat z(\\frac{\\partial v_y}{\\partial x} - \\frac{\\partial v_x}{\\partial y}) = 0 $$"
   ]
  },
  {
   "cell_type": "markdown",
   "metadata": {},
   "source": [
    "We really have four different equations that our choice of $\\textbf{v}$ must satisfy:"
   ]
  },
  {
   "cell_type": "markdown",
   "metadata": {},
   "source": [
    "$$ \\frac{\\partial v_x}{\\partial x} + \\frac{\\partial v_y}{\\partial y} + \\frac{\\partial v_z}{\\partial z} = 0 $$\n",
    "\n",
    "$$ \\frac{\\partial v_z}{\\partial y} - \\frac{\\partial v_y}{\\partial z} = 0 $$\n",
    "\n",
    "$$ \\frac{\\partial v_x}{\\partial z} - \\frac{\\partial v_z}{\\partial x} = 0 $$\n",
    "\n",
    "$$\\frac{\\partial v_y}{\\partial x} - \\frac{\\partial v_x}{\\partial y} = 0 $$"
   ]
  },
  {
   "cell_type": "markdown",
   "metadata": {},
   "source": [
    "I'll just choose to set $v_x = z^2$ and plug that into the equation for the $\\hat y$ component of the curl to find $v_z$."
   ]
  },
  {
   "cell_type": "markdown",
   "metadata": {},
   "source": [
    "\n",
    "$$ \\frac{\\partial v_x}{\\partial z} - \\frac{\\partial v_z}{\\partial x} = 2 z - \\frac{\\partial v_z}{\\partial x} = 0 $$\n",
    "$$\\frac{\\partial v_z}{\\partial x} = 2 z $$\n",
    "$$ v_z = 2 x z + C_0 $$\n"
   ]
  },
  {
   "cell_type": "markdown",
   "metadata": {},
   "source": [
    "Let's set $C_0 = 0$"
   ]
  },
  {
   "cell_type": "markdown",
   "metadata": {},
   "source": [
    "$$ v_z = 2xz $$"
   ]
  },
  {
   "cell_type": "markdown",
   "metadata": {},
   "source": [
    "Now we'll solve for $v_y$ using the divergence equation."
   ]
  },
  {
   "cell_type": "markdown",
   "metadata": {},
   "source": [
    "$$ \\frac{\\partial v_x}{\\partial x} + \\frac{\\partial v_y}{\\partial y} + \\frac{\\partial v_z}{\\partial z} = 0 $$\n",
    "$$ 0 + \\frac{\\partial v_y}{\\partial y} + 2x = 0 $$\n",
    "$$ \\frac{\\partial v_y}{\\partial y} = -2x $$\n",
    "$$ v_y = -2xy + C_1 $$"
   ]
  },
  {
   "cell_type": "markdown",
   "metadata": {},
   "source": [
    "Let's set $C_1 = 0$"
   ]
  },
  {
   "cell_type": "markdown",
   "metadata": {},
   "source": [
    "$$ v_y = -2xy $$"
   ]
  },
  {
   "cell_type": "markdown",
   "metadata": {},
   "source": [
    "Now we have to double check that the components we chose also satisfy the equations for the $\\hat x$ and $\\hat z$ components of the curl function. First the $\\hat x$ component:"
   ]
  },
  {
   "cell_type": "markdown",
   "metadata": {},
   "source": [
    "$$ \\frac{\\partial v_z}{\\partial y} - \\frac{\\partial v_y}{\\partial z} = 0 $$\n",
    "$$ 0 - 0 = 0 $$\n"
   ]
  },
  {
   "cell_type": "markdown",
   "metadata": {},
   "source": [
    "Next the $\\hat z$ component:"
   ]
  },
  {
   "cell_type": "markdown",
   "metadata": {},
   "source": [
    "\n",
    "$$\\frac{\\partial v_y}{\\partial x} - \\frac{\\partial v_x}{\\partial y} = 0 $$\n",
    "$$ -2y - 0 = 0 $$"
   ]
  },
  {
   "cell_type": "markdown",
   "metadata": {},
   "source": [
    "Well that one didn't work. How about we change our choice of $v_x$ to be $z^2 - y^2$?\n",
    "\n",
    "So to recap, we're trying:\n",
    "\n",
    "$$ v_x = z^2 - y^2 $$\n",
    "$$ v_y = -2xy $$\n",
    "$$ v_z = 2xz $$"
   ]
  },
  {
   "cell_type": "markdown",
   "metadata": {},
   "source": [
    "Let's check with the four equations:"
   ]
  },
  {
   "cell_type": "markdown",
   "metadata": {},
   "source": [
    "$$ \\frac{\\partial v_x}{\\partial x} + \\frac{\\partial v_y}{\\partial y} + \\frac{\\partial v_z}{\\partial z} = 0 -2x + 2x = 0 $$\n",
    "\n",
    "$$ \\frac{\\partial v_z}{\\partial y} - \\frac{\\partial v_y}{\\partial z} = 0 - 0 = 0 $$\n",
    "\n",
    "$$ \\frac{\\partial v_x}{\\partial z} - \\frac{\\partial v_z}{\\partial x} = 2z - 2z = 0 $$\n",
    "\n",
    "$$\\frac{\\partial v_y}{\\partial x} - \\frac{\\partial v_x}{\\partial y} = -2y - (-2y) = 0 $$"
   ]
  },
  {
   "cell_type": "markdown",
   "metadata": {},
   "source": [
    "Alright, so we've found an equation for $\\textbf{v}$ which is not just a constant, which has 0 curl and 0 divergence:"
   ]
  },
  {
   "cell_type": "markdown",
   "metadata": {},
   "source": [
    "$$ \\textbf{v} = (z^2 - y^2)\\hat x -2xy \\hat y + 2xz \\hat z $$"
   ]
  }
 ],
 "metadata": {
  "kernelspec": {
   "display_name": "main",
   "language": "python",
   "name": "python3"
  },
  "language_info": {
   "codemirror_mode": {
    "name": "ipython",
    "version": 3
   },
   "file_extension": ".py",
   "mimetype": "text/x-python",
   "name": "python",
   "nbconvert_exporter": "python",
   "pygments_lexer": "ipython3",
   "version": "3.11.3"
  }
 },
 "nbformat": 4,
 "nbformat_minor": 2
}
