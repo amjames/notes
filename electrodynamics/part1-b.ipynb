{
 "cells": [
  {
   "cell_type": "markdown",
   "metadata": {},
   "source": [
    "## Product Rules\n",
    "\n",
    "Vector derivatives have essentially the same sum rules as ordinary derivatives:"
   ]
  },
  {
   "cell_type": "markdown",
   "metadata": {},
   "source": [
    "$$ \\nabla(f + g) = \\nabla f + \\nabla g $$\n",
    "$$ \\nabla \\cdot (\\textbf A + \\textbf B) = (\\nabla \\cdot \\textbf A) + (\\nabla \\cdot \\textbf B) $$\n",
    "$$ \\nabla \\times (\\textbf A + \\textbf B) = (\\nabla \\times \\textbf A) + (\\nabla \\times \\textbf B) $$\n"
   ]
  },
  {
   "cell_type": "markdown",
   "metadata": {},
   "source": [
    "The rules for multiplying by a constant are also the same as they are for ordinary derivatives:"
   ]
  },
  {
   "cell_type": "markdown",
   "metadata": {},
   "source": [
    "$$ \\nabla(kf) = k (\\nabla f) $$\n",
    "$$ \\nabla \\cdot(k \\textbf A) = k (\\nabla \\cdot \\textbf A) $$\n",
    "$$ \\nabla \\times (k \\textbf A) = k (\\nabla \\times \\textbf A) $$"
   ]
  },
  {
   "cell_type": "markdown",
   "metadata": {},
   "source": [
    "However, the product rules are a different story. There are two different ways to construct a scalar as the product of two functions:\n",
    "\n",
    "* $fg$, the product of two scalar functions\n",
    "* $\\textbf A \\cdot \\textbf B$, dot product of two vector functions"
   ]
  },
  {
   "cell_type": "markdown",
   "metadata": {},
   "source": [
    "And there are two ways to make a vector:\n",
    "\n",
    "* $f \\textbf A$, scalar times vector function\n",
    "* $\\textbf A \\times \\textbf B$, cross product of two vector functions"
   ]
  },
  {
   "cell_type": "markdown",
   "metadata": {},
   "source": [
    "Since there is one type of vector derivatives for scalar functions (gradient) and two types of vector derivatives for vector functions (divergence and curl), then in total, we have $(2 \\text{ scalar products})(1 \\text{ derivative per scalar func}) + (2 \\text{ vector products})(2 \\text{ derivatives per vector func}) = 2 + 4 = 6$ different product rules.\n",
    "\n",
    "Here are the product rules:"
   ]
  },
  {
   "cell_type": "markdown",
   "metadata": {},
   "source": [
    "(i) Gradient of product of two scalars\n"
   ]
  },
  {
   "cell_type": "markdown",
   "metadata": {},
   "source": [
    "\n",
    "$$ \\nabla(fg) =f \\nabla g + g \\nabla f $$"
   ]
  },
  {
   "cell_type": "markdown",
   "metadata": {},
   "source": [
    "(ii) Gradient of dot product of two vectors\n"
   ]
  },
  {
   "cell_type": "markdown",
   "metadata": {},
   "source": [
    "\n",
    "$$ \\nabla(\\textbf A \\cdot \\textbf B) = \\textbf A \\times (\\nabla \\times \\textbf B) + \\textbf B \\times (\\nabla \\times \\textbf A) + (\\textbf A \\cdot \\nabla) \\textbf B + (\\textbf B \\cdot \\nabla) \\textbf A $$"
   ]
  },
  {
   "cell_type": "markdown",
   "metadata": {},
   "source": [
    "(iii) Divergence of scalar times vector\n"
   ]
  },
  {
   "cell_type": "markdown",
   "metadata": {},
   "source": [
    "\n",
    "$$ \\nabla \\cdot (f \\textbf A) = f(\\nabla \\cdot \\textbf A) + \\textbf A \\cdot (\\nabla f) $$"
   ]
  },
  {
   "cell_type": "markdown",
   "metadata": {},
   "source": [
    "(iv) Divergence of cross product of two vectors\n"
   ]
  },
  {
   "cell_type": "markdown",
   "metadata": {},
   "source": [
    "\n",
    "$$ \\nabla \\cdot (\\textbf A \\times \\textbf B) = \\textbf B \\cdot (\\nabla \\times \\textbf A) - \\textbf A \\cdot (\\nabla \\times \\textbf B) $$"
   ]
  },
  {
   "cell_type": "markdown",
   "metadata": {},
   "source": [
    "(v) Curl of scalar times vector\n"
   ]
  },
  {
   "cell_type": "markdown",
   "metadata": {},
   "source": [
    "\n",
    "$$ \\nabla \\times (f \\textbf A) = f (\\nabla \\times \\textbf A) - \\textbf A \\times (\\nabla f) $$"
   ]
  },
  {
   "cell_type": "markdown",
   "metadata": {},
   "source": [
    "(vi) Curl of cross product of two vectors\n"
   ]
  },
  {
   "cell_type": "markdown",
   "metadata": {},
   "source": [
    "\n",
    "$$ \\nabla \\times (\\textbf A \\times \\textbf B) = (\\textbf B \\cdot \\nabla) \\textbf A - (\\textbf A \\cdot \\nabla) \\textbf B + \\textbf A (\\nabla \\cdot \\textbf B) - \\textbf B (\\nabla \\cdot \\textbf A) $$"
   ]
  },
  {
   "cell_type": "markdown",
   "metadata": {},
   "source": [
    "### Problem 1.21\n",
    "\n",
    "Prove the product rules i, iii, iv, and v."
   ]
  },
  {
   "cell_type": "markdown",
   "metadata": {},
   "source": [
    "#### (i)"
   ]
  },
  {
   "cell_type": "markdown",
   "metadata": {},
   "source": [
    "$$ \\nabla(fg) = \\hat x (\\frac{\\partial f g}{\\partial x}) + \\hat y (\\frac{\\partial f g}{\\partial y}) + \\hat z (\\frac{\\partial f g}{\\partial z}) $$\n"
   ]
  },
  {
   "cell_type": "markdown",
   "metadata": {},
   "source": [
    "We can use the product rule for ordinary derivatives for each term, like so:"
   ]
  },
  {
   "cell_type": "markdown",
   "metadata": {},
   "source": [
    "$$\n",
    "= \\hat x (f \\frac{\\partial g}{\\partial x} + g \\frac{\\partial f}{\\partial x})\n",
    "+ \\hat y (f \\frac{\\partial g}{\\partial y} + g \\frac{\\partial f}{\\partial y})\n",
    "+ \\hat z (f \\frac{\\partial g}{\\partial z} + g \\frac{\\partial f}{\\partial z})\n",
    "$$\n",
    "$$\n",
    "= (\\hat x f \\frac{\\partial g}{\\partial x}\n",
    "+ \\hat y f \\frac{\\partial g}{\\partial y}\n",
    "+ \\hat z f \\frac{\\partial g}{\\partial z})\n",
    "+ (\\hat x g \\frac{\\partial f}{\\partial x}\n",
    "+ \\hat y g \\frac{\\partial f}{\\partial y}\n",
    "+ \\hat z g \\frac{\\partial f}{\\partial z})\n",
    "$$\n",
    "$$\n",
    "= f (\\hat x \\frac{\\partial g}{\\partial x}\n",
    "+ \\hat y \\frac{\\partial g}{\\partial y}\n",
    "+ \\hat z \\frac{\\partial g}{\\partial z})\n",
    "+ g (\\hat x \\frac{\\partial f}{\\partial x}\n",
    "+ \\hat y \\frac{\\partial f}{\\partial y}\n",
    "+ \\hat z \\frac{\\partial f}{\\partial z})\n",
    "$$\n",
    "$$\n",
    "= f \\nabla g + g \\nabla f\n",
    "$$"
   ]
  },
  {
   "cell_type": "markdown",
   "metadata": {},
   "source": [
    "### (iii)"
   ]
  },
  {
   "cell_type": "markdown",
   "metadata": {},
   "source": [
    "$$ \\nabla \\cdot (f \\textbf A) = \\frac{\\partial f A_x}{\\partial x} + \\frac{\\partial f A_y}{\\partial y} + \\frac{\\partial f A_z}{\\partial z} $$"
   ]
  },
  {
   "cell_type": "markdown",
   "metadata": {},
   "source": [
    "$$ = (f \\frac{\\partial A_x}{\\partial x} + A_x \\frac{\\partial f}{\\partial x}) + (f \\frac{\\partial A_y}{\\partial y} + A_y \\frac{\\partial f}{\\partial y}) + (f \\frac{\\partial A_z}{\\partial z} + A_z \\frac{\\partial f}{\\partial z})$$\n",
    "$$\n",
    "= (f \\frac{\\partial A_x}{\\partial x}\n",
    "+ f \\frac{\\partial A_y}{\\partial y}\n",
    "+ f \\frac{\\partial A_z}{\\partial z})\n",
    "+ (A_x \\frac{\\partial f}{\\partial x}\n",
    "+ A_y \\frac{\\partial f}{\\partial y}\n",
    "+ A_z \\frac{\\partial f}{\\partial z})\n",
    "$$\n",
    "$$\n",
    "= f (\\frac{\\partial A_x}{\\partial x}\n",
    "+ \\frac{\\partial A_y}{\\partial y}\n",
    "+ \\frac{\\partial A_z}{\\partial z})\n",
    "+ \\textbf A \\cdot (\\hat x \\frac{\\partial f}{\\partial x}\n",
    "+ \\hat y \\frac{\\partial f}{\\partial y}\n",
    "+ \\hat z \\frac{\\partial f}{\\partial z})\n",
    "$$\n",
    "$$\n",
    "= f (\\nabla \\cdot \\textbf A)\n",
    "+ \\textbf A \\cdot (\\nabla f)\n",
    "$$"
   ]
  },
  {
   "cell_type": "markdown",
   "metadata": {},
   "source": [
    "#### (iv)"
   ]
  },
  {
   "cell_type": "markdown",
   "metadata": {},
   "source": [
    "$$ \\nabla \\cdot (\\textbf A \\times \\textbf B) = \\nabla \\cdot\n",
    "\\begin{vmatrix}\n",
    "\\hat x & \\hat y & \\hat z \\\\\n",
    "A_x & A_y & A_z \\\\\n",
    "B_x & B_y & B_z\n",
    "\\end{vmatrix}\n",
    "$$"
   ]
  },
  {
   "cell_type": "markdown",
   "metadata": {},
   "source": [
    "$$ = \\nabla \\cdot (\\hat x (A_y B_z - A_z B_y) + \\hat y (A_z B_x - A_x B_z) + \\hat z (A_x B_y - A_y B_x)) $$"
   ]
  },
  {
   "cell_type": "markdown",
   "metadata": {},
   "source": [
    "$$ = \\frac{\\partial}{\\partial x} (A_y B_z - A_z B_y) + \\frac{\\partial}{\\partial y} (A_z B_x - A_x B_z) + \\frac{\\partial}{\\partial z} (A_x B_y - A_y B_x) $$"
   ]
  },
  {
   "cell_type": "markdown",
   "metadata": {},
   "source": [
    "$$\n",
    "= (A_y \\frac{\\partial B_z}{\\partial x}\n",
    "+ B_z \\frac{\\partial A_y}{\\partial x}\n",
    "- A_z \\frac{\\partial B_y}{\\partial x}\n",
    "- B_y \\frac{\\partial A_z}{\\partial x}) \\\\\n",
    "+ (A_z \\frac{\\partial B_x}{\\partial y}\n",
    "+ B_x \\frac{\\partial A_z}{\\partial y}\n",
    "- A_x \\frac{\\partial B_z}{\\partial y}\n",
    "- B_z \\frac{\\partial A_x}{\\partial y}) \\\\\n",
    "+ (A_x \\frac{\\partial B_y}{\\partial z}\n",
    "+ B_y \\frac{\\partial A_x}{\\partial z}\n",
    "- A_y \\frac{\\partial B_x}{\\partial z}\n",
    "- B_x \\frac{\\partial A_y}{\\partial z})\n",
    "$$"
   ]
  },
  {
   "cell_type": "markdown",
   "metadata": {},
   "source": [
    "$$\n",
    "= B_x \\frac{\\partial A_z}{\\partial y}\n",
    "- B_x \\frac{\\partial A_y}{\\partial z}\n",
    "+ B_y \\frac{\\partial A_x}{\\partial z}\n",
    "- B_y \\frac{\\partial A_z}{\\partial x}\n",
    "+ B_z \\frac{\\partial A_y}{\\partial x}\n",
    "- B_z \\frac{\\partial A_x}{\\partial y}\n",
    "\\\\\n",
    "- A_x \\frac{\\partial B_z}{\\partial y}\n",
    "+ A_x \\frac{\\partial B_y}{\\partial z}\n",
    "- A_y \\frac{\\partial B_x}{\\partial z}\n",
    "+ A_y \\frac{\\partial B_z}{\\partial x}\n",
    "- A_z \\frac{\\partial B_y}{\\partial x}\n",
    "+ A_z \\frac{\\partial B_x}{\\partial y}\n",
    "$$"
   ]
  },
  {
   "cell_type": "markdown",
   "metadata": {},
   "source": [
    "$$\n",
    "= B_x (\\frac{\\partial A_z}{\\partial y} - \\frac{\\partial A_y}{\\partial z})\n",
    "+ B_y (\\frac{\\partial A_x}{\\partial z} - \\frac{\\partial A_z}{\\partial x})\n",
    "+ B_z (\\frac{\\partial A_y}{\\partial x} - \\frac{\\partial A_x}{\\partial y})\n",
    "\\\\\n",
    "- A_x (\\frac{\\partial B_z}{\\partial y} - \\frac{\\partial B_y}{\\partial z})\n",
    "- A_y (\\frac{\\partial B_x}{\\partial z} - \\frac{\\partial B_z}{\\partial x})\n",
    "- A_z (\\frac{\\partial B_y}{\\partial x} - \\frac{\\partial B_x}{\\partial y})\n",
    "$$"
   ]
  },
  {
   "cell_type": "markdown",
   "metadata": {},
   "source": [
    "$$\n",
    "= \\textbf B \\cdot\n",
    "(\\hat x (\\frac{\\partial A_z}{\\partial y} - \\frac{\\partial A_y}{\\partial z})\n",
    "+ \\hat y (\\frac{\\partial A_x}{\\partial z} - \\frac{\\partial A_z}{\\partial x})\n",
    "+ \\hat z (\\frac{\\partial A_y}{\\partial x} - \\frac{\\partial A_x}{\\partial y}))\n",
    "\\\\\n",
    "- \\textbf A \\cdot\n",
    "(\\hat x (\\frac{\\partial B_z}{\\partial y} - \\frac{\\partial B_y}{\\partial z})\n",
    "+ \\hat y (\\frac{\\partial B_x}{\\partial z} - \\frac{\\partial B_z}{\\partial x})\n",
    "+ \\hat z (\\frac{\\partial B_y}{\\partial x} - \\frac{\\partial B_x}{\\partial y}))\n",
    "$$"
   ]
  },
  {
   "cell_type": "markdown",
   "metadata": {},
   "source": [
    "$$ = \\textbf B \\cdot\n",
    "\\begin{vmatrix}\n",
    "\\hat x & \\hat y & \\hat z \\\\\n",
    "\\partial/\\partial x & \\partial/\\partial y & \\partial /\\partial z \\\\\n",
    "A_x & A_y & A_z\n",
    "\\end{vmatrix}\n",
    "- \\textbf A \\cdot \n",
    "\\begin{vmatrix}\n",
    "\\hat x & \\hat y & \\hat z \\\\\n",
    "\\partial/\\partial x & \\partial/\\partial y & \\partial /\\partial z \\\\\n",
    "B_x & B_y & B_z\n",
    "\\end{vmatrix}\n",
    "$$"
   ]
  },
  {
   "cell_type": "markdown",
   "metadata": {},
   "source": [
    "$$ = \\textbf B \\cdot (\\nabla \\times \\textbf A) - \\textbf A \\cdot (\\nabla \\times \\textbf B) $$"
   ]
  },
  {
   "cell_type": "markdown",
   "metadata": {},
   "source": [
    "#### (v)"
   ]
  },
  {
   "cell_type": "markdown",
   "metadata": {},
   "source": [
    "$$ \\nabla \\times (f \\textbf A) = \\begin{vmatrix}\n",
    "\\hat x & \\hat y & \\hat z \\\\\n",
    "\\partial/\\partial x & \\partial/\\partial y & \\partial/\\partial z \\\\\n",
    "f A_x & f A_y & f A_z\n",
    "\\end{vmatrix} $$"
   ]
  },
  {
   "cell_type": "markdown",
   "metadata": {},
   "source": [
    "$$ \n",
    "= \\hat x (\\frac{\\partial f A_z}{\\partial y} - \\frac{\\partial f A_y}{\\partial z})\n",
    "+ \\hat y (\\frac{\\partial f A_x}{\\partial z} - \\frac{\\partial f A_z}{\\partial x})\n",
    "+ \\hat z (\\frac{\\partial f A_y}{\\partial x} - \\frac{\\partial f A_x}{\\partial y})\n",
    "$$"
   ]
  },
  {
   "cell_type": "markdown",
   "metadata": {},
   "source": [
    "$$ \n",
    "= \\hat x (\n",
    "(f \\frac{\\partial A_z}{\\partial y} + A_z \\frac{\\partial f}{\\partial y})\n",
    "- (f \\frac{\\partial A_y}{\\partial z} + A_y \\frac{\\partial f}{\\partial z}))\n",
    "\\\\\n",
    "+ \\hat y (\n",
    "(f \\frac{\\partial A_x}{\\partial z} + A_x \\frac{\\partial f}{\\partial z})\n",
    "- (f \\frac{\\partial A_z}{\\partial x} + A_z \\frac{\\partial f}{\\partial x}))\n",
    "\\\\\n",
    "+ \\hat z (\n",
    "(f \\frac{\\partial A_y}{\\partial x} + A_y \\frac{\\partial f}{\\partial x})\n",
    "- (f \\frac{\\partial A_x}{\\partial y} + A_x \\frac{\\partial f}{\\partial y}))\n",
    "$$"
   ]
  },
  {
   "cell_type": "markdown",
   "metadata": {},
   "source": [
    "$$ \n",
    "= \\hat x (\n",
    "f \\frac{\\partial A_z}{\\partial y}\n",
    "- f \\frac{\\partial A_y}{\\partial z}\n",
    "+ A_z \\frac{\\partial f}{\\partial y}\n",
    "- A_y \\frac{\\partial f}{\\partial z}\n",
    ") \\\\\n",
    "+ \\hat y (\n",
    "f \\frac{\\partial A_x}{\\partial z}\n",
    "- f \\frac{\\partial A_z}{\\partial x}\n",
    "+ A_x \\frac{\\partial f}{\\partial z}\n",
    "- A_z \\frac{\\partial f}{\\partial x}\n",
    ") \\\\\n",
    "+ \\hat z (\n",
    "f \\frac{\\partial A_y}{\\partial x}\n",
    "- f \\frac{\\partial A_x}{\\partial y}\n",
    "+ A_y \\frac{\\partial f}{\\partial x}\n",
    "- A_x \\frac{\\partial f}{\\partial y}\n",
    ") $$"
   ]
  },
  {
   "cell_type": "markdown",
   "metadata": {},
   "source": [
    "$$ \n",
    "= \\hat x (\n",
    "f \\frac{\\partial A_z}{\\partial y}\n",
    "- f \\frac{\\partial A_y}{\\partial z})\n",
    "+ \\hat y (\n",
    "f \\frac{\\partial A_x}{\\partial z}\n",
    "- f \\frac{\\partial A_z}{\\partial x})\n",
    "+ \\hat z (\n",
    "f \\frac{\\partial A_y}{\\partial x}\n",
    "- f \\frac{\\partial A_x}{\\partial y})\n",
    "\\\\\n",
    "+ \\hat x(\n",
    "A_z \\frac{\\partial f}{\\partial y}\n",
    "- A_y \\frac{\\partial f}{\\partial z})\n",
    "+ \\hat y (\n",
    "A_x \\frac{\\partial f}{\\partial z}\n",
    "- A_z \\frac{\\partial f}{\\partial x})\n",
    "+ \\hat z (\n",
    "A_y \\frac{\\partial f}{\\partial x}\n",
    "- A_x \\frac{\\partial f}{\\partial y})\n",
    "$$"
   ]
  },
  {
   "cell_type": "markdown",
   "metadata": {},
   "source": [
    "$$ \n",
    "= f (\\hat x (\n",
    "\\frac{\\partial A_z}{\\partial y}\n",
    "- \\frac{\\partial A_y}{\\partial z})\n",
    "+ \\hat y (\n",
    "\\frac{\\partial A_x}{\\partial z}\n",
    "- \\frac{\\partial A_z}{\\partial x})\n",
    "+ \\hat z (\n",
    "\\frac{\\partial A_y}{\\partial x}\n",
    "- \\frac{\\partial A_x}{\\partial y}))\n",
    "\\\\\n",
    "- \\hat x(\n",
    "A_y \\frac{\\partial f}{\\partial z}\n",
    "- A_z \\frac{\\partial f}{\\partial y})\n",
    "- \\hat y (\n",
    "A_z \\frac{\\partial f}{\\partial x}\n",
    "- A_x \\frac{\\partial f}{\\partial z})\n",
    "- \\hat z (\n",
    "A_x \\frac{\\partial f}{\\partial y}\n",
    "- A_y \\frac{\\partial f}{\\partial x})\n",
    "$$"
   ]
  },
  {
   "cell_type": "markdown",
   "metadata": {},
   "source": [
    "$$ = f \\begin{vmatrix}\n",
    "\\hat x & \\hat y & \\hat z \\\\\n",
    "\\partial/\\partial x & \\partial/\\partial y & \\partial/\\partial z \\\\\n",
    "A_x & A_y & A_z\n",
    "\\end{vmatrix}\n",
    "- \\begin{vmatrix}\n",
    "\\hat x & \\hat y & \\hat z \\\\\n",
    "A_x & A_y & A_z \\\\\n",
    "\\partial f/\\partial x & \\partial f/\\partial y & \\partial f/\\partial z\n",
    "\\end{vmatrix}\n",
    "$$"
   ]
  },
  {
   "cell_type": "markdown",
   "metadata": {},
   "source": [
    "$$ = f (\\nabla \\times \\textbf A) - \\textbf A \\times (\\hat x \\frac{\\partial f}{\\partial x} + \\hat y \\frac{\\partial f}{\\partial y} + \\hat z \\frac{\\partial f}{\\partial z})$$"
   ]
  },
  {
   "cell_type": "markdown",
   "metadata": {},
   "source": [
    "$$ = f (\\nabla \\times \\textbf A) - \\textbf A \\times (\\nabla f) $$"
   ]
  },
  {
   "cell_type": "markdown",
   "metadata": {},
   "source": [
    "### Problem 1.22\n",
    "\n",
    "(a) If $\\textbf A$ and $\\textbf B$ are two vector functions, what does the expression $(\\textbf A \\cdot \\nabla)\\textbf B$ mean? That is, what are its x, y, and z components, in terms of the Cartesian components of $\\textbf A$, $\\textbf B$, and $\\nabla$?"
   ]
  },
  {
   "cell_type": "markdown",
   "metadata": {},
   "source": [
    "First, the expression $\\textbf A \\cdot \\nabla$:"
   ]
  },
  {
   "cell_type": "markdown",
   "metadata": {},
   "source": [
    "$$ \\textbf A \\cdot \\nabla = (\\hat x A_x + \\hat y A_y + \\hat z A_z) \\cdot (\\hat x \\frac{\\partial}{\\partial x} + \\hat y \\frac{\\partial}{\\partial y} + \\hat z\\frac{\\partial}{\\partial z}) $$\n",
    "$$ = A_x \\frac{\\partial}{\\partial x} + A_y \\frac{\\partial}{\\partial y} + A_z \\frac{\\partial}{\\partial z} $$"
   ]
  },
  {
   "cell_type": "markdown",
   "metadata": {},
   "source": [
    "Then adding in the $\\textbf B$ term:"
   ]
  },
  {
   "cell_type": "markdown",
   "metadata": {},
   "source": [
    "$$ (\\textbf A \\cdot \\nabla)\\textbf B =\n",
    "(A_x \\frac{\\partial}{\\partial x} + A_y \\frac{\\partial}{\\partial y} + A_z \\frac{\\partial}{\\partial z})(\\hat x B_x + \\hat y B_y + \\hat z B_z) $$\n",
    "$$\n",
    "= \\hat x (A_x \\frac{\\partial B_x}{\\partial x} + A_y \\frac{\\partial B_x}{\\partial y} + A_z \\frac{\\partial B_x}{\\partial z})\n",
    "+ \\hat y (A_x \\frac{\\partial B_y}{\\partial x} + A_y \\frac{\\partial B_y}{\\partial y} + A_z \\frac{\\partial B_y}{\\partial z})\n",
    "+ \\hat z (A_x \\frac{\\partial B_z}{\\partial x} + A_y \\frac{\\partial B_z}{\\partial y} + A_z \\frac{\\partial B_z}{\\partial z})\n",
    "$$"
   ]
  },
  {
   "cell_type": "markdown",
   "metadata": {},
   "source": [
    "(b) Compute $(\\hat r \\cdot \\nabla)\\hat r$, where $\\hat r$ is the unit vector"
   ]
  },
  {
   "cell_type": "markdown",
   "metadata": {
    "vscode": {
     "languageId": "plaintext"
    }
   },
   "source": [
    "$$ \\hat r = \\frac{\\textbf r}{r} = \\frac{x \\hat x + y \\hat y + z \\hat z}{\\sqrt{x^2 + y^2 + z^2}}"
   ]
  },
  {
   "cell_type": "markdown",
   "metadata": {},
   "source": [
    "$$ (\\hat r \\cdot \\nabla)\\hat r = (\\frac{1}{r}(x \\hat x + y \\hat y + z \\hat z) \\cdot \\nabla)(\\frac{x}{r} \\hat x + \\frac{y}{r} \\hat y + \\frac{z}{r} \\hat z) $$\n",
    "\n",
    "$$ = \\frac{1}{r}((x \\hat x + y \\hat y + z \\hat z) \\cdot \\nabla)(\\frac{x}{r} \\hat x + \\frac{y}{r} \\hat y + \\frac{z}{r} \\hat z) $$\n",
    "\n",
    "$$ = \\frac{1}{r}(x \\frac{\\partial}{\\partial x} + y \\frac{\\partial}{\\partial y} + z \\frac{\\partial}{\\partial z})(\\frac{x}{r} \\hat x + \\frac{y}{r} \\hat y + \\frac{z}{r} \\hat z) $$\n",
    "\n",
    "\n",
    "$$ = \\frac{1}{r}(\n",
    "\\hat x(\n",
    "  x \\frac{\\partial}{\\partial x}(\\frac{x}{r})\n",
    "+ y \\frac{\\partial}{\\partial y}(\\frac{x}{r})\n",
    "+ z \\frac{\\partial}{\\partial z}(\\frac{x}{r}))\n",
    "\\\\\n",
    "+ \\hat y(\n",
    "  x \\frac{\\partial}{\\partial x}(\\frac{y}{r})\n",
    "+ y \\frac{\\partial}{\\partial y}(\\frac{y}{r})\n",
    "+ z \\frac{\\partial}{\\partial z}(\\frac{y}{r}))\n",
    "\\\\\n",
    "+ \\hat z(\n",
    "  x \\frac{\\partial}{\\partial x}(\\frac{z}{r})\n",
    "+ y \\frac{\\partial}{\\partial y}(\\frac{z}{r})\n",
    "+ z \\frac{\\partial}{\\partial z}(\\frac{z}{r}))\n",
    ")\n",
    "$$"
   ]
  },
  {
   "cell_type": "markdown",
   "metadata": {},
   "source": [
    "Now I'll break up the problem into each individual ordinary derivative."
   ]
  },
  {
   "cell_type": "markdown",
   "metadata": {},
   "source": [
    "$$ \\frac{\\partial}{\\partial x}(\\frac{x}{r}) = \\frac{\\partial}{\\partial x}(\\frac{x}{\\sqrt{x^2 + y^2 + z^2}}) $$"
   ]
  },
  {
   "cell_type": "markdown",
   "metadata": {},
   "source": [
    "I'll use the product rule:"
   ]
  },
  {
   "cell_type": "markdown",
   "metadata": {},
   "source": [
    "$$ = \\frac{\\partial x A}{\\partial x} = x \\frac{\\partial A}{\\partial x} + A \\frac{\\partial x}{\\partial x} = x \\frac{\\partial A}{\\partial x} + A $$\n",
    "$$ A = \\frac{1}{\\sqrt{x^2 + y^2 + z^2}} $$"
   ]
  },
  {
   "cell_type": "markdown",
   "metadata": {},
   "source": [
    "$$ \\frac{\\partial A}{\\partial x} = -\\frac{1}{2}(2x)\\frac{1}{(x^2 + y^2 + z^2)^{3/2}} = -\\frac{x}{(x^2 + y^2 + z^2)^{3/2}} $$"
   ]
  },
  {
   "cell_type": "markdown",
   "metadata": {},
   "source": [
    "$$ \\frac{\\partial}{\\partial x}(\\frac{x}{r}) = \n",
    "-\\frac{x^2}{(x^2 + y^2 + z^2)^{3/2}} + \n",
    "\\frac{1}{\\sqrt{x^2 + y^2 + z^2}}\n",
    "$$"
   ]
  },
  {
   "cell_type": "markdown",
   "metadata": {},
   "source": [
    "$$ \\frac{\\partial}{\\partial x}(\\frac{x}{r}) = \n",
    "-\\frac{x^2}{r^3} + \n",
    "\\frac{1}{r}\n",
    "$$"
   ]
  },
  {
   "cell_type": "markdown",
   "metadata": {},
   "source": [
    "Next:"
   ]
  },
  {
   "cell_type": "markdown",
   "metadata": {},
   "source": [
    "$$ \\frac{\\partial}{\\partial y}(\\frac{x}{r}) = \\frac{\\partial}{\\partial y}(\\frac{x}{\\sqrt{x^2 + y^2 + z^2}}) $$"
   ]
  },
  {
   "cell_type": "markdown",
   "metadata": {},
   "source": [
    "$$ = -\\frac{1}{2}(2y)\\frac{x}{(x^2 + y^2 + z^2)^{3/2}} $$"
   ]
  },
  {
   "cell_type": "markdown",
   "metadata": {},
   "source": [
    "$$ = -\\frac{xy}{(x^2 + y^2 + z^2)^{3/2}} $$"
   ]
  },
  {
   "cell_type": "markdown",
   "metadata": {
    "vscode": {
     "languageId": "plaintext"
    }
   },
   "source": [
    "$$ \\frac{\\partial}{\\partial y}(\\frac{x}{r}) = - \\frac{xy}{r^3} $$"
   ]
  },
  {
   "cell_type": "markdown",
   "metadata": {},
   "source": [
    "For the rest of the ordinary derivatives, it's easy to use symmetry to find:"
   ]
  },
  {
   "cell_type": "markdown",
   "metadata": {},
   "source": [
    "$$ \\frac{\\partial}{\\partial z}(\\frac{x}{r}) = -\\frac{xz}{r^3} $$"
   ]
  },
  {
   "cell_type": "markdown",
   "metadata": {},
   "source": [
    "$$ \\frac{\\partial}{\\partial x}(\\frac{y}{r}) = -\\frac{xy}{r^3} $$"
   ]
  },
  {
   "cell_type": "markdown",
   "metadata": {},
   "source": [
    "$$ \\frac{\\partial}{\\partial y}(\\frac{y}{r}) = -\\frac{y^2}{r^3} + \\frac{1}{r} $$"
   ]
  },
  {
   "cell_type": "markdown",
   "metadata": {},
   "source": [
    "And so on. Now let's plug all those in."
   ]
  },
  {
   "cell_type": "markdown",
   "metadata": {},
   "source": [
    "$$ (\\hat r \\cdot \\nabla)\\hat r\n",
    "= \\frac{1}{r}(\n",
    "\\hat x(\n",
    "  x \\frac{\\partial}{\\partial x}(\\frac{x}{r})\n",
    "+ y \\frac{\\partial}{\\partial y}(\\frac{x}{r})\n",
    "+ z \\frac{\\partial}{\\partial z}(\\frac{x}{r}))\n",
    "\\\\\n",
    "+ \\hat y(\n",
    "  x \\frac{\\partial}{\\partial x}(\\frac{y}{r})\n",
    "+ y \\frac{\\partial}{\\partial y}(\\frac{y}{r})\n",
    "+ z \\frac{\\partial}{\\partial z}(\\frac{y}{r}))\n",
    "\\\\\n",
    "+ \\hat z(\n",
    "  x \\frac{\\partial}{\\partial x}(\\frac{z}{r})\n",
    "+ y \\frac{\\partial}{\\partial y}(\\frac{z}{r})\n",
    "+ z \\frac{\\partial}{\\partial z}(\\frac{z}{r}))\n",
    ")\n",
    "$$"
   ]
  },
  {
   "cell_type": "markdown",
   "metadata": {},
   "source": [
    "$$ \n",
    "= \\frac{1}{r}(\n",
    "\\hat x(\n",
    "  x (-\\frac{x^2}{r^3} + \\frac{1}{r})\n",
    "+ y (-\\frac{xy}{r^3})\n",
    "+ z (-\\frac{xz}{r^3}))\n",
    "\\\\\n",
    "+ \\hat y(\n",
    "  x (-\\frac{xy}{r^3})\n",
    "+ y (-\\frac{y^2}{r^3} + \\frac{1}{r})\n",
    "+ z (-\\frac{yz}{r^3}))\n",
    "\\\\\n",
    "+ \\hat z(\n",
    "  x (-\\frac{xz}{r^3})\n",
    "+ y (-\\frac{yz}{r^3})\n",
    "+ z (-\\frac{z^2}{r^3} + \\frac{1}{r}))\n",
    ")\n",
    "$$"
   ]
  },
  {
   "cell_type": "markdown",
   "metadata": {},
   "source": [
    "$$ \n",
    "= \\frac{1}{r}(\n",
    "\\hat x(\n",
    "- \\frac{x^3}{r^3} + \\frac{x}{r}\n",
    "- \\frac{xy^2}{r^3}\n",
    "- \\frac{xz^2}{r^3})\n",
    "\\\\\n",
    "+ \\hat y(\n",
    "- \\frac{x^2y}{r^3}\n",
    "- \\frac{y^3}{r^3} + \\frac{y}{r}\n",
    "- \\frac{yz^2}{r^3})\n",
    "\\\\\n",
    "+ \\hat z(\n",
    "- \\frac{x^2z}{r^3}\n",
    "- \\frac{y^2z}{r^3}\n",
    "- \\frac{z^3}{r^3} + \\frac{z}{r})\n",
    ")\n",
    "$$"
   ]
  },
  {
   "cell_type": "markdown",
   "metadata": {},
   "source": [
    "$$ \n",
    "= \\frac{1}{r}(\n",
    "- \\hat x x (\n",
    "\\frac{x^2 + y^2 + z^2}{r^3})\n",
    "\\\\\n",
    "- \\hat y y (\n",
    "\\frac{x^2 + y^2 + z^2}{r^3})\n",
    "\\\\\n",
    "- \\hat z z(\n",
    "\\frac{x^2 + y^2 + z^2}{r^3})\n",
    "\\\\\n",
    " + (\\hat x \\frac{x}{r} + \\hat y \\frac{y}{r} + \\hat z \\frac{z}{r})\n",
    ")\n",
    "$$"
   ]
  },
  {
   "cell_type": "markdown",
   "metadata": {},
   "source": [
    "$$ \n",
    "=\n",
    "- \\hat x x (\n",
    "\\frac{r^2}{r^4})\n",
    "- \\hat y y (\n",
    "\\frac{r^2}{r^4})\n",
    "- \\hat z z(\n",
    "\\frac{r^2}{r^4})\n",
    " + \\frac{\\hat x x + \\hat y y + \\hat z z}{r^2}\n",
    "$$"
   ]
  },
  {
   "cell_type": "markdown",
   "metadata": {},
   "source": [
    "$$ \n",
    "=\n",
    "- \\frac{\\hat x x + \\hat y y + \\hat z z}{r^2}\n",
    " + \\frac{\\textbf r}{r^2}\n",
    "$$"
   ]
  },
  {
   "cell_type": "markdown",
   "metadata": {},
   "source": [
    "$$ \n",
    "= - \\frac{\\textbf r}{r^2} + \\frac{\\textbf r}{r^2}\n",
    "$$"
   ]
  },
  {
   "cell_type": "markdown",
   "metadata": {},
   "source": [
    "$$ (\\hat r \\cdot \\nabla)\\hat r = 0 $$"
   ]
  },
  {
   "cell_type": "markdown",
   "metadata": {},
   "source": [
    "(c) Evaluate $(\\textbf v_a \\cdot \\nabla)\\textbf v_b$ where:\n",
    "\n",
    "$$ \\textbf v_a = x^2 \\hat x + 3xz^2 \\hat y - 2xz \\hat z $$\n",
    "\n",
    "$$ \\textbf v_b = xy \\hat x + 2yz \\hat y + 3xz \\hat z $$"
   ]
  },
  {
   "cell_type": "markdown",
   "metadata": {},
   "source": [
    "First, I'll find $\\text v_a \\cdot \\nabla$."
   ]
  },
  {
   "cell_type": "markdown",
   "metadata": {},
   "source": [
    "$$ \\textbf v_a \\cdot \\nabla = x^2 \\frac{\\partial}{\\partial x} + 3xz^2 \\frac{\\partial}{\\partial y} - 2xz \\frac{\\partial}{\\partial z} $$"
   ]
  },
  {
   "cell_type": "markdown",
   "metadata": {},
   "source": [
    "Now I'll find each component of $(\\textbf v_a \\cdot \\nabla)\\textbf v_b$."
   ]
  },
  {
   "cell_type": "markdown",
   "metadata": {},
   "source": [
    "$$ [(\\textbf v_a \\cdot \\nabla)\\textbf v_b]_x = x^2 \\frac{\\partial}{\\partial x}(xy) + 3xz^2 \\frac{\\partial}{\\partial y}(xy) - 2xz \\frac{\\partial}{\\partial z}(xy) $$"
   ]
  },
  {
   "cell_type": "markdown",
   "metadata": {},
   "source": [
    "$$ = x^2 y + 3x^2 z^2 = x^2 (y + 3 z^2)$$"
   ]
  },
  {
   "cell_type": "markdown",
   "metadata": {},
   "source": [
    "$$ [(\\textbf v_a \\cdot \\nabla)\\textbf v_b]_y = x^2 \\frac{\\partial}{\\partial x}(2yz) + 3xz^2 \\frac{\\partial}{\\partial y}(2yz) - 2xz \\frac{\\partial}{\\partial z}(2yz) $$"
   ]
  },
  {
   "cell_type": "markdown",
   "metadata": {},
   "source": [
    "$$ = 6xz^3 - 4xyz = 2xz (3z^2 - 2y)$$"
   ]
  },
  {
   "cell_type": "markdown",
   "metadata": {},
   "source": [
    "$$ [(\\textbf v_a \\cdot \\nabla)\\textbf v_b]_z = x^2 \\frac{\\partial}{\\partial x}(3xz) + 3xz^2 \\frac{\\partial}{\\partial y}(3xz) - 2xz \\frac{\\partial}{\\partial z}(3xz) $$"
   ]
  },
  {
   "cell_type": "markdown",
   "metadata": {},
   "source": [
    "$$ = 3 x^2 z - 6x^2z = -3 x^2 z$$"
   ]
  },
  {
   "cell_type": "markdown",
   "metadata": {},
   "source": [
    "Putting it all together:"
   ]
  },
  {
   "cell_type": "markdown",
   "metadata": {},
   "source": [
    "$$ (\\textbf v_a \\cdot \\nabla)\\textbf v_b = x^2(y+3z^2) \\hat x + 2xz(3z^2-2y) \\hat y - 3x^2z \\hat z $$"
   ]
  },
  {
   "cell_type": "markdown",
   "metadata": {},
   "source": [
    "### Problem 1.23\n",
    "\n",
    "Prove product rules (ii) and (vi).\n",
    "\n",
    "#### (ii)\n"
   ]
  },
  {
   "cell_type": "markdown",
   "metadata": {},
   "source": [
    "I'll take the right side of this product rule and expand each term individually, and then I'll put them all together. The right side is much more complicated than the left, so a lot of things should end up cancelling."
   ]
  },
  {
   "cell_type": "markdown",
   "metadata": {},
   "source": [
    "$$ \\textbf A \\times (\\nabla \\times \\textbf B)\n",
    "= \\textbf A \\times \n",
    "\\begin{vmatrix}\n",
    "\\hat x & \\hat y & \\hat z \\\\\n",
    "\\frac{\\partial}{\\partial x} & \\frac{\\partial}{\\partial y} & \\frac{\\partial}{\\partial z} \\\\\n",
    "B_x & B_y & B_z\n",
    "\\end{vmatrix}\n",
    "$$"
   ]
  },
  {
   "cell_type": "markdown",
   "metadata": {},
   "source": [
    "$$ = \\textbf A \\times (\n",
    "  \\hat x (\\frac{\\partial B_z}{\\partial y} - \\frac{\\partial B_y}{\\partial z})\n",
    "  + \\hat y (\\frac{\\partial B_x}{\\partial z} - \\frac{\\partial B_z}{\\partial x})\n",
    "  + \\hat z (\\frac{\\partial B_y}{\\partial x} - \\frac{\\partial B_x}{\\partial y})\n",
    ") $$"
   ]
  },
  {
   "cell_type": "markdown",
   "metadata": {},
   "source": [
    "$$\n",
    "= \\begin{vmatrix}\n",
    "\\hat x & \\hat y & \\hat z \\\\\n",
    "A_x & A_y & A_z \\\\\n",
    "(\\frac{\\partial B_z}{\\partial y} - \\frac{\\partial B_y}{\\partial z}) &\n",
    "(\\frac{\\partial B_x}{\\partial z} - \\frac{\\partial B_z}{\\partial x}) &\n",
    "(\\frac{\\partial B_y}{\\partial x} - \\frac{\\partial B_x}{\\partial y})\n",
    "\\end{vmatrix}\n",
    "$$"
   ]
  },
  {
   "cell_type": "markdown",
   "metadata": {},
   "source": [
    "$$ \\textbf A \\times (\\nabla \\times \\textbf B) \\\\\n",
    "= \\hat x (\n",
    "    A_y \\frac{\\partial B_y}{\\partial x}\n",
    "  - A_y \\frac{\\partial B_x}{\\partial y}\n",
    "  - A_z \\frac{\\partial B_x}{\\partial z}\n",
    "  + A_z \\frac{\\partial B_z}{\\partial x}\n",
    ") \\\\\n",
    "+ \\hat y (\n",
    "    A_z \\frac{\\partial B_z}{\\partial y}\n",
    "  - A_z \\frac{\\partial B_y}{\\partial z}\n",
    "  - A_x \\frac{\\partial B_y}{\\partial x}\n",
    "  + A_x \\frac{\\partial B_x}{\\partial y}\n",
    ") \\\\\n",
    "+ \\hat z (\n",
    "    A_x \\frac{\\partial B_x}{\\partial z}\n",
    "  - A_x \\frac{\\partial B_z}{\\partial x}\n",
    "  - A_y \\frac{\\partial B_z}{\\partial y}\n",
    "  + A_y \\frac{\\partial B_y}{\\partial z}\n",
    ")\n",
    "\n",
    "$$"
   ]
  },
  {
   "cell_type": "markdown",
   "metadata": {},
   "source": [
    "Then by symmetry:"
   ]
  },
  {
   "cell_type": "markdown",
   "metadata": {},
   "source": [
    "$$ \\textbf B \\times (\\nabla \\times \\textbf A) \\\\\n",
    "= \\hat x (\n",
    "    B_y \\frac{\\partial A_y}{\\partial x}\n",
    "  - B_y \\frac{\\partial A_x}{\\partial y}\n",
    "  - B_z \\frac{\\partial A_x}{\\partial z}\n",
    "  + B_z \\frac{\\partial A_z}{\\partial x}\n",
    ") \\\\\n",
    "+ \\hat y (\n",
    "    B_z \\frac{\\partial A_z}{\\partial y}\n",
    "  - B_z \\frac{\\partial A_y}{\\partial z}\n",
    "  - B_x \\frac{\\partial A_y}{\\partial x}\n",
    "  + B_x \\frac{\\partial A_x}{\\partial y}\n",
    ") \\\\\n",
    "+ \\hat z (\n",
    "    B_x \\frac{\\partial A_x}{\\partial z}\n",
    "  - B_x \\frac{\\partial A_z}{\\partial x}\n",
    "  - B_y \\frac{\\partial A_z}{\\partial y}\n",
    "  + B_y \\frac{\\partial A_y}{\\partial z}\n",
    ")\n",
    "\n",
    "$$"
   ]
  },
  {
   "cell_type": "markdown",
   "metadata": {},
   "source": [
    "Next:"
   ]
  },
  {
   "cell_type": "markdown",
   "metadata": {},
   "source": [
    "$$ (\\textbf A \\cdot \\nabla) \\textbf B \\\\\n",
    "= \\hat x (\n",
    "    A_x \\frac{\\partial B_x}{\\partial x}\n",
    "  + A_y \\frac{\\partial B_x}{\\partial y}\n",
    "  + A_z \\frac{\\partial B_x}{\\partial z}\n",
    ") \\\\\n",
    "+ \\hat y (\n",
    "    A_x \\frac{\\partial B_y}{\\partial x}\n",
    "  + A_y \\frac{\\partial B_y}{\\partial y}\n",
    "  + A_z \\frac{\\partial B_y}{\\partial z}\n",
    ") \\\\\n",
    "+ \\hat z (\n",
    "    A_x \\frac{\\partial B_z}{\\partial x}\n",
    "  + A_y \\frac{\\partial B_z}{\\partial y}\n",
    "  + A_z \\frac{\\partial B_z}{\\partial z}\n",
    ") $$"
   ]
  },
  {
   "cell_type": "markdown",
   "metadata": {},
   "source": [
    "Then by symmetry:"
   ]
  },
  {
   "cell_type": "markdown",
   "metadata": {},
   "source": [
    "$$ (\\textbf B \\cdot \\nabla) \\textbf A \\\\\n",
    "= \\hat x (\n",
    "    B_x \\frac{\\partial A_x}{\\partial x}\n",
    "  + B_y \\frac{\\partial A_x}{\\partial y}\n",
    "  + B_z \\frac{\\partial A_x}{\\partial z}\n",
    ") \\\\\n",
    "+ \\hat y (\n",
    "    B_x \\frac{\\partial A_y}{\\partial x}\n",
    "  + B_y \\frac{\\partial A_y}{\\partial y}\n",
    "  + B_z \\frac{\\partial A_y}{\\partial z}\n",
    ") \\\\\n",
    "+ \\hat z (\n",
    "    B_x \\frac{\\partial A_z}{\\partial x}\n",
    "  + B_y \\frac{\\partial A_z}{\\partial y}\n",
    "  + B_z \\frac{\\partial A_z}{\\partial z}\n",
    ") $$"
   ]
  },
  {
   "cell_type": "markdown",
   "metadata": {},
   "source": [
    "Now I'll add them all up, but with one component at a time."
   ]
  },
  {
   "cell_type": "markdown",
   "metadata": {},
   "source": [
    "\n",
    "$$ [\\nabla(\\textbf A \\cdot \\textbf B)]_x = [\\textbf A \\times (\\nabla \\times \\textbf B)]_x + [\\textbf B \\times (\\nabla \\times \\textbf A)]_x + [(\\textbf A \\cdot \\nabla) \\textbf B]_x + [(\\textbf B \\cdot \\nabla) \\textbf A]_x $$"
   ]
  },
  {
   "cell_type": "markdown",
   "metadata": {},
   "source": [
    "$$ [\\nabla (\\textbf A \\cdot \\textbf B)]_x \\\\\n",
    "= A_y \\frac{\\partial B_y}{\\partial x}\n",
    "- A_y \\frac{\\partial B_x}{\\partial y}\n",
    "- A_z \\frac{\\partial B_x}{\\partial z}\n",
    "+ A_z \\frac{\\partial B_z}{\\partial x} \\\\\n",
    "+ B_y \\frac{\\partial A_y}{\\partial x}\n",
    "- B_y \\frac{\\partial A_x}{\\partial y}\n",
    "- B_z \\frac{\\partial A_x}{\\partial z}\n",
    "+ B_z \\frac{\\partial A_z}{\\partial x} \\\\\n",
    "+ A_x \\frac{\\partial B_x}{\\partial x}\n",
    "+ A_y \\frac{\\partial B_x}{\\partial y}\n",
    "+ A_z \\frac{\\partial B_x}{\\partial z} \\\\\n",
    "+ B_x \\frac{\\partial A_x}{\\partial x}\n",
    "+ B_y \\frac{\\partial A_x}{\\partial y}\n",
    "+ B_z \\frac{\\partial A_x}{\\partial z}\n",
    "$$"
   ]
  },
  {
   "cell_type": "markdown",
   "metadata": {},
   "source": [
    "Each of the negative terms there cancels with a corresponding positive term, and then we can rearrange the remaining terms like so:"
   ]
  },
  {
   "cell_type": "markdown",
   "metadata": {},
   "source": [
    "$$ [\\nabla (\\textbf A \\cdot \\textbf B)]_x \\\\\n",
    "= (A_x \\frac{\\partial B_x}{\\partial x}\n",
    "+ B_x \\frac{\\partial A_x}{\\partial x}) \\\\\n",
    "+ (A_y \\frac{\\partial B_y}{\\partial x}\n",
    "+ B_y \\frac{\\partial A_y}{\\partial x}) \\\\\n",
    "+ (A_z \\frac{\\partial B_z}{\\partial x}\n",
    "+ B_z \\frac{\\partial A_z}{\\partial x})\n",
    "$$"
   ]
  },
  {
   "cell_type": "markdown",
   "metadata": {},
   "source": [
    "Then we can use the ordinary product rule:"
   ]
  },
  {
   "cell_type": "markdown",
   "metadata": {},
   "source": [
    "$$ [\\nabla (\\textbf A \\cdot \\textbf B)]_x\n",
    "= \\frac{\\partial}{\\partial x}(A_x B_x)\n",
    "+ \\frac{\\partial}{\\partial x}(A_y B_y)\n",
    "+ \\frac{\\partial}{\\partial x}(A_z B_z)\n",
    "$$"
   ]
  },
  {
   "cell_type": "markdown",
   "metadata": {},
   "source": [
    "We can use the ordinary sum rule:"
   ]
  },
  {
   "cell_type": "markdown",
   "metadata": {},
   "source": [
    "$$ [\\nabla (\\textbf A \\cdot \\textbf B)]_x\n",
    "= \\frac{\\partial}{\\partial x}(A_x B_x + A_y B_y + A_z B_z)\n",
    "$$"
   ]
  },
  {
   "cell_type": "markdown",
   "metadata": {},
   "source": [
    "And finally, that simplifies to:"
   ]
  },
  {
   "cell_type": "markdown",
   "metadata": {},
   "source": [
    "$$ [\\nabla (\\textbf A \\cdot \\textbf B)]_x\n",
    "= \\frac{\\partial}{\\partial x}(\\textbf A \\cdot \\textbf B)\n",
    "$$"
   ]
  },
  {
   "cell_type": "markdown",
   "metadata": {},
   "source": [
    "From symmetry, the other two components must be the following:"
   ]
  },
  {
   "cell_type": "markdown",
   "metadata": {},
   "source": [
    "$$ [\\nabla (\\textbf A \\cdot \\textbf B)]_y\n",
    "= \\frac{\\partial}{\\partial y}(\\textbf A \\cdot \\textbf B)\n",
    "$$\n",
    "$$ [\\nabla (\\textbf A \\cdot \\textbf B)]_z\n",
    "= \\frac{\\partial}{\\partial z}(\\textbf A \\cdot \\textbf B)\n",
    "$$"
   ]
  },
  {
   "cell_type": "markdown",
   "metadata": {},
   "source": [
    "So putting all three components together, we have:"
   ]
  },
  {
   "cell_type": "markdown",
   "metadata": {},
   "source": [
    "$$ \\nabla (\\textbf A \\cdot \\textbf B)\n",
    "= \\hat x \\frac{\\partial}{\\partial x}(\\textbf A \\cdot \\textbf B)\n",
    "+ \\hat y \\frac{\\partial}{\\partial y}(\\textbf A \\cdot \\textbf B)\n",
    "+ \\hat z \\frac{\\partial}{\\partial z}(\\textbf A \\cdot \\textbf B)\n",
    "$$"
   ]
  },
  {
   "cell_type": "markdown",
   "metadata": {},
   "source": [
    "And so we have shown product rule (ii) to be correct."
   ]
  },
  {
   "cell_type": "markdown",
   "metadata": {},
   "source": [
    "#### (vi)\n",
    "\n"
   ]
  },
  {
   "cell_type": "markdown",
   "metadata": {},
   "source": [
    "$$ \\nabla \\times (\\textbf A \\times \\textbf B) = (\\textbf B \\cdot \\nabla) \\textbf A - (\\textbf A \\cdot \\nabla) \\textbf B + \\textbf A (\\nabla \\cdot \\textbf B) - \\textbf B (\\nabla \\cdot \\textbf A) $$"
   ]
  },
  {
   "cell_type": "markdown",
   "metadata": {},
   "source": [
    "I'll use the same method of expanding out the right side and expect some things to cancel out."
   ]
  },
  {
   "cell_type": "markdown",
   "metadata": {},
   "source": [
    "$$\n",
    "[(\\textbf B \\cdot \\nabla)\\textbf A]_x\n",
    "= B_x \\frac{\\partial A_x}{\\partial x}\n",
    "+ B_y \\frac{\\partial A_x}{\\partial y}\n",
    "+ B_z \\frac{\\partial A_x}{\\partial z}\n",
    "$$"
   ]
  },
  {
   "cell_type": "markdown",
   "metadata": {},
   "source": [
    "$$\n",
    "[(\\textbf A \\cdot \\nabla)\\textbf B]_x\n",
    "= A_x \\frac{\\partial B_x}{\\partial x}\n",
    "+ A_y \\frac{\\partial B_x}{\\partial y}\n",
    "+ A_z \\frac{\\partial B_x}{\\partial z}\n",
    "$$"
   ]
  },
  {
   "cell_type": "markdown",
   "metadata": {},
   "source": [
    "$$ [\\textbf A (\\nabla \\cdot \\textbf B)]_x =\n",
    "  A_x \\frac{\\partial B_x}{\\partial x}\n",
    "+ A_x \\frac{\\partial B_y}{\\partial y}\n",
    "+ A_x \\frac{\\partial B_z}{\\partial z}\n",
    "$$"
   ]
  },
  {
   "cell_type": "markdown",
   "metadata": {},
   "source": [
    "$$ [\\textbf B (\\nabla \\cdot \\textbf A)]_x =\n",
    "  B_x \\frac{\\partial A_x}{\\partial x}\n",
    "+ B_x \\frac{\\partial A_y}{\\partial y}\n",
    "+ B_x \\frac{\\partial A_z}{\\partial z}\n",
    "$$"
   ]
  },
  {
   "cell_type": "markdown",
   "metadata": {},
   "source": [
    "$$ [\\nabla \\times (\\textbf A \\times \\textbf B)]_x\n",
    "= [(\\textbf B \\cdot \\nabla) \\textbf A]_x\n",
    "- [(\\textbf A \\cdot \\nabla) \\textbf B]_x\n",
    "+ [\\textbf A (\\nabla \\cdot \\textbf B)]_x\n",
    "- [\\textbf B (\\nabla \\cdot \\textbf A)]_x\n",
    "$$"
   ]
  },
  {
   "cell_type": "markdown",
   "metadata": {},
   "source": [
    "$$ [\\nabla \\times (\\textbf A \\times \\textbf B)]_x \\\\\n",
    "= B_x \\frac{\\partial A_x}{\\partial x}\n",
    "+ B_y \\frac{\\partial A_x}{\\partial y}\n",
    "+ B_z \\frac{\\partial A_x}{\\partial z} \\\\\n",
    "- A_x \\frac{\\partial B_x}{\\partial x}\n",
    "- A_y \\frac{\\partial B_x}{\\partial y}\n",
    "- A_z \\frac{\\partial B_x}{\\partial z} \\\\\n",
    "+ A_x \\frac{\\partial B_x}{\\partial x}\n",
    "+ A_x \\frac{\\partial B_y}{\\partial y}\n",
    "+ A_x \\frac{\\partial B_z}{\\partial z} \\\\\n",
    "- B_x \\frac{\\partial A_x}{\\partial x}\n",
    "- B_x \\frac{\\partial A_y}{\\partial y}\n",
    "- B_x \\frac{\\partial A_z}{\\partial z}\n",
    "$$"
   ]
  },
  {
   "cell_type": "markdown",
   "metadata": {},
   "source": [
    "A few terms cancel here."
   ]
  },
  {
   "cell_type": "markdown",
   "metadata": {},
   "source": [
    "$$ [\\nabla \\times (\\textbf A \\times \\textbf B)]_x \\\\\n",
    "= B_y \\frac{\\partial A_x}{\\partial y}\n",
    "+ B_z \\frac{\\partial A_x}{\\partial z}\n",
    "- A_y \\frac{\\partial B_x}{\\partial y}\n",
    "- A_z \\frac{\\partial B_x}{\\partial z} \\\\\n",
    "+ A_x \\frac{\\partial B_y}{\\partial y}\n",
    "+ A_x \\frac{\\partial B_z}{\\partial z}\n",
    "- B_x \\frac{\\partial A_y}{\\partial y}\n",
    "- B_x \\frac{\\partial A_z}{\\partial z}\n",
    "$$"
   ]
  },
  {
   "cell_type": "markdown",
   "metadata": {},
   "source": [
    "Now we can rearrange these and use the ordinary product rule like so:"
   ]
  },
  {
   "cell_type": "markdown",
   "metadata": {},
   "source": [
    "$$ [\\nabla \\times (\\textbf A \\times \\textbf B)]_x \\\\\n",
    "= (B_y \\frac{\\partial A_x}{\\partial y}\n",
    "+  A_x \\frac{\\partial B_y}{\\partial y})\n",
    "- (A_y \\frac{\\partial B_x}{\\partial y}\n",
    "+  B_x \\frac{\\partial A_y}{\\partial y}) \\\\\n",
    "+ (B_z \\frac{\\partial A_x}{\\partial z}\n",
    "+  A_x \\frac{\\partial B_z}{\\partial z})\n",
    "- (A_z \\frac{\\partial B_x}{\\partial z}\n",
    "+  B_x \\frac{\\partial A_z}{\\partial z})\n",
    "$$"
   ]
  },
  {
   "cell_type": "markdown",
   "metadata": {},
   "source": [
    "$$ \n",
    "= \\frac{\\partial}{\\partial y}(A_x B_y)\n",
    "- \\frac{\\partial}{\\partial y}(A_y B_x)\n",
    "+ \\frac{\\partial}{\\partial z}(A_x B_z)\n",
    "- \\frac{\\partial}{\\partial z}(A_z B_x)\n",
    "$$"
   ]
  },
  {
   "cell_type": "markdown",
   "metadata": {},
   "source": [
    "$$ [\\nabla \\times (\\textbf A \\times \\textbf B)]_x\n",
    "= \\frac{\\partial}{\\partial y}(A_x B_y - A_y B_x)\n",
    "+ \\frac{\\partial}{\\partial z}(A_x B_z - A_z B_x)\n",
    "$$"
   ]
  },
  {
   "cell_type": "markdown",
   "metadata": {},
   "source": [
    "Now I will now expand the left side and hope to obtain something that is obviously equal to the right side."
   ]
  },
  {
   "cell_type": "markdown",
   "metadata": {},
   "source": [
    "$$ [\\nabla \\times (\\textbf A \\times \\textbf B)]_x = [\\nabla \\times\n",
    "\\begin{vmatrix}\n",
    "\\hat x & \\hat y & \\hat z \\\\\n",
    "A_x & A_y & A_z \\\\\n",
    "B_x & B_y & B_z\n",
    "\\end{vmatrix}]_x\n",
    "$$"
   ]
  },
  {
   "cell_type": "markdown",
   "metadata": {},
   "source": [
    "$$ = [\\nabla \\times (\\hat x (A_y B_z - A_z B_y) + \\hat y (A_z B_x - A_x B_z) + \\hat z (A_x B_y - A_y B_x))]_x$$"
   ]
  },
  {
   "cell_type": "markdown",
   "metadata": {},
   "source": [
    "$$ = [\\begin{vmatrix}\n",
    "\\hat x & \\hat y & \\hat z \\\\\n",
    "\\partial/\\partial x & \\partial/\\partial y & \\partial/\\partial z \\\\\n",
    "(A_y B_z - A_z B_y) & (A_z B_x - A_x B_z) & (A_x B_y - A_y B_x)\n",
    "\\end{vmatrix}]_x\n",
    "$$\n"
   ]
  },
  {
   "cell_type": "markdown",
   "metadata": {},
   "source": [
    "$$ = \\frac{\\partial}{\\partial y}(A_x B_y - A_y B_x) - \\frac{\\partial}{\\partial z}(A_z B_x - A_x B_z) $$"
   ]
  },
  {
   "cell_type": "markdown",
   "metadata": {},
   "source": [
    "$$ [\\nabla \\times (\\textbf A \\times \\textbf B)]_x = \\frac{\\partial}{\\partial y}(A_x B_y - A_y B_x) + \\frac{\\partial}{\\partial z}(A_x B_z - A_z B_x) $$"
   ]
  },
  {
   "cell_type": "markdown",
   "metadata": {},
   "source": [
    "And that's exactly what we had above. By symmetry, the other two components of $\\nabla \\times(\\textbf A \\times \\textbf B)$ have been proven as well."
   ]
  },
  {
   "cell_type": "markdown",
   "metadata": {},
   "source": [
    "### Problem 1.24\n",
    "\n",
    "Derive the three quotient rules:"
   ]
  },
  {
   "cell_type": "markdown",
   "metadata": {},
   "source": [
    "#### (a)\n",
    "$$\\nabla (\\frac{f}{g}) = \\frac{g \\nabla f - f \\nabla g}{g^2} $$"
   ]
  },
  {
   "cell_type": "markdown",
   "metadata": {},
   "source": [
    "We can replace $h = \\frac{1}{g}$"
   ]
  },
  {
   "cell_type": "markdown",
   "metadata": {
    "vscode": {
     "languageId": "plaintext"
    }
   },
   "source": [
    "$$ \\nabla(\\frac{f}{g}) = \\nabla(f h) $$"
   ]
  },
  {
   "cell_type": "markdown",
   "metadata": {},
   "source": [
    "Then we can use the product rule for the gradient of a scalar product."
   ]
  },
  {
   "cell_type": "markdown",
   "metadata": {},
   "source": [
    "$$ = f \\nabla h + h \\nabla f $$"
   ]
  },
  {
   "cell_type": "markdown",
   "metadata": {},
   "source": [
    "Then substitute $g$ back in."
   ]
  },
  {
   "cell_type": "markdown",
   "metadata": {},
   "source": [
    "$$ = f \\nabla (\\frac{1}{g}) + \\frac{\\nabla f}{g} $$"
   ]
  },
  {
   "cell_type": "markdown",
   "metadata": {},
   "source": [
    "Now we have to figure out what to do with $\\nabla(\\frac{1}{g})$."
   ]
  },
  {
   "cell_type": "markdown",
   "metadata": {},
   "source": [
    "$$ \\nabla(\\frac{1}{g}) = \\frac{\\partial}{\\partial x}(1/g) \\hat x + \\frac{\\partial}{\\partial y}(1/g) \\hat y + \\frac{\\partial}{\\partial z}(1/g) \\hat y $$"
   ]
  },
  {
   "cell_type": "markdown",
   "metadata": {},
   "source": [
    "$$\n",
    "\\frac{\\partial}{\\partial x}(\\frac{1}{g})\n",
    "= \\frac{\\partial}{\\partial g}(\\frac{1}{g})\\frac{\\partial g}{\\partial x}\n",
    "= -\\frac{1}{g^2}\\frac{\\partial g}{\\partial x}\n",
    "$$"
   ]
  },
  {
   "cell_type": "markdown",
   "metadata": {},
   "source": [
    "$$ \\nabla(\\frac{1}{g}) = \n",
    "-\\frac{1}{g^2}\\frac{\\partial g}{\\partial x} \\hat x\n",
    "-\\frac{1}{g^2}\\frac{\\partial g}{\\partial y} \\hat y\n",
    "-\\frac{1}{g^2}\\frac{\\partial g}{\\partial z} \\hat z\n",
    "$$"
   ]
  },
  {
   "cell_type": "markdown",
   "metadata": {},
   "source": [
    "$$ \\nabla(\\frac{1}{g}) = -\\frac{\\nabla g}{g^2} $$"
   ]
  },
  {
   "cell_type": "markdown",
   "metadata": {},
   "source": [
    "Now we can substitute that in and simplify to get the final formula."
   ]
  },
  {
   "cell_type": "markdown",
   "metadata": {},
   "source": [
    "$$ \\nabla(\\frac{f}{g}) = -\\frac{f \\nabla g}{g^2} + \\frac{\\nabla f}{g} $$"
   ]
  },
  {
   "cell_type": "markdown",
   "metadata": {},
   "source": [
    "$$ \\nabla(\\frac{f}{g}) = \\frac{g \\nabla f - f \\nabla g}{g^2} $$"
   ]
  },
  {
   "cell_type": "markdown",
   "metadata": {},
   "source": [
    "#### (b)\n",
    "$$ \\nabla \\cdot (\\frac{\\textbf A}{g}) = \\frac{g(\\nabla \\cdot \\textbf A) - \\textbf A \\cdot (\\nabla g)}{g^2} $$"
   ]
  },
  {
   "cell_type": "markdown",
   "metadata": {},
   "source": [
    "We'll substutute $f = 1/g$ and then use the product rule for the divergence of a scalar times a vector. Then we'll substitute $g$ back in."
   ]
  },
  {
   "cell_type": "markdown",
   "metadata": {},
   "source": [
    "$$ \\nabla \\cdot (\\frac{\\textbf A}{g}) = \\nabla \\cdot (f \\textbf A) $$"
   ]
  },
  {
   "cell_type": "markdown",
   "metadata": {},
   "source": [
    "$$ = f (\\nabla \\cdot \\textbf A) + \\textbf A \\cdot (\\nabla f) $$"
   ]
  },
  {
   "cell_type": "markdown",
   "metadata": {},
   "source": [
    "$$ = \\frac{(\\nabla \\cdot \\textbf A)}{g} + \\textbf A \\cdot (\\nabla(\\frac{1}{g}))$$"
   ]
  },
  {
   "cell_type": "markdown",
   "metadata": {},
   "source": [
    "Now we can substitute the alternate form of $\\nabla(1/g)$ that we found earlier, and then simplify."
   ]
  },
  {
   "cell_type": "markdown",
   "metadata": {},
   "source": [
    "$$ = \\frac{(\\nabla \\cdot \\textbf A)}{g} - \\textbf A \\cdot (\\frac{\\nabla g}{g^2})$$"
   ]
  },
  {
   "cell_type": "markdown",
   "metadata": {},
   "source": [
    "$$ = \\frac{g(\\nabla \\cdot \\textbf A) - \\textbf A \\cdot (\\nabla g)}{g^2} $$"
   ]
  },
  {
   "cell_type": "markdown",
   "metadata": {},
   "source": [
    "#### (c)\n",
    "$$ \\nabla \\times (\\frac{\\textbf A}{g}) = \\frac{g(\\nabla \\times \\textbf A) + \\textbf A \\times (\\nabla g)}{g^2} $$"
   ]
  },
  {
   "cell_type": "markdown",
   "metadata": {},
   "source": [
    "Yet again, we'll sub $f = 1/g$, use the product rule for the curl of a scalar times vector, sub $g$ back in, sub the alternate form of $\\nabla(1/g)$, and then simplify."
   ]
  },
  {
   "cell_type": "markdown",
   "metadata": {},
   "source": [
    "$$ \\nabla \\times (\\frac{\\textbf A}{g}) = \\nabla \\times (f \\textbf A) $$"
   ]
  },
  {
   "cell_type": "markdown",
   "metadata": {},
   "source": [
    "$$ = f (\\nabla \\times \\textbf A) - \\textbf A \\times (\\nabla f) $$"
   ]
  },
  {
   "cell_type": "markdown",
   "metadata": {},
   "source": [
    "$$ = \\frac{(\\nabla \\times \\textbf A)}{g} - \\textbf A \\times (\\nabla (\\frac{1}{g})) $$"
   ]
  },
  {
   "cell_type": "markdown",
   "metadata": {},
   "source": [
    "$$ = \\frac{(\\nabla \\times \\textbf A)}{g} + \\textbf A \\times (\\frac{\\nabla g}{g^2}) $$"
   ]
  },
  {
   "cell_type": "markdown",
   "metadata": {},
   "source": [
    "$$ = \\frac{g(\\nabla \\times \\textbf A) + \\textbf A \\times (\\nabla g)}{g^2} $$"
   ]
  },
  {
   "cell_type": "markdown",
   "metadata": {},
   "source": [
    "### Problem 1.25\n",
    "\n",
    "#### (a)\n",
    "\n",
    "Check product rule (iv) by calculating each term separately for the following functions:"
   ]
  },
  {
   "cell_type": "markdown",
   "metadata": {},
   "source": [
    "$$ \\textbf A = x \\hat x + 2y \\hat y + 3z \\hat z $$\n",
    "$$ \\textbf B = 3y \\hat x - 2x \\hat y $$"
   ]
  },
  {
   "cell_type": "markdown",
   "metadata": {},
   "source": [
    "First let's do the left side of product rule (iv)."
   ]
  },
  {
   "cell_type": "markdown",
   "metadata": {},
   "source": [
    "$$ \\nabla \\cdot (\\textbf A \\times \\textbf B) = \\nabla \\cdot\n",
    "\\begin{vmatrix}\n",
    "\\hat x & \\hat y & \\hat z \\\\\n",
    "x & 2y & 3z \\\\\n",
    "3y & -2x & 0\n",
    "\\end{vmatrix}\n",
    "$$"
   ]
  },
  {
   "cell_type": "markdown",
   "metadata": {},
   "source": [
    "$$ = \\nabla \\cdot (6xz \\hat x + 9yz \\hat y - (2x^2 + 6y^2) \\hat z) $$"
   ]
  },
  {
   "cell_type": "markdown",
   "metadata": {},
   "source": [
    "$$ = 6z + 9z = 15 z $$"
   ]
  },
  {
   "cell_type": "markdown",
   "metadata": {},
   "source": [
    "Next, the first term on the right side of product rule (iv)."
   ]
  },
  {
   "cell_type": "markdown",
   "metadata": {},
   "source": [
    "$$ \\textbf B \\cdot (\\nabla \\times \\textbf A) = \\textbf B \\cdot\n",
    "\\begin{vmatrix}\n",
    "\\hat x & \\hat y & \\hat z \\\\\n",
    "\\partial/\\partial x & \\partial/\\partial y & \\partial/\\partial z \\\\\n",
    "x & 2y & 3z\n",
    "\\end{vmatrix}\n",
    "= \\textbf B \\cdot 0 = 0\n",
    "$$"
   ]
  },
  {
   "cell_type": "markdown",
   "metadata": {},
   "source": [
    "Then the final term."
   ]
  },
  {
   "cell_type": "markdown",
   "metadata": {},
   "source": [
    "$$ \\textbf A \\cdot (\\nabla \\times \\textbf B) =\n",
    "\\textbf A \\cdot\n",
    "\\begin{vmatrix}\n",
    "\\hat x & \\hat y & \\hat z \\\\\n",
    "\\partial/\\partial x & \\partial/\\partial y & \\partial/\\partial z \\\\\n",
    "3y & -2x & 0\n",
    "\\end{vmatrix}\n",
    "$$"
   ]
  },
  {
   "cell_type": "markdown",
   "metadata": {},
   "source": [
    "$$ = \\textbf A \\cdot ((-2 - 3) \\hat z)\n",
    "= \\textbf A \\cdot (-5 \\hat z)\n",
    "= (3z)(-5)\n",
    "= -15 z\n",
    "$$"
   ]
  },
  {
   "cell_type": "markdown",
   "metadata": {},
   "source": [
    "Now we can put all the terms of product rule (iv) together:"
   ]
  },
  {
   "cell_type": "markdown",
   "metadata": {},
   "source": [
    "$$ \\nabla \\cdot (\\textbf A \\times \\textbf B) = \\textbf B \\cdot (\\nabla \\times \\textbf A) - \\textbf A \\cdot (\\nabla \\times \\textbf B) $$\n",
    "$$ 15 z = 0 - (-15 z) $$\n",
    "$$ 15 z = 15 z $$"
   ]
  },
  {
   "cell_type": "markdown",
   "metadata": {},
   "source": [
    "#### (b)\n",
    "\n",
    "Do the same for product rule (ii).\n",
    "\n",
    "I don't feel like doing that."
   ]
  },
  {
   "cell_type": "markdown",
   "metadata": {},
   "source": [
    "#### (c)\n",
    "\n",
    "Do the same for product rule (vi).\n",
    "\n",
    "I don't feel like doing that either."
   ]
  },
  {
   "cell_type": "markdown",
   "metadata": {},
   "source": [
    "## Second Derivatives"
   ]
  },
  {
   "cell_type": "markdown",
   "metadata": {},
   "source": [
    "By applying $\\nabla$ twice, there are five kinds of second derivatives."
   ]
  },
  {
   "cell_type": "markdown",
   "metadata": {},
   "source": [
    "(1) Divergence of gradient\n",
    "\n",
    "$$ \\nabla \\cdot (\\nabla T) $$\n",
    "$$ = \\frac{\\partial^2 T}{\\partial x^2} + \\frac{\\partial^2 T}{\\partial y^2} + \\frac{\\partial^2 T}{\\partial z^2} $$\n",
    "$$ = \\nabla^2T $$"
   ]
  },
  {
   "cell_type": "markdown",
   "metadata": {},
   "source": [
    "$\\nabla^2 T$ is a shorthand convention for the divergence of a gradient. It is called the Laplacian of $T$. The Laplacian of a scalar is also a scalar.\n",
    "\n",
    "There is also the concept of the Laplacian of a vector, $\\nabla^2 \\textbf v$, which is a vector whose components are each the Laplacian of the corresponding component of $\\textbf v$:"
   ]
  },
  {
   "cell_type": "markdown",
   "metadata": {
    "vscode": {
     "languageId": "plaintext"
    }
   },
   "source": [
    "$$ \\nabla^2 \\textbf v = (\\nabla^2 v_x)\\hat x + (\\nabla^2 v_y)\\hat y + (\\nabla^2 v_z)\\hat z $$"
   ]
  },
  {
   "cell_type": "markdown",
   "metadata": {},
   "source": [
    "(2) Curl of gradient\n",
    "\n",
    "$$ \\nabla \\times (\\nabla T) = 0 $$"
   ]
  },
  {
   "cell_type": "markdown",
   "metadata": {},
   "source": [
    "The fact that this is always equal to 0 will be important."
   ]
  },
  {
   "cell_type": "markdown",
   "metadata": {},
   "source": [
    "(3) Gradient of divergence\n",
    "\n",
    "$$ \\nabla (\\nabla \\cdot \\textbf v) $$"
   ]
  },
  {
   "cell_type": "markdown",
   "metadata": {},
   "source": [
    "This kind of second derivative will not show up often."
   ]
  },
  {
   "cell_type": "markdown",
   "metadata": {},
   "source": [
    "(4) Divergence of curl\n",
    "\n",
    "$$ \\nabla \\cdot (\\nabla \\times \\textbf v) = 0 $$"
   ]
  },
  {
   "cell_type": "markdown",
   "metadata": {},
   "source": [
    "(5) Curl of curl\n",
    "\n",
    "$$ \\nabla \\times (\\nabla \\times \\textbf v) = \\nabla (\\nabla \\cdot \\textbf v) - \\nabla^2 \\textbf v $$"
   ]
  },
  {
   "cell_type": "markdown",
   "metadata": {},
   "source": [
    "The curl of curl is equal to the gradient of divergence (which, again, will not show up often) minus the Laplacian."
   ]
  },
  {
   "cell_type": "markdown",
   "metadata": {},
   "source": [
    "Since (2) and (4) are both zero and (5) is just equal to (3) minus (1), then there really are only two kinds of second derivatives in vector calculus: the Laplacian and the gradient of divergence.\n",
    "\n",
    "We don't need to consider the third derivatives since the second derivatives are good enough for most physical applications."
   ]
  },
  {
   "cell_type": "markdown",
   "metadata": {},
   "source": [
    "### Problem 1.26\n",
    "\n",
    "Calculate the Laplacian of the following."
   ]
  },
  {
   "cell_type": "markdown",
   "metadata": {},
   "source": [
    "#### (a)\n",
    "\n",
    "$$ T_a = x^2 + 2 x y + 3 z + 4 $$"
   ]
  },
  {
   "cell_type": "markdown",
   "metadata": {},
   "source": [
    "$$ \\nabla^2 T_a\n",
    "= \\frac{\\partial^2 T_a}{\\partial x^2} + \\frac{\\partial^2 T_a}{\\partial y^2} + \\frac{\\partial^2 T_a}{\\partial z^2}\n",
    "= 2 + 0 + 0 = 2 $$"
   ]
  },
  {
   "cell_type": "markdown",
   "metadata": {},
   "source": [
    "#### (b)"
   ]
  },
  {
   "cell_type": "markdown",
   "metadata": {},
   "source": [
    "$$ T_b = \\sin x \\sin y \\sin z $$"
   ]
  },
  {
   "cell_type": "markdown",
   "metadata": {},
   "source": [
    "$$ \\nabla^2 T_b\n",
    "= \\frac{\\partial^2 T_b}{\\partial x^2} + \\frac{\\partial^2 T_b}{\\partial y^2} + \\frac{\\partial^2 T_b}{\\partial z^2} $$\n",
    "$$ = -\\sin x \\sin y \\sin z - \\sin x \\sin y \\sin z - \\sin x \\sin y \\sin z $$\n",
    "$$ = -3 \\sin x \\sin y \\sin z $$"
   ]
  },
  {
   "cell_type": "markdown",
   "metadata": {},
   "source": [
    "#### (c)"
   ]
  },
  {
   "cell_type": "markdown",
   "metadata": {},
   "source": [
    "$$ T_c = e^{-5x} \\sin{4y} \\cos{3z} $$"
   ]
  },
  {
   "cell_type": "markdown",
   "metadata": {},
   "source": [
    "$$ \\nabla^2 T_c\n",
    "= \\frac{\\partial^2 T_c}{\\partial x^2}\n",
    "+ \\frac{\\partial^2 T_c}{\\partial y^2}\n",
    "+ \\frac{\\partial^2 T_c}{\\partial z^2} $$\n",
    "$$ = 25 e^{-5x} \\sin{4y} \\cos{3z} - 16 e^{-5x} \\sin{4y} \\cos{3z} - 9 e^{-5x} \\sin{4y} \\cos{3z} $$\n",
    "$$ = 0 $$"
   ]
  },
  {
   "cell_type": "markdown",
   "metadata": {},
   "source": [
    "#### (d)"
   ]
  },
  {
   "cell_type": "markdown",
   "metadata": {},
   "source": [
    "$$ \\textbf v = x^2 \\hat x + 3 x z^2 \\hat y - 2 x z \\hat z $$"
   ]
  },
  {
   "cell_type": "markdown",
   "metadata": {},
   "source": [
    "$$ \\nabla^2 \\textbf v = (\\nabla^2 v_x) \\hat x + (\\nabla^2 v_y) \\hat y + (\\nabla^2 v_z) \\hat z $$\n",
    "$$ = 2 x \\hat x + 6 z \\hat y $$"
   ]
  },
  {
   "cell_type": "markdown",
   "metadata": {},
   "source": [
    "### Problem 1.27\n",
    "\n",
    "Prove that the divergence of a curl is always zero, and then check it for this function:"
   ]
  },
  {
   "cell_type": "markdown",
   "metadata": {},
   "source": [
    "$$ \\textbf v = x^2 \\hat x + 3 x z^2 \\hat y - 2 x z \\hat z $$"
   ]
  },
  {
   "cell_type": "markdown",
   "metadata": {},
   "source": [
    "$$ \\nabla \\cdot (\\nabla \\times \\textbf v)\n",
    "= \\nabla \\cdot\n",
    "\\begin{vmatrix}\n",
    "\\hat x & \\hat y & \\hat z \\\\\n",
    "\\partial/\\partial x & \\partial/\\partial y & \\partial/\\partial z \\\\\n",
    "v_x & v_y & v_z\n",
    "\\end{vmatrix}\n",
    "$$"
   ]
  },
  {
   "cell_type": "markdown",
   "metadata": {},
   "source": [
    "$$\n",
    "= \\nabla \\cdot (\\frac{\\partial v_z}{\\partial y} - \\frac{\\partial v_y}{\\partial z})\\hat x\n",
    "+ (\\frac{\\partial v_x}{\\partial z} - \\frac{\\partial v_z}{\\partial x})\\hat y\n",
    "+ (\\frac{\\partial v_y}{\\partial x} - \\frac{\\partial v_x}{\\partial y})\\hat z)\n",
    "$$"
   ]
  },
  {
   "cell_type": "markdown",
   "metadata": {},
   "source": [
    "$$\n",
    "= \\frac{\\partial}{\\partial x}(\n",
    "  \\frac{\\partial v_z}{\\partial y} - \\frac{\\partial v_y}{\\partial z})\n",
    "+ \\frac{\\partial}{\\partial y}(\n",
    "  \\frac{\\partial v_x}{\\partial z} - \\frac{\\partial v_z}{\\partial x})\n",
    "+ \\frac{\\partial}{\\partial z}(\n",
    "  \\frac{\\partial v_y}{\\partial x} - \\frac{\\partial v_x}{\\partial y})\n",
    "$$"
   ]
  },
  {
   "cell_type": "markdown",
   "metadata": {},
   "source": [
    "$$\n",
    "= \\frac{\\partial}{\\partial x}\\frac{\\partial v_z}{\\partial y}\n",
    "- \\frac{\\partial}{\\partial x}\\frac{\\partial v_y}{\\partial z}\n",
    "+ \\frac{\\partial}{\\partial y}\\frac{\\partial v_x}{\\partial z}\n",
    "- \\frac{\\partial}{\\partial y}\\frac{\\partial v_z}{\\partial x}\n",
    "+ \\frac{\\partial}{\\partial z}\\frac{\\partial v_y}{\\partial x}\n",
    "- \\frac{\\partial}{\\partial z}\\frac{\\partial v_x}{\\partial y}\n",
    "$$"
   ]
  },
  {
   "cell_type": "markdown",
   "metadata": {},
   "source": [
    "Now, we can apply the theorem $\\dfrac{\\partial}{\\partial a}\\dfrac{\\partial f}{\\partial b} = \\dfrac{\\partial}{\\partial b}\\dfrac{\\partial f}{\\partial a}$ to all the negative terms, then rearrange the terms and cancel all of them out."
   ]
  },
  {
   "cell_type": "markdown",
   "metadata": {},
   "source": [
    "$$\n",
    "= \\frac{\\partial}{\\partial x}\\frac{\\partial v_z}{\\partial y}\n",
    "- \\frac{\\partial}{\\partial z}\\frac{\\partial v_y}{\\partial x}\n",
    "+ \\frac{\\partial}{\\partial y}\\frac{\\partial v_x}{\\partial z}\n",
    "- \\frac{\\partial}{\\partial x}\\frac{\\partial v_z}{\\partial y}\n",
    "+ \\frac{\\partial}{\\partial z}\\frac{\\partial v_y}{\\partial x}\n",
    "- \\frac{\\partial}{\\partial y}\\frac{\\partial v_x}{\\partial z}\n",
    "$$"
   ]
  },
  {
   "cell_type": "markdown",
   "metadata": {},
   "source": [
    "$$\n",
    "= (\\frac{\\partial}{\\partial x}\\frac{\\partial v_z}{\\partial y}\n",
    "- \\frac{\\partial}{\\partial x}\\frac{\\partial v_z}{\\partial y})\n",
    "+ (\\frac{\\partial}{\\partial z}\\frac{\\partial v_y}{\\partial x}\n",
    "- \\frac{\\partial}{\\partial z}\\frac{\\partial v_y}{\\partial x})\n",
    "+ (\\frac{\\partial}{\\partial y}\\frac{\\partial v_x}{\\partial z}\n",
    "- \\frac{\\partial}{\\partial y}\\frac{\\partial v_x}{\\partial z})\n",
    "$$"
   ]
  },
  {
   "cell_type": "markdown",
   "metadata": {},
   "source": [
    "$$ = 0 $$"
   ]
  },
  {
   "cell_type": "markdown",
   "metadata": {},
   "source": [
    "Now let's check it for the $\\textbf v$ that was given."
   ]
  },
  {
   "cell_type": "markdown",
   "metadata": {},
   "source": [
    "$$ \\nabla \\cdot (\\nabla \\times \\textbf v)\n",
    "= \\nabla \\cdot\n",
    "\\begin{vmatrix}\n",
    "\\hat x & \\hat y & \\hat z \\\\\n",
    "\\partial/\\partial x & \\partial/\\partial y & \\partial/\\partial z \\\\\n",
    "x^2 & 3xz^2 & -2xz\n",
    "\\end{vmatrix}\n",
    "$$"
   ]
  },
  {
   "cell_type": "markdown",
   "metadata": {},
   "source": [
    "$$ = \\nabla \\cdot (\n",
    "-6 x z \\hat x + 2 z \\hat y + 3 z^2 \\hat z\n",
    ") $$"
   ]
  },
  {
   "cell_type": "markdown",
   "metadata": {},
   "source": [
    "$$ = \\frac{\\partial}{\\partial x}(-6 x z) + \\frac{\\partial}{\\partial y}(2z) + \\frac{\\partial}{\\partial z}(3z^2) $$"
   ]
  },
  {
   "cell_type": "markdown",
   "metadata": {},
   "source": [
    "$$ = -6z + 0 + 6z = 0 $$"
   ]
  },
  {
   "cell_type": "markdown",
   "metadata": {},
   "source": [
    "### Problem 1.28\n",
    "\n",
    "Prove that the curl of a gradient is always zero and then check it for this function:"
   ]
  },
  {
   "cell_type": "markdown",
   "metadata": {},
   "source": [
    "$$ f = x^2 y^3 z^4 $$"
   ]
  },
  {
   "cell_type": "markdown",
   "metadata": {},
   "source": [
    "$$ \\nabla \\times (\\nabla f) = \\nabla \\times (\n",
    "  \\frac{\\partial f}{\\partial x} \\hat x\n",
    "+ \\frac{\\partial f}{\\partial y} \\hat y\n",
    "+ \\frac{\\partial f}{\\partial z} \\hat z\n",
    ") $$"
   ]
  },
  {
   "cell_type": "markdown",
   "metadata": {},
   "source": [
    "$$ = \\begin{vmatrix}\n",
    "\\hat x & \\hat y & \\hat z \\\\\n",
    "\\partial/\\partial x & \\partial/\\partial y & \\partial/\\partial z \\\\\n",
    "\\partial f/\\partial x & \\partial f/\\partial y & \\partial f/\\partial z \\\\\n",
    "\\end{vmatrix}\n",
    "$$"
   ]
  },
  {
   "cell_type": "markdown",
   "metadata": {},
   "source": [
    "$$\n",
    "= (\n",
    "  \\frac{\\partial}{\\partial y}\\frac{\\partial f}{\\partial z}\n",
    "- \\frac{\\partial}{\\partial z}\\frac{\\partial f}{\\partial y}\n",
    ") \\hat x\n",
    "+ (\n",
    "  \\frac{\\partial}{\\partial z}\\frac{\\partial f}{\\partial x}\n",
    "- \\frac{\\partial}{\\partial x}\\frac{\\partial f}{\\partial z}\n",
    ") \\hat y\n",
    "+ (\n",
    "  \\frac{\\partial}{\\partial x}\\frac{\\partial f}{\\partial y}\n",
    "- \\frac{\\partial}{\\partial y}\\frac{\\partial f}{\\partial x}\n",
    ") \\hat z\n",
    "$$"
   ]
  },
  {
   "cell_type": "markdown",
   "metadata": {},
   "source": [
    "Again we can apply the theorem $\\dfrac{\\partial}{\\partial a}\\dfrac{\\partial f}{\\partial b} = \\dfrac{\\partial}{\\partial b}\\dfrac{\\partial f}{\\partial a}$ to all the negative terms, and everything will cancel out."
   ]
  },
  {
   "cell_type": "markdown",
   "metadata": {},
   "source": [
    "$$\n",
    "= (\n",
    "  \\frac{\\partial}{\\partial y}\\frac{\\partial f}{\\partial z}\n",
    "- \\frac{\\partial}{\\partial y}\\frac{\\partial f}{\\partial z}\n",
    ") \\hat x\n",
    "+ (\n",
    "  \\frac{\\partial}{\\partial z}\\frac{\\partial f}{\\partial x}\n",
    "- \\frac{\\partial}{\\partial z}\\frac{\\partial f}{\\partial x}\n",
    ") \\hat y\n",
    "+ (\n",
    "  \\frac{\\partial}{\\partial x}\\frac{\\partial f}{\\partial y}\n",
    "- \\frac{\\partial}{\\partial x}\\frac{\\partial f}{\\partial y}\n",
    ") \\hat z\n",
    "$$"
   ]
  },
  {
   "cell_type": "markdown",
   "metadata": {},
   "source": [
    "$$ = 0 $$"
   ]
  },
  {
   "cell_type": "markdown",
   "metadata": {},
   "source": [
    "Now let's check it for the $f$ that was given."
   ]
  },
  {
   "cell_type": "markdown",
   "metadata": {},
   "source": [
    "$$ \\nabla \\times (\\nabla f) = \\nabla \\times (\n",
    "  \\frac{\\partial f}{\\partial x} \\hat x\n",
    "+ \\frac{\\partial f}{\\partial y} \\hat y\n",
    "+ \\frac{\\partial f}{\\partial z} \\hat z\n",
    ") $$"
   ]
  },
  {
   "cell_type": "markdown",
   "metadata": {},
   "source": [
    "$$ = \\nabla \\times (2 x y^3 z^4 \\hat x + 3 x^2 y^2 z^4 \\hat y + 4 x^2 y^3 z^3 \\hat z) $$"
   ]
  },
  {
   "cell_type": "markdown",
   "metadata": {},
   "source": [
    "$$ = \\begin{vmatrix}\n",
    "\\hat x & \\hat y & \\hat z \\\\\n",
    "\\partial/\\partial x & \\partial/\\partial y & \\partial/\\partial z \\\\\n",
    "2xy^3z^4 & 3x^2y^2z^4 & 4x^2y^3z^3\n",
    "\\end{vmatrix}\n",
    "$$"
   ]
  },
  {
   "cell_type": "markdown",
   "metadata": {},
   "source": [
    "$$\n",
    "= (12 x^2 y^2 z^3 - 12 x^2 y^2 z^3) \\hat x\n",
    "+ (8 x y^3 z^3 - 8 x y^3 z^3) \\hat y\n",
    "+ (6 x y^2 z^4 - 6 x y^2 z^4) \\hat z\n",
    "$$"
   ]
  },
  {
   "cell_type": "markdown",
   "metadata": {},
   "source": [
    "$$ = 0 $$"
   ]
  }
 ],
 "metadata": {
  "language_info": {
   "name": "python"
  }
 },
 "nbformat": 4,
 "nbformat_minor": 2
}
