{
 "cells": [
  {
   "cell_type": "markdown",
   "id": "eb8b11eb",
   "metadata": {},
   "source": [
    "# `np.ravel_multi_index` and `np.unravel_index`\n",
    "\n",
    "[Documentation for `numpy.ravel_multi_index`](https://numpy.org/doc/stable/reference/generated/numpy.ravel_multi_index.html)\n",
    "\n",
    "[Documentation for `numpy.unravel_index`](https://numpy.org/doc/stable/reference/generated/numpy.unravel_index.html)"
   ]
  },
  {
   "cell_type": "code",
   "execution_count": 1,
   "id": "6d166c2c",
   "metadata": {},
   "outputs": [],
   "source": [
    "import numpy as np"
   ]
  },
  {
   "cell_type": "markdown",
   "id": "d404b64e",
   "metadata": {},
   "source": [
    "## `ravel_multi_index`\n",
    "\n",
    "`np.ravel_multi_index` takes the N-dimensional indices, given by `multi_index`, into an arbitrary array of shape `dims` and converts them into flattened indices into the flattend array.\n",
    "\n",
    "`multi_index` is a tuple of size N, where N is the number of dimensions. Each element of the tuple is an integer array that represents an index into the corresponding dimension of some arbitrary array.\n",
    "\n",
    "For instance, if `multi_index = (x0, y0)`, where `x0` and `y0` are integers, it simply represents the index `[x0, y0]` into an arbitrary 2-dimensional array.\n",
    "\n",
    "But we can specify multiple different indices by giving arrays for each of the elements of the `multi_index` tuple. For instance, `multi_index = ([x0, x1, x2], [y0, y1, y3])` represents three different indices, `[x0, y0]`, `[x1, y1]`, and `[x2, y2]` into an arbitrary 2-dimensional array.\n",
    "\n",
    "The second argument, `dims`, is a tuple of N integers representing the shape of the array being indexed.\n",
    "\n",
    "For instance, the index `[x0, y0]` into an array of shape `(dim0, dim1)` becomes the index `x0 * dim1 + y0` into the flattened array of shape `(dim0 * dim1,)`."
   ]
  },
  {
   "cell_type": "code",
   "execution_count": 28,
   "id": "c7ab89b6",
   "metadata": {},
   "outputs": [
    {
     "data": {
      "text/plain": [
       "array([ 2,  7, 15])"
      ]
     },
     "execution_count": 28,
     "metadata": {},
     "output_type": "execute_result"
    }
   ],
   "source": [
    "np.ravel_multi_index(\n",
    "    multi_index=([0, 1, 2], [2, 1, 3]),\n",
    "    dims=(4, 6)\n",
    ")"
   ]
  },
  {
   "cell_type": "markdown",
   "id": "2a92f8f5",
   "metadata": {},
   "source": [
    "Above, `multi_index=([0, 1, 2], [2, 1, 3])` specifies the three indices `[0, 2]`, `[1, 1]`, and `[2, 3]`. Since `dims[1]=6`, the three indices are converted to the flattened indices, `0 * 6 + 2 = 2`, `1 * 6 + 1 = 7`, and `2 * 6 + 3 = 15`, respectively."
   ]
  },
  {
   "cell_type": "markdown",
   "id": "1737267e",
   "metadata": {},
   "source": [
    "The `multi_index` argument also supports broadcasting--the N different arrays are broadcasted together. The output of `ravel_multi_index` has the shape of the broadcasted index array."
   ]
  },
  {
   "cell_type": "code",
   "execution_count": 30,
   "id": "a018f302",
   "metadata": {},
   "outputs": [
    {
     "data": {
      "text/plain": [
       "array([1, 3, 5])"
      ]
     },
     "execution_count": 30,
     "metadata": {},
     "output_type": "execute_result"
    }
   ],
   "source": [
    "np.ravel_multi_index(\n",
    "    multi_index=([0, 1, 2], [1]),\n",
    "    dims=(3, 2),\n",
    ")"
   ]
  },
  {
   "cell_type": "markdown",
   "id": "4b546a75",
   "metadata": {},
   "source": [
    "Above, after `multi_index=([0, 1, 2], [1])` is broadcasted, it turns into three indices, `[0, 1]`, `[1, 1]`, `[2, 1]`. Those are converted to the flattened indices `0 * 2 + 1 = 1`, `1 * 2 + 1 = 3`, and `2 * 1 + 1 = 5`, respectively."
   ]
  },
  {
   "cell_type": "code",
   "execution_count": 34,
   "id": "6faa6e43",
   "metadata": {},
   "outputs": [
    {
     "data": {
      "text/plain": [
       "array([[ 3,  8, 13],\n",
       "       [ 0,  5, 10]])"
      ]
     },
     "execution_count": 34,
     "metadata": {},
     "output_type": "execute_result"
    }
   ],
   "source": [
    "np.ravel_multi_index(\n",
    "    multi_index=([0, 1, 2], [[3], [0]]),\n",
    "    dims=(4, 5),\n",
    ")"
   ]
  },
  {
   "cell_type": "markdown",
   "id": "808d1c29",
   "metadata": {},
   "source": [
    "In this one, `multi_index=([0, 1, 2], [[3], [0]])` broadcasts to six indices, `[0, 3]`, `[1, 3]`, `[2, 3]`, `[0, 0]`, `[1, 0]`, and `[2, 0]`. However, the six indices are arranged in a size `(2, 3)` array, since that is the broadcasted size for the sizes of the two index arrays of size `(3,)` and `(2, 1)`. The broadcasted index array is:\n",
    "\n",
    "```\n",
    "[\n",
    "  [\n",
    "    [0, 3],\n",
    "    [1, 3],\n",
    "    [2, 3],\n",
    "  ],\n",
    "  [\n",
    "    [0, 0],\n",
    "    [1, 0],\n",
    "    [2, 0],\n",
    "  ],\n",
    "]\n",
    "```\n",
    "\n",
    "Then the indices are flattened:\n",
    "\n",
    "```\n",
    "[\n",
    "  [\n",
    "    0 * 5 + 3,\n",
    "    1 * 5 + 3,\n",
    "    2 * 5 + 3,\n",
    "  ],\n",
    "  [\n",
    "    0 * 5 + 0,\n",
    "    1 * 5 + 0,\n",
    "    2 * 5 + 0,\n",
    "  ],\n",
    "]\n",
    "\n",
    "= [[3, 8, 13], [0, 5, 10]]\n",
    "```"
   ]
  },
  {
   "cell_type": "markdown",
   "id": "db1686c0",
   "metadata": {},
   "source": [
    "## `unravel_index`\n",
    "\n",
    "`np.unravel_index` is essentially the inverse operator of `np.ravel_multi_index`. Given `indices`, the array of indices into the flattened arbitrary array, and `shape`, the shape of the unflattened arbitrary array, it returns the unflattened indices. The `indices` argument is the output of `np.ravel_multi_index`."
   ]
  },
  {
   "cell_type": "code",
   "execution_count": 36,
   "id": "2e786bb3",
   "metadata": {},
   "outputs": [
    {
     "data": {
      "text/plain": [
       "(array([[0, 1, 2],\n",
       "        [0, 1, 2]]),\n",
       " array([[3, 3, 3],\n",
       "        [0, 0, 0]]))"
      ]
     },
     "execution_count": 36,
     "metadata": {},
     "output_type": "execute_result"
    }
   ],
   "source": [
    "np.unravel_index(\n",
    "    indices=[[3, 8, 13], [0, 5, 10]],\n",
    "    shape=(4, 5)\n",
    ")"
   ]
  },
  {
   "cell_type": "code",
   "execution_count": 47,
   "id": "bdb19847",
   "metadata": {},
   "outputs": [
    {
     "data": {
      "text/plain": [
       "(array([[0, 1, 2],\n",
       "        [0, 1, 2]]),\n",
       " array([[3, 3, 3],\n",
       "        [0, 0, 0]]))"
      ]
     },
     "execution_count": 47,
     "metadata": {},
     "output_type": "execute_result"
    }
   ],
   "source": [
    "np.unravel_index(\n",
    "    indices=np.array([[3, 8, 13], [0, 5, 10]]).astype(np.int16),\n",
    "    shape=(4, 5)\n",
    ")"
   ]
  },
  {
   "cell_type": "code",
   "execution_count": null,
   "id": "ee3388ad",
   "metadata": {},
   "outputs": [],
   "source": []
  }
 ],
 "metadata": {
  "kernelspec": {
   "display_name": "Python 3 (ipykernel)",
   "language": "python",
   "name": "python3"
  },
  "language_info": {
   "codemirror_mode": {
    "name": "ipython",
    "version": 3
   },
   "file_extension": ".py",
   "mimetype": "text/x-python",
   "name": "python",
   "nbconvert_exporter": "python",
   "pygments_lexer": "ipython3",
   "version": "3.11.3"
  }
 },
 "nbformat": 4,
 "nbformat_minor": 5
}
