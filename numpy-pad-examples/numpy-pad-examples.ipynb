{
 "cells": [
  {
   "cell_type": "markdown",
   "metadata": {},
   "source": [
    "# numpy.pad\n",
    "\n",
    "`numpy.pad` is a function that pads an array ([documentation](https://numpy.org/doc/stable/reference/generated/numpy.pad.html)). Padding an array means to increase the size of one or more dimensions of the array and fill the new elements with values, often called \"padded values\".\n",
    "\n",
    "There are many different ways we can choose to pad an array. We could add different numbers padded elements on the start and end of a given dimension. We could pad just one dimension, leaving the rest as they are. We could use many different strategies to determine what the padded values will be. One of the most common ways to pad an array is to simply add zero-value padding of constant width to the left and right sides of all dimensions. This is the default behavior of `numpy.pad`:"
   ]
  },
  {
   "cell_type": "code",
   "execution_count": 16,
   "metadata": {},
   "outputs": [
    {
     "name": "stdout",
     "output_type": "stream",
     "text": [
      "a:\n",
      "[[1. 1. 1.]\n",
      " [1. 1. 1.]]\n",
      "a_padded:\n",
      "[[0. 0. 0. 0. 0. 0. 0.]\n",
      " [0. 0. 0. 0. 0. 0. 0.]\n",
      " [0. 0. 1. 1. 1. 0. 0.]\n",
      " [0. 0. 1. 1. 1. 0. 0.]\n",
      " [0. 0. 0. 0. 0. 0. 0.]\n",
      " [0. 0. 0. 0. 0. 0. 0.]]\n"
     ]
    }
   ],
   "source": [
    "import numpy as np\n",
    "\n",
    "a = np.ones((2, 3))\n",
    "a_padded = np.pad(a, 2)\n",
    "\n",
    "print(f'a:\\n{a}')\n",
    "print(f'a_padded:\\n{a_padded}')"
   ]
  },
  {
   "cell_type": "markdown",
   "metadata": {},
   "source": [
    "We can pad arrays with more than two dimensions as well:"
   ]
  },
  {
   "cell_type": "code",
   "execution_count": 20,
   "metadata": {},
   "outputs": [
    {
     "name": "stdout",
     "output_type": "stream",
     "text": [
      "a: \n",
      "[[[1. 1.]\n",
      "  [1. 1.]]\n",
      "\n",
      " [[1. 1.]\n",
      "  [1. 1.]]]\n",
      "a_padded:\n",
      "[[[0. 0. 0. 0.]\n",
      "  [0. 0. 0. 0.]\n",
      "  [0. 0. 0. 0.]\n",
      "  [0. 0. 0. 0.]]\n",
      "\n",
      " [[0. 0. 0. 0.]\n",
      "  [0. 1. 1. 0.]\n",
      "  [0. 1. 1. 0.]\n",
      "  [0. 0. 0. 0.]]\n",
      "\n",
      " [[0. 0. 0. 0.]\n",
      "  [0. 1. 1. 0.]\n",
      "  [0. 1. 1. 0.]\n",
      "  [0. 0. 0. 0.]]\n",
      "\n",
      " [[0. 0. 0. 0.]\n",
      "  [0. 0. 0. 0.]\n",
      "  [0. 0. 0. 0.]\n",
      "  [0. 0. 0. 0.]]]\n"
     ]
    }
   ],
   "source": [
    "a = np.ones((2, 2, 2))\n",
    "a_padded = np.pad(a, 1)\n",
    "print(f'a: \\n{a}')\n",
    "print(f'a_padded:\\n{a_padded}')"
   ]
  },
  {
   "cell_type": "markdown",
   "metadata": {},
   "source": [
    "Let's look at some of the different ways we can call `numpy.pad`.\n",
    "\n",
    "## `pad_width`\n",
    "\n",
    "`numpy.pad`'s `pad_width` argument can be a single `int`, as we saw above. However, it can also be a sequence of numbers. If we give a pair of numbers, we can apply different pad widths to the start and end of all dimensions. The padding we add to the start of a dimension is often called \"before-padding\", and the padding we add to the end of a dimension is often called \"after-padding\". In the following example, we add after-padding of width 3 to each dimension and we don't add any before-padding."
   ]
  },
  {
   "cell_type": "code",
   "execution_count": 30,
   "metadata": {},
   "outputs": [
    {
     "name": "stdout",
     "output_type": "stream",
     "text": [
      "a: \n",
      "[[1. 1.]\n",
      " [1. 1.]]\n",
      "a_padded:\n",
      "[[1. 1. 0. 0. 0.]\n",
      " [1. 1. 0. 0. 0.]\n",
      " [0. 0. 0. 0. 0.]\n",
      " [0. 0. 0. 0. 0.]\n",
      " [0. 0. 0. 0. 0.]]\n"
     ]
    }
   ],
   "source": [
    "a = np.ones((2, 2))\n",
    "a_padded = np.pad(a, (0, 3))\n",
    "print(f'a: \\n{a}')\n",
    "print(f'a_padded:\\n{a_padded}')"
   ]
  },
  {
   "cell_type": "markdown",
   "metadata": {},
   "source": [
    "We can specify all different before- and after-padding widths for each dimension by giving a sequence of pairs for the `pad_width` argument. The Nth pair of numbers will be applied to the Nth dimension of the array."
   ]
  },
  {
   "cell_type": "code",
   "execution_count": 46,
   "metadata": {},
   "outputs": [
    {
     "name": "stdout",
     "output_type": "stream",
     "text": [
      "a: \n",
      "[[1. 1.]\n",
      " [1. 1.]]\n",
      "a_padded:\n",
      "[[0. 0. 1. 1. 0. 0. 0.]\n",
      " [0. 0. 1. 1. 0. 0. 0.]\n",
      " [0. 0. 0. 0. 0. 0. 0.]]\n"
     ]
    }
   ],
   "source": [
    "a = np.ones((2, 2))\n",
    "a_padded = np.pad(a, ((0, 1), (2, 3)))\n",
    "print(f'a: \\n{a}')\n",
    "print(f'a_padded:\\n{a_padded}')"
   ]
  },
  {
   "cell_type": "markdown",
   "metadata": {},
   "source": [
    "## `mode`\n",
    "\n",
    "The `mode` argument lets you pick different ways to determine the pad values for each new element. Every mode is compatible with every valid `pad_width`.\n",
    "\n",
    "### `mode='constant'`\n",
    "\n",
    "This option uses constant values to fill the padding. This is the default option for `mode`, and the default behavior of this mode is to use `0` for every pad value, as we saw above. We can specify a different pad value with the optional `constant_values` kwarg."
   ]
  },
  {
   "cell_type": "code",
   "execution_count": 54,
   "metadata": {},
   "outputs": [
    {
     "name": "stdout",
     "output_type": "stream",
     "text": [
      "a: \n",
      "[[1. 1.]\n",
      " [1. 1.]]\n",
      "a_padded:\n",
      "[[2. 2. 2. 2. 2. 2.]\n",
      " [2. 2. 2. 2. 2. 2.]\n",
      " [2. 2. 1. 1. 2. 2.]\n",
      " [2. 2. 1. 1. 2. 2.]\n",
      " [2. 2. 2. 2. 2. 2.]\n",
      " [2. 2. 2. 2. 2. 2.]]\n"
     ]
    }
   ],
   "source": [
    "a = np.ones((2, 2))\n",
    "a_padded = np.pad(a, 2, constant_values=2)\n",
    "print(f'a: \\n{a}')\n",
    "print(f'a_padded:\\n{a_padded}')"
   ]
  },
  {
   "cell_type": "markdown",
   "metadata": {},
   "source": [
    "We can also specify a pair of numbers for `constant_values`. The first number is the value used for the before-padding and the second number is used for the after-padding. These are applied to all dimensions.\n",
    "\n",
    "Notice a conflict here--pad elements on corners can sometimes be the before-padding of one dimension and the after-padding of another dimension. To resolve this conflict, the padding is logically applied to each dimension in order, starting from dim 0. So the pad values of the higher dimensions override the pad values of lower dimensions. For instance, in the following example, the element `a_padded[0][-1]` (top right corner) is before-padding in dimension 0, but it's after-padding in dimension 1. Dimension 1 overrides dimension 0, since it is a higher dimension, so element `a_padded[0][-1]` is assigned the after-pading value we that specified, `3`.\n"
   ]
  },
  {
   "cell_type": "code",
   "execution_count": 77,
   "metadata": {},
   "outputs": [
    {
     "name": "stdout",
     "output_type": "stream",
     "text": [
      "a: \n",
      "[[1. 1.]\n",
      " [1. 1.]]\n",
      "a_padded:\n",
      "[[2. 2. 2. 2. 3. 3.]\n",
      " [2. 2. 2. 2. 3. 3.]\n",
      " [2. 2. 1. 1. 3. 3.]\n",
      " [2. 2. 1. 1. 3. 3.]\n",
      " [2. 2. 3. 3. 3. 3.]\n",
      " [2. 2. 3. 3. 3. 3.]]\n"
     ]
    }
   ],
   "source": [
    "a = np.ones((2, 2))\n",
    "a_padded = np.pad(a, 2, constant_values=(2, 3))\n",
    "print(f'a: \\n{a}')\n",
    "print(f'a_padded:\\n{a_padded}')\n"
   ]
  },
  {
   "cell_type": "markdown",
   "metadata": {},
   "source": [
    "\n",
    "We can obtain the same result as above by separating the two dimensions into two different `numpy.pad` calls. The first call applies dimension 0 padding, and the second call applies the dimension 1 padding."
   ]
  },
  {
   "cell_type": "code",
   "execution_count": 78,
   "metadata": {},
   "outputs": [
    {
     "name": "stdout",
     "output_type": "stream",
     "text": [
      "a_padded_dim0_dim1:\n",
      "[[2. 2. 2. 2. 3. 3.]\n",
      " [2. 2. 2. 2. 3. 3.]\n",
      " [2. 2. 1. 1. 3. 3.]\n",
      " [2. 2. 1. 1. 3. 3.]\n",
      " [2. 2. 3. 3. 3. 3.]\n",
      " [2. 2. 3. 3. 3. 3.]]\n"
     ]
    }
   ],
   "source": [
    "\n",
    "a_padded_dim0 = np.pad(a, ((2, 2), (0, 0)), constant_values=(2, 3))\n",
    "a_padded_dim0_dim1 = np.pad(a_padded_dim0, ((0, 0), (2, 2)), constant_values=(2, 3))\n",
    "\n",
    "print(f'a_padded_dim0_dim1:\\n{a_padded_dim0_dim1}')"
   ]
  },
  {
   "cell_type": "markdown",
   "metadata": {},
   "source": [
    "But if we apply the padding to dimension 1 first, we get a different result."
   ]
  },
  {
   "cell_type": "code",
   "execution_count": 79,
   "metadata": {},
   "outputs": [
    {
     "name": "stdout",
     "output_type": "stream",
     "text": [
      "a_padded_dim1_dim0:\n",
      "[[2. 2. 2. 2. 2. 2.]\n",
      " [2. 2. 2. 2. 2. 2.]\n",
      " [2. 2. 1. 1. 3. 3.]\n",
      " [2. 2. 1. 1. 3. 3.]\n",
      " [3. 3. 3. 3. 3. 3.]\n",
      " [3. 3. 3. 3. 3. 3.]]\n"
     ]
    }
   ],
   "source": [
    "a_padded_dim1 = np.pad(a, ((0, 0), (2, 2)), constant_values=(2, 3))\n",
    "a_padded_dim1_dim0 = np.pad(a_padded_dim1, ((2, 2), (0, 0)), constant_values=(2, 3))\n",
    "\n",
    "print(f'a_padded_dim1_dim0:\\n{a_padded_dim1_dim0}')"
   ]
  },
  {
   "cell_type": "markdown",
   "metadata": {},
   "source": [
    "We can also specify a sequence of pairs of numbers for `constant_values` to apply different before- and after-padding to each dimension. The Nth pair corresponds with the Nth dimension.\n",
    "\n",
    "Again, notice we have a conflict where corner elements can correspond with more than one dimension. And again, since the padding for each dimension is applied in order, the higher dimensions override the lower dimensions. In the example below, corner padding elements are assigned either `4` or `5` since those are the padding constants we specified for the higher dimension."
   ]
  },
  {
   "cell_type": "code",
   "execution_count": 80,
   "metadata": {},
   "outputs": [
    {
     "name": "stdout",
     "output_type": "stream",
     "text": [
      "a: \n",
      "[[1. 1.]\n",
      " [1. 1.]]\n",
      "a_padded:\n",
      "[[4. 4. 2. 2. 5. 5.]\n",
      " [4. 4. 2. 2. 5. 5.]\n",
      " [4. 4. 1. 1. 5. 5.]\n",
      " [4. 4. 1. 1. 5. 5.]\n",
      " [4. 4. 3. 3. 5. 5.]\n",
      " [4. 4. 3. 3. 5. 5.]]\n"
     ]
    }
   ],
   "source": [
    "a = np.ones((2, 2))\n",
    "a_padded = np.pad(a, 2, constant_values=((2, 3), (4, 5)))\n",
    "print(f'a: \\n{a}')\n",
    "print(f'a_padded:\\n{a_padded}')"
   ]
  },
  {
   "cell_type": "markdown",
   "metadata": {},
   "source": [
    "### `mode='edge'`"
   ]
  },
  {
   "cell_type": "markdown",
   "metadata": {},
   "source": [
    "With 'edge' mode, the each pad element is filled with the value of the nearest element on the edge of the original array."
   ]
  },
  {
   "cell_type": "code",
   "execution_count": 65,
   "metadata": {},
   "outputs": [
    {
     "name": "stdout",
     "output_type": "stream",
     "text": [
      "a: \n",
      "[[2 9 3]\n",
      " [8 1 8]\n",
      " [7 8 5]]\n",
      "a_padded:\n",
      "[[2 2 2 9 3 3 3]\n",
      " [2 2 2 9 3 3 3]\n",
      " [2 2 2 9 3 3 3]\n",
      " [8 8 8 1 8 8 8]\n",
      " [7 7 7 8 5 5 5]\n",
      " [7 7 7 8 5 5 5]\n",
      " [7 7 7 8 5 5 5]]\n"
     ]
    }
   ],
   "source": [
    "a = np.random.randint(0, 10, (3, 3))\n",
    "a_padded = np.pad(a, 2, mode='edge')\n",
    "print(f'a: \\n{a}')\n",
    "print(f'a_padded:\\n{a_padded}')"
   ]
  },
  {
   "cell_type": "markdown",
   "metadata": {},
   "source": [
    "### `mode='linear_ramp'`\n",
    "\n",
    "This mode is similar to `mode='constant'`, except that if we have a pad width of more than `1`, the values between the edge of the padded array and the edge of the original array are a linear ramp between the two edge values. Somewhat confusingly, the padding elements on the edge of the padded array are referred to as \"end values\", even if they are before-padding values. (Perhaps we can improve this in the `torch` pad function interface. \"edge values\" would probably be clearer, although maybe that would cause confusion with 'edge' mode.)\n",
    "\n",
    "Just as in 'constant' mode, padding is logically applied to each dimension in order, which explains why we get a value of `1` in positions `[1][1]`, `[1][5]`, `[5][1]`, and `[5][5]` of the result `a_padded`. (I'm going to stop mentioning that padding is applied to each dimension in order for the remaining `mode`s, so assume they all act the same way unless I specifically say differently.)"
   ]
  },
  {
   "cell_type": "code",
   "execution_count": 87,
   "metadata": {},
   "outputs": [
    {
     "name": "stdout",
     "output_type": "stream",
     "text": [
      "a:\n",
      "[[4. 4. 4.]\n",
      " [4. 4. 4.]\n",
      " [4. 4. 4.]]\n",
      "a_padded:\n",
      "[[0. 0. 0. 0. 0. 0. 0.]\n",
      " [0. 1. 2. 2. 2. 1. 0.]\n",
      " [0. 2. 4. 4. 4. 2. 0.]\n",
      " [0. 2. 4. 4. 4. 2. 0.]\n",
      " [0. 2. 4. 4. 4. 2. 0.]\n",
      " [0. 1. 2. 2. 2. 1. 0.]\n",
      " [0. 0. 0. 0. 0. 0. 0.]]\n",
      "a_padded_dim0:\n",
      "[[0. 0. 0.]\n",
      " [2. 2. 2.]\n",
      " [4. 4. 4.]\n",
      " [4. 4. 4.]\n",
      " [4. 4. 4.]\n",
      " [2. 2. 2.]\n",
      " [0. 0. 0.]]\n",
      "a_padded_dim0_dim1:\n",
      "[[0. 0. 0. 0. 0. 0. 0.]\n",
      " [0. 1. 2. 2. 2. 1. 0.]\n",
      " [0. 2. 4. 4. 4. 2. 0.]\n",
      " [0. 2. 4. 4. 4. 2. 0.]\n",
      " [0. 2. 4. 4. 4. 2. 0.]\n",
      " [0. 1. 2. 2. 2. 1. 0.]\n",
      " [0. 0. 0. 0. 0. 0. 0.]]\n"
     ]
    }
   ],
   "source": [
    "a = np.ones((3, 3)) * 4\n",
    "a_padded = np.pad(a, 2, mode='linear_ramp')\n",
    "print(f'a:\\n{a}')\n",
    "print(f'a_padded:\\n{a_padded}')\n",
    "\n",
    "a_padded_dim0 = np.pad(a, ((2, 2), (0, 0)), mode='linear_ramp')\n",
    "print(f'a_padded_dim0:\\n{a_padded_dim0}')\n",
    "a_padded_dim0_dim1 = np.pad(a_padded_dim0, ((0, 0), (2, 2)), mode='linear_ramp')\n",
    "print(f'a_padded_dim0_dim1:\\n{a_padded_dim0_dim1}')"
   ]
  },
  {
   "cell_type": "markdown",
   "metadata": {},
   "source": [
    "With 'linear_ramp' mode, we can specify end values other than the default `0` using the optional `end_values` kwarg. This argument acts exactly the same as the `constant_values` argument for 'constant' mode. (Perhaps we can combine `end_values` and `constant_values` into one arg for PyTorch)"
   ]
  },
  {
   "cell_type": "code",
   "execution_count": 88,
   "metadata": {},
   "outputs": [
    {
     "name": "stdout",
     "output_type": "stream",
     "text": [
      "a:\n",
      "[[0. 0. 0.]\n",
      " [0. 0. 0.]\n",
      " [0. 0. 0.]]\n",
      "a_padded:\n",
      "[[4.   3.   2.   2.   2.   3.5  5.  ]\n",
      " [4.   2.5  1.   1.   1.   3.   5.  ]\n",
      " [4.   2.   0.   0.   0.   2.5  5.  ]\n",
      " [4.   2.   0.   0.   0.   2.5  5.  ]\n",
      " [4.   2.   0.   0.   0.   2.5  5.  ]\n",
      " [4.   2.75 1.5  1.5  1.5  3.25 5.  ]\n",
      " [4.   3.5  3.   3.   3.   4.   5.  ]]\n"
     ]
    }
   ],
   "source": [
    "a = np.zeros((3, 3))\n",
    "a_padded = np.pad(a, 2, mode='linear_ramp', end_values=((2, 3), (4, 5)))\n",
    "print(f'a:\\n{a}')\n",
    "print(f'a_padded:\\n{a_padded}')"
   ]
  },
  {
   "cell_type": "markdown",
   "metadata": {},
   "source": [
    "### `mode='maximum/mean/median/minimum'`\n",
    "\n",
    "In these modes, padding values are set to a reduced value (max, mean, median, or minimum) of a subset of the corresponding vector along the axis being padded. By default, the reduction is applied to the entire corresponding vector."
   ]
  },
  {
   "cell_type": "code",
   "execution_count": 104,
   "metadata": {},
   "outputs": [
    {
     "name": "stdout",
     "output_type": "stream",
     "text": [
      "a:\n",
      "[[9. 5. 0.]\n",
      " [9. 4. 5.]\n",
      " [4. 6. 3.]]\n",
      "a_padded:\n",
      "[[5.    5.    7.333 5.    2.667 5.    5.   ]\n",
      " [5.    5.    7.333 5.    2.667 5.    5.   ]\n",
      " [4.667 4.667 9.    5.    0.    4.667 4.667]\n",
      " [6.    6.    9.    4.    5.    6.    6.   ]\n",
      " [4.333 4.333 4.    6.    3.    4.333 4.333]\n",
      " [5.    5.    7.333 5.    2.667 5.    5.   ]\n",
      " [5.    5.    7.333 5.    2.667 5.    5.   ]]\n"
     ]
    }
   ],
   "source": [
    "a = np.random.randint(0, 10, (3, 3)).astype(float)\n",
    "a_padded = np.pad(a, 2, mode='mean')\n",
    "print(f'a:\\n{a}')\n",
    "print(f'a_padded:\\n{np.around(a_padded, 3)}')"
   ]
  },
  {
   "cell_type": "markdown",
   "metadata": {},
   "source": [
    "We can use the optional `stat_length` argument to specify the length of a subset of each vector to reduce. The subset vector is always going to be directly next to the padding. If this argument is a single `int`, it is used in the reduction for each before- and after-padding value for all dimensions. Notice that we can get the same behavior as `mode='edge'` if we use `stat_length=1`:"
   ]
  },
  {
   "cell_type": "code",
   "execution_count": 106,
   "metadata": {},
   "outputs": [
    {
     "name": "stdout",
     "output_type": "stream",
     "text": [
      "a:\n",
      "[[7. 8. 5.]\n",
      " [2. 2. 2.]\n",
      " [3. 4. 8.]]\n",
      "a_padded:\n",
      "[[7. 7. 7. 8. 5. 5. 5.]\n",
      " [7. 7. 7. 8. 5. 5. 5.]\n",
      " [7. 7. 7. 8. 5. 5. 5.]\n",
      " [2. 2. 2. 2. 2. 2. 2.]\n",
      " [3. 3. 3. 4. 8. 8. 8.]\n",
      " [3. 3. 3. 4. 8. 8. 8.]\n",
      " [3. 3. 3. 4. 8. 8. 8.]]\n"
     ]
    }
   ],
   "source": [
    "a = np.random.randint(0, 10, (3, 3)).astype(float)\n",
    "a_padded = np.pad(a, 2, mode='mean', stat_length=1)\n",
    "print(f'a:\\n{a}')\n",
    "print(f'a_padded:\\n{np.around(a_padded, 3)}')"
   ]
  },
  {
   "cell_type": "markdown",
   "metadata": {},
   "source": [
    "`stat_length` can also be a pair of ints (different length for before- and after-padding reductions) or a sequence of pairs (one pair for each dimension). If an element of `stat_length` is greater than the length of the corresponding dimension, the entire vector is reduced for the corresponding padding elements."
   ]
  },
  {
   "cell_type": "code",
   "execution_count": 110,
   "metadata": {},
   "outputs": [
    {
     "name": "stdout",
     "output_type": "stream",
     "text": [
      "a:\n",
      "[[2. 5. 3.]\n",
      " [2. 1. 4.]\n",
      " [2. 9. 6.]]\n",
      "a_padded:\n",
      "[[3.333 3.333 2.    5.    3.    3.333 3.333]\n",
      " [3.333 3.333 2.    5.    3.    3.333 3.333]\n",
      " [3.333 3.333 2.    5.    3.    3.333 3.333]\n",
      " [2.333 2.333 2.    1.    4.    2.333 2.333]\n",
      " [5.667 5.667 2.    9.    6.    5.667 5.667]\n",
      " [4.    4.    2.    5.    5.    4.    4.   ]\n",
      " [4.    4.    2.    5.    5.    4.    4.   ]]\n"
     ]
    }
   ],
   "source": [
    "a = np.random.randint(0, 10, (3, 3)).astype(float)\n",
    "a_padded = np.pad(a, 2, mode='mean', stat_length=((1, 2), (3, 4)))\n",
    "print(f'a:\\n{a}')\n",
    "print(f'a_padded:\\n{np.around(a_padded, 3)}')"
   ]
  },
  {
   "cell_type": "markdown",
   "metadata": {},
   "source": [
    "### `mode='reflect'`\n",
    "\n",
    "This mode has two differerent types, which can be chosen with the `reflect_type` argument. By default, we have `reflect_type='even'`, but we can also specify `reflect_type='odd'`.\n",
    "\n",
    "With `reflect_type='even'`, padded elements mirror, in reverse order, the elements from the input array. It's as if we placed a mirror along the edges of the input array and copied the numbers that appear in the reflection. If the padding width exceeds the input array length for a given dimension, the reflection continues in the opposite direction, bouncing back and forth.\n",
    "\n",
    "In the example below, we reflection pad a 5-element vector with an after-pad width of 10. In the result, the first pad value at position `a_padded[5]` is equal to the value to the left of the last element of `a`, or `a[3]`. Then, as we continue further to the right within `a_padded`, we continue moving to the left within `a` until we get to `a_padded[8]` equals `a[0]`.  After that point, we bounce back, and `a_padded[9]` equals `a[1]`. This continues until we fill up the padding."
   ]
  },
  {
   "cell_type": "code",
   "execution_count": 139,
   "metadata": {},
   "outputs": [
    {
     "name": "stdout",
     "output_type": "stream",
     "text": [
      "a:\n",
      "[5 0 3 3 7]\n",
      "a_padded:\n",
      "[5 0 3 3 7 3 3 0 5 0 3 3 7 3 3]\n"
     ]
    }
   ],
   "source": [
    "np.random.seed(0)\n",
    "a = np.random.randint(0, 10, (5,))\n",
    "a_padded = np.pad(a, (0, 10), mode='reflect', reflect_type='even')\n",
    "print(f'a:\\n{a}')\n",
    "print(f'a_padded:\\n{a_padded}')"
   ]
  },
  {
   "cell_type": "markdown",
   "metadata": {},
   "source": [
    "And of course, we can reflection pad higher dimensional arrays. It's interesting to point out that with this type of padding, we obtain the same result no matter which dimension we pad first."
   ]
  },
  {
   "cell_type": "code",
   "execution_count": 150,
   "metadata": {},
   "outputs": [
    {
     "name": "stdout",
     "output_type": "stream",
     "text": [
      "a:\n",
      "[[0 1 2]\n",
      " [1 2 3]\n",
      " [2 3 4]]\n",
      "a_padded:\n",
      "[[0 1 2 1 0 1 2 1 0 1 2]\n",
      " [1 2 3 2 1 2 3 2 1 2 3]\n",
      " [2 3 4 3 2 3 4 3 2 3 4]\n",
      " [1 2 3 2 1 2 3 2 1 2 3]\n",
      " [0 1 2 1 0 1 2 1 0 1 2]\n",
      " [1 2 3 2 1 2 3 2 1 2 3]\n",
      " [2 3 4 3 2 3 4 3 2 3 4]\n",
      " [1 2 3 2 1 2 3 2 1 2 3]\n",
      " [0 1 2 1 0 1 2 1 0 1 2]\n",
      " [1 2 3 2 1 2 3 2 1 2 3]\n",
      " [2 3 4 3 2 3 4 3 2 3 4]]\n"
     ]
    }
   ],
   "source": [
    "a = np.array([[0, 1, 2], [1, 2, 3], [2, 3, 4]])\n",
    "a_padded = np.pad(a, 4, mode='reflect')\n",
    "print(f'a:\\n{a}')\n",
    "print(f'a_padded:\\n{a_padded}')\n",
    "\n",
    "a_padded_dim0_first = np.pad(\n",
    "    np.pad(a, ((4, 4), (0, 0)), mode='reflect'),\n",
    "    ((0, 0), (4, 4)),\n",
    "    mode='reflect')\n",
    "\n",
    "a_padded_dim1_first = np.pad(\n",
    "    np.pad(a, ((0, 0), (4, 4)), mode='reflect'),\n",
    "    ((4, 4), (0, 0)),\n",
    "    mode='reflect')\n",
    "\n",
    "assert (a_padded_dim0_first == a_padded_dim1_first).all()"
   ]
  },
  {
   "cell_type": "code",
   "execution_count": null,
   "metadata": {},
   "outputs": [],
   "source": []
  }
 ],
 "metadata": {
  "kernelspec": {
   "display_name": "Python 3",
   "language": "python",
   "name": "python3"
  },
  "language_info": {
   "codemirror_mode": {
    "name": "ipython",
    "version": 3
   },
   "file_extension": ".py",
   "mimetype": "text/x-python",
   "name": "python",
   "nbconvert_exporter": "python",
   "pygments_lexer": "ipython3",
   "version": "3.7.7"
  }
 },
 "nbformat": 4,
 "nbformat_minor": 4
}
