{
 "cells": [
  {
   "cell_type": "markdown",
   "id": "284ae142",
   "metadata": {},
   "source": [
    "# Calculate the path of a particle between two points\n",
    "\n",
    "Physics is often used to predict what will happen to a particle in the future or past given the position and velocity of the particle in a field at one particular time. That is, given a full description a particle's position, velocity, and all of the forces that will act on the particle, we can integrate the system to find the position and velocity of the particle at other times.\n",
    "\n",
    "However, there is another type of problem that we can solve. Given just the positions of a particle in a field at two different times and an equation that describes the field, we can calculate the path that the particle took between those two points. In this type of problem, we don't know the velocity of the particle at any point ahead of time--it will be part of the solution.\n",
    "\n",
    "How do you solve this problem?"
   ]
  },
  {
   "cell_type": "markdown",
   "id": "d4a04459",
   "metadata": {},
   "source": [
    "# Stationary Action\n",
    "\n",
    "The first step is the [principle of stationary action](https://en.wikipedia.org/wiki/Stationary-action_principle).\n",
    "\n",
    "What is action? Let's say the function $x(t)$ describes the worldline of a particle. There is some function, $L(x(t), \\dot{x}(t), t)$, called the Lagrangian, which we can integrate over time to calculate the action, $A$, for a section of the worldline."
   ]
  },
  {
   "cell_type": "markdown",
   "id": "d087b938",
   "metadata": {},
   "source": [
    "$$A = \\int_{t_1}^{t_2} L(x(t), \\dot{x}(t), t) dt$$"
   ]
  },
  {
   "cell_type": "markdown",
   "id": "e165468f",
   "metadata": {},
   "source": [
    "The principle of stationary action states that the particle must take a path which either minimizes or maximizes the action.\n",
    "\n",
    "In other words, if we vary $x$ slightly by adding a small change $\\delta x$ to it, we get a slightly different path $x + \\delta x$. The action of this new path is $A + \\delta A$. Since $x(t)$ maximizes or minimizes the action, then adding a small $\\delta x$ will not change the action in the first order. So we can state the principle as:"
   ]
  },
  {
   "cell_type": "markdown",
   "id": "ab3b91ab",
   "metadata": {},
   "source": [
    "$$ \\delta A = 0 $$\n",
    "$$ \\delta \\int_{t_1}^{t_2} L dt = 0 $$\n"
   ]
  },
  {
   "cell_type": "markdown",
   "id": "c46a1659",
   "metadata": {},
   "source": [
    "This means that a particle will always find an \"optimal\" path through its field, where the Lagrangian is the function to be optimized. No one has ever found a system in nature that does not follow this principle.\n",
    "\n",
    "Importantly, the principle doesn't tell us what $L$ actually is--it just says that it exists and we can find it somehow. We'll look at an example of a Lagrangian later on."
   ]
  },
  {
   "cell_type": "markdown",
   "id": "2d91013f",
   "metadata": {},
   "source": [
    "# Calculus of variations\n",
    "\n",
    "Given a Lagrangian $L$, we'll use a tool from the [calculus of variations](https://en.wikipedia.org/wiki/Calculus_of_variations) to determine the path $x$ between two points $(t_1, x_1)$ and $(t_2, x_2)$. We'll imagine changing an infinitessimally small part of $x(t)$ and see how the action of the path changes as a result. If $x(t)$ is the optimal path, the action will not change in the first order.\n",
    "\n",
    "Let's break up the path into a bunch of little segments. Each segment starts at $(t_i, x_i)$, ends at $(t_{i+1}, x_{i+1})$, has a width of $\\epsilon = t_{i+1} - t_i$ along the time axis, and approximates a straight line if $\\epsilon$ is small enough. Adding up all of these straight line segments will give an approximation of $x(t)$, and if we shrink $\\epsilon$ down to zero, we obtain the exact path $x(t)$ again.\n",
    "\n",
    "We can approximate the integral of the Lagrangian with a summation over all of these small segments:"
   ]
  },
  {
   "cell_type": "markdown",
   "id": "8cb046e3",
   "metadata": {},
   "source": [
    "$$ \\int L dt \\longrightarrow \\epsilon \\sum L(x_i, \\dot{x}_i, t_i) $$"
   ]
  },
  {
   "cell_type": "markdown",
   "id": "84bb3e68",
   "metadata": {},
   "source": [
    "An important observation is that $\\dot{x}_i$ can be approximated by the slope of the segment:"
   ]
  },
  {
   "cell_type": "markdown",
   "id": "5bc759e9",
   "metadata": {},
   "source": [
    "$$ \\dot{x}_i = \\frac{x_{i+1} - x_i}{\\epsilon} $$"
   ]
  },
  {
   "cell_type": "markdown",
   "id": "ba1e1d88",
   "metadata": {},
   "source": [
    "We can also choose to simplify the notation slightly by not including the $t_i$ parameter of $L$. It's still there, just not written explicitly. So now we have the summation:"
   ]
  },
  {
   "cell_type": "markdown",
   "id": "05bc5cea",
   "metadata": {},
   "source": [
    "$$ \\epsilon \\sum L(x_i, \\frac{x_{i+1} - x_i}{\\epsilon}) $$"
   ]
  },
  {
   "cell_type": "markdown",
   "id": "a2497290",
   "metadata": {},
   "source": [
    "Now we'll focus on what happens if we change just one point $x_i$ along the path. The action across these two segments is proportional to the sum of the Lagrangians for the two segments:"
   ]
  },
  {
   "cell_type": "markdown",
   "id": "95abf420",
   "metadata": {},
   "source": [
    "$$ \\epsilon L(x_i, \\frac{x_{i+1} - x_i}{\\epsilon}) + \\epsilon L(x_{i-1}, \\frac{x_i - x_{i-1}}{\\epsilon}) $$"
   ]
  },
  {
   "cell_type": "markdown",
   "id": "cbcd5cc0",
   "metadata": {},
   "source": [
    "If we change $x_i$ a little bit, the action will change by $\\delta A$. So we have to differentiate the sum of the Lagrangians of these two small segments by $x_i$."
   ]
  },
  {
   "cell_type": "markdown",
   "id": "9c24e289",
   "metadata": {},
   "source": [
    "$$ \\delta A = \\epsilon \\frac{\\partial}{\\partial x_i} [ L(x_i, \\frac{x_{i+1} - x_i}{\\epsilon}) + L(x_{i-1}, \\frac{x_i - x_{i-1}}{\\epsilon}) ] $$"
   ]
  },
  {
   "cell_type": "markdown",
   "id": "fa84e1de",
   "metadata": {},
   "source": [
    "This can be expanded into:"
   ]
  },
  {
   "cell_type": "markdown",
   "id": "ba7801c8",
   "metadata": {},
   "source": [
    "$$ \\delta A = \\epsilon [ \\frac{\\partial L(x_i, \\dot{x}_i)}{\\partial x_i} + \\frac{1}{\\epsilon}\\frac{\\partial L}{\\partial \\dot{x}_i} - \\frac{1}{\\epsilon}\\frac{\\partial L}{\\partial \\dot{x}_{i+1}}] $$\n",
    "\n"
   ]
  },
  {
   "cell_type": "markdown",
   "id": "8471567f",
   "metadata": {},
   "source": [
    "And the two derivatives with respect to $\\dot{x}_i$ and $\\dot{x}_{i+1}$ can actually be combined to get:"
   ]
  },
  {
   "cell_type": "markdown",
   "id": "dd9f91a3",
   "metadata": {},
   "source": [
    "$$ \\delta A = \\epsilon [ \\frac{\\partial L}{\\partial x_i} - \\frac{d}{dt} \\frac{\\partial L}{\\partial \\dot{x}_i}] $$"
   ]
  },
  {
   "cell_type": "markdown",
   "id": "956862a1",
   "metadata": {},
   "source": [
    "And of course, to follow the principle of stationary action, we have to set this equal to 0:"
   ]
  },
  {
   "cell_type": "markdown",
   "id": "fa593dab",
   "metadata": {},
   "source": [
    "$$ \\delta A = 0 $$\n",
    "$$ \\epsilon [ \\frac{\\partial L}{\\partial x_i} - \\frac{d}{dt} \\frac{\\partial L}{\\partial \\dot{x}_i}] = 0 $$"
   ]
  },
  {
   "cell_type": "markdown",
   "id": "6a9775df",
   "metadata": {},
   "source": [
    "We can remove the $i$ subscript now to make this work along the entire path, and we can move one of the terms to the other side of the equation:"
   ]
  },
  {
   "cell_type": "markdown",
   "id": "176d652e",
   "metadata": {},
   "source": [
    "$$ \\frac{\\partial L}{\\partial x} = \\frac{d}{dt} \\frac{\\partial L}{\\partial \\dot{x}} $$"
   ]
  },
  {
   "cell_type": "markdown",
   "id": "0cd50331",
   "metadata": {},
   "source": [
    "This equation is known as the Euler-Lagrange equation."
   ]
  },
  {
   "cell_type": "markdown",
   "id": "86f66b11",
   "metadata": {},
   "source": [
    "# Newtonian Mechanics\n",
    "\n",
    "It turns out that in a Newtonian mechanical system, we can find some Lagrangian $L$ such that the Euler-Lagrange equation reduces to Newton's equations of motion. Let's look at an example of this for a particle moving in some potential energy $V(x)$ with kinetic energy $T$."
   ]
  },
  {
   "cell_type": "markdown",
   "id": "d303740a",
   "metadata": {},
   "source": [
    "$$ T = \\frac{m}{2}\\dot{x}^2 $$"
   ]
  },
  {
   "cell_type": "markdown",
   "id": "cc14eeea",
   "metadata": {},
   "source": [
    "It turns out that the Lagrangian for the particle is:"
   ]
  },
  {
   "cell_type": "markdown",
   "id": "60888745",
   "metadata": {},
   "source": [
    "$$ L = T - V(x) $$\n",
    "$$ L = \\frac{m}{2}\\dot{x}^2 - V(x) $$"
   ]
  },
  {
   "cell_type": "markdown",
   "id": "eef0ee0e",
   "metadata": {},
   "source": [
    "Where does this come from? Well, I don't really know how people found this out. But we can sort of describe why it makes sense in somewhat intuitive terms. Then we can verify that is is the correct Lagrangian by plug it into the Euler-Lagrange equation and show reduces to Newton's equations of motion.\n",
    "\n",
    "First, the intuitive description: when we calculate the action for this Lagrangian we're integrating the difference between kinetic and potential energies over time, and we're minimizing the result. So we can say that we're minimizing how much energy gets exchanged between the kinetic and potential energies. It makes sense that exchange should be a minimum. Otherwise, the system would contain more energy than it's supposed to.\n",
    "\n",
    "Now let's find the terms of the Euler-Lagrange equation."
   ]
  },
  {
   "cell_type": "markdown",
   "id": "1fb55ed9",
   "metadata": {},
   "source": [
    "$$ \\frac{\\partial L}{\\partial \\dot{x}} $$\n",
    "$$ = \\frac{\\partial}{\\partial \\dot{x}} (\\frac{m}{2}\\dot{x}^2 - V(x) ) $$\n",
    "$$ = m \\dot{x} $$"
   ]
  },
  {
   "cell_type": "markdown",
   "id": "0afdb213",
   "metadata": {},
   "source": [
    "Note that $ \\frac{\\partial L}{\\partial \\dot{x}} $ here is the momentum of the particle, and indeed this is the general definition of momentum for any arbitrary system, not just Newtonian mechanical systems. Let's keep going."
   ]
  },
  {
   "cell_type": "markdown",
   "id": "e5889de4",
   "metadata": {},
   "source": [
    "$$ \\frac{d}{dt} \\frac{\\partial L}{\\partial \\dot{x}} $$\n",
    "$$ = \\frac{d}{dt} m \\dot{x} $$\n",
    "$$ = m \\ddot{x} $$"
   ]
  },
  {
   "cell_type": "markdown",
   "id": "9b6b85e5",
   "metadata": {},
   "source": [
    "So now we have one side of the Euler-Lagrange equation. Let's look at the other side:"
   ]
  },
  {
   "cell_type": "markdown",
   "id": "440b6467",
   "metadata": {},
   "source": [
    "$$ \\frac{\\partial L}{\\partial x} $$\n",
    "$$ = \\frac{\\partial}{\\partial x} (\\frac{m}{2}\\dot{x}^2 - V(x)) $$\n",
    "$$ = - \\frac{dV(x)}{dx} $$\n",
    "$$ = F(x) $$"
   ]
  },
  {
   "cell_type": "markdown",
   "id": "7483fb5b",
   "metadata": {},
   "source": [
    "(Remember that, by definition, the force $F(x)$ on a particle in a potential $V(x)$ is the negative of the derivative of the potential with respect to $x$.)\n",
    "\n",
    "Putting together both sides of the Euler-Lagrange equation:"
   ]
  },
  {
   "cell_type": "markdown",
   "id": "de1c5a6d",
   "metadata": {},
   "source": [
    "$$ F(x) = m \\ddot{x} $$\n",
    "$$ F = m a $$"
   ]
  },
  {
   "cell_type": "markdown",
   "id": "9747b481",
   "metadata": {},
   "source": [
    "So we see that the Euler-Lagrange equation reduces to Newton's second law of motion if we plug in the Lagrangian $ L = T - V(x) $.\n",
    "\n",
    "Not only does this show that our Lagrangian is correct, but it also shows that Newton's second law of motion obeys the principle of stationary action!"
   ]
  },
  {
   "cell_type": "markdown",
   "id": "4cebe2ad",
   "metadata": {},
   "source": [
    "## Many particles\n",
    "\n",
    "We can do the same thing with a Newtonian mechanical system of many particles. For this, we'll use $i$ to represent the index of a particle. (Note that this is different from the $i$ we used earlier to mean the index of a small section of one particle's path.) So $x_i$, for instance, is the position of the $i$-th particle. The Lagrangian can be written as $L(x_i, \\dot{x}_i)$, so it depends on the positions and velocities of all the particles in the system. Likewise, the Euler-Lagrange equations can be written as:"
   ]
  },
  {
   "cell_type": "markdown",
   "id": "ace64ab8",
   "metadata": {},
   "source": [
    "$$ \\frac{\\partial L}{\\partial x_i} = \\frac{d}{dt} \\frac{\\partial L}{\\partial \\dot{x_i}} $$"
   ]
  },
  {
   "cell_type": "markdown",
   "id": "07745b46",
   "metadata": {},
   "source": [
    "So each particle has its own Euler-Lagrange equation.\n",
    "\n",
    "The potential energy for particle $i$ is $V(x_i)$, and the total kinetic energy of the system is:"
   ]
  },
  {
   "cell_type": "markdown",
   "id": "4efc02d5",
   "metadata": {},
   "source": [
    "$$ T = \\sum \\frac{m}{2}\\dot{x}_i $$"
   ]
  },
  {
   "cell_type": "markdown",
   "id": "3361cb7e",
   "metadata": {},
   "source": [
    "So the Lagrangian is:"
   ]
  },
  {
   "cell_type": "markdown",
   "id": "63a845f8",
   "metadata": {},
   "source": [
    "$$ L(x_i, \\dot{x}_i) = \\sum \\frac{m}{2}\\dot{x}_i - V(x_i) $$"
   ]
  },
  {
   "cell_type": "markdown",
   "id": "ca1cda7b",
   "metadata": {},
   "source": [
    "Then we can go through the process of reducing the Euler-Lagrange equation again, just like before. I'll just skip to the answer:"
   ]
  },
  {
   "cell_type": "markdown",
   "id": "bf25ae7b",
   "metadata": {},
   "source": [
    "$$ - \\frac{dV(x_i)}{dx_i} = m \\ddot{x_i} $$\n",
    "$$ F(x_i) = m \\ddot{x_i} $$\n",
    "$$ F_i = ma_i $$"
   ]
  },
  {
   "cell_type": "markdown",
   "id": "8860f16a",
   "metadata": {},
   "source": [
    "So each individual particle follows Newton's second law."
   ]
  },
  {
   "cell_type": "markdown",
   "id": "2a2d9fff",
   "metadata": {},
   "source": [
    "# Why use Lagrangians?\n",
    "\n",
    "It's worth taking a moment to reconsider why we're doing this, now that we have a good idea of what a Lagrangian is. With the Newtonian mechanics examples we just looked at, we already knew the equations of motion, so it might have seemed like we were sort of working backward from the Lagrangian to find an answer that we already knew. That is true in these cases, but it won't be true in general. We only did it that way to verify that our Langrangians for those systems were correct.\n",
    "\n",
    "Of course, as we already said, we'll have to use a Lagrangian to solve the problem of finding the optimal path between two points. It wouldn't be easy to do that with just the laws of motion. But the Lagrangian is even deeper than that.\n",
    "\n",
    "When modern physicists write down a law of nature for any theory, not just for Newtonian mechanics, they do so using Lagrangians rather than equations of motion. Lagrangians are more useful and simpler to deal with. The principle of stationary action is a statement that is true independent of our choice of coordinates. In fact, the Lagrangian gives us a straightforward way to find the equations of motion of a system in any arbitrary coordinate system. We'll look at that next."
   ]
  },
  {
   "cell_type": "markdown",
   "id": "759c16a5",
   "metadata": {},
   "source": [
    "# Changing coordinate systems\n",
    "\n",
    "As we saw before, if we have a Lagrangian expressed in terms of one coordinate system, we can plug it into the Euler-Lagrange equation to get equations of motion in terms of that coordinate system. To find the Lagrangian for another coordinate system, all we have to do is write down equations expressing the relationship between the two coordinate systems and plug them into the Lagrangian. Then we can get the equations of motion for the other coordinate system by plugging in the new Lagangian into the Euler-Lagrange equation.\n",
    "\n",
    "For example, consider a particle that has a net force of 0 acting on it moving in a 2-D space. The equations of motion in an intertial frame, which we'll call the \"rest frame\", are:"
   ]
  },
  {
   "cell_type": "markdown",
   "id": "45151063",
   "metadata": {},
   "source": [
    "$$ F = 0 $$\n",
    "$$ m\\ddot{x} = 0 $$\n",
    "$$ m\\ddot{y} = 0 $$"
   ]
  },
  {
   "cell_type": "markdown",
   "id": "44541225",
   "metadata": {},
   "source": [
    "Now we can imagine an observer located at the origin of the rest frame spinning at a constant angular velocity $\\omega$. What are the equations of motion in the observer's coordinate system?\n",
    "\n",
    "The angle of the observer's coordinate system with respect to the rest frame is:"
   ]
  },
  {
   "cell_type": "markdown",
   "id": "a5442477",
   "metadata": {},
   "source": [
    "$$ \\theta(t) = \\omega t $$"
   ]
  },
  {
   "cell_type": "markdown",
   "id": "ff1113a6",
   "metadata": {},
   "source": [
    "We'll label the axes in the rest frame $x$ and $y$, and the axes in the rotating frame $X$ and $Y$. The relationship between the two coordinate systems is:"
   ]
  },
  {
   "cell_type": "markdown",
   "id": "4f9cd126",
   "metadata": {},
   "source": [
    "$$ x = X cos(\\omega t) + Y sin(\\omega t) $$\n",
    "$$ y = -X sin(\\omega t) + Y cos(\\omega t) $$"
   ]
  },
  {
   "cell_type": "markdown",
   "id": "b0bfd19b",
   "metadata": {},
   "source": [
    "Let's set $V(x) = 0$ in this case. The Lagrangian in terms of the rest frame is:"
   ]
  },
  {
   "cell_type": "markdown",
   "id": "071f7f73",
   "metadata": {},
   "source": [
    "$$ L = \\frac{m}{2}(\\dot{x}^2 + \\dot{y}^2) $$"
   ]
  },
  {
   "cell_type": "markdown",
   "id": "2dcf82b1",
   "metadata": {},
   "source": [
    "If we apply the Euler-Lagrange equation to this, we just get the equations of motion we specified above, $m \\ddot{x} = 0$ and $m \\ddot{y} = 0$.\n",
    "\n",
    "To find the equations of motion for the rotating frame, we have to express $L$ in terms of $X$ and $Y$. First, we have to find $\\dot{x}$ and $\\dot{y}$."
   ]
  },
  {
   "cell_type": "markdown",
   "id": "35a3e4f2",
   "metadata": {},
   "source": [
    "$$ \\dot{x} = \\dot{X}cos(\\omega t) - \\omega X sin(\\omega t) + \\dot{Y}sin(\\omega t) + \\omega Y cos(\\omega t) $$"
   ]
  },
  {
   "cell_type": "markdown",
   "id": "ce33cdd4",
   "metadata": {},
   "source": [
    "$$ \\dot{y} = -\\dot{X}sin(\\omega t) - \\omega X cos(\\omega t) + \\dot{Y} cos(\\omega t) - \\omega Y sin(\\omega t) $$ "
   ]
  },
  {
   "cell_type": "markdown",
   "id": "c6ca517f",
   "metadata": {},
   "source": [
    "Plugging these into $L$ and simplifying it, we get:"
   ]
  },
  {
   "cell_type": "markdown",
   "id": "83153a85",
   "metadata": {},
   "source": [
    "$$ L = \\frac{m}{2}[\\dot{X}^2 + \\dot{Y}^2 + \\omega^2(X^2 + Y^2) + \\omega (\\dot{X}Y - \\dot{Y}X)] $$"
   ]
  },
  {
   "cell_type": "markdown",
   "id": "1fef1259",
   "metadata": {},
   "source": [
    "Let's find the Euler-Lagrange equation for $X$."
   ]
  },
  {
   "cell_type": "markdown",
   "id": "355e2de3",
   "metadata": {},
   "source": [
    "$$ \\frac{d}{dt} \\frac{\\partial L}{\\partial \\dot{X}} = \\frac{d}{dt} (m \\dot{X} + \\frac{m \\omega}{2} Y) = m \\ddot{X} + \\frac{m \\omega}{2} \\dot{Y} $$"
   ]
  },
  {
   "cell_type": "markdown",
   "id": "c72c2e46",
   "metadata": {},
   "source": [
    "$$ \\frac{\\partial L}{\\partial X} = m \\omega^2 X - \\frac{m \\omega}{2} \\dot{Y}$$"
   ]
  },
  {
   "cell_type": "markdown",
   "id": "69a9d860",
   "metadata": {},
   "source": [
    "$$ \\therefore m \\ddot{X} + \\frac{m \\omega}{2} \\dot{Y} = m \\omega^2 X - \\frac{m \\omega}{2} \\dot{Y} $$"
   ]
  },
  {
   "cell_type": "markdown",
   "id": "590f630c",
   "metadata": {},
   "source": [
    "Rearanging this a bit, we get:"
   ]
  },
  {
   "cell_type": "markdown",
   "id": "97423a09",
   "metadata": {},
   "source": [
    "$$ m \\ddot{X} = m \\omega^2 X - m \\omega \\dot{Y} $$"
   ]
  },
  {
   "cell_type": "markdown",
   "id": "833bb200",
   "metadata": {},
   "source": [
    "A way to think about this expression is that $m \\ddot{X}$ is a fictitious force upon the particle along the $X$ axis, which occurs simply because the coordinate system is rotating. The fictitious force has two components. The first one, $m \\omega^2 X$, has the form of a centrifugal force, pointing outward from the center of rotation. The second one, $-m \\omega \\dot{Y}$, has the form of a $Y$-velocity-dependent coriolis force.\n",
    "\n",
    "We can also find the $Y$-component force to have a similar form:"
   ]
  },
  {
   "cell_type": "markdown",
   "id": "4d3d49ee",
   "metadata": {},
   "source": [
    "$$m\\ddot{Y} = m \\omega^2 Y + m \\omega \\dot{X} $$"
   ]
  },
  {
   "cell_type": "markdown",
   "id": "3eb44906",
   "metadata": {},
   "source": [
    "So we found our answer. If we wanted, we could choose an initial position and velocity of a particle and integrate these equations of motion to determine the path of the particle in the rotating coordinate system.\n",
    "\n",
    "If we had tried to find these equations without the Lagrangian, it would have been more difficult, requiring more algebra, and it would be less straightforward in general.\n",
    "\n",
    "We could imagine many different coordinate systems and Lagrangians other than those used in this example, but the basic process will always be the same:\n",
    "\n",
    "1. Write down the Lagrangian for the first coordinate system\n",
    "2. Write down equations to transform coordinates between the two coordinate systems\n",
    "3. Plug the transformation equations into the Lagrangian to get a Lagrangian in terms of the second coordinate system\n",
    "4. Plug the new Lagrangian into the Euler-Lagrange equation to find the equations of motion in the second coordinate system"
   ]
  },
  {
   "cell_type": "markdown",
   "id": "ff724eec",
   "metadata": {},
   "source": [
    "# More calculus of variations"
   ]
  },
  {
   "cell_type": "markdown",
   "id": "63f835c5",
   "metadata": {},
   "source": [
    "To continue learning how to find an optimal path between two points given a Lagrangian, we need to revisit the calculus of variations. As we saw before, the calculus of variations is all about determining what happens to a system if we change some parameter by a small quantity. The standard small quantity we use is called $\\delta$, which we used above but didn't really explain in any detail.\n",
    "\n",
    "By \"small quantity\", we mean that $\\delta$ is infinitessimally small. More concretely, $\\delta$ is nonzero, but it's small enough that its square is zero."
   ]
  },
  {
   "cell_type": "markdown",
   "id": "6cde8cf7",
   "metadata": {},
   "source": [
    "$$\\delta > 0$$\n",
    "$$\\delta^2 = 0$$"
   ]
  },
  {
   "cell_type": "markdown",
   "id": "3bbac0a4",
   "metadata": {},
   "source": [
    "When we use $\\delta$ in a term like $\\delta F(x, y)$, it doesn't mean that we're multiplying $\\delta$ and $F(x, y)$ together, it just represents a small first-order change in $F$. We can also expand $\\delta F$ into:"
   ]
  },
  {
   "cell_type": "markdown",
   "id": "5e067805",
   "metadata": {},
   "source": [
    "$$ \\delta F(x, y) = \\frac{\\partial F}{\\partial x} \\delta x + \\frac{\\partial F}{\\partial y}\\delta y $$"
   ]
  },
  {
   "cell_type": "markdown",
   "id": "705830a8",
   "metadata": {},
   "source": [
    "# Cannonical momentum conjugate\n",
    "\n",
    "By convention, the general Euler-Langrange function is written:"
   ]
  },
  {
   "cell_type": "markdown",
   "id": "a486ebe4",
   "metadata": {},
   "source": [
    "$$ \\boxed{\\frac{d}{dt}\\frac{\\partial L}{\\partial \\dot{q}_i} = \\frac{\\partial L}{\\partial q_i}} $$"
   ]
  },
  {
   "cell_type": "markdown",
   "id": "f0bb5d36",
   "metadata": {},
   "source": [
    "Here, we're calling the position coordinate variable $q$, rather than $x$ as we did before. This is just a convention that we will now start to follow. Also, we're using $i$ to represent the $i$-th particle of the system, like we did before.\n",
    "\n",
    "We saw earlier that $\\frac{\\partial L}{\\partial \\dot{x}} = m\\dot{x}$, representing the momentum of a particle. In general $\\frac{\\partial L}{\\partial\\dot{q}_i}$ is called the \"cannonical momentum conjugate\" to the coordinate $q_i$, or just the momentum for $q_i$. We can create a variable for the momentum $P_i$."
   ]
  },
  {
   "cell_type": "markdown",
   "id": "1de16f35",
   "metadata": {},
   "source": [
    "$$ \\boxed{\\frac{d}{dt}P_i = \\dot{P_i} = \\frac{\\partial L}{\\partial q_i}} $$\n",
    "\n",
    "$$ \\boxed{ P_i = \\frac{\\partial L}{\\partial \\dot{q_i}} } $$"
   ]
  },
  {
   "cell_type": "markdown",
   "id": "618d5abf",
   "metadata": {},
   "source": [
    "# Conservation laws\n",
    "\n",
    "Let's say we have this Lagrangian:"
   ]
  },
  {
   "cell_type": "markdown",
   "id": "c7b1b457",
   "metadata": {},
   "source": [
    "$$ L = \\frac{\\dot{q_1}^2 + \\dot{q_2}^2}{2} - V(q_1 - q_2)  $$"
   ]
  },
  {
   "cell_type": "markdown",
   "id": "42aa678d",
   "metadata": {},
   "source": [
    "$q_i$ could represent any type of coordinate you want, but let's just keep thinking of it as the position of a particle. So our Lagrangian depends on the total kinetic energy of two particles and it depends on the potential $V$, which depends on the separation between the two particles.\n",
    "\n",
    "From this Lagrangian we can find:"
   ]
  },
  {
   "cell_type": "markdown",
   "id": "830ecc91",
   "metadata": {},
   "source": [
    "$$\\dot{P_1} = -\\frac{dV(q_1 - q_2)}{d(q_1 - q_2)} = -V'(q_1 - q_2) $$\n",
    "$$\\dot{P_2} = \\frac{dV(q_1 - q_2)}{d(q_1 - q_2)} = V'(q_1 - q_2) $$\n",
    "$$\\therefore \\dot{P_1} + \\dot{P_2} = \\frac{d}{dt}(P_1 + P_2) = 0 $$"
   ]
  },
  {
   "cell_type": "markdown",
   "id": "dbf14cb9",
   "metadata": {},
   "source": [
    "This last line means that the sum of the momenta of both particles will not change over time. Thus, we have a conservation law: total momentum is conserved in this system.\n",
    "\n",
    "Let's look at another example:"
   ]
  },
  {
   "cell_type": "markdown",
   "id": "4aca6d99",
   "metadata": {},
   "source": [
    "$$ L = -V(a q_1 + b q_2) $$\n",
    "$$\\dot{P_1} = - aV'(a q_1 + b q_2)$$\n",
    "$$\\dot{P_2} = - bV'(a q_1 + b q_2)$$"
   ]
  },
  {
   "cell_type": "markdown",
   "id": "6a7153fb",
   "metadata": {},
   "source": [
    "To obtain the conservation law here, we'll need to multiply $\\dot{P_1}$ by $b$ and $\\dot{P_2}$ by $a$, so that the right side of both equations are equal:"
   ]
  },
  {
   "cell_type": "markdown",
   "id": "b8531c79",
   "metadata": {},
   "source": [
    "$$b\\dot{P_1} = - abV'(a q_1 + b q_2)$$\n",
    "$$a\\dot{P_2} = - abV'(a q_1 + b q_2)$$\n",
    "$$\\therefore b\\dot{P_1} - a\\dot{P_2} = \\frac{d}{dt}(b P_1 - a P_2) = 0 $$"
   ]
  },
  {
   "cell_type": "markdown",
   "id": "dfa1940d",
   "metadata": {},
   "source": [
    "This system has a different conservation law than the earlier example. Here, $b P_1 - a P_2$ stays constant over time.\n",
    "\n",
    "In these cases, we were able to find these conservation laws fairly easily because they were set up to be easy. Soon we'll see how to find conservation laws more generally."
   ]
  },
  {
   "cell_type": "markdown",
   "id": "8245382a",
   "metadata": {},
   "source": [
    "# Symmetries\n",
    "\n",
    "A symmetry is a coordinate change that does not affect the Lagrangian. It can be either a passive change to the coordinate system itself or it can be an active change in the positions of everything that the Lagrangian describes. The two types of changes are really the same thing when we talk about symmetries.\n",
    "\n",
    "For instance, let's say we're performing a simple experiment like letting a pendulum go from some initial height, and we track its position over time. The pendulum will do the same thing each time regardless of what coordinate system we decide to use to track its movement. You could also actually pick up the pendulum, put it down somewhere else, repeat the experiment, and again the pendulum will do the same thing. The pendulum doesn't care where you put it or what coordinate system you use.\n",
    "\n",
    "Let's look at a very simple Lagrangian:"
   ]
  },
  {
   "cell_type": "markdown",
   "id": "97803919",
   "metadata": {},
   "source": [
    "$$ L = \\frac{\\dot{q}^2}{2} $$"
   ]
  },
  {
   "cell_type": "markdown",
   "id": "eb62f8d7",
   "metadata": {},
   "source": [
    "$q$ is the position of a particle. We can describe a small change in the position of the particle as:"
   ]
  },
  {
   "cell_type": "markdown",
   "id": "23272ec9",
   "metadata": {},
   "source": [
    "$$ \\delta q = \\delta $$"
   ]
  },
  {
   "cell_type": "markdown",
   "id": "9a8f1690",
   "metadata": {},
   "source": [
    "So we're just adding a small fixed amount $\\delta$ to the particle's position at all times, $t$. Doing so doesn't change $\\dot{q}$ at all, so the Lagrangian doesn't change either. We can write that as:"
   ]
  },
  {
   "cell_type": "markdown",
   "id": "ae779d10",
   "metadata": {},
   "source": [
    "$$ \\delta L = 0 $$"
   ]
  },
  {
   "cell_type": "markdown",
   "id": "d2626462",
   "metadata": {},
   "source": [
    "This kind of symmetry is called a translation symmetry.\n",
    "\n",
    "In general, if a change in some parameter of a system gives $\\delta L = 0$, then that parameter has a symmetry.\n",
    "\n",
    "Let's quickly find the conservation law for this Lagrangian. Remember the first step is calculating $\\dot{P}$."
   ]
  },
  {
   "cell_type": "markdown",
   "id": "43afd213",
   "metadata": {},
   "source": [
    "$$ \\dot{P} = \\frac{\\partial L}{\\partial q} $$\n",
    "$$ \\dot{P} = \\frac{\\partial}{\\partial q}\\frac{\\dot{q}^2}{2} $$\n",
    "$$ \\dot{P} = 0 $$"
   ]
  },
  {
   "cell_type": "markdown",
   "id": "f2749ad8",
   "metadata": {},
   "source": [
    "There we go. Simply put, the conservation law is that the momentum of the particle doesn't change. There is a relationship between conservation laws and symmetries, but we'll get to that later.\n",
    "\n",
    "Let's look at one more example of a symmetry. Now we have a particle in a 2-D space with the Lagrangian:"
   ]
  },
  {
   "cell_type": "markdown",
   "id": "3e0cc490",
   "metadata": {},
   "source": [
    "$$ L = \\frac{m}{2}(\\dot{x}^2 + \\dot{y}^2) - V(x^2+y^2) $$"
   ]
  },
  {
   "cell_type": "markdown",
   "id": "f654fa8b",
   "metadata": {},
   "source": [
    "The potential depends on $x^2 + y^2$, which means that it depends on the distance between the origin and the particle. Let's look at this from a coordinate system that has the same origin, but which has been rotated by $\\theta$. The rotated coordinate system will have coordinates $x'$ and $y'$, related to the original coordinate system by:"
   ]
  },
  {
   "cell_type": "markdown",
   "id": "e257f430",
   "metadata": {},
   "source": [
    "$$ x' = x cos(\\theta) + y sin(\\theta) $$\n",
    "$$ y' = -x sin(\\theta) + y cos(\\theta) $$"
   ]
  },
  {
   "cell_type": "markdown",
   "id": "2f54b8e2",
   "metadata": {},
   "source": [
    "We want to show that our Lagrangian has rotational symmetry. To do so, we'll first make the rotated coordinate system only differ by a small angle $\\theta = \\delta$. If doing this doesn't affect the Lagrangian, then we make the argument that any large rotation is made up of a bunch of small rotations, and that the Lagrangian has a rotational symmetry for any angle of rotation.\n",
    "\n",
    "When we plug in $\\theta = \\delta$, we'll have terms including $cos(\\delta)$ and $sin(\\delta)$. We can expand these with a Taylor series expansion. We get:"
   ]
  },
  {
   "cell_type": "markdown",
   "id": "4c1b96ed",
   "metadata": {},
   "source": [
    "$$ cos(\\delta) = 1 - \\frac{\\delta^2}{2} + ... = 1 $$\n",
    "$$ sin(\\delta) = \\delta - \\frac{\\delta^3}{3} + ... = \\delta $$"
   ]
  },
  {
   "cell_type": "markdown",
   "id": "613791ec",
   "metadata": {},
   "source": [
    "All except the first term of the Taylor series disappear since $\\delta^2 = 0$. Now we can plug those in to the coordinate transformations:"
   ]
  },
  {
   "cell_type": "markdown",
   "id": "036eb421",
   "metadata": {},
   "source": [
    "$$ x' = x + y\\delta $$\n",
    "$$ y' = y - x\\delta $$"
   ]
  },
  {
   "cell_type": "markdown",
   "id": "98e3db6b",
   "metadata": {},
   "source": [
    "The difference between $x$ and $x'$ can be labelled $\\delta x = x' - x$, and it's the amount that the horizontal axis changes when we rotate the coordinate system by a small angle. (Note that we're using $\\delta x$ to mean a change in $x$, while $x \\delta$ means $x$ times $\\delta$). So we can get:"
   ]
  },
  {
   "cell_type": "markdown",
   "id": "c90e8cec",
   "metadata": {},
   "source": [
    "$$ \\delta x = x' - x = x + y \\delta - x $$\n",
    "$$ \\delta y = y' - y = y - x \\delta - y $$\n",
    "\n",
    "$$ \\delta x = y \\delta$$\n",
    "$$ \\delta y = - x \\delta $$"
   ]
  },
  {
   "cell_type": "markdown",
   "id": "9c0c6ca3",
   "metadata": {},
   "source": [
    "We can also find $\\delta \\dot{x}$ and $\\delta \\dot{y}$ by differentiating by time:"
   ]
  },
  {
   "cell_type": "markdown",
   "id": "ab1c1880",
   "metadata": {},
   "source": [
    "$$ \\delta \\dot{x} = \\dot{y} \\delta $$\n",
    "$$ \\delta \\dot{y} = - \\dot{x} \\delta $$"
   ]
  },
  {
   "cell_type": "markdown",
   "id": "c31e052e",
   "metadata": {},
   "source": [
    "Now let's look at the potential energy part of the Lagrangian. What is the change in $(x^2 + y^2)$ when we make a small change in $x$ and $y$?"
   ]
  },
  {
   "cell_type": "markdown",
   "id": "972ca0eb",
   "metadata": {},
   "source": [
    "$$ \\delta (x^2 + y^2) = \\frac{\\partial}{\\partial x}(x^2 + y^2) \\delta x + \\frac{\\partial}{\\partial y} (x^2 + y^2) \\delta y $$\n",
    "\n",
    "$$ = 2x \\delta x + 2y \\delta y $$\n",
    "\n",
    "$$ = 2xy\\delta - 2xy\\delta $$\n",
    "\n",
    "$$ = 0 $$"
   ]
  },
  {
   "cell_type": "markdown",
   "id": "97430700",
   "metadata": {},
   "source": [
    "This really just means that when we rotate the coordinate system, the distance between the particle and the origin doesn't change. That makes sense intuitively as well. It also means that the potential $V(x^2 + y^2)$ doesn't change in the rotated coordinate system.\n",
    "\n",
    "Now let's look at the kinetic energy part of the Lagrangian, which has the term $\\dot{x}^2 + \\dot{y}^2$. We have exactly the same thing, except that we now have dotted terms:"
   ]
  },
  {
   "cell_type": "markdown",
   "id": "7d84e28f",
   "metadata": {},
   "source": [
    "$$ \\delta (\\dot{x}^2 + \\dot{y}^2) = \\frac{\\partial}{\\partial \\dot{x}}(\\dot{x}^2 + \\dot{y}^2) \\delta \\dot{x} + \\frac{\\partial}{\\partial \\dot{y}} (\\dot{x}^2 + \\dot{y}^2) \\delta \\dot{y} $$\n",
    "\n",
    "$$ = 2\\dot{x} \\delta \\dot{x} + 2\\dot{y} \\delta \\dot{y} $$\n",
    "\n",
    "$$ = 2\\dot{x}\\dot{y}\\delta - 2\\dot{x}\\dot{y}\\delta $$\n",
    "\n",
    "$$ = 0 $$"
   ]
  },
  {
   "cell_type": "markdown",
   "id": "9f370fb2",
   "metadata": {},
   "source": [
    "So the kinetic energy doesn't change either. Therefore, the Lagrangian in this example has rotational symmetry."
   ]
  },
  {
   "cell_type": "markdown",
   "id": "723336c0",
   "metadata": {},
   "source": [
    "# Definition of symmetry\n",
    "\n",
    "These were just examples of symmetries, but what is the general definition of a symmetry?\n",
    "\n",
    "For any Lagrangian $L$ that depends on coordinates $q$, a small change in one of the coordinates is $\\delta q_i$:"
   ]
  },
  {
   "cell_type": "markdown",
   "id": "b0843815",
   "metadata": {},
   "source": [
    "$$\\boxed{\\delta q_i = f_i(q) \\delta}$$"
   ]
  },
  {
   "cell_type": "markdown",
   "id": "28a13429",
   "metadata": {},
   "source": [
    "So the change in the coordinate is proportional to $\\delta$ and also proportional to some function $f_i$, which could possibly depend on all of the coordinates in the system, $q$. We can also find the change in the velocities of the system:"
   ]
  },
  {
   "cell_type": "markdown",
   "id": "bff32d01",
   "metadata": {},
   "source": [
    "$$ \\delta \\dot{q_i} = \\frac{d}{dt}\\delta q_i = \\frac{d}{dt}f_i(q)\\delta $$"
   ]
  },
  {
   "cell_type": "markdown",
   "id": "5441a5b9",
   "metadata": {},
   "source": [
    "How does the Lagrangian change when we make any arbitrary coordinate change?"
   ]
  },
  {
   "cell_type": "markdown",
   "id": "2f389fa7",
   "metadata": {},
   "source": [
    "$$ \\boxed{\\delta L(q, \\dot{q}) = \\sum_i( \\frac{\\partial L}{\\partial q_i}\\delta q_i + \\frac{\\partial L}{\\dot{\\partial q_i}}\\delta \\dot{q_i} )} $$"
   ]
  },
  {
   "cell_type": "markdown",
   "id": "164f77bb",
   "metadata": {},
   "source": [
    "We can use our definition of cannonical momentum here to substitute:"
   ]
  },
  {
   "cell_type": "markdown",
   "id": "059cdaf3",
   "metadata": {},
   "source": [
    "$$ \\delta L = \\sum_i(\\dot{P_i}\\delta q_i + P_i\\delta \\dot{q_i} ) $$"
   ]
  },
  {
   "cell_type": "markdown",
   "id": "05ad303d",
   "metadata": {},
   "source": [
    "With the product rule, this simplifies to:"
   ]
  },
  {
   "cell_type": "markdown",
   "id": "15dfcbc1",
   "metadata": {},
   "source": [
    "$$ \\delta L = \\frac{d}{dt} \\sum_i P_i \\delta q_i $$\n",
    "\n",
    "$$ \\delta L = \\frac{d}{dt} \\sum_i P_i f_i(q) \\delta $$\n"
   ]
  },
  {
   "cell_type": "markdown",
   "id": "e8097aad",
   "metadata": {},
   "source": [
    "If the coordinate change $\\delta q_i$ is a symmetry, then the Lagrangian shouldn't change, so:"
   ]
  },
  {
   "cell_type": "markdown",
   "id": "b02aab5f",
   "metadata": {},
   "source": [
    "$$\\delta L = 0 $$\n",
    "\n",
    "$$\\frac{d}{dt} \\sum_i P_i f_i(q) \\delta = 0$$"
   ]
  },
  {
   "cell_type": "markdown",
   "id": "ec7dd174",
   "metadata": {},
   "source": [
    "This can be simplified slightly by factoring out $\\delta$:"
   ]
  },
  {
   "cell_type": "markdown",
   "id": "ca0a3e4b",
   "metadata": {},
   "source": [
    "$$\\frac{d}{dt} \\sum_i P_i f_i(q) = 0$$"
   ]
  },
  {
   "cell_type": "markdown",
   "id": "04e6ee6a",
   "metadata": {},
   "source": [
    "So we've found a general conservation law. Often it is useful to give the summation part of this its own variable $Q$."
   ]
  },
  {
   "cell_type": "markdown",
   "id": "19ac2119",
   "metadata": {},
   "source": [
    "$$\\boxed{Q = \\sum_i P_i f_i(q)}$$\n",
    "\n",
    "$$\\boxed{\\frac{dQ}{dt} = \\dot{Q} = 0}$$"
   ]
  },
  {
   "cell_type": "markdown",
   "id": "32ea8d01",
   "metadata": {},
   "source": [
    "This means that, in general, if some coordinate change is a symmetry, meaning that it doesn't change the Lagrangian, then there is a conservation law associated with the coordinate change, for which we now have a general formula.\n",
    "\n",
    "This also gives us a way to test whether an arbitrary transformation $\\delta q$ is a symmetry. If we go through the calculation of $\\dot{Q}$ and find that it's nonzero, then $\\delta q$ is not a symmetry.\n",
    "\n",
    "It's very important to realize that we can only make this argument for the connection between symmetries and conservation laws if the Lagrangian satisfies the principle of stationary action. We cannot just pick any function we want to be the Lagrangian.\n",
    "\n",
    "Also, the symmetries we test with this framework must be continuous symmetries--that is, we can make an infinite number of infinitessimal translations to add up to a finite translation. This does not apply to discrete symmetries, like performing a reflection of all of the coordinates along some axis."
   ]
  },
  {
   "cell_type": "markdown",
   "id": "bc98c6d5",
   "metadata": {},
   "source": [
    "# Back to the previous examples of symmetry\n",
    "\n",
    "Let's revisit the Lagrangian $ L = \\frac{\\dot{q}^2}{2} $ with coordinate change $\\delta q = \\delta$. From our general form $\\delta q_i = f_i(q) \\delta$, we can see that in this example, we have $f(q) = 1$. We only have one $f$, since there's only one coordinate $q$. Our conserved quantity here is just:"
   ]
  },
  {
   "cell_type": "markdown",
   "id": "e1af94a1",
   "metadata": {},
   "source": [
    "$$ Q = P $$\n",
    "\n",
    "$$\\frac{dQ}{dt} = \\frac{dP}{dt} = 0 $$"
   ]
  },
  {
   "cell_type": "markdown",
   "id": "ee5e9382",
   "metadata": {},
   "source": [
    "So now we see clearly that the conservation of momentum in this system is no accident--it's a direct consequence of the translation symmetry!"
   ]
  },
  {
   "cell_type": "markdown",
   "id": "79597fcc",
   "metadata": {},
   "source": [
    "In the other example of symmetry, we had:"
   ]
  },
  {
   "cell_type": "markdown",
   "id": "0ba9c259",
   "metadata": {},
   "source": [
    "$$ L = \\frac{m}{2}(\\dot{x}^2 + \\dot{y}^2) - V(x^2+y^2) $$"
   ]
  },
  {
   "cell_type": "markdown",
   "id": "00d12f8b",
   "metadata": {},
   "source": [
    "And our coordinate change was $\\delta \\theta = \\delta$. We saw that this rotation ended up giving $\\delta (x^2 + y^2) = 0$ and $\\delta (\\dot{x}^2 + \\dot{y}^2) = 0$. In our general formulation of symmetries, this gives $f(q) = 0$, and the conserved quantity is $Q=0$. And obviously that $\\frac{dQ}{dt} = \\frac{d}{dt}0 = 0$. This just means that the coordinate change $\\delta \\theta$ has no effect whatsoever on the system because it is a cyclic coordinate.\n",
    "\n",
    "We can also look at examples with more than one particle. For instance, a Lagrangian of:"
   ]
  },
  {
   "cell_type": "markdown",
   "id": "c4f97403",
   "metadata": {},
   "source": [
    "$$ L(x, \\dot{x}) = \\frac{m_1 \\dot{x_1}^2 + m_2 \\dot{x_2}^2}{2} - V(x_1, x_2) $$"
   ]
  },
  {
   "cell_type": "markdown",
   "id": "bb0f71da",
   "metadata": {},
   "source": [
    "TODO: Do that one"
   ]
  },
  {
   "cell_type": "markdown",
   "id": "a62f0ca1",
   "metadata": {},
   "source": [
    "# Time translation invariance and Hamiltonians\n",
    "\n",
    "We've looked at the symmetries of space translations, but we can also look at the symmetries of translations in time. If we perform an experiment twice at different times, we would expect the results to be the same, as long as there are no outside forces affecting the system that are time dependent.\n",
    "\n",
    "We can already say that a Lagrangian with an explicit time dependence, like $L(q, \\dot{q}, t)$, would not have time translation symmetry. That is, a time dependence which is not only due to $q$ or $\\dot{q}$ changing over time. For instance, if we had a potential that continuously increases over time, then if you try to perform the same experiment at different times, you will see different results because the potential differs, and thus the forces in the experiment differ.\n",
    "\n",
    "So time translation invariance only applies to Lagrangians like $L(q, \\dot{q})$ which do not have an explicit dependence on time.\n",
    "\n",
    "What is the conserved quantity when we translate by $\\delta t: t \\rightarrow t + \\delta$?\n",
    "\n",
    "Let's first check and see how the Lagrangian changes over time. Below, we substitute $\\frac{\\partial L}{\\partial \\dot{q_i}} = P_i$ per the definition of cannonical momentum. Then, we use the product rule to combine the two terms inside the summation."
   ]
  },
  {
   "cell_type": "markdown",
   "id": "a7f0890c",
   "metadata": {},
   "source": [
    "$$ \\frac{dL}{dt}(q_i, \\dot{q_i}) = \\sum_i (\\frac{\\partial L}{\\partial q_i}\\dot{q_i} + \\frac{\\partial L}{\\partial \\dot{q_i}}\\ddot{q_i}) $$\n",
    "\n",
    "$$ \\frac{dL}{dt}(q_i, \\dot{q_i}) = \\sum_i (\\dot{P_i} \\dot{q_i} + P_i\\ddot{q_i}) $$"
   ]
  },
  {
   "cell_type": "markdown",
   "id": "4942a9e0",
   "metadata": {},
   "source": [
    "$$ \\frac{dL}{dt}(q_i, \\dot{q_i}) = \\frac{d}{dt} \\sum_i P_i \\dot{q_i} $$"
   ]
  },
  {
   "cell_type": "markdown",
   "id": "6fac8b7e",
   "metadata": {},
   "source": [
    "Well, this shows that the time deriviative of a Lagrangian that doesn't have an explicit time dependence is nonzero in general, so we haven't found our conserved quantity yet. However, we can move both of these terms to one side to get a quantity that is conserved over time:"
   ]
  },
  {
   "cell_type": "markdown",
   "id": "07db779a",
   "metadata": {},
   "source": [
    "$$ \\frac{d}{dt} \\sum_i P_i \\dot{q_i} - \\frac{dL}{dt}(q_i, \\dot{q_i}) = \\frac{d}{dt}[\\sum_i P_i \\dot{q_i} - L(q_i, \\dot{q_i})] = 0 $$"
   ]
  },
  {
   "cell_type": "markdown",
   "id": "4fa866d6",
   "metadata": {},
   "source": [
    "The conserved quantity here is called the Hamiltonian, and it's represented by $H$:"
   ]
  },
  {
   "cell_type": "markdown",
   "id": "6bd2046f",
   "metadata": {},
   "source": [
    "$$ \\boxed{ H = \\sum_i P_i\\dot{q_i} - L(q_i, \\dot{q_i}) } $$"
   ]
  },
  {
   "cell_type": "markdown",
   "id": "d9fc3e81",
   "metadata": {},
   "source": [
    "## Hamiltonian example\n",
    "\n",
    "Let's calculate the Hamiltonian for a simple example of a particle moving in one dimension with a potential. We have the Lagrangian:"
   ]
  },
  {
   "cell_type": "markdown",
   "id": "122059f3",
   "metadata": {},
   "source": [
    "$$ L = \\frac{m}{2}\\dot{x}^2 - V(x) $$"
   ]
  },
  {
   "cell_type": "markdown",
   "id": "dd8f05b8",
   "metadata": {},
   "source": [
    "First, we have to find $P$."
   ]
  },
  {
   "cell_type": "markdown",
   "id": "1a3963f3",
   "metadata": {},
   "source": [
    "$$ P = \\frac{\\partial L}{\\partial \\dot{x}} $$\n",
    "$$ = m\\dot{x}$$"
   ]
  },
  {
   "cell_type": "markdown",
   "id": "a40f35c1",
   "metadata": {},
   "source": [
    "Then we plug things into the general formula for $H$:"
   ]
  },
  {
   "cell_type": "markdown",
   "id": "acce72d3",
   "metadata": {},
   "source": [
    "$$ H = P\\dot{x} - L $$\n",
    "$$ = m\\dot{x}^2 - \\frac{m}{2}\\dot{x}^2 + V(x) $$\n",
    "\n",
    "$$ H = \\frac{m}{2}\\dot{x}^2 + V(x) $$"
   ]
  },
  {
   "cell_type": "markdown",
   "id": "11945bc0",
   "metadata": {},
   "source": [
    "In this example, the Hamiltonian is just the total energy of the system, kinetic energy plus potential energy. This clearly shows us that the conservation of energy in a closed system is a direct consequence of time translation invariance!"
   ]
  },
  {
   "cell_type": "markdown",
   "id": "d571c370",
   "metadata": {},
   "source": [
    "## What about a time-dependent Lagrangian?\n",
    "\n",
    "Even though there is no conserved quantity related to time translations for Lagrangians that have explicit time dependence, we can still look at the time derivative of such Lagrangians and the time derivative of the associated Hamiltonian."
   ]
  },
  {
   "cell_type": "markdown",
   "id": "b3a241b4",
   "metadata": {},
   "source": [
    "$$ \\frac{dL}{dt}(q_i, \\dot{q_i}, t) = \\sum_i (\\frac{\\partial L}{\\partial q_i}\\dot{q_i} + \\frac{\\partial L}{\\partial \\dot{q_i}}\\ddot{q_i}) + \\frac{\\partial L}{\\partial t} $$"
   ]
  },
  {
   "cell_type": "markdown",
   "id": "f86dbb24",
   "metadata": {},
   "source": [
    "Notice that there's an important difference between $\\frac{dL}{dt}$ and $\\frac{\\partial L}{\\partial t}$. $\\frac{\\partial L}{\\partial t}$ is the partial derivative with respect to time of *only the explicit* time-dependent terms of $L$. On the other hand, $\\frac{dL}{dt}$ is the derivative with respect to time of all time-dependent terms, whether they are explicit or not. For instance, if $q_i$ changes over time, its time derivative must show up in $\\frac{dL}{dt}$, but it won't necessarily show up in $\\frac{\\partial L}{\\partial t}$.\n",
    "\n",
    "Substituting in $P_i$ in the appropriate places and using the product rule like we did before, we then get:"
   ]
  },
  {
   "cell_type": "markdown",
   "id": "07f2a76a",
   "metadata": {},
   "source": [
    "$$\\boxed{ \\frac{dH}{dt} = -\\frac{\\partial L}{\\partial t} = \\frac{d}{dt}[ \\sum_i P_i \\dot{q_i} - L(q_i, \\dot{q_i}, t)]}$$\n",
    "\n",
    "$$\\boxed{ H = \\sum_i P_i \\dot{q_i} - L(q_i, \\dot{q_i}, t) } $$"
   ]
  },
  {
   "cell_type": "markdown",
   "id": "5b335707",
   "metadata": {},
   "source": [
    "## Example of a time-dependent Hamiltonian\n",
    "\n",
    "Let's say we have an object attached to a spring whose spring constant is changing over time for some unspecified reason. We have the Lagrangian:"
   ]
  },
  {
   "cell_type": "markdown",
   "id": "bce0b4be",
   "metadata": {},
   "source": [
    "$$ L = \\frac{m}{2}\\dot{x}^2 - \\frac{k(t)}{2}x^2 $$"
   ]
  },
  {
   "cell_type": "markdown",
   "id": "6dc81c9f",
   "metadata": {},
   "source": [
    "$$ \\frac{dH}{dt} =  -\\frac{\\partial L}{\\partial t} = \\frac{\\dot{k}(t)}{2}x^2 $$"
   ]
  },
  {
   "cell_type": "markdown",
   "id": "7b35ab65",
   "metadata": {},
   "source": [
    "\n",
    "The change in the Hamiltonian at any particular time is proportional to the change in the spring constant. To say it another way, the energy of the system increases if the spring constant increases, and the energy decreases if the spring constant decreases. That is, for any $ x \\neq 0 $."
   ]
  },
  {
   "cell_type": "markdown",
   "id": "e1ade4d6",
   "metadata": {},
   "source": [
    "TODO: Continue writing notes from here: https://youtu.be/7SiW_x3cUBo?list=PL47F408D36D4CF129&t=4604"
   ]
  },
  {
   "cell_type": "markdown",
   "id": "2f33d22a",
   "metadata": {},
   "source": [
    "# Resources\n",
    "\n",
    "* [Leonard Susskind's lecture on stationary action](https://www.youtube.com/watch?v=3apIZCpmdls&list=PL47F408D36D4CF129&index=3)"
   ]
  },
  {
   "cell_type": "code",
   "execution_count": null,
   "id": "13cc0fe3",
   "metadata": {},
   "outputs": [],
   "source": []
  }
 ],
 "metadata": {
  "kernelspec": {
   "display_name": "Python 3 (ipykernel)",
   "language": "python",
   "name": "python3"
  },
  "language_info": {
   "codemirror_mode": {
    "name": "ipython",
    "version": 3
   },
   "file_extension": ".py",
   "mimetype": "text/x-python",
   "name": "python",
   "nbconvert_exporter": "python",
   "pygments_lexer": "ipython3",
   "version": "3.11.3"
  }
 },
 "nbformat": 4,
 "nbformat_minor": 5
}
