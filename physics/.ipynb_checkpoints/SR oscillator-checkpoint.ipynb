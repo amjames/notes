{
 "cells": [
  {
   "cell_type": "markdown",
   "id": "2ba3fe47",
   "metadata": {},
   "source": [
    "We have a particle in 1-D space with a force acting on it:\n",
    "\n",
    "$$ F(x) = -kx $$\n",
    "\n",
    "This is the force equation for a linear harmonic oscillator.\n",
    "\n",
    "Let's find the equation of motion for the particle, taking into account special relativity. The Lagrangian for a particle in a 1+1 Minkowski spacetime within a potential energy V(x) is the following. I won't prove it here, it's a basically standard equation (TODO: Add a source for it at least).\n",
    "\n",
    "$$ L = -m\\sqrt{1-\\dot{x}^2} - V(x) $$\n",
    "\n",
    "We know from the definition of potential energy that:\n",
    "\n",
    "$$ \\frac{\\partial V(x)}{\\partial x} = -F(x) = kx $$\n",
    "\n",
    "We can choose any function $V(x)$ that has that derivative. So let's integrate:\n",
    "\n",
    "$$ V(x) = \\int \\frac{\\partial V(x)}{\\partial x} dx = \\int kx dx = \\frac{1}{2}kx^2 + c_0 $$\n",
    "\n",
    "We can set $c_0$ to anything, so let's choose $c_0 = 0$.\n",
    "\n",
    "$$ V(x) = \\frac{1}{2}kx^2 $$\n",
    "\n",
    "Now we have the Lagrangian:\n",
    "\n",
    "$$ L = -m\\sqrt{1-\\dot{x}^2} - \\frac{1}{2}kx^2 $$\n",
    "\n",
    "To get an equation of motion from this, we have to find the Euler-Lagrange equation, which is generally:\n",
    "\n",
    "$$ \\frac{d}{dt}\\frac{\\partial L}{\\partial \\dot{x}} = \\frac{\\partial L}{\\partial x} $$\n",
    "\n",
    "The right side is pretty simple:\n",
    "\n",
    "$$ \\frac{\\partial L}{\\partial x} = \\frac{\\partial}{\\partial x} (-m\\sqrt{1-\\dot{x}^2} - \\frac{1}{2}kx^2) = -kx$$\n",
    "\n",
    "The left side is more difficult, so I used WolframAlpha for it, not going to lie.\n",
    "\n",
    "$$ \\frac{\\partial L}{\\partial \\dot{x}} = \\frac{\\partial}{\\partial \\dot{x}}(-m\\sqrt{1-\\dot{x}^2} - \\frac{1}{2}kx^2) = \\frac{m\\dot{x}}{\\sqrt{1-\\dot{x}^2}} $$\n",
    "\n",
    "$$ \\frac{d}{dt}\\frac{\\partial L}{\\partial \\dot{x}} = \\frac{d}{dt}(\\frac{m\\dot{x}}{\\sqrt{1-\\dot{x}^2}}) = \\frac{m \\ddot{x}}{(1 - \\dot{x}^2)^{3/2}}$$\n",
    "\n",
    "Putting this together, we get the equation of motion:\n",
    "\n",
    "$$ \\frac{m \\ddot{x}}{(1 - \\dot{x}^2)^{3/2}} = -kx $$\n",
    "\n",
    "This will be easier to use if we put $\\ddot{x}$ by itself on one side:\n",
    "\n",
    "$$ \\ddot{x} = -\\frac{k}{m}x(1 - \\dot{x}^2)^{3/2} $$\n",
    "\n",
    "So this is the equation of motion that the oscillating particle must follow."
   ]
  },
  {
   "cell_type": "markdown",
   "id": "253994c4",
   "metadata": {},
   "source": [
    "This is very similar to the equation of motion for a non-relativistic linear harmonic oscillator, which is $\\ddot{x} = -\\frac{k}{m}x$. But here, we have this extra $(1-\\dot{x}^2)^{2/3}$ factor.\n",
    "\n",
    "In fact, the nonrelativistic limit can be found if we use slow speeds, $\\dot{x}^2 << 1$, which gives $(1-\\dot{x}^2)^{3/2} \\approx 1 $, and then $\\ddot{x} \\approx -\\frac{k}{m}x$, agreeing with what we already know from non-relativistic physics.\n",
    "\n",
    "We can numerically integrate this equation of motion quite easily. All we have to do is pick the initial conditions of a particle by setting its position and velocity at time $t=0$. Then we can iteratively step the system forward in time by small amounts of time. On each step, we have to calculate the current acceleration that the particle experiences, then we have to adjust the current velocity and position of the particle according to the current acceleration and velocity of the particle.\n",
    "\n",
    "The first step is to create a function to calculate the acceleration of the particle, given its velocity and position."
   ]
  },
  {
   "cell_type": "code",
   "execution_count": 1,
   "id": "1080e20a",
   "metadata": {},
   "outputs": [],
   "source": [
    "def acceleration(x, x_dot, k=1, m=1):\n",
    "    return -(k/m) * x * (1 - x_dot**2)**(3/2)"
   ]
  },
  {
   "cell_type": "markdown",
   "id": "ccfab1e6",
   "metadata": {},
   "source": [
    "Next, we'll create a function that takes in the values of position and velocity at some time $t$ and gives an updated position and velocity at time $t + \\Delta t$.\n",
    "\n",
    "We can use a very simplistic method called Euler integration, which is:\n",
    "\n",
    "$$ x(t+\\Delta t) = x(t) + \\Delta t \\dot{x}(t) $$\n",
    "\n",
    "$$ \\dot{x}(t+\\Delta t) = \\dot{x}(t) + \\Delta t \\ddot{x}(t) $$"
   ]
  },
  {
   "cell_type": "code",
   "execution_count": 2,
   "id": "34fb4f27",
   "metadata": {},
   "outputs": [],
   "source": [
    "def step(delta_t, x, x_dot, k=1, m=1):\n",
    "    x_ = x + delta_t * x_dot\n",
    "    \n",
    "    x_ddot = acceleration(x, x_dot, k, m)\n",
    "    \n",
    "    x_dot_ = x_dot + delta_t * x_ddot\n",
    "    \n",
    "    return x_, x_dot_"
   ]
  },
  {
   "cell_type": "markdown",
   "id": "07d0ccc3",
   "metadata": {},
   "source": [
    "Now let's try setting the initial state $x(0) = 0$, $\\dot{x}(0) = 0.99$ and just see what happens when we iterate through the system with a timestep of $\\Delta t = 0.001$ for 100,000 steps."
   ]
  },
  {
   "cell_type": "code",
   "execution_count": 91,
   "id": "729ab91a",
   "metadata": {},
   "outputs": [
    {
     "data": {
      "text/plain": [
       "Text(0, 0.5, 't, time')"
      ]
     },
     "execution_count": 91,
     "metadata": {},
     "output_type": "execute_result"
    },
    {
     "data": {
      "image/png": "[encoded data removed]",
      "text/plain": [
       "<Figure size 400x400 with 1 Axes>"
      ]
     },
     "metadata": {},
     "output_type": "display_data"
    }
   ],
   "source": [
    "def calc_worldline(x0, x_dot0):\n",
    "    x = x0\n",
    "    x_dot = x_dot0\n",
    "    \n",
    "    t = 0\n",
    "    delta_t = 0.001\n",
    "\n",
    "    positions = [x]\n",
    "    times = [t]\n",
    "\n",
    "    for step_num in range(100_000):\n",
    "        x, x_dot = step(delta_t, x, x_dot)\n",
    "        t = (step_num + 1) * delta_t\n",
    "        positions.append(x)\n",
    "        times.append(t)\n",
    "    \n",
    "    return positions, times\n",
    "    \n",
    "import matplotlib.pyplot as plt\n",
    "\n",
    "plt.rcParams[\"figure.figsize\"] = (4, 4)\n",
    "plt.plot(*calc_worldline(0, 0.99))\n",
    "plt.xlim([-50, 50])\n",
    "plt.ylim([0, 100])\n",
    "plt.xlabel('x, space')\n",
    "plt.ylabel('t, time')"
   ]
  },
  {
   "cell_type": "markdown",
   "id": "55f67b3a",
   "metadata": {},
   "source": [
    "So when the oscillating particle's maximum speed is close to the speed of light, its worldline looks like a sawtooth function with rounded edges. Let's look at what happens with a lower maximum speed, say $0.1$."
   ]
  },
  {
   "cell_type": "code",
   "execution_count": 92,
   "id": "e9a75b3e",
   "metadata": {},
   "outputs": [
    {
     "data": {
      "text/plain": [
       "Text(0, 0.5, 't, time')"
      ]
     },
     "execution_count": 92,
     "metadata": {},
     "output_type": "execute_result"
    },
    {
     "data": {
      "image/png": "[encoded data removed]",
      "text/plain": [
       "<Figure size 400x400 with 1 Axes>"
      ]
     },
     "metadata": {},
     "output_type": "display_data"
    }
   ],
   "source": [
    "plt.rcParams[\"figure.figsize\"] = (4, 4)\n",
    "plt.plot(*calc_worldline(0, 0.1))\n",
    "plt.xlim([-2, 2])\n",
    "plt.ylim([0, 50])\n",
    "plt.xlabel('x, space')\n",
    "plt.ylabel('t, time')"
   ]
  },
  {
   "cell_type": "markdown",
   "id": "4402bcfd",
   "metadata": {},
   "source": [
    "Since we're using a slower maximum speed here, the $(1 - \\dot{x}^2)^{3/2}$ factor in the Euler-Lagrange equation becomes less important, so the path of motion looks more like a sine wave than the higher velocity example."
   ]
  },
  {
   "cell_type": "code",
   "execution_count": null,
   "id": "806e7aa3",
   "metadata": {},
   "outputs": [],
   "source": []
  }
 ],
 "metadata": {
  "kernelspec": {
   "display_name": "Python 3 (ipykernel)",
   "language": "python",
   "name": "python3"
  },
  "language_info": {
   "codemirror_mode": {
    "name": "ipython",
    "version": 3
   },
   "file_extension": ".py",
   "mimetype": "text/x-python",
   "name": "python",
   "nbconvert_exporter": "python",
   "pygments_lexer": "ipython3",
   "version": "3.10.5"
  }
 },
 "nbformat": 4,
 "nbformat_minor": 5
}
