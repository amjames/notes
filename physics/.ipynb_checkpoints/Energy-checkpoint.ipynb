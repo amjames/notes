{
 "cells": [
  {
   "cell_type": "markdown",
   "id": "6ead8e9d",
   "metadata": {},
   "source": [
    "# Force\n",
    "\n",
    "In order to understand energy, we have to understand what forces are and how they affect the motion of particles.\n",
    "\n",
    "When two particles interact with each other, we can describe the interaction with a force, $F(x)$. The force acting on one particle has equal magnitude and opposite direction compared to the force acting on the other particle, for this particular interaction. We can have any number of particles interacting with each other, and the total force on one particle is the sum of all the forces due to all other particles in the system.\n",
    "\n",
    "The magnitude of the force between two particles depends on the distance, $x$, between them. The magnitude and direction of the force also depends on intrinsic properties of the two particles. In Newtonian gravity, the intrinsic properties are the masses of the the two particles. For Coulomb's law in electromagnetism, the intrinsic properties are the charges of the two particles.\n",
    "\n",
    "Let's use a concrete example of a force, so that we can study the energy related to it. We can define $F(x)$ to be the force on one particle due to another particle. Although in some cases it may be useful to allow the intrinsic properties of two particles to change, let's just consider them to be constant, so that $F(x)$ really does only depend on $x$. We can create a generic force law that shares the same form as Coulomb's law and Newton's gravitational law:\n",
    "\n",
    "$$F(x) = \\dfrac{\\beta}{x^2}$$\n",
    "\n",
    "$x$ is just a distance, so it has units $m$, or meters. $F(x)$ has units $N$, or Newtons, which is also $\\dfrac{kg \\cdot m}{s^2}$. This means that $\\beta$ must have units $N \\cdot m^2 = \\dfrac{kg \\cdot m^3}{s^2}$.\n",
    "\n",
    "If $F(x)$ is negative, then the particles experience a force toward each other. If it's positive, then the particles are forces away from each other.\n",
    "\n",
    "If we wanted to make $F(x)$ represent Newtonian gravity, we would replace $\\beta = -GmM$. If we wanted to represent Coulomb's law, we would replace $\\beta = kq_0q_1$. It's important to note that different pairs of particles can have different values of $\\beta$. For instance, in Newtonian gravity, each particle can have a different mass. Also, $\\beta$ could change over time for a particular pair in some systems, but let's just consider systems where $\\beta$ is constant over time for simplicity.\n",
    "\n",
    "When a force acts upon a particle, it applies an acceleration to the particle, according to Newton's second law of motion:\n",
    "\n",
    "$$F = ma$$\n",
    "\n",
    "Which can also be expressed as:\n",
    "\n",
    "$$F(x) = m\\dfrac{d^2x}{dt^2}$$\n",
    "\n",
    "$m$ is the mass of the particle on which the force is acting, in kilograms, $kg$.\n",
    "\n",
    "$a = \\dfrac{d^2x}{dt^2}$ is the acceleration that the particle receives from the force, in units $m/s^2$.\n",
    "\n",
    "Using these equations, we could create a system of particles, assign positions and velocities to each of them, calculate all the forces between each pair, sum the forces on each particle, and calculate the acceleration of each particle. Then we can integrate the system over time to see how the positions of the particles change.\n",
    "\n",
    "# Energy\n",
    "\n",
    "Now we're ready to talk about energy. We're interested in closed systems--that is, systems in which the forces acting on each particle depend solely on the other particles in the system. In other words, a closed system does not have any forces due to factors outside the system. All the information about how the system evolves is contained in the positions and velocities of the particles in the system and the force law that the particles follow.\n",
    "\n",
    "In a closed system, there is a quantity that is always conserved over time. We call this quantity energy. There are two basic kinds of energy, potential energy and kinetic energy.\n",
    "\n",
    "## Potential Energy\n",
    "\n",
    "Potential energy, $V(x)$, is defined by its derivative with respect to distance:\n",
    "\n",
    "$$\\dfrac{dV(x)}{dx} = -F(x)$$\n",
    "\n",
    "And we can integrate to get:\n",
    "\n",
    "$$V(x) = - \\int F(x)dx$$\n",
    "\n",
    "The units of potential energy are $N \\cdot m = \\dfrac{kg \\cdot m^2}{s^2}$, also known as joules, or $J$.\n",
    "\n",
    "It's worth stressing that if we want to find an exact equation for $V(x)$, we can actually choose any function that satisfies the above derivative. So to get an exact equation, we find the definite integral of $-F(x)$ over some useful reference distance and $x$. That reference position can be anywhere between 0 and $\\infty$.\n",
    "\n",
    "### Example of defining an exact $V(x)$\n",
    "\n",
    "Let's try to find an exact equation for $V(x)$ when $F(x) = \\dfrac{\\beta}{x^2}$.\n",
    "\n",
    "$$V(x) = -\\int \\dfrac{\\beta}{x^2}dx$$"
   ]
  },
  {
   "cell_type": "markdown",
   "id": "ad315a47",
   "metadata": {},
   "source": [
    "What should our reference point be? We could pick some arbitrary finite distance greater than 0. Let's say 100. If we do that, it would kind of look like there's something special about 100, because the sign of $V(x)$ would switch as x increases across 100. But there isn't anything special about 100, we just picked it arbitrarily. So we'd like to choose a reference point that gives us a $V(x)$ that doesn't switch sign anywhere. To accomplish this, we'll have to use either 0 or $\\infty$ as the reference point. Let's first try using 0 as the reference point. Then we get:"
   ]
  },
  {
   "cell_type": "markdown",
   "id": "f4db794d",
   "metadata": {},
   "source": [
    "$$V(x) = -\\int_0^x \\dfrac{\\beta}{x^2}dx$$"
   ]
  },
  {
   "cell_type": "markdown",
   "id": "903f4d29",
   "metadata": {},
   "source": [
    "$$V(x) = \\beta\\dfrac{1}{x}\\Big|_0^x = \\beta(\\dfrac{1}{x} - \\dfrac{1}{0}) = \\beta(\\dfrac{1}{x} - \\infty)$$"
   ]
  },
  {
   "cell_type": "markdown",
   "id": "66057957",
   "metadata": {},
   "source": [
    "(Note: We're using some pretty informal notation here. Hopefully the meaning is clear.)\n",
    "\n",
    "This obviously won't be very useful with the infinite term here. Let's try using $\\infty$ as our reference point instead:"
   ]
  },
  {
   "cell_type": "markdown",
   "id": "29c42410",
   "metadata": {},
   "source": [
    "$$V(x) = -\\int_x^\\infty \\dfrac{\\beta}{x^2}dx$$"
   ]
  },
  {
   "cell_type": "markdown",
   "id": "1aa6ab23",
   "metadata": {},
   "source": [
    "$$V(x) = \\beta\\dfrac{1}{x}\\Big|_x^\\infty = \\beta(\\dfrac{1}{\\infty} - \\dfrac{1}{x}) = -\\dfrac{\\beta}{x}$$"
   ]
  },
  {
   "cell_type": "markdown",
   "id": "052027d5",
   "metadata": {},
   "source": [
    "That's better--there are no infinite terms. Now let's just double check that its derivative is correct:\n",
    "\n",
    "$$\\dfrac{dV(x)}{dx} = \\dfrac{\\beta}{x^2}$$"
   ]
  },
  {
   "cell_type": "markdown",
   "id": "68a9847b",
   "metadata": {},
   "source": [
    "$$\\dfrac{dV(x)}{dx} \\stackrel{?}{=} -F(x)$$\n"
   ]
  },
  {
   "cell_type": "markdown",
   "id": "7beb5f29",
   "metadata": {},
   "source": [
    "$$\\dfrac{\\beta}{x^2} \\stackrel{?}{=} -\\dfrac{\\beta}{x^2}$$"
   ]
  },
  {
   "cell_type": "markdown",
   "id": "3396542d",
   "metadata": {},
   "source": [
    "Oops! Looks like we've got the sign backwards. Not a problem, though. This just means that instead of integrating from $x$ to $\\infty$, we need to integrate from $\\infty$ to $x$ instead. That will swap the sign and we get a valid equation for potential energy. So, finally, we get:"
   ]
  },
  {
   "cell_type": "markdown",
   "id": "9a0d7070",
   "metadata": {},
   "source": [
    "$$V(x) = \\dfrac{\\beta}{x}$$"
   ]
  },
  {
   "cell_type": "markdown",
   "id": "15390d95",
   "metadata": {},
   "source": [
    "TODO: I think I actually did get the sign wrong..."
   ]
  },
  {
   "cell_type": "markdown",
   "id": "f7e487b3",
   "metadata": {},
   "source": [
    "Let's plot $V(x)$ and $F(x)$, just to see what they look like. We'll choose to set $\\beta=1$ for simplicity."
   ]
  },
  {
   "cell_type": "code",
   "execution_count": 2,
   "id": "d1fad4cf",
   "metadata": {},
   "outputs": [
    {
     "data": {
      "image/png": "[encoded data removed]",
      "text/plain": [
       "<Figure size 1000x400 with 2 Axes>"
      ]
     },
     "metadata": {},
     "output_type": "display_data"
    }
   ],
   "source": [
    "import matplotlib.pyplot as plt\n",
    "import numpy as np\n",
    "\n",
    "x = np.linspace(0.5, 4, 99)\n",
    "β = 1\n",
    "F = β / (x**2)\n",
    "V = β / x\n",
    "plt.rcParams[\"figure.figsize\"] = (10, 4)\n",
    "fig, (ax1, ax2) = plt.subplots(1, 2)\n",
    "ax1.plot(x, F)\n",
    "ax1.set_title('Force')\n",
    "ax1.set_xlabel('x')\n",
    "ax1.set_ylabel('F(x)')\n",
    "ax2.plot(x, V)\n",
    "ax2.set_title('Potential Energy')\n",
    "ax2.set_xlabel('x')\n",
    "ax2.set_ylabel('V(x)')\n",
    "plt.show()"
   ]
  },
  {
   "cell_type": "markdown",
   "id": "814a2562",
   "metadata": {},
   "source": [
    "### What does potential energy mean?\n",
    "\n",
    "Using the conventions we chose to calculate $V(x)$, we can think of the potential energy in the following way. Imagine a system of just two particles. We start with the particles infinitely far from each other. How much energy would we need to add to the system in order to move one of the particles closer to the other such that they are separated by distance $x$? That is the question that $V(x)$ answers. We can calculate the total potential energy in a system of many particles by calculating the potential between each pair and then summing them all.\n",
    "\n",
    "A more general way to think about potential energy, which does not depend on any particular $V(x)$ that you choose, is that the direction of a force is always the direction toward which potential energy decreases. That is the meaning of $\\dfrac{dV(x)}{dx} = -F(x)$."
   ]
  },
  {
   "cell_type": "markdown",
   "id": "33f97efc",
   "metadata": {},
   "source": [
    "## Kinetic Energy\n",
    "\n",
    "The energy of a system doesn't just depend on the forces and positions of particles. It also depends on the velocities of the particles. If we could instantaneously increase the velocity of one particle in a system, the total energy of the system would have to increase. We call the velocity-dependent portion of energy the kinetic energy, $T$. For one particle we can calculate kinetic energy as:\n",
    "\n",
    "$$T = \\dfrac{1}{2}mv^2$$\n",
    "\n",
    "$m$ is the mass of the particle, in $kg$. $v$ is the velocity, in $m/s$. So $T$ has the units $\\dfrac{kg \\cdot m^2}{s^2} = J$, the same units that potential energy uses."
   ]
  },
  {
   "cell_type": "markdown",
   "id": "218bb057",
   "metadata": {},
   "source": [
    "### Total Energy\n",
    "\n",
    "The total energy of a single particle is its kinetic energy plus its total potential energy due to the sum of forces acting on it:\n",
    "\n",
    "$$E = \\dfrac{1}{2}mv^2 + V(x)$$\n",
    "\n",
    "Note: $V(x)$ is being used slightly differently than before. Before, we were considering the potential energy between just two particles. Now, we're using $V(x)$ to represent the sum of all potential energies between one particle and all other particles."
   ]
  }
 ],
 "metadata": {
  "kernelspec": {
   "display_name": "Python 3 (ipykernel)",
   "language": "python",
   "name": "python3"
  },
  "language_info": {
   "codemirror_mode": {
    "name": "ipython",
    "version": 3
   },
   "file_extension": ".py",
   "mimetype": "text/x-python",
   "name": "python",
   "nbconvert_exporter": "python",
   "pygments_lexer": "ipython3",
   "version": "3.10.5"
  }
 },
 "nbformat": 4,
 "nbformat_minor": 5
}
